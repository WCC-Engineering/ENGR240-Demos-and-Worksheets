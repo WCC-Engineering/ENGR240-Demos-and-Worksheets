{
 "cells": [
  {
   "cell_type": "markdown",
   "metadata": {},
   "source": [
    "# ENGR 240 - Worksheet 4.2: LU Factorization Demo\n",
    "\n",
    "[![Open In Colab](https://colab.research.google.com/assets/colab-badge.svg)](https://colab.research.google.com/github/WCC-Engineering/ENGR240/blob/main/Class%20Demos%20and%20Activities/Week%204/LU_Factorization_Demo.ipynb)\n",
    "\n",
    "This notebook demonstrates the computational efficiency gained by using LU factorization when solving multiple linear systems with the same coefficient matrix but different right-hand sides. This is based on Task 3 from Worksheet 4.2.\n",
    "\n",
    "## Problem Statement\n",
    "\n",
    "Given the linear system:\n",
    "\n",
    "$$\\begin{bmatrix} 2 & -1 & 5 \\\\ 3 & 2 & 1 \\\\ 1 & -4 & 2 \\end{bmatrix} \\begin{bmatrix} x_1 \\\\ x_2 \\\\ x_3 \\end{bmatrix} = \\begin{bmatrix} k \\\\ 5 \\\\ -4 \\end{bmatrix}$$\n",
    "\n",
    "Solve for the values of the $x$ vector that correspond to $k$ values ranging from -5 to 5 in increments of 0.0001. \n",
    "\n",
    "We'll compare two approaches:\n",
    "1. Solving each system directly \n",
    "2. Using LU factorization to decompose the matrix once, then solving for each right-hand side"
   ]
  },
  {
   "cell_type": "code",
   "execution_count": null,
   "metadata": {},
   "outputs": [],
   "source": [
    "import numpy as np\n",
    "import matplotlib.pyplot as plt\n",
    "import time\n",
    "import scipy.linalg"
   ]
  },
  {
   "cell_type": "markdown",
   "metadata": {},
   "source": [
    "## Define the Problem\n",
    "\n",
    "First, we'll define our coefficient matrix A and create an array of k values."
   ]
  },
  {
   "cell_type": "code",
   "execution_count": null,
   "metadata": {},
   "outputs": [],
   "source": [
    "# Define the coefficient matrix A (same as in the worksheet)\n",
    "A = np.array([\n",
    "    [2, -1, 5],\n",
    "    [3, 2, 1],\n",
    "    [1, -4, 2]\n",
    "])\n",
    "\n",
    "# Create a range of k values from -5 to 5 with small increments\n",
    "k = np.arange(-5, 5.0001, 0.0001)\n",
    "print(f\"Matrix A:\\n{A}\")\n",
    "print(f\"Number of k values to process: {len(k)}\")"
   ]
  },
  {
   "cell_type": "markdown",
   "metadata": {},
   "source": [
    "## Method 1: Solving Without LU Factorization\n",
    "\n",
    "In this approach, we'll solve the entire system for each value of k."
   ]
  },
  {
   "cell_type": "code",
   "execution_count": null,
   "metadata": {},
   "outputs": [],
   "source": [
    "# Without LU Factorization\n",
    "start_time = time.time()\n",
    "xk = np.ones((len(k), 3))  # preallocate space for solutions\n",
    "\n",
    "for ndx in range(len(k)):\n",
    "    # Build RHS vector using the current value of k\n",
    "    b = np.array([k[ndx], 5, -4])\n",
    "    \n",
    "    # Solve the system for this RHS vector\n",
    "    x = np.linalg.solve(A, b)\n",
    "    \n",
    "    # Store the solution in the ndx row of xk\n",
    "    xk[ndx, :] = x\n",
    "\n",
    "direct_solve_time = time.time() - start_time\n",
    "print(f\"Time taken without LU factorization: {direct_solve_time:.4f} seconds\")"
   ]
  },
  {
   "cell_type": "markdown",
   "metadata": {},
   "source": [
    "## Method 2: Solving With LU Factorization\n",
    "\n",
    "In this approach, we'll use SciPy's optimized LU factorization implementation."
   ]
  },
  {
   "cell_type": "code",
   "execution_count": null,
   "metadata": {},
   "outputs": [],
   "source": [
    "# With LU Factorization using SciPy's method\n",
    "start_time = time.time()\n",
    "xk_LU = np.ones((len(k), 3))  # preallocate space for solutions\n",
    "\n",
    "# Compute LU factorization of A using SciPy's method\n",
    "lu, piv = scipy.linalg.lu_factor(A)\n",
    "\n",
    "for ndx in range(len(k)):\n",
    "    # Build RHS vector using the current value of k\n",
    "    b = np.array([k[ndx], 5, -4])\n",
    "    \n",
    "    # Solve the system using the factorized matrix\n",
    "    x = scipy.linalg.lu_solve((lu, piv), b)\n",
    "    \n",
    "    # Store the solution\n",
    "    xk_LU[ndx, :] = x\n",
    "\n",
    "lu_solve_time = time.time() - start_time\n",
    "print(f\"Time taken with LU factorization: {lu_solve_time:.4f} seconds\")"
   ]
  },
  {
   "cell_type": "markdown",
   "metadata": {},
   "source": [
    "## Comparison and Performance Analysis"
   ]
  },
  {
   "cell_type": "code",
   "execution_count": null,
   "metadata": {},
   "outputs": [],
   "source": [
    "print(f\"Direct solve time:  {direct_solve_time:.4f} seconds\")\n",
    "print(f\"LU solve time:      {lu_solve_time:.4f} seconds\")\n",
    "\n",
    "print(f\"\\nSpeed improvement with LU: {direct_solve_time/lu_solve_time:.2f}x faster\")\n",
    "\n",
    "# Verify that solutions match\n",
    "print(f\"\\nMaximum difference between direct and LU solutions: {np.max(np.abs(xk - xk_LU)):.2e}\")"
   ]
  },
  {
   "cell_type": "markdown",
   "metadata": {},
   "source": [
    "## Visualizing the Solutions\n",
    "\n",
    "Let's visualize how the solution components ($x_1$, $x_2$, $x_3$) change with the parameter $k$:"
   ]
  },
  {
   "cell_type": "code",
   "execution_count": null,
   "metadata": {},
   "outputs": [],
   "source": [
    "plt.figure(figsize=(12, 6))\n",
    "plt.plot(k, xk[:, 0], label='$x_1$')\n",
    "plt.plot(k, xk[:, 1], label='$x_2$')\n",
    "plt.plot(k, xk[:, 2], label='$x_3$')\n",
    "plt.grid(True)\n",
    "plt.xlabel('k value')\n",
    "plt.ylabel('Solution components')\n",
    "plt.title('Solution components vs. parameter k')\n",
    "plt.legend()\n",
    "plt.xlim(-5, 5)\n",
    "plt.show()"
   ]
  },
  {
   "cell_type": "markdown",
   "metadata": {},
   "source": [
    "## Discussion\n",
    "\n",
    "### Computational Efficiency\n",
    "\n",
    "The results demonstrate the efficiency of using LU factorization when solving multiple linear systems with the same coefficient matrix but different right-hand sides. Here's why this happens:\n",
    "\n",
    "1. **Direct Solve Method**: For each new right-hand side, we perform full Gaussian elimination (an O(n³) operation for an n×n matrix).\n",
    "\n",
    "2. **LU Factorization Method**: We perform LU factorization once (an O(n³) operation), but for each new right-hand side, we only need to perform forward and backward substitution (each an O(n²) operation).\n",
    "\n",
    "When solving many systems, the factorization cost is amortized over all the systems, making the LU method more efficient.\n",
    "\n",
    "### Math Behind LU Factorization\n",
    "\n",
    "LU factorization decomposes a matrix A into a product of a lower triangular matrix L and an upper triangular matrix U:\n",
    "\n",
    "$$A = LU$$\n",
    "\n",
    "When partial pivoting is used (which is typical for numerical stability), we have:\n",
    "\n",
    "$$PA = LU$$\n",
    "\n",
    "where P is a permutation matrix.\n",
    "\n",
    "To solve the system $Ax = b$, we:\n",
    "\n",
    "1. Compute the LU factorization $PA = LU$\n",
    "2. Solve $Ly = Pb$ using forward substitution\n",
    "3. Solve $Ux = y$ using backward substitution\n",
    "\n",
    "### Applications\n",
    "\n",
    "This technique is valuable in many engineering applications, such as:\n",
    "\n",
    "- Finite element analysis with multiple load cases\n",
    "- Circuit analysis with multiple sources\n",
    "- Parameter sensitivity studies (as demonstrated in this worksheet)\n",
    "- Control system analysis with varying inputs"
   ]
  }
 ],
 "metadata": {
  "kernelspec": {
   "display_name": "Python 3",
   "language": "python",
   "name": "python3"
  },
  "language_info": {
   "codemirror_mode": {
    "name": "ipython",
    "version": 3
   },
   "file_extension": ".py",
   "mimetype": "text/x-python",
   "name": "python",
   "nbconvert_exporter": "python",
   "pygments_lexer": "ipython3",
   "version": "3.8.10"
  }
 },
 "nbformat": 4,
 "nbformat_minor": 4
}
