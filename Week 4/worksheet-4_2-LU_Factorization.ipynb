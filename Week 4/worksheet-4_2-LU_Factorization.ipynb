{
  "cells": [
    {
      "cell_type": "markdown",
      "metadata": {
        "id": "-6LMJPq71Cb8"
      },
      "source": [
        "# ENGR 240 - Worksheet 4.2: LU Factorization\n",
        "\n",
        "[![Open In Colab](https://colab.research.google.com/assets/colab-badge.svg)](https://colab.research.google.com/github/WCC-Engineering/ENGR240-Demos-and-Worksheets/blob/main/Week%204/LU_Factorization_Demo.ipynb)\n",
        "\n",
        "This notebook demonstrates the computational efficiency gained by using LU factorization when solving multiple linear systems with the same coefficient matrix but different right-hand sides. This is based on Task 3 from Worksheet 4.2.\n",
        "\n",
        "## Problem Statement\n",
        "\n",
        "Given the linear system:\n",
        "\n",
        "$$\\begin{bmatrix}\n",
        "10 & 2 & 3 & 1 & 4 & 0 & 2 & 1 & 0 & 5 \\\\\n",
        "1 & 8 & 0 & 2 & 3 & 1 & 0 & 0 & 2 & 1 \\\\\n",
        "2 & 1 & 12 & 0 & 0 & 4 & 1 & 2 & 3 & 0 \\\\\n",
        "3 & 0 & 2 & 15 & 1 & 3 & 0 & 0 & 4 & 1 \\\\\n",
        "0 & 1 & 3 & 2 & 9 & 2 & 1 & 3 & 0 & 2 \\\\\n",
        "2 & 3 & 0 & 1 & 4 & 11 & 2 & 0 & 3 & 1 \\\\\n",
        "1 & 2 & 4 & 3 & 0 & 2 & 14 & 1 & 2 & 0 \\\\\n",
        "2 & 0 & 1 & 3 & 2 & 1 & 0 & 10 & 2 & 3 \\\\\n",
        "3 & 1 & 0 & 2 & 1 & 0 & 4 & 1 & 13 & 2 \\\\\n",
        "1 & 2 & 3 & 0 & 2 & 1 & 3 & 0 & 1 & 9\n",
        "\\end{bmatrix} \\begin{bmatrix} x_1 \\\\ x_2 \\\\ x_3 \\\\ x_4 \\\\ x_5 \\\\ x_6 \\\\ x_7 \\\\ x_8 \\\\ x_9 \\\\ x_{10} \\end{bmatrix} = \\begin{bmatrix} k \\\\ 5 \\\\ 5 \\\\ 5 \\\\ 5 \\\\ 5 \\\\ 5 \\\\ 5 \\\\ 5 \\\\ 5 \\end{bmatrix}$$\n",
        "\n",
        "Solve for the values of the $x$ vector that correspond to $k$ values ranging from -5 to 5 in increments of 0.01.\n",
        "\n",
        "We'll compare three approaches:\n",
        "1. A naive implementation using Gaussian elimination with no LU factorization\n",
        "2. Explicitly using LU factorization to decompose the matrix once, then solving for each right-hand side\n",
        "3. Using NumPy's `linalg.solve`, which uses LU factorization under the hood (student implementation)"
      ]
    },
    {
      "cell_type": "code",
      "execution_count": 58,
      "metadata": {
        "id": "UCfxKNkE1CcA"
      },
      "outputs": [],
      "source": [
        "import numpy as np\n",
        "import matplotlib.pyplot as plt\n",
        "import time\n",
        "import scipy.linalg"
      ]
    },
    {
      "cell_type": "markdown",
      "metadata": {
        "id": "LQtffqZk1CcC"
      },
      "source": [
        "## Define the Problem\n",
        "\n",
        "First, we'll define our coefficient matrix A and create an array of k values."
      ]
    },
    {
      "cell_type": "code",
      "execution_count": 59,
      "metadata": {
        "id": "kagYz1QG1CcD",
        "outputId": "753a35bd-24c2-4812-c60d-3da62379c558",
        "colab": {
          "base_uri": "https://localhost:8080/"
        }
      },
      "outputs": [
        {
          "output_type": "stream",
          "name": "stdout",
          "text": [
            "Matrix A (10x10):\n",
            "[[10.  2.  3.  1.  4.  0.  2.  1.  0.  5.]\n",
            " [ 1.  8.  0.  2.  3.  1.  0.  0.  2.  1.]\n",
            " [ 2.  1. 12.  0.  0.  4.  1.  2.  3.  0.]\n",
            " [ 3.  0.  2. 15.  1.  3.  0.  0.  4.  1.]\n",
            " [ 0.  1.  3.  2.  9.  2.  1.  3.  0.  2.]\n",
            " [ 2.  3.  0.  1.  4. 11.  2.  0.  3.  1.]\n",
            " [ 1.  2.  4.  3.  0.  2. 14.  1.  2.  0.]\n",
            " [ 2.  0.  1.  3.  2.  1.  0. 10.  2.  3.]\n",
            " [ 3.  1.  0.  2.  1.  0.  4.  1. 13.  2.]\n",
            " [ 1.  2.  3.  0.  2.  1.  3.  0.  1.  9.]]\n",
            "Condition number of A: 4.4405\n",
            "Number of k values to process: 1001\n"
          ]
        }
      ],
      "source": [
        "# Define the 10x10 coefficient matrix as shown in the problem statement\n",
        "A = np.array([\n",
        "    [10, 2, 3, 1, 4, 0, 2, 1, 0, 5],\n",
        "    [1, 8, 0, 2, 3, 1, 0, 0, 2, 1],\n",
        "    [2, 1, 12, 0, 0, 4, 1, 2, 3, 0],\n",
        "    [3, 0, 2, 15, 1, 3, 0, 0, 4, 1],\n",
        "    [0, 1, 3, 2, 9, 2, 1, 3, 0, 2],\n",
        "    [2, 3, 0, 1, 4, 11, 2, 0, 3, 1],\n",
        "    [1, 2, 4, 3, 0, 2, 14, 1, 2, 0],\n",
        "    [2, 0, 1, 3, 2, 1, 0, 10, 2, 3],\n",
        "    [3, 1, 0, 2, 1, 0, 4, 1, 13, 2],\n",
        "    [1, 2, 3, 0, 2, 1, 3, 0, 1, 9]\n",
        "], dtype=float)\n",
        "\n",
        "# Create a range of k values from -5 to 5 with small increments\n",
        "k = np.arange(-5, 5.0001, 0.01)  # Using 0.01 increments to make it faster in class\n",
        "\n",
        "# Create a fixed right-hand side template\n",
        "b_template = np.ones(10, dtype=float) * 5\n",
        "\n",
        "print(f\"Matrix A (10x10):\\n{A}\")\n",
        "print(f\"Condition number of A: {np.linalg.cond(A):.4f}\")\n",
        "print(f\"Number of k values to process: {len(k)}\")"
      ]
    },
    {
      "cell_type": "markdown",
      "metadata": {
        "id": "1615u3ts1CcF"
      },
      "source": [
        "## Method 1: Naive Implementation (Gaussian Elimination)\n",
        "\n",
        "First, let's implement a naive Gaussian elimination algorithm without explicitly using LU factorization. This will show the baseline performance without any matrix decomposition."
      ]
    },
    {
      "cell_type": "code",
      "execution_count": 60,
      "metadata": {
        "id": "ISzlwh_v1CcG",
        "outputId": "8544a14b-ee8f-4770-bc15-2077c59918cc",
        "colab": {
          "base_uri": "https://localhost:8080/"
        }
      },
      "outputs": [
        {
          "output_type": "stream",
          "name": "stdout",
          "text": [
            "Test solution using naive implementation: [-0.34116686  0.41901904  0.24546817]... (first 3 elements)\n",
            "Test solution using numpy.linalg.solve: [-0.34116686  0.41901904  0.24546817]... (first 3 elements)\n",
            "Maximum difference: 1.39e-16\n"
          ]
        }
      ],
      "source": [
        "def gaussian_elimination(A, b):\n",
        "    \"\"\"Solve Ax = b using Gaussian elimination without pivoting.\"\"\"\n",
        "    n = len(b)\n",
        "    # Make copies to avoid modifying the original arrays\n",
        "    A_work = A.copy()\n",
        "    b_work = b.copy()\n",
        "\n",
        "    # Forward elimination\n",
        "    for k in range(n-1):\n",
        "        for i in range(k+1, n):\n",
        "            factor = A_work[i, k] / A_work[k, k]\n",
        "            b_work[i] -= factor * b_work[k]\n",
        "            for j in range(k, n):\n",
        "                A_work[i, j] -= factor * A_work[k, j]\n",
        "\n",
        "    # Back substitution\n",
        "    x = np.zeros(n)\n",
        "    for i in range(n-1, -1, -1):\n",
        "        sum_ax = 0\n",
        "        for j in range(i+1, n):\n",
        "            sum_ax += A_work[i, j] * x[j]\n",
        "        x[i] = (b_work[i] - sum_ax) / A_work[i, i]\n",
        "\n",
        "    return x\n",
        "\n",
        "# Test the implementation works\n",
        "test_b = b_template.copy()\n",
        "test_b[0] = 1.0  # Set first element to 1\n",
        "test_x_naive = gaussian_elimination(A, test_b)\n",
        "test_x_numpy = np.linalg.solve(A, test_b)\n",
        "print(f\"Test solution using naive implementation: {test_x_naive[:3]}... (first 3 elements)\")\n",
        "print(f\"Test solution using numpy.linalg.solve: {test_x_numpy[:3]}... (first 3 elements)\")\n",
        "print(f\"Maximum difference: {np.abs(test_x_naive - test_x_numpy).max():.2e}\")"
      ]
    },
    {
      "cell_type": "code",
      "execution_count": 64,
      "metadata": {
        "id": "QZ0z_c_51CcH",
        "outputId": "e6cb0da9-d473-45d3-e420-1171dbfd1ec6",
        "colab": {
          "base_uri": "https://localhost:8080/"
        }
      },
      "outputs": [
        {
          "output_type": "stream",
          "name": "stdout",
          "text": [
            "Time taken with naive Gaussian elimination: 0.2978 seconds\n"
          ]
        }
      ],
      "source": [
        "# Solve using naive Gaussian elimination\n",
        "start_time = time.time()\n",
        "xk_naive = np.ones((len(k), 10))  # preallocate space for solutions\n",
        "\n",
        "for ndx in range(len(k)):\n",
        "    # Build RHS vector using the current value of k\n",
        "    b = b_template.copy()\n",
        "    b[0] = k[ndx]  # Only vary the first element\n",
        "\n",
        "    # Solve using our Gaussian elimination function\n",
        "    x = gaussian_elimination(A, b)\n",
        "\n",
        "    # Store the solution\n",
        "    xk_naive[ndx, :] = x\n",
        "\n",
        "naive_solve_time = time.time() - start_time\n",
        "print(f\"Time taken with naive Gaussian elimination: {naive_solve_time:.4f} seconds\")"
      ]
    },
    {
      "cell_type": "markdown",
      "metadata": {
        "id": "6EXvvwpJ1CcI"
      },
      "source": [
        "## Method 2: Explicit LU Factorization\n",
        "\n",
        "Now, let's use explicit LU factorization where we compute the decomposition once and reuse it for all right-hand sides."
      ]
    },
    {
      "cell_type": "code",
      "execution_count": 74,
      "metadata": {
        "id": "kZk6MoJX1CcK",
        "outputId": "d25c36a2-1594-4927-cf7d-47debbda648a",
        "colab": {
          "base_uri": "https://localhost:8080/"
        }
      },
      "outputs": [
        {
          "output_type": "stream",
          "name": "stdout",
          "text": [
            "Time taken with explicit LU factorization: 0.0138 seconds\n"
          ]
        }
      ],
      "source": [
        "# With explicit LU Factorization\n",
        "start_time = time.time()\n",
        "xk_LU = np.ones((len(k), 10))  # preallocate space for solutions\n",
        "\n",
        "# Compute LU factorization of A once - this is the key step\n",
        "lu, piv = scipy.linalg.lu_factor(A)\n",
        "\n",
        "for ndx in range(len(k)):\n",
        "    # Build RHS vector using the current value of k\n",
        "    b = b_template.copy()\n",
        "    b[0] = k[ndx]  # Only vary the first element\n",
        "\n",
        "    # Solve the system using the factorized matrix\n",
        "    x = scipy.linalg.lu_solve((lu, piv), b)\n",
        "\n",
        "    # Store the solution\n",
        "    xk_LU[ndx, :] = x\n",
        "\n",
        "lu_solve_time = time.time() - start_time\n",
        "print(f\"Time taken with explicit LU factorization: {lu_solve_time:.4f} seconds\")"
      ]
    },
    {
      "cell_type": "markdown",
      "metadata": {
        "id": "j2_oc6b21CcN"
      },
      "source": [
        "## Method 3: NumPy's linalg.solve (LU Under the Hood)\n",
        "\n",
        "Now it's your turn! Implement a function that solves the linear system for each value of k using NumPy's built-in `linalg.solve` function. Use the Method 2 implementation above as a guide for your implementation.\n",
        "\n",
        "Your code should:\n",
        "1. Create a matrix `xk_numpy` to store the solutions\n",
        "2. Loop through all values of k\n",
        "3. Create a right-hand side vector `b` with the first element set to the current k value\n",
        "4. Solve the system using `np.linalg.solve(A, b)`\n",
        "5. Store the solution in the appropriate row of `xk_numpy`\n",
        "6. Measure and print the execution time"
      ]
    },
    {
      "cell_type": "code",
      "execution_count": null,
      "metadata": {
        "id": "Bcq6ZLyK1CcO"
      },
      "outputs": [],
      "source": [
        "# TODO: Implement Method 3 using numpy.linalg.solve\n",
        "\n",
        "# Start by recording the start time\n",
        "start_time = time.time()\n",
        "\n",
        "# Create a matrix to store solutions\n",
        "# YOUR CODE HERE\n",
        "\n",
        "# Loop through all k values\n",
        "# YOUR CODE HERE\n",
        "    # Create right-hand side vector with first element = k[ndx]\n",
        "    # YOUR CODE HERE\n",
        "\n",
        "    # Solve the system using np.linalg.solve\n",
        "    # YOUR CODE HERE\n",
        "\n",
        "    # Store the solution\n",
        "    # YOUR CODE HERE\n",
        "\n",
        "# Calculate and print the execution time\n",
        "numpy_solve_time = time.time() - start_time\n",
        "print(f\"Time taken with numpy.linalg.solve: {numpy_solve_time:.4f} seconds\")"
      ]
    },
    {
      "cell_type": "markdown",
      "metadata": {
        "id": "LH-_PBGB1CcO"
      },
      "source": [
        "## Comparison and Performance Analysis"
      ]
    },
    {
      "cell_type": "code",
      "execution_count": null,
      "metadata": {
        "id": "VaE30kHA1CcP"
      },
      "outputs": [],
      "source": [
        "print(f\"Method 1: Naive Gaussian elimination time:  {naive_solve_time:.4f} seconds\")\n",
        "print(f\"Method 2: Explicit LU factorization time:   {lu_solve_time:.4f} seconds\")\n",
        "\n",
        "# Uncomment after implementing Method 3\n",
        "# print(f\"Method 3: NumPy's linalg.solve time:        {numpy_solve_time:.4f} seconds\")\n",
        "\n",
        "print(f\"\\nSpeed improvement with explicit LU vs. naive: {naive_solve_time/lu_solve_time:.2f}x faster\")\n",
        "\n",
        "# Uncomment after implementing Method 3\n",
        "# print(f\"Speed improvement with NumPy vs. naive:        {naive_solve_time/numpy_solve_time:.2f}x faster\")\n",
        "# print(f\"Speed ratio of explicit LU vs. NumPy:          {lu_solve_time/numpy_solve_time:.2f}x\")\n",
        "\n",
        "# Verify that solutions match for the first few k values\n",
        "check_indices = range(min(5, len(k)))\n",
        "for i in check_indices:\n",
        "    # Create right-hand side vector\n",
        "    b = b_template.copy()\n",
        "    b[0] = k[i]\n",
        "\n",
        "    # Compute reference solution\n",
        "    x_ref = np.linalg.solve(A, b)\n",
        "\n",
        "    # Compare with our stored solutions\n",
        "    naive_error = np.max(np.abs(xk_naive[i] - x_ref))\n",
        "    lu_error = np.max(np.abs(xk_LU[i] - x_ref))\n",
        "\n",
        "    print(f\"\\nFor k={k[i]:.2f}:\")\n",
        "    print(f\"  Maximum error in naive solution: {naive_error:.2e}\")\n",
        "    print(f\"  Maximum error in LU solution:    {lu_error:.2e}\")"
      ]
    },
    {
      "cell_type": "markdown",
      "metadata": {
        "id": "S77P9gSQ1CcQ"
      },
      "source": [
        "## Explanation of Results\n",
        "\n",
        "With the 10×10 matrix, we should see a clear performance difference between the methods:\n",
        "\n",
        "1. **Method 1**: Our naive implementation performs the full O(n³) Gaussian elimination process for each system, with pure Python loops (which are slow).\n",
        "\n",
        "2. **Method 2**: We explicitly perform LU factorization once (an O(n³) operation), and then use it to solve each system with only O(n²) operations. The implementation is optimized C/Fortran code in SciPy.\n",
        "\n",
        "3. **Method 3**: NumPy's `linalg.solve` uses optimized LAPACK routines that perform LU decomposition internally for each system. While it's recalculating the decomposition each time (O(n³)), the underlying implementation is highly optimized in compiled code, making it much faster than our Python implementation.\n",
        "\n",
        "For the 10×10 matrix, the advantage of explicit LU factorization (Method 2) over naive Gaussian elimination (Method 1) should be substantial. The comparison with Method 3 will be interesting - it will likely be much faster than Method 1 but still slower than Method 2 since it recomputes the factorization for each right-hand side."
      ]
    },
    {
      "cell_type": "markdown",
      "metadata": {
        "id": "U-KAfJAh1CcQ"
      },
      "source": [
        "## Visualizing the Solutions\n",
        "\n",
        "Let's visualize how the first few solution components change with the parameter $k$:"
      ]
    },
    {
      "cell_type": "code",
      "execution_count": 75,
      "metadata": {
        "id": "nCSOf_MF1CcQ",
        "outputId": "6cc74287-b5e6-40ec-ca65-9004e0781c9b",
        "colab": {
          "base_uri": "https://localhost:8080/",
          "height": 564
        }
      },
      "outputs": [
        {
          "output_type": "display_data",
          "data": {
            "text/plain": [
              "<Figure size 1200x600 with 1 Axes>"
            ],
            "image/png": "[encoded data removed]"
          },
          "metadata": {}
        }
      ],
      "source": [
        "plt.figure(figsize=(12, 6))\n",
        "\n",
        "# Plot the first three solution components\n",
        "for i in range(3):\n",
        "    plt.plot(k, xk_LU[:, i], label=f'$x_{i+1}$')\n",
        "\n",
        "plt.grid(True)\n",
        "plt.xlabel('k value')\n",
        "plt.ylabel('Solution components')\n",
        "plt.title('First three solution components vs. parameter k')\n",
        "plt.legend()\n",
        "plt.xlim(-5, 5)\n",
        "plt.show()"
      ]
    },
    {
      "cell_type": "markdown",
      "metadata": {
        "id": "24_igQgq1CcR"
      },
      "source": [
        "## Discussion\n",
        "\n",
        "### Computational Efficiency\n",
        "\n",
        "The results clearly demonstrate the efficiency of using LU factorization when solving multiple linear systems with the same coefficient matrix but different right-hand sides. Here's why:\n",
        "\n",
        "1. **Naive Gaussian Elimination (Method 1)**: For each new right-hand side, we perform the full O(n³) elimination process. With a 10×10 matrix, this becomes quite expensive, especially in Python.\n",
        "\n",
        "2. **LU Factorization (Method 2)**: We perform LU factorization once (an O(n³) operation), but for each new right-hand side, we only need to perform forward and backward substitution (each an O(n²) operation). This gives us a theoretical speedup of O(n) for many right-hand sides.\n",
        "\n",
        "3. **NumPy's linalg.solve (Method 3)**: While it uses optimized LAPACK routines under the hood (which use LU decomposition), it recalculates the decomposition for each right-hand side. Its speed comes from being implemented in highly-optimized compiled code.\n",
        "\n",
        "For solving multiple systems with the same coefficient matrix, explicitly factoring the matrix once and reusing it (Method 2) is theoretically and practically more efficient. The advantage becomes more pronounced with larger matrices and more systems to solve, as we've seen with the 10×10 example.\n",
        "\n",
        "### Math Behind LU Factorization\n",
        "\n",
        "LU factorization decomposes a matrix A into a product of a lower triangular matrix L and an upper triangular matrix U:\n",
        "\n",
        "$$A = LU$$\n",
        "\n",
        "When partial pivoting is used (which is typical for numerical stability), we have:\n",
        "\n",
        "$$PA = LU$$\n",
        "\n",
        "where P is a permutation matrix.\n",
        "\n",
        "To solve the system $Ax = b$, we:\n",
        "\n",
        "1. Compute the LU factorization $PA = LU$\n",
        "2. Solve $Ly = Pb$ using forward substitution\n",
        "3. Solve $Ux = y$ using backward substitution\n",
        "\n",
        "### Applications\n",
        "\n",
        "This technique is valuable in many engineering applications, such as:\n",
        "\n",
        "- Finite element analysis with multiple load cases\n",
        "- Circuit analysis with multiple sources\n",
        "- Parameter sensitivity studies (as demonstrated in this worksheet)\n",
        "- Control system analysis with varying inputs\n",
        "- Implicit time integration schemes\n",
        "- Monte Carlo simulations\n",
        "\n",
        "### Implementation in Scientific Computing\n",
        "\n",
        "In real scientific computing applications, libraries like SciPy provide specialized functions like `lu_factor` and `lu_solve` precisely because reusing matrix factorizations is so important for performance. Always look for these opportunities in your numerical code!"
      ]
    }
  ],
  "metadata": {
    "kernelspec": {
      "display_name": "Python 3",
      "language": "python",
      "name": "python3"
    },
    "language_info": {
      "codemirror_mode": {
        "name": "ipython",
        "version": 3
      },
      "file_extension": ".py",
      "mimetype": "text/x-python",
      "name": "python",
      "nbconvert_exporter": "python",
      "pygments_lexer": "ipython3",
      "version": "3.8.10"
    },
    "colab": {
      "provenance": []
    }
  },
  "nbformat": 4,
  "nbformat_minor": 0
}
