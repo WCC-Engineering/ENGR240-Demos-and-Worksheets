{
 "cells": [
  {
   "cell_type": "markdown",
   "metadata": {},
   "source": [
    "# Matrix Condition Number and Roundoff Error\n",
    "\n",
    "[![Open In Colab](https://colab.research.google.com/assets/colab-badge.svg)](https://colab.research.google.com/github/WCC-Engineering/ENGR240/blob/main/Class%20Demos%20and%20Activities/Week%204/Matrix_Condition_Number_Demo.ipynb)\n",
    "\n",
    "## Introduction\n",
    "\n",
    "In this notebook, we'll explore the concept of **matrix condition number** and how it affects the numerical solution of linear systems of equations. We'll specifically focus on:\n",
    "\n",
    "1. What makes a matrix \"ill-conditioned\"\n",
    "2. How roundoff error accumulates in ill-conditioned systems\n",
    "3. How to check the condition number of a matrix\n",
    "4. Basic techniques to improve numerical stability"
   ]
  },
  {
   "cell_type": "code",
   "execution_count": null,
   "metadata": {},
   "outputs": [],
   "source": [
    "# Import the necessary libraries\n",
    "import numpy as np\n",
    "import matplotlib.pyplot as plt\n",
    "import seaborn as sns\n",
    "from numpy.linalg import cond, solve, norm, inv\n",
    "import pandas as pd\n",
    "\n",
    "# Set random seed for reproducibility\n",
    "np.random.seed(42)\n",
    "\n",
    "# Configure plot settings\n",
    "plt.style.use('seaborn-v0_8-whitegrid')\n",
    "sns.set_context(\"notebook\", font_scale=1.5)\n",
    "\n",
    "# Set precision for display\n",
    "np.set_printoptions(precision=8, suppress=True)"
   ]
  },
  {
   "cell_type": "markdown",
   "metadata": {},
   "source": [
    "## What is the Condition Number?\n",
    "\n",
    "The **condition number** of a matrix measures how sensitive the solution of a linear system is to small changes or errors in the input data. \n",
    "\n",
    "For a matrix $A$, the condition number is defined as:\n",
    "\n",
    "$$\\kappa(A) = ||A|| \\cdot ||A^{-1}||$$\n",
    "\n",
    "where $||\\cdot||$ represents a matrix norm (commonly the 2-norm).\n",
    "\n",
    "- A matrix with a **low condition number** (close to 1) is **well-conditioned**. Small changes in the input result in small changes in the output.\n",
    "- A matrix with a **high condition number** is **ill-conditioned**. Small changes in the input can cause large changes in the output.\n",
    "- A matrix with an **infinite condition number** is **singular** (not invertible)."
   ]
  },
  {
   "cell_type": "markdown",
   "metadata": {},
   "source": [
    "## Example 1: Well-Conditioned Matrix\n",
    "\n",
    "Let's start with a well-conditioned matrix and see how it behaves when solving a linear system."
   ]
  },
  {
   "cell_type": "code",
   "execution_count": null,
   "metadata": {},
   "outputs": [],
   "source": [
    "# Create a 10x10 well-conditioned matrix (diagonal with small variation)\n",
    "n_well = 10\n",
    "A_well = np.eye(n_well)  # Start with identity matrix\n",
    "for i in range(n_well):\n",
    "    A_well[i, i] = i + 3  # Diagonal entries from 3 to 12\n",
    "\n",
    "# True solution we want to recover\n",
    "x_true = np.ones(n_well)\n",
    "\n",
    "# Calculate the right-hand side\n",
    "b = A_well @ x_true\n",
    "\n",
    "print(\"Matrix A (well-conditioned, showing first 5x5 corner):\")\n",
    "print(A_well[:5, :5])\n",
    "print(\"\\nRight-hand side b (first 5 elements):\")\n",
    "print(b[:5])\n",
    "\n",
    "# Calculate the condition number\n",
    "cond_number = cond(A_well)\n",
    "print(f\"\\nCondition number: {cond_number:.4f}\")\n",
    "\n",
    "# Solve the system\n",
    "x_computed = solve(A_well, b)\n",
    "print(\"\\nComputed solution (first 5 elements):\")\n",
    "print(x_computed[:5])\n",
    "\n",
    "# Calculate the error\n",
    "error = norm(x_true - x_computed) / norm(x_true)\n",
    "print(f\"\\nRelative error: {error:.8e}\")"
   ]
  },
  {
   "cell_type": "markdown",
   "metadata": {},
   "source": [
    "Now, let's introduce some small perturbation to the right-hand side and see how it affects the solution:"
   ]
  },
  {
   "cell_type": "code",
   "execution_count": null,
   "metadata": {},
   "outputs": [],
   "source": [
    "# Add a small perturbation to b (simulating measurement error or roundoff)\n",
    "delta = 1e-10\n",
    "b_perturbed = b + delta * np.random.randn(n_well)\n",
    "\n",
    "# Solve with the perturbed right-hand side\n",
    "x_perturbed = solve(A_well, b_perturbed)\n",
    "\n",
    "# Calculate the relative change in the solution\n",
    "input_change = norm(b - b_perturbed) / norm(b)\n",
    "output_change = norm(x_computed - x_perturbed) / norm(x_computed)\n",
    "\n",
    "print(f\"Relative change in input (b): {input_change:.8e}\")\n",
    "print(f\"Relative change in output (x): {output_change:.8e}\")\n",
    "print(f\"Ratio of output change to input change: {output_change/input_change:.4f}\")"
   ]
  },
  {
   "cell_type": "markdown",
   "metadata": {},
   "source": [
    "For a well-conditioned matrix, the relative change in the solution is similar in magnitude to the relative change in the input data. The ratio is close to the condition number."
   ]
  },
  {
   "cell_type": "markdown",
   "metadata": {},
   "source": [
    "## Example 2: Severely Ill-Conditioned Matrix\n",
    "\n",
    "Now, let's examine a severely ill-conditioned matrix and observe how it amplifies errors."
   ]
  },
  {
   "cell_type": "code",
   "execution_count": null,
   "metadata": {},
   "outputs": [],
   "source": [
    "# Create a Hilbert matrix - a classic example of an ill-conditioned matrix\n",
    "# The Hilbert matrix H has elements H[i,j] = 1/(i+j+1)\n",
    "def hilbert_matrix(n):\n",
    "    H = np.zeros((n, n))\n",
    "    for i in range(n):\n",
    "        for j in range(n):\n",
    "            H[i, j] = 1.0 / (i + j + 1)\n",
    "    return H\n",
    "\n",
    "# Create a 10x10 Hilbert matrix for more pronounced effects\n",
    "n = 10\n",
    "A_ill = hilbert_matrix(n)\n",
    "\n",
    "# Create a simple true solution - all ones\n",
    "x_true_ill = np.ones(n)\n",
    "\n",
    "# Calculate right-hand side\n",
    "b_ill = A_ill @ x_true_ill\n",
    "\n",
    "print(\"Hilbert matrix (ill-conditioned, showing first 5x5 corner):\")\n",
    "print(A_ill[:5, :5])\n",
    "\n",
    "# Calculate the condition number\n",
    "cond_number_ill = cond(A_ill)\n",
    "print(f\"\\nCondition number: {cond_number_ill:.4e}\")\n",
    "\n",
    "# Solve the system using double precision\n",
    "x_computed_ill = solve(A_ill, b_ill)\n",
    "\n",
    "print(\"\\nTrue solution (first 5 elements):\")\n",
    "print(x_true_ill[:5])\n",
    "\n",
    "print(\"\\nComputed solution (first 5 elements):\")\n",
    "print(x_computed_ill[:5])\n",
    "\n",
    "# Calculate the element-wise absolute errors\n",
    "abs_errors = np.abs(x_true_ill - x_computed_ill)\n",
    "print(\"\\nAbsolute errors (first 5 elements):\")\n",
    "print(abs_errors[:5])\n",
    "\n",
    "# Calculate the relative error\n",
    "error_ill = norm(x_true_ill - x_computed_ill) / norm(x_true_ill)\n",
    "print(f\"\\nRelative error: {error_ill:.8e}\")"
   ]
  },
  {
   "cell_type": "markdown",
   "metadata": {},
   "source": [
    "Let's add a small perturbation and observe its effect:"
   ]
  },
  {
   "cell_type": "code",
   "execution_count": null,
   "metadata": {},
   "outputs": [],
   "source": [
    "# Add a small perturbation to b_ill\n",
    "delta_ill = 1e-10\n",
    "np.random.seed(123)  # Set seed for reproducibility\n",
    "perturbation = delta_ill * np.random.randn(n)\n",
    "b_perturbed_ill = b_ill + perturbation\n",
    "\n",
    "# Solve with the perturbed right-hand side\n",
    "x_perturbed_ill = solve(A_ill, b_perturbed_ill)\n",
    "\n",
    "# Calculate the relative changes\n",
    "input_change_ill = norm(b_ill - b_perturbed_ill) / norm(b_ill)\n",
    "output_change_ill = norm(x_computed_ill - x_perturbed_ill) / norm(x_computed_ill)\n",
    "\n",
    "print(f\"Relative change in input (b): {input_change_ill:.8e}\")\n",
    "print(f\"Relative change in output (x): {output_change_ill:.8e}\")\n",
    "print(f\"Ratio of output change to input change: {output_change_ill/input_change_ill:.4e}\")\n",
    "\n",
    "# Compare this ratio to the condition number\n",
    "print(f\"Condition number: {cond_number_ill:.4e}\")\n",
    "\n",
    "# Calculate errors of perturbed solution vs true solution\n",
    "perturbed_error = norm(x_true_ill - x_perturbed_ill) / norm(x_true_ill)\n",
    "print(f\"\\nRelative error of perturbed solution: {perturbed_error:.8e}\")"
   ]
  },
  {
   "cell_type": "markdown",
   "metadata": {},
   "source": [
    "Let's create a more effective visualization that shows both the small differences between the true and computed solutions, and the dramatic effect of the perturbation:"
   ]
  },
  {
   "cell_type": "code",
   "execution_count": null,
   "metadata": {},
   "outputs": [],
   "source": [
    "# Create visualization with dual y-axis to properly show the scale differences\n",
    "fig, ax1 = plt.subplots(figsize=(12, 6))\n",
    "\n",
    "# Primary y-axis for true and computed solutions\n",
    "indices = np.arange(n)\n",
    "ax1.plot(indices, x_true_ill, 'go-', label='True Solution', linewidth=2, markersize=8)\n",
    "ax1.plot(indices, x_computed_ill, 'bs-', label='Computed Solution', linewidth=2, markersize=8)\n",
    "ax1.set_xlabel('Index')\n",
    "ax1.set_ylabel('Value (True & Computed)', color='blue')\n",
    "ax1.tick_params(axis='y', labelcolor='blue')\n",
    "ax1.grid(True, alpha=0.3)\n",
    "\n",
    "# Secondary y-axis for perturbed solution (which has much larger magnitude)\n",
    "ax2 = ax1.twinx()\n",
    "ax2.plot(indices, x_perturbed_ill, 'ro-', label='Perturbed Solution', linewidth=2)\n",
    "ax2.set_ylabel('Value (Perturbed)', color='red')\n",
    "ax2.tick_params(axis='y', labelcolor='red')\n",
    "\n",
    "# Title and legend\n",
    "plt.title('Solution Comparison with Dual Scale')\n",
    "lines1, labels1 = ax1.get_legend_handles_labels()\n",
    "lines2, labels2 = ax2.get_legend_handles_labels()\n",
    "ax1.legend(lines1 + lines2, labels1 + labels2, loc='upper right')\n",
    "\n",
    "plt.tight_layout()\n",
    "plt.show()"
   ]
  },
  {
   "cell_type": "code",
   "execution_count": null,
   "metadata": {},
   "outputs": [],
   "source": [
    "# Visualization of errors on log scale\n",
    "error_computed = np.abs(x_true_ill - x_computed_ill)\n",
    "diff_solutions = np.abs(x_computed_ill - x_perturbed_ill)\n",
    "\n",
    "plt.figure(figsize=(12, 6))\n",
    "plt.semilogy(indices, error_computed, 'bs-', label='Error in Computed Solution', linewidth=2)\n",
    "plt.semilogy(indices, diff_solutions, 'md-', label='Difference Between Solutions', linewidth=2, markersize=10)\n",
    "plt.xlabel('Index')\n",
    "plt.ylabel('Absolute Error (log scale)')\n",
    "plt.title('Error Analysis (Log Scale)')\n",
    "plt.legend()\n",
    "plt.grid(True, alpha=0.3)\n",
    "plt.tight_layout()\n",
    "plt.show()"
   ]
  },
  {
   "cell_type": "markdown",
   "metadata": {},
   "source": [
    "Now let's visualize the amplification of errors due to perturbation in a more controlled way:"
   ]
  },
  {
   "cell_type": "code",
   "execution_count": null,
   "metadata": {},
   "outputs": [],
   "source": [
    "# Create a sequence of perturbations with increasing magnitude\n",
    "perturbation_factors = [1e-10, 1e-9, 1e-8, 1e-7, 1e-6]\n",
    "solutions = []\n",
    "output_changes = []\n",
    "input_changes = []\n",
    "amplification_factors = []\n",
    "\n",
    "# Generate solutions for each perturbation level\n",
    "np.random.seed(42)  # Ensure reproducibility\n",
    "perturbation_direction = np.random.randn(n)  # Fixed direction, varying magnitude\n",
    "perturbation_direction = perturbation_direction / norm(perturbation_direction)  # Normalize\n",
    "\n",
    "for factor in perturbation_factors:\n",
    "    # Create perturbed right-hand side\n",
    "    b_pert = b_ill + factor * perturbation_direction\n",
    "    \n",
    "    # Solve the perturbed system\n",
    "    x_pert = solve(A_ill, b_pert)\n",
    "    solutions.append(x_pert)\n",
    "    \n",
    "    # Calculate changes\n",
    "    input_change = norm(b_ill - b_pert) / norm(b_ill)\n",
    "    output_change = norm(x_computed_ill - x_pert) / norm(x_computed_ill)\n",
    "    \n",
    "    input_changes.append(input_change)\n",
    "    output_changes.append(output_change)\n",
    "    amplification_factors.append(output_change / input_change)\n",
    "\n",
    "# Compare Amplification Factor to Condition Number\n",
    "plt.figure(figsize=(10, 6))\n",
    "plt.loglog(perturbation_factors, amplification_factors, 'o-', linewidth=2, label='Measured Amplification')\n",
    "plt.axhline(y=cond_number_ill, color='r', linestyle='--', linewidth=2, label=f'Condition Number: {cond_number_ill:.2e}')\n",
    "plt.xlabel('Perturbation Magnitude')\n",
    "plt.ylabel('Error Amplification Factor')\n",
    "plt.title('Error Amplification vs. Perturbation Magnitude')\n",
    "plt.grid(True)\n",
    "plt.legend()\n",
    "plt.tight_layout()\n",
    "plt.show()"
   ]
  },
  {
   "cell_type": "markdown",
   "metadata": {},
   "source": [
    "## How to Check Condition Number\n",
    "\n",
    "In NumPy, you can check the condition number of a matrix using the `numpy.linalg.cond` function. Let's look at how to use it and interpret the results:"
   ]
  },
  {
   "cell_type": "code",
   "execution_count": null,
   "metadata": {},
   "outputs": [],
   "source": [
    "# Create matrices with different condition numbers\n",
    "A1 = np.array([[1, 0], [0, 1]])  # Identity matrix: perfectly conditioned\n",
    "A2 = np.array([[10, 1], [1, 10]])  # Well-conditioned\n",
    "A3 = np.array([[1, 0.999], [0.999, 1]])  # Ill-conditioned\n",
    "A4 = hilbert_matrix(5)  # Very ill-conditioned\n",
    "\n",
    "# Calculate condition numbers\n",
    "cond_A1 = cond(A1)\n",
    "cond_A2 = cond(A2)\n",
    "cond_A3 = cond(A3)\n",
    "cond_A4 = cond(A4)\n",
    "\n",
    "print(f\"Condition number of identity matrix: {cond_A1:.4f}\")\n",
    "print(f\"Condition number of well-conditioned matrix: {cond_A2:.4f}\")\n",
    "print(f\"Condition number of ill-conditioned matrix: {cond_A3:.4e}\")\n",
    "print(f\"Condition number of Hilbert matrix: {cond_A4:.4e}\")\n",
    "\n",
    "# Guidelines for interpreting condition numbers\n",
    "print(\"\\nInterpreting condition numbers:\")\n",
    "print(\"κ ≈ 1: Well-conditioned\")\n",
    "print(\"1 < κ < 1000: Moderately well-conditioned\")\n",
    "print(\"1000 ≤ κ < 10^6: Ill-conditioned\")\n",
    "print(\"κ ≥ 10^6: Very ill-conditioned\")"
   ]
  },
  {
   "cell_type": "markdown",
   "metadata": {},
   "source": [
    "## Techniques to Improve Numerical Stability\n",
    "\n",
    "When dealing with ill-conditioned matrices, several techniques can help improve numerical stability:\n",
    "\n",
    "1. **Pivoting strategies** in Gaussian elimination\n",
    "2. **Scaling** the matrix and right-hand side\n",
    "3. Using **regularization** techniques\n",
    "4. Employing more stable factorization methods like **SVD**\n",
    "\n",
    "Let's implement a simple scaling approach and see how it affects the condition number:"
   ]
  },
  {
   "cell_type": "code",
   "execution_count": null,
   "metadata": {},
   "outputs": [],
   "source": [
    "# Create an ill-conditioned matrix with widely varying magnitudes\n",
    "A_unscaled = np.array([\n",
    "    [1e5, 2e5],\n",
    "    [3, 4]\n",
    "])\n",
    "\n",
    "print(\"Unscaled matrix:\")\n",
    "print(A_unscaled)\n",
    "print(f\"Condition number: {cond(A_unscaled):.4e}\")\n",
    "\n",
    "# Scale rows to have similar magnitudes\n",
    "row_norms = np.array([norm(A_unscaled[i, :]) for i in range(A_unscaled.shape[0])])\n",
    "D = np.diag(1.0 / row_norms)\n",
    "A_scaled = D @ A_unscaled\n",
    "\n",
    "print(\"\\nScaled matrix:\")\n",
    "print(A_scaled)\n",
    "print(f\"Condition number: {cond(A_scaled):.4e}\")"
   ]
  },
  {
   "cell_type": "markdown",
   "metadata": {},
   "source": [
    "## Rule of Thumb: Digits of Accuracy\n",
    "\n",
    "A practical rule of thumb: If a matrix has condition number $\\kappa(A) = 10^k$, you can expect to lose up to $k$ digits of accuracy in the solution due to roundoff error.\n",
    "\n",
    "For example, with a condition number of $10^6$, you might lose about 6 digits of accuracy in your solution.\n",
    "\n",
    "For IEEE 754 double precision (which NumPy uses by default), you have about 15-16 decimal digits of precision. So if your condition number is $10^{12}$, you might have only 3-4 accurate digits in your solution, and if it's $10^{16}$ or larger, you can't expect any accurate digits!"
   ]
  },
  {
   "cell_type": "markdown",
   "metadata": {},
   "source": [
    "## Practical Guidelines for Dealing with Ill-Conditioned Systems\n",
    "\n",
    "1. **Always calculate the condition number** of the coefficient matrix before solving a linear system.\n",
    "\n",
    "2. **Be cautious of results** when the condition number is high (> 10^6).\n",
    "\n",
    "3. **Use higher precision** when possible for ill-conditioned problems.\n",
    "\n",
    "4. **Consider scaling** the rows or columns of the matrix to improve conditioning.\n",
    "\n",
    "5. **Use stable algorithms** like LU decomposition with pivoting or SVD for solving ill-conditioned systems.\n",
    "\n",
    "6. **Reformulate the problem** if possible to avoid ill-conditioning."
   ]
  }
 ],
 "metadata": {
  "kernelspec": {
   "display_name": "Python 3",
   "language": "python",
   "name": "python3"
  },
  "language_info": {
   "codemirror_mode": {
    "name": "ipython",
    "version": 3
   },
   "file_extension": ".py",
   "mimetype": "text/x-python",
   "name": "python",
   "nbconvert_exporter": "python",
   "pygments_lexer": "ipython3",
   "version": "3.8.8"
  }
 },
 "nbformat": 4,
 "nbformat_minor": 4
}
