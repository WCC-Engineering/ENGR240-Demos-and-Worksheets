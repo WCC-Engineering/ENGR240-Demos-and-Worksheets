{
 "cells": [
  {
   "cell_type": "markdown",
   "metadata": {},
   "source": [
    "# Matrix Condition Number and Roundoff Error\n",
    "\n",
    "[![Open In Colab](https://colab.research.google.com/assets/colab-badge.svg)](https://colab.research.google.com/github/WCC-Engineering/ENGR240/blob/main/Class%20Demos%20and%20Activities/Week%204/Matrix_Condition_Number_Demo.ipynb)\n",
    "\n",
    "## Introduction\n",
    "\n",
    "In this notebook, we'll explore the concept of **matrix condition number** and how it affects the numerical solution of linear systems of equations. We'll specifically focus on:\n",
    "\n",
    "1. What makes a matrix \"ill-conditioned\"\n",
    "2. How roundoff error accumulates in ill-conditioned systems\n",
    "3. How to check the condition number of a matrix\n",
    "4. Basic techniques to improve numerical stability"
   ]
  },
  {
   "cell_type": "code",
   "execution_count": null,
   "metadata": {},
   "outputs": [],
   "source": [
    "# Import the necessary libraries\n",
    "import numpy as np\n",
    "import matplotlib.pyplot as plt\n",
    "import seaborn as sns\n",
    "from numpy.linalg import cond, solve, norm, inv\n",
    "import pandas as pd\n",
    "\n",
    "# Set random seed for reproducibility\n",
    "np.random.seed(42)\n",
    "\n",
    "# Configure plot settings\n",
    "plt.style.use('seaborn-v0_8-whitegrid')\n",
    "sns.set_context(\"notebook\", font_scale=1.5)\n",
    "\n",
    "# Set precision for display\n",
    "np.set_printoptions(precision=8, suppress=True)"
   ]
  },
  {
   "cell_type": "markdown",
   "metadata": {},
   "source": [
    "## What is the Condition Number?\n",
    "\n",
    "The **condition number** of a matrix measures how sensitive the solution of a linear system is to small changes or errors in the input data. \n",
    "\n",
    "For a matrix $A$, the condition number is defined as:\n",
    "\n",
    "$$\\kappa(A) = ||A|| \\cdot ||A^{-1}||$$\n",
    "\n",
    "where $||\\cdot||$ represents a matrix norm (commonly the 2-norm).\n",
    "\n",
    "- A matrix with a **low condition number** (close to 1) is **well-conditioned**. Small changes in the input result in small changes in the output.\n",
    "- A matrix with a **high condition number** is **ill-conditioned**. Small changes in the input can cause large changes in the output.\n",
    "- A matrix with an **infinite condition number** is **singular** (not invertible)."
   ]
  },
  {
   "cell_type": "markdown",
   "metadata": {},
   "source": [
    "## Example 1: Well-Conditioned Matrix\n",
    "\n",
    "Let's start with a well-conditioned matrix and see how it behaves when solving a linear system."
   ]
  },
  {
   "cell_type": "code",
   "execution_count": null,
   "metadata": {},
   "outputs": [],
   "source": [
    "# Create a well-conditioned matrix (a simple diagonal matrix)\n",
    "A_well = np.array([\n",
    "    [4.0, 0.0],\n",
    "    [0.0, 5.0]\n",
    "])\n",
    "\n",
    "# True solution we want to recover\n",
    "x_true = np.array([2.0, 3.0])\n",
    "\n",
    "# Calculate the right-hand side\n",
    "b = A_well @ x_true\n",
    "\n",
    "print(\"Matrix A (well-conditioned):\")\n",
    "print(A_well)\n",
    "print(\"\\nRight-hand side b:\")\n",
    "print(b)\n",
    "\n",
    "# Calculate the condition number\n",
    "cond_number = cond(A_well)\n",
    "print(f\"\\nCondition number: {cond_number:.4f}\")\n",
    "\n",
    "# Solve the system\n",
    "x_computed = solve(A_well, b)\n",
    "print(\"\\nComputed solution:\")\n",
    "print(x_computed)\n",
    "\n",
    "# Calculate the error\n",
    "error = norm(x_true - x_computed) / norm(x_true)\n",
    "print(f\"\\nRelative error: {error:.8e}\")"
   ]
  },
  {
   "cell_type": "markdown",
   "metadata": {},
   "source": [
    "Now, let's introduce some small perturbation to the right-hand side and see how it affects the solution:"
   ]
  },
  {
   "cell_type": "code",
   "execution_count": null,
   "metadata": {},
   "outputs": [],
   "source": [
    "# Add a small perturbation to b (simulating measurement error or roundoff)\n",
    "delta = 1e-10\n",
    "b_perturbed = b + delta * np.random.randn(2)\n",
    "\n",
    "# Solve with the perturbed right-hand side\n",
    "x_perturbed = solve(A_well, b_perturbed)\n",
    "\n",
    "# Calculate the relative change in the solution\n",
    "input_change = norm(b - b_perturbed) / norm(b)\n",
    "output_change = norm(x_computed - x_perturbed) / norm(x_computed)\n",
    "\n",
    "print(f\"Relative change in input (b): {input_change:.8e}\")\n",
    "print(f\"Relative change in output (x): {output_change:.8e}\")\n",
    "print(f\"Ratio of output change to input change: {output_change/input_change:.4f}\")"
   ]
  },
  {
   "cell_type": "markdown",
   "metadata": {},
   "source": [
    "For a well-conditioned matrix, the relative change in the solution is similar in magnitude to the relative change in the input data. The ratio is close to the condition number."
   ]
  },
  {
   "cell_type": "markdown",
   "metadata": {},
   "source": [
    "## Example 2: Ill-Conditioned Matrix\n",
    "\n",
    "Now, let's examine an ill-conditioned matrix and observe how it amplifies errors."
   ]
  },
  {
   "cell_type": "code",
   "execution_count": null,
   "metadata": {},
   "outputs": [],
   "source": [
    "# Create a Hilbert matrix - a classic example of an ill-conditioned matrix\n",
    "# The Hilbert matrix H has elements H[i,j] = 1/(i+j+1)\n",
    "def hilbert_matrix(n):\n",
    "    H = np.zeros((n, n))\n",
    "    for i in range(n):\n",
    "        for j in range(n):\n",
    "            H[i, j] = 1.0 / (i + j + 1)\n",
    "    return H\n",
    "\n",
    "# Create a 5x5 Hilbert matrix\n",
    "n = 5\n",
    "A_ill = hilbert_matrix(n)\n",
    "\n",
    "# True solution\n",
    "x_true_ill = np.ones(n)\n",
    "\n",
    "# Calculate right-hand side\n",
    "b_ill = A_ill @ x_true_ill\n",
    "\n",
    "print(\"Hilbert matrix (ill-conditioned):\")\n",
    "print(A_ill)\n",
    "\n",
    "# Calculate the condition number\n",
    "cond_number_ill = cond(A_ill)\n",
    "print(f\"\\nCondition number: {cond_number_ill:.4e}\")\n",
    "\n",
    "# Solve the system\n",
    "x_computed_ill = solve(A_ill, b_ill)\n",
    "\n",
    "print(\"\\nTrue solution:\")\n",
    "print(x_true_ill)\n",
    "\n",
    "print(\"\\nComputed solution:\")\n",
    "print(x_computed_ill)\n",
    "\n",
    "# Calculate the error\n",
    "error_ill = norm(x_true_ill - x_computed_ill) / norm(x_true_ill)\n",
    "print(f\"\\nRelative error: {error_ill:.8e}\")"
   ]
  },
  {
   "cell_type": "markdown",
   "metadata": {},
   "source": [
    "The Hilbert matrix is notorious for being ill-conditioned. Notice that the condition number is much larger than our well-conditioned example. Even without any explicit perturbation, the computed solution already differs from the true solution due to floating-point roundoff error in the computations.\n",
    "\n",
    "Now, let's introduce a tiny perturbation to the right-hand side:"
   ]
  },
  {
   "cell_type": "code",
   "execution_count": null,
   "metadata": {},
   "outputs": [],
   "source": [
    "# Add a small perturbation to b_ill\n",
    "delta_ill = 1e-10\n",
    "b_perturbed_ill = b_ill + delta_ill * np.random.randn(n)\n",
    "\n",
    "# Solve with the perturbed right-hand side\n",
    "x_perturbed_ill = solve(A_ill, b_perturbed_ill)\n",
    "\n",
    "# Calculate the relative change\n",
    "input_change_ill = norm(b_ill - b_perturbed_ill) / norm(b_ill)\n",
    "output_change_ill = norm(x_computed_ill - x_perturbed_ill) / norm(x_computed_ill)\n",
    "\n",
    "print(f\"Relative change in input (b): {input_change_ill:.8e}\")\n",
    "print(f\"Relative change in output (x): {output_change_ill:.8e}\")\n",
    "print(f\"Ratio of output change to input change: {output_change_ill/input_change_ill:.4e}\")\n",
    "\n",
    "# Compare this ratio to the condition number\n",
    "print(f\"Condition number: {cond_number_ill:.4e}\")"
   ]
  },
  {
   "cell_type": "markdown",
   "metadata": {},
   "source": [
    "For the ill-conditioned matrix, a tiny change in the input results in a much larger change in the output. The ratio of these changes is approximately the condition number."
   ]
  },
  {
   "cell_type": "code",
   "execution_count": null,
   "metadata": {},
   "outputs": [],
   "source": [
    "# Plot comparison\n",
    "indices = np.arange(n)\n",
    "width = 0.25\n",
    "\n",
    "fig, ax = plt.subplots(figsize=(12, 6))\n",
    "bar1 = ax.bar(indices - width, x_true_ill, width, label='True Solution')\n",
    "bar2 = ax.bar(indices, x_computed_ill, width, label='Computed Solution')\n",
    "bar3 = ax.bar(indices + width, x_perturbed_ill, width, label='Perturbed Solution')\n",
    "\n",
    "ax.set_xlabel('Index')\n",
    "ax.set_ylabel('Value')\n",
    "ax.set_title('Comparison of Solutions for Ill-conditioned System')\n",
    "ax.set_xticks(indices)\n",
    "ax.legend()\n",
    "\n",
    "plt.tight_layout()\n",
    "plt.show()"
   ]
  },
  {
   "cell_type": "markdown",
   "metadata": {},
   "source": [
    "## Condition Number vs. Matrix Size for Hilbert Matrices\n",
    "\n",
    "Let's examine how the condition number of the Hilbert matrix grows with its size:"
   ]
  },
  {
   "cell_type": "code",
   "execution_count": null,
   "metadata": {},
   "outputs": [],
   "source": [
    "# Calculate condition numbers for Hilbert matrices of different sizes\n",
    "sizes = range(2, 15)\n",
    "condition_numbers = [cond(hilbert_matrix(i)) for i in sizes]\n",
    "\n",
    "# Plot the condition number vs matrix size\n",
    "plt.figure(figsize=(10, 6))\n",
    "plt.semilogy(sizes, condition_numbers, 'o-', linewidth=2)\n",
    "plt.grid(True)\n",
    "plt.xlabel('Matrix Size')\n",
    "plt.ylabel('Condition Number (log scale)')\n",
    "plt.title('Condition Number vs. Matrix Size for Hilbert Matrices')\n",
    "plt.xticks(sizes)\n",
    "plt.tight_layout()\n",
    "plt.show()"
   ]
  },
  {
   "cell_type": "markdown",
   "metadata": {},
   "source": [
    "The condition number of the Hilbert matrix grows exponentially with its size. For larger sizes, the matrix becomes so ill-conditioned that numerical solutions become essentially meaningless."
   ]
  },
  {
   "cell_type": "markdown",
   "metadata": {},
   "source": [
    "## How to Check Condition Number\n",
    "\n",
    "In NumPy, you can check the condition number of a matrix using the `numpy.linalg.cond` function. Let's look at how to use it and interpret the results:"
   ]
  },
  {
   "cell_type": "code",
   "execution_count": null,
   "metadata": {},
   "outputs": [],
   "source": [
    "# Create matrices with different condition numbers\n",
    "A1 = np.array([[1, 0], [0, 1]])  # Identity matrix: perfectly conditioned\n",
    "A2 = np.array([[10, 1], [1, 10]])  # Well-conditioned\n",
    "A3 = np.array([[1, 0.999], [0.999, 1]])  # Ill-conditioned\n",
    "A4 = hilbert_matrix(5)  # Very ill-conditioned\n",
    "\n",
    "# Calculate condition numbers\n",
    "cond_A1 = cond(A1)\n",
    "cond_A2 = cond(A2)\n",
    "cond_A3 = cond(A3)\n",
    "cond_A4 = cond(A4)\n",
    "\n",
    "print(f\"Condition number of identity matrix: {cond_A1:.4f}\")\n",
    "print(f\"Condition number of well-conditioned matrix: {cond_A2:.4f}\")\n",
    "print(f\"Condition number of ill-conditioned matrix: {cond_A3:.4e}\")\n",
    "print(f\"Condition number of Hilbert matrix: {cond_A4:.4e}\")\n",
    "\n",
    "# Guidelines for interpreting condition numbers\n",
    "print(\"\\nInterpreting condition numbers:\")\n",
    "print(\"κ ≈ 1: Well-conditioned\")\n",
    "print(\"1 < κ < 1000: Moderately well-conditioned\")\n",
    "print(\"1000 ≤ κ < 10^6: Ill-conditioned\")\n",
    "print(\"κ ≥ 10^6: Very ill-conditioned\")"
   ]
  },
  {
   "cell_type": "markdown",
   "metadata": {},
   "source": [
    "## Techniques to Improve Numerical Stability\n",
    "\n",
    "When dealing with ill-conditioned matrices, several techniques can help improve numerical stability:\n",
    "\n",
    "1. **Pivoting strategies** in Gaussian elimination\n",
    "2. **Scaling** the matrix and right-hand side\n",
    "3. Using **regularization** techniques\n",
    "4. Employing more stable factorization methods like **SVD**\n",
    "\n",
    "Let's implement a simple scaling approach and see how it affects the condition number:"
   ]
  },
  {
   "cell_type": "code",
   "execution_count": null,
   "metadata": {},
   "outputs": [],
   "source": [
    "# Create an ill-conditioned matrix with widely varying magnitudes\n",
    "A_unscaled = np.array([\n",
    "    [1e5, 2e5],\n",
    "    [3, 4]\n",
    "])\n",
    "\n",
    "print(\"Unscaled matrix:\")\n",
    "print(A_unscaled)\n",
    "print(f\"Condition number: {cond(A_unscaled):.4e}\")\n",
    "\n",
    "# Scale rows to have similar magnitudes\n",
    "row_norms = np.array([norm(A_unscaled[i, :]) for i in range(A_unscaled.shape[0])])\n",
    "D = np.diag(1.0 / row_norms)\n",
    "A_scaled = D @ A_unscaled\n",
    "\n",
    "print(\"\\nScaled matrix:\")\n",
    "print(A_scaled)\n",
    "print(f\"Condition number: {cond(A_scaled):.4e}\")"
   ]
  },
  {
   "cell_type": "markdown",
   "metadata": {},
   "source": [
    "## Rule of Thumb: Digits of Accuracy\n",
    "\n",
    "A practical rule of thumb: If a matrix has condition number $\\kappa(A) = 10^k$, you can expect to lose up to $k$ digits of accuracy in the solution due to roundoff error.\n",
    "\n",
    "For example, with a condition number of $10^6$, you might lose about 6 digits of accuracy in your solution."
   ]
  },
  {
   "cell_type": "markdown",
   "metadata": {},
   "source": [
    "## Practical Guidelines for Dealing with Ill-Conditioned Systems\n",
    "\n",
    "1. **Always calculate the condition number** of the coefficient matrix before solving a linear system.\n",
    "\n",
    "2. **Be cautious of results** when the condition number is high (> 10^6).\n",
    "\n",
    "3. **Use higher precision** when possible for ill-conditioned problems.\n",
    "\n",
    "4. **Consider scaling** the rows or columns of the matrix to improve conditioning.\n",
    "\n",
    "5. **Use stable algorithms** like LU decomposition with pivoting or SVD for solving ill-conditioned systems.\n",
    "\n",
    "6. **Reformulate the problem** if possible to avoid ill-conditioning."
   ]
  },
  {
   "cell_type": "markdown",
   "metadata": {},
   "source": [
    "## Exercises for Students\n",
    "\n",
    "1. **Create and analyze a matrix** of your own design that is ill-conditioned.\n",
    "2. **Modify the matrix** to improve its condition number.\n",
    "3. **Investigate how small perturbations** to an ill-conditioned system affect its solution for a problem of your choice.\n",
    "4. **Apply the rule of thumb** to predict the number of accurate digits in a solution, and then verify your prediction."
   ]
  }
 ],
 "metadata": {
  "kernelspec": {
   "display_name": "Python 3",
   "language": "python",
   "name": "python3"
  },
  "language_info": {
   "codemirror_mode": {
    "name": "ipython",
    "version": 3
   },
   "file_extension": ".py",
   "mimetype": "text/x-python",
   "name": "python",
   "nbconvert_exporter": "python",
   "pygments_lexer": "ipython3",
   "version": "3.8.8"
  }
 },
 "nbformat": 4,
 "nbformat_minor": 4
}
