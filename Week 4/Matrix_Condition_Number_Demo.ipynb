{
 "cells": [
  {
   "cell_type": "markdown",
   "metadata": {},
   "source": [
    "# Matrix Condition Number and Roundoff Error\n",
    "\n",
    "[![Open In Colab](https://colab.research.google.com/assets/colab-badge.svg)](https://colab.research.google.com/github/WCC-Engineering/ENGR240/blob/main/Class%20Demos%20and%20Activities/Week%204/Matrix_Condition_Number_Demo.ipynb)\n",
    "\n",
    "## Introduction\n",
    "\n",
    "In this notebook, we'll explore the concept of **matrix condition number** and how it affects the numerical solution of linear systems of equations. We'll specifically focus on:\n",
    "\n",
    "1. What makes a matrix \"ill-conditioned\"\n",
    "2. How roundoff error accumulates in ill-conditioned systems\n",
    "3. How to check the condition number of a matrix\n",
    "4. Basic techniques to improve numerical stability"
   ]
  },
  {
   "cell_type": "code",
   "execution_count": null,
   "metadata": {},
   "outputs": [],
   "source": [
    "# Import the necessary libraries\n",
    "import numpy as np\n",
    "import matplotlib.pyplot as plt\n",
    "import seaborn as sns\n",
    "from numpy.linalg import cond, solve, norm, inv\n",
    "import pandas as pd\n",
    "\n",
    "# Set random seed for reproducibility\n",
    "np.random.seed(42)\n",
    "\n",
    "# Configure plot settings\n",
    "plt.style.use('seaborn-v0_8-whitegrid')\n",
    "sns.set_context(\"notebook\", font_scale=1.5)\n",
    "\n",
    "# Set precision for display\n",
    "np.set_printoptions(precision=8, suppress=True)"
   ]
  },
  {
   "cell_type": "markdown",
   "metadata": {},
   "source": [
    "## What is the Condition Number?\n",
    "\n",
    "The **condition number** of a matrix measures how sensitive the solution of a linear system is to small changes or errors in the input data. \n",
    "\n",
    "For a matrix $A$, the condition number is defined as:\n",
    "\n",
    "$$\\kappa(A) = ||A|| \\cdot ||A^{-1}||$$\n",
    "\n",
    "where $||\\cdot||$ represents a matrix norm (commonly the 2-norm).\n",
    "\n",
    "- A matrix with a **low condition number** (close to 1) is **well-conditioned**. Small changes in the input result in small changes in the output.\n",
    "- A matrix with a **high condition number** is **ill-conditioned**. Small changes in the input can cause large changes in the output.\n",
    "- A matrix with an **infinite condition number** is **singular** (not invertible)."
   ]
  },
  {
   "cell_type": "markdown",
   "metadata": {},
   "source": [
    "## Example 1: Well-Conditioned Matrix\n",
    "\n",
    "Let's start with a well-conditioned matrix and see how it behaves when solving a linear system."
   ]
  },
  {
   "cell_type": "code",
   "execution_count": null,
   "metadata": {},
   "outputs": [],
   "source": [
    "# Create a well-conditioned matrix (a simple diagonal matrix)\n",
    "A_well = np.array([\n",
    "    [4.0, 0.0],\n",
    "    [0.0, 5.0]\n",
    "])\n",
    "\n",
    "# True solution we want to recover\n",
    "x_true = np.array([2.0, 3.0])\n",
    "\n",
    "# Calculate the right-hand side\n",
    "b = A_well @ x_true\n",
    "\n",
    "print(\"Matrix A (well-conditioned):\")\n",
    "print(A_well)\n",
    "print(\"\\nRight-hand side b:\")\n",
    "print(b)\n",
    "\n",
    "# Calculate the condition number\n",
    "cond_number = cond(A_well)\n",
    "print(f\"\\nCondition number: {cond_number:.4f}\")\n",
    "\n",
    "# Solve the system\n",
    "x_computed = solve(A_well, b)\n",
    "print(\"\\nComputed solution:\")\n",
    "print(x_computed)\n",
    "\n",
    "# Calculate the error\n",
    "error = norm(x_true - x_computed) / norm(x_true)\n",
    "print(f\"\\nRelative error: {error:.8e}\")"
   ]
  },
  {
   "cell_type": "markdown",
   "metadata": {},
   "source": [
    "Now, let's introduce some small perturbation to the right-hand side and see how it affects the solution:"
   ]
  },
  {
   "cell_type": "code",
   "execution_count": null,
   "metadata": {},
   "outputs": [],
   "source": [
    "# Add a small perturbation to b (simulating measurement error or roundoff)\n",
    "delta = 1e-10\n",
    "b_perturbed = b + delta * np.random.randn(2)\n",
    "\n",
    "# Solve with the perturbed right-hand side\n",
    "x_perturbed = solve(A_well, b_perturbed)\n",
    "\n",
    "# Calculate the relative change in the solution\n",
    "input_change = norm(b - b_perturbed) / norm(b)\n",
    "output_change = norm(x_computed - x_perturbed) / norm(x_computed)\n",
    "\n",
    "print(f\"Relative change in input (b): {input_change:.8e}\")\n",
    "print(f\"Relative change in output (x): {output_change:.8e}\")\n",
    "print(f\"Ratio of output change to input change: {output_change/input_change:.4f}\")"
   ]
  },
  {
   "cell_type": "markdown",
   "metadata": {},
   "source": [
    "For a well-conditioned matrix, the relative change in the solution is similar in magnitude to the relative change in the input data. The ratio is close to the condition number."
   ]
  },
  {
   "cell_type": "markdown",
   "metadata": {},
   "source": [
    "## Example 2: Severely Ill-Conditioned Matrix\n",
    "\n",
    "Now, let's examine a severely ill-conditioned matrix and observe how it amplifies errors."
   ]
  },
  {
   "cell_type": "code",
   "execution_count": null,
   "metadata": {},
   "outputs": [],
   "source": [
    "# Create a Hilbert matrix - a classic example of an ill-conditioned matrix\n",
    "# The Hilbert matrix H has elements H[i,j] = 1/(i+j+1)\n",
    "def hilbert_matrix(n):\n",
    "    H = np.zeros((n, n))\n",
    "    for i in range(n):\n",
    "        for j in range(n):\n",
    "            H[i, j] = 1.0 / (i + j + 1)\n",
    "    return H\n",
    "\n",
    "# Create a larger Hilbert matrix (10x10) for more pronounced effects\n",
    "n = 10\n",
    "A_ill = hilbert_matrix(n)\n",
    "\n",
    "# Create a simple true solution - all ones\n",
    "x_true_ill = np.ones(n)\n",
    "\n",
    "# Calculate right-hand side\n",
    "b_ill = A_ill @ x_true_ill\n",
    "\n",
    "print(\"Hilbert matrix (ill-conditioned, showing first 5x5 corner):\")\n",
    "print(A_ill[:5, :5])\n",
    "\n",
    "# Calculate the condition number\n",
    "cond_number_ill = cond(A_ill)\n",
    "print(f\"\\nCondition number: {cond_number_ill:.4e}\")\n",
    "\n",
    "# Solve the system using double precision\n",
    "x_computed_ill = solve(A_ill, b_ill)\n",
    "\n",
    "print(\"\\nTrue solution:\")\n",
    "print(x_true_ill)\n",
    "\n",
    "print(\"\\nComputed solution:\")\n",
    "print(x_computed_ill)\n",
    "\n",
    "# Calculate the element-wise absolute errors\n",
    "abs_errors = np.abs(x_true_ill - x_computed_ill)\n",
    "print(\"\\nAbsolute errors:\")\n",
    "print(abs_errors)\n",
    "\n",
    "# Calculate the relative error\n",
    "error_ill = norm(x_true_ill - x_computed_ill) / norm(x_true_ill)\n",
    "print(f\"\\nRelative error: {error_ill:.8e}\")"
   ]
  },
  {
   "cell_type": "markdown",
   "metadata": {},
   "source": [
    "Let's add a small perturbation and observe its effect:"
   ]
  },
  {
   "cell_type": "code",
   "execution_count": null,
   "metadata": {},
   "outputs": [],
   "source": [
    "# Add a small perturbation to b_ill\n",
    "delta_ill = 1e-10\n",
    "np.random.seed(123)  # Set seed for reproducibility\n",
    "perturbation = delta_ill * np.random.randn(n)\n",
    "b_perturbed_ill = b_ill + perturbation\n",
    "\n",
    "# Solve with the perturbed right-hand side\n",
    "x_perturbed_ill = solve(A_ill, b_perturbed_ill)\n",
    "\n",
    "# Calculate the relative changes\n",
    "input_change_ill = norm(b_ill - b_perturbed_ill) / norm(b_ill)\n",
    "output_change_ill = norm(x_computed_ill - x_perturbed_ill) / norm(x_computed_ill)\n",
    "\n",
    "print(f\"Relative change in input (b): {input_change_ill:.8e}\")\n",
    "print(f\"Relative change in output (x): {output_change_ill:.8e}\")\n",
    "print(f\"Ratio of output change to input change: {output_change_ill/input_change_ill:.4e}\")\n",
    "\n",
    "# Compare this ratio to the condition number\n",
    "print(f\"Condition number: {cond_number_ill:.4e}\")\n",
    "\n",
    "# Calculate errors of perturbed solution vs true solution\n",
    "perturbed_error = norm(x_true_ill - x_perturbed_ill) / norm(x_true_ill)\n",
    "print(f\"\\nRelative error of perturbed solution: {perturbed_error:.8e}\")"
   ]
  },
  {
   "cell_type": "markdown",
   "metadata": {},
   "source": [
    "Let's create a better visualization with the solutions separated to avoid scale issues:"
   ]
  },
  {
   "cell_type": "code",
   "execution_count": null,
   "metadata": {},
   "outputs": [],
   "source": [
    "# Create a simple error comparison table\n",
    "df_comparison = pd.DataFrame({\n",
    "    'Index': range(n),\n",
    "    'True Solution': x_true_ill,\n",
    "    'Computed Solution': x_computed_ill,\n",
    "    'Perturbed Solution': x_perturbed_ill,\n",
    "    'Error in Computed': abs_errors,\n",
    "    'Error in Perturbed': np.abs(x_true_ill - x_perturbed_ill),\n",
    "    'Difference Between Solutions': np.abs(x_computed_ill - x_perturbed_ill)\n",
    "})\n",
    "\n",
    "# Display selected columns for clarity\n",
    "print(\"Comparison of Solution Values:\")\n",
    "df_comparison[['Index', 'True Solution', 'Computed Solution', 'Perturbed Solution']].head(10)"
   ]
  },
  {
   "cell_type": "code",
   "execution_count": null,
   "metadata": {},
   "outputs": [],
   "source": [
    "# Display error information separately\n",
    "print(\"Error Analysis:\")\n",
    "df_comparison[['Index', 'Error in Computed', 'Error in Perturbed', 'Difference Between Solutions']].head(10)"
   ]
  },
  {
   "cell_type": "code",
   "execution_count": null,
   "metadata": {},
   "outputs": [],
   "source": [
    "# Create simplified visualizations with separate panels for clarity\n",
    "fig, (ax1, ax2) = plt.subplots(1, 2, figsize=(15, 6))\n",
    "\n",
    "# Panel 1: Compare True vs Computed vs Perturbed\n",
    "indices = np.arange(n)\n",
    "ax1.plot(indices, x_true_ill, 'go-', label='True Solution', linewidth=2)\n",
    "ax1.plot(indices, x_computed_ill, 'bo-', label='Computed Solution', linewidth=2)\n",
    "ax1.plot(indices, x_perturbed_ill, 'ro-', label='Perturbed Solution', linewidth=2)\n",
    "ax1.set_xlabel('Index')\n",
    "ax1.set_ylabel('Value')\n",
    "ax1.set_title('Solution Comparison')\n",
    "ax1.legend()\n",
    "ax1.grid(True, alpha=0.3)\n",
    "\n",
    "# Panel 2: Errors on log scale - simplified to show just two key measures\n",
    "error_computed = np.abs(x_true_ill - x_computed_ill)\n",
    "diff_solutions = np.abs(x_computed_ill - x_perturbed_ill)\n",
    "\n",
    "ax2.semilogy(indices, error_computed, 'bs-', label='Error in Computed', linewidth=2)\n",
    "ax2.semilogy(indices, diff_solutions, 'md-', label='Difference Between Solutions', linewidth=2, markersize=8)\n",
    "ax2.set_xlabel('Index')\n",
    "ax2.set_ylabel('Absolute Error (log scale)')\n",
    "ax2.set_title('Error Analysis (Log Scale)')\n",
    "ax2.legend()\n",
    "ax2.grid(True, alpha=0.3)\n",
    "\n",
    "plt.tight_layout()\n",
    "plt.show()"
   ]
  },
  {
   "cell_type": "markdown",
   "metadata": {},
   "source": [
    "Now let's visualize the amplification of errors due to perturbation in a more controlled way:"
   ]
  },
  {
   "cell_type": "code",
   "execution_count": null,
   "metadata": {},
   "outputs": [],
   "source": [
    "# Create a sequence of perturbations with increasing magnitude\n",
    "perturbation_factors = [1e-10, 1e-9, 1e-8, 1e-7, 1e-6]\n",
    "solutions = []\n",
    "output_changes = []\n",
    "input_changes = []\n",
    "amplification_factors = []\n",
    "\n",
    "# Generate solutions for each perturbation level\n",
    "np.random.seed(42)  # Ensure reproducibility\n",
    "perturbation_direction = np.random.randn(n)  # Fixed direction, varying magnitude\n",
    "perturbation_direction = perturbation_direction / norm(perturbation_direction)  # Normalize\n",
    "\n",
    "for factor in perturbation_factors:\n",
    "    # Create perturbed right-hand side\n",
    "    b_pert = b_ill + factor * perturbation_direction\n",
    "    \n",
    "    # Solve the perturbed system\n",
    "    x_pert = solve(A_ill, b_pert)\n",
    "    solutions.append(x_pert)\n",
    "    \n",
    "    # Calculate changes\n",
    "    input_change = norm(b_ill - b_pert) / norm(b_ill)\n",
    "    output_change = norm(x_computed_ill - x_pert) / norm(x_computed_ill)\n",
    "    \n",
    "    input_changes.append(input_change)\n",
    "    output_changes.append(output_change)\n",
    "    amplification_factors.append(output_change / input_change)\n",
    "\n",
    "# Create a summary table of amplification factors\n",
    "result_table = pd.DataFrame({\n",
    "    'Perturbation': perturbation_factors,\n",
    "    'Input Change': input_changes,\n",
    "    'Output Change': output_changes,\n",
    "    'Amplification Factor': amplification_factors\n",
    "})\n",
    "print(\"Error Amplification Data:\")\n",
    "result_table"
   ]
  },
  {
   "cell_type": "code",
   "execution_count": null,
   "metadata": {},
   "outputs": [],
   "source": [
    "# Compare Amplification Factor to Condition Number\n",
    "plt.figure(figsize=(10, 6))\n",
    "plt.loglog(perturbation_factors, amplification_factors, 'o-', linewidth=2, label='Measured Amplification')\n",
    "plt.axhline(y=cond_number_ill, color='r', linestyle='--', linewidth=2, label=f'Condition Number: {cond_number_ill:.2e}')\n",
    "plt.xlabel('Perturbation Magnitude')\n",
    "plt.ylabel('Error Amplification Factor')\n",
    "plt.title('Error Amplification vs. Perturbation Magnitude')\n",
    "plt.grid(True)\n",
    "plt.legend()\n",
    "plt.tight_layout()\n",
    "plt.show()"
   ]
  },
  {
   "cell_type": "markdown",
   "metadata": {},
   "source": [
    "## Condition Number vs. Matrix Size for Hilbert Matrices\n",
    "\n",
    "Let's examine how the condition number of the Hilbert matrix grows with its size:"
   ]
  },
  {
   "cell_type": "code",
   "execution_count": null,
   "metadata": {},
   "outputs": [],
   "source": [
    "# Calculate condition numbers for Hilbert matrices of different sizes\n",
    "sizes = range(2, 16)\n",
    "condition_numbers = [cond(hilbert_matrix(i)) for i in sizes]\n",
    "\n",
    "# Plot the condition number vs matrix size\n",
    "plt.figure(figsize=(10, 6))\n",
    "plt.semilogy(sizes, condition_numbers, 'o-', linewidth=2)\n",
    "plt.grid(True)\n",
    "plt.xlabel('Matrix Size')\n",
    "plt.ylabel('Condition Number (log scale)')\n",
    "plt.title('Condition Number vs. Matrix Size for Hilbert Matrices')\n",
    "plt.xticks(sizes)\n",
    "plt.tight_layout()\n",
    "plt.show()\n",
    "\n",
    "# Create a table of condition numbers and expected accurate digits\n",
    "digits_double = 15  # Roughly 15-16 decimal digits for IEEE 754 double precision\n",
    "expected_accurate_digits = [max(0, digits_double - np.log10(kappa)) for kappa in condition_numbers]\n",
    "\n",
    "cond_table = pd.DataFrame({\n",
    "    'Matrix Size': list(sizes),\n",
    "    'Condition Number': condition_numbers,\n",
    "    'Expected Accurate Digits': expected_accurate_digits\n",
    "})\n",
    "cond_table"
   ]
  },
  {
   "cell_type": "markdown",
   "metadata": {},
   "source": [
    "The condition number of the Hilbert matrix grows exponentially with its size. For larger sizes, the matrix becomes so ill-conditioned that numerical solutions become essentially meaningless. Note how the expected accurate digits drop to zero for larger matrices!"
   ]
  },
  {
   "cell_type": "markdown",
   "metadata": {},
   "source": [
    "## How to Check Condition Number\n",
    "\n",
    "In NumPy, you can check the condition number of a matrix using the `numpy.linalg.cond` function. Let's look at how to use it and interpret the results:"
   ]
  },
  {
   "cell_type": "code",
   "execution_count": null,
   "metadata": {},
   "outputs": [],
   "source": [
    "# Create matrices with different condition numbers\n",
    "A1 = np.array([[1, 0], [0, 1]])  # Identity matrix: perfectly conditioned\n",
    "A2 = np.array([[10, 1], [1, 10]])  # Well-conditioned\n",
    "A3 = np.array([[1, 0.999], [0.999, 1]])  # Ill-conditioned\n",
    "A4 = hilbert_matrix(5)  # Very ill-conditioned\n",
    "\n",
    "# Calculate condition numbers\n",
    "cond_A1 = cond(A1)\n",
    "cond_A2 = cond(A2)\n",
    "cond_A3 = cond(A3)\n",
    "cond_A4 = cond(A4)\n",
    "\n",
    "print(f\"Condition number of identity matrix: {cond_A1:.4f}\")\n",
    "print(f\"Condition number of well-conditioned matrix: {cond_A2:.4f}\")\n",
    "print(f\"Condition number of ill-conditioned matrix: {cond_A3:.4e}\")\n",
    "print(f\"Condition number of Hilbert matrix: {cond_A4:.4e}\")\n",
    "\n",
    "# Guidelines for interpreting condition numbers\n",
    "print(\"\\nInterpreting condition numbers:\")\n",
    "print(\"κ ≈ 1: Well-conditioned\")\n",
    "print(\"1 < κ < 1000: Moderately well-conditioned\")\n",
    "print(\"1000 ≤ κ < 10^6: Ill-conditioned\")\n",
    "print(\"κ ≥ 10^6: Very ill-conditioned\")"
   ]
  },
  {
   "cell_type": "markdown",
   "metadata": {},
   "source": [
    "## Techniques to Improve Numerical Stability\n",
    "\n",
    "When dealing with ill-conditioned matrices, several techniques can help improve numerical stability:\n",
    "\n",
    "1. **Pivoting strategies** in Gaussian elimination\n",
    "2. **Scaling** the matrix and right-hand side\n",
    "3. Using **regularization** techniques\n",
    "4. Employing more stable factorization methods like **SVD**\n",
    "\n",
    "Let's implement a simple scaling approach and see how it affects the condition number:"
   ]
  },
  {
   "cell_type": "code",
   "execution_count": null,
   "metadata": {},
   "outputs": [],
   "source": [
    "# Create an ill-conditioned matrix with widely varying magnitudes\n",
    "A_unscaled = np.array([\n",
    "    [1e5, 2e5],\n",
    "    [3, 4]\n",
    "])\n",
    "\n",
    "print(\"Unscaled matrix:\")\n",
    "print(A_unscaled)\n",
    "print(f\"Condition number: {cond(A_unscaled):.4e}\")\n",
    "\n",
    "# Scale rows to have similar magnitudes\n",
    "row_norms = np.array([norm(A_unscaled[i, :]) for i in range(A_unscaled.shape[0])])\n",
    "D = np.diag(1.0 / row_norms)\n",
    "A_scaled = D @ A_unscaled\n",
    "\n",
    "print(\"\\nScaled matrix:\")\n",
    "print(A_scaled)\n",
    "print(f\"Condition number: {cond(A_scaled):.4e}\")"
   ]
  },
  {
   "cell_type": "markdown",
   "metadata": {},
   "source": [
    "## Rule of Thumb: Digits of Accuracy\n",
    "\n",
    "A practical rule of thumb: If a matrix has condition number $\\kappa(A) = 10^k$, you can expect to lose up to $k$ digits of accuracy in the solution due to roundoff error.\n",
    "\n",
    "For example, with a condition number of $10^6$, you might lose about 6 digits of accuracy in your solution.\n",
    "\n",
    "For IEEE 754 double precision (which NumPy uses by default), you have about 15-16 decimal digits of precision. So if your condition number is $10^{12}$, you might have only 3-4 accurate digits in your solution, and if it's $10^{16}$ or larger, you can't expect any accurate digits!"
   ]
  },
  {
   "cell_type": "markdown",
   "metadata": {},
   "source": [
    "## Practical Guidelines for Dealing with Ill-Conditioned Systems\n",
    "\n",
    "1. **Always calculate the condition number** of the coefficient matrix before solving a linear system.\n",
    "\n",
    "2. **Be cautious of results** when the condition number is high (> 10^6).\n",
    "\n",
    "3. **Use higher precision** when possible for ill-conditioned problems.\n",
    "\n",
    "4. **Consider scaling** the rows or columns of the matrix to improve conditioning.\n",
    "\n",
    "5. **Use stable algorithms** like LU decomposition with pivoting or SVD for solving ill-conditioned systems.\n",
    "\n",
    "6. **Reformulate the problem** if possible to avoid ill-conditioning."
   ]
  },
  {
   "cell_type": "markdown",
   "metadata": {},
   "source": [
    "## Exercises for Students\n",
    "\n",
    "1. **Create and analyze a matrix** of your own design that is ill-conditioned.\n",
    "2. **Modify the matrix** to improve its condition number.\n",
    "3. **Investigate how small perturbations** to an ill-conditioned system affect its solution for a problem of your choice.\n",
    "4. **Apply the rule of thumb** to predict the number of accurate digits in a solution, and then verify your prediction."
   ]
  }
 ],
 "metadata": {
  "kernelspec": {
   "display_name": "Python 3",
   "language": "python",
   "name": "python3"
  },
  "language_info": {
   "codemirror_mode": {
    "name": "ipython",
    "version": 3
   },
   "file_extension": ".py",
   "mimetype": "text/x-python",
   "name": "python",
   "nbconvert_exporter": "python",
   "pygments_lexer": "ipython3",
   "version": "3.8.8"
  }
 },
 "nbformat": 4,
 "nbformat_minor": 4
}
