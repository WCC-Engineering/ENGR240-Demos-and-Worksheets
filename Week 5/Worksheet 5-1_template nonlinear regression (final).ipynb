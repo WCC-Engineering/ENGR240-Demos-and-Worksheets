{
 "cells": [
  {
   "cell_type": "markdown",
   "metadata": {},
   "source": [
    "# Worksheet 5-1: Nonlinear Regression\n",
    "\n",
    "[![Open In Colab](https://colab.research.google.com/assets/colab-badge.svg)](https://colab.research.google.com/github/WCC-Engineering/ENGR240/blob/main/Class%20Demos%20and%20Activities/Week%205/Worksheet%205-1_template%20nonlinear%20regression%20(final).ipynb)\n",
    "\n",
    "## Overview\n",
    "\n",
    "In this worksheet, we'll explore three different approaches to fit nonlinear models to data:\n",
    "\n",
    "1. **Linear regression on transformed data**: Converting a nonlinear model to linear form\n",
    "2. **Nonlinear regression using scipy.optimize.minimize**: Direct optimization of the sum of squared residuals\n",
    "3. **Nonlinear regression using scipy.optimize.curve_fit**: A more convenient wrapper for nonlinear regression\n",
    "\n",
    "We'll apply these techniques to a bacteria growth rate model and compare their results and implementation complexity.\n",
    "\n",
    "## The Model\n",
    "\n",
    "We'll work with a bacterial growth rate model that describes how the growth rate depends on substrate concentration:\n",
    "\n",
    "$$k = k_{max} \\frac{c^2}{c_s + c^2}$$\n",
    "\n",
    "where:\n",
    "- $k$ is the growth rate (number/day)\n",
    "- $c$ is the substrate concentration (mg/L)\n",
    "- $k_{max}$ is the maximum possible growth rate\n",
    "- $c_s$ is the half-saturation constant\n",
    "\n",
    "Our goal is to find the values of $k_{max}$ and $c_s$ that best fit our experimental data."
   ]
  },
  {
   "cell_type": "code",
   "execution_count": null,
   "metadata": {},
   "source": [
    "# Import necessary libraries\n",
    "import numpy as np\n",
    "from scipy import optimize\n",
    "import matplotlib.pyplot as plt\n",
    "\n",
    "# Set plotting style\n",
    "plt.style.use('seaborn-v0_8-whitegrid')\n",
    "\n",
    "# Set random seed for reproducibility\n",
    "np.random.seed(42)"
   ]
  },
  {
   "cell_type": "markdown",
   "metadata": {},
   "source": [
    "## Experimental Data\n",
    "\n",
    "Let's start with our experimental measurements of bacterial growth rate at different substrate concentrations:"
   ]
  },
  {
   "cell_type": "code",
   "execution_count": null,
   "metadata": {},
   "source": [
    "# Substrate concentration (mg/L)\n",
    "c = np.array([0.5, 0.8, 1.5, 2.5, 4.0])\n",
    "\n",
    "# Growth rate (number/day)\n",
    "k = np.array([1.0, 2.5, 5.1, 7.3, 9.1])\n",
    "\n",
    "# Plot the experimental data\n",
    "plt.figure(figsize=(10, 6))\n",
    "plt.scatter(c, k, color='black', s=50, label='Experimental data')\n",
    "plt.xlabel('Substrate Concentration (mg/L)')\n",
    "plt.ylabel('Growth Rate (number/day)')\n",
    "plt.title('Bacterial Growth Rate vs. Substrate Concentration')\n",
    "plt.legend()\n",
    "plt.grid(True)\n",
    "plt.show()"
   ]
  },
  {
   "cell_type": "markdown",
   "metadata": {},
   "source": [
    "Let's define our model function that we'll use throughout this worksheet:"
   ]
  },
  {
   "cell_type": "code",
   "execution_count": null,
   "metadata": {},
   "source": [
    "def kmodel(c, kmax, cs):\n",
    "    \"\"\"Bacterial growth rate model\n",
    "    \n",
    "    Parameters:\n",
    "    -----------\n",
    "    c : array_like\n",
    "        Substrate concentration (mg/L)\n",
    "    kmax : float\n",
    "        Maximum growth rate (number/day)\n",
    "    cs : float\n",
    "        Half-saturation constant\n",
    "        \n",
    "    Returns:\n",
    "    --------\n",
    "    k : array_like\n",
    "        Growth rate (number/day)\n",
    "    \"\"\"\n",
    "    return kmax * c**2 / (cs + c**2)"
   ]
  },
  {
   "cell_type": "markdown",
   "metadata": {},
   "source": [
    "## Task 1: Linear Regression with Transformed Data\n",
    "\n",
    "Often, we can transform a nonlinear model into a linear form that allows us to use simple linear regression. For our model:\n",
    "\n",
    "$$k = k_{max} \\frac{c^2}{c_s + c^2}$$\n",
    "\n",
    "### 1.1 Derive the Linear Transformation\n",
    "\n",
    "In the cell below, derive a linear transformation of this model. Hint: Start by taking the reciprocal (1/k) of both sides."
   ]
  },
  {
   "cell_type": "markdown",
   "metadata": {},
   "source": [
    "**Your derivation here:**\n",
    "\n",
    "Taking the reciprocal of both sides:\n",
    "\n",
    "$$\\frac{1}{k} = \\frac{c_s + c^2}{k_{max} \\cdot c^2} = \\frac{c_s}{k_{max} \\cdot c^2} + \\frac{1}{k_{max}}$$\n",
    "\n",
    "This is now in the form of a linear equation:\n",
    "\n",
    "$$\\frac{1}{k} = \\frac{c_s}{k_{max}} \\cdot \\frac{1}{c^2} + \\frac{1}{k_{max}}$$\n",
    "\n",
    "Which has the form $Y = mX + b$ where:\n",
    "- $Y = \\frac{1}{k}$\n",
    "- $X = \\frac{1}{c^2}$\n",
    "- $m = \\frac{c_s}{k_{max}}$\n",
    "- $b = \\frac{1}{k_{max}}$"
   ]
  },
  {
   "cell_type": "markdown",
   "metadata": {},
   "source": [
    "### 1.2 Implement the Linear Regression\n",
    "\n",
    "Now, implement the linear regression using the transformed variables and NumPy's `polyfit` function."
   ]
  },
  {
   "cell_type": "code",
   "execution_count": null,
   "metadata": {},
   "source": [
    "# Transform the data\n",
    "X = 1/c**2  # X = 1/c²\n",
    "Y = 1/k     # Y = 1/k\n",
    "\n",
    "# Use np.polyfit to perform linear regression\n",
    "# Complete the line below to fit a 1st-degree polynomial (straight line) to X and Y\n",
    "p = np.polyfit(X, Y, 1)\n",
    "\n",
    "# Extract the slope (m) and intercept (b)\n",
    "m, b = p\n",
    "\n",
    "# Calculate kmax and cs from m and b\n",
    "# Remember: b = 1/kmax and m = cs/kmax\n",
    "kmax1 = 1/b\n",
    "cs1 = m * kmax1\n",
    "\n",
    "print(f\"Linear Regression Results:\")\n",
    "print(f\"m = {m:.4f}, b = {b:.4f}\")\n",
    "print(f\"kmax = {kmax1:.4f}\")\n",
    "print(f\"cs = {cs1:.4f}\")"
   ]
  },
  {
   "cell_type": "markdown",
   "metadata": {},
   "source": [
    "### 1.3 Visualize the Linear Fit\n",
    "\n",
    "Let's visualize both the transformed data with the linear fit and the original data with the nonlinear model using our fitted parameters."
   ]
  },
  {
   "cell_type": "code",
   "execution_count": null,
   "metadata": {},
   "source": [
    "# Create a figure with two subplots\n",
    "fig, (ax1, ax2) = plt.subplots(1, 2, figsize=(15, 6))\n",
    "\n",
    "# Plot the transformed data and linear fit\n",
    "ax1.scatter(X, Y, color='black', s=50)\n",
    "X_line = np.linspace(min(X), max(X), 100)\n",
    "Y_line = m * X_line + b\n",
    "ax1.plot(X_line, Y_line, 'r-', linewidth=2)\n",
    "ax1.set_xlabel('1/c² (L²/mg²)')\n",
    "ax1.set_ylabel('1/k (day/number)')\n",
    "ax1.set_title('Transformed Data with Linear Fit')\n",
    "ax1.grid(True)\n",
    "\n",
    "# Plot the original data and nonlinear model\n",
    "ax2.scatter(c, k, color='black', s=50)\n",
    "c_line = np.linspace(0, max(c)*1.2, 100)\n",
    "k_line = kmodel(c_line, kmax1, cs1)\n",
    "ax2.plot(c_line, k_line, 'r-', linewidth=2)\n",
    "ax2.set_xlabel('Substrate Concentration (mg/L)')\n",
    "ax2.set_ylabel('Growth Rate (number/day)')\n",
    "ax2.set_title('Original Data with Nonlinear Model')\n",
    "ax2.grid(True)\n",
    "\n",
    "plt.tight_layout()\n",
    "plt.show()"
   ]
  },
  {
   "cell_type": "markdown",
   "metadata": {},
   "source": [
    "## Task 2: Fit Quality Statistics\n",
    "\n",
    "Now that we have our first fit, let's evaluate its quality using standard statistical measures. The two most common metrics for assessing curve fit quality are:\n",
    "\n",
    "1. **Coefficient of Determination (R²)**: Indicates the proportion of variance in the dependent variable that is predictable from the independent variable. R² ranges from 0 to 1, where 1 indicates perfect prediction.\n",
    "\n",
    "2. **Standard Error of the Estimate (Syx)**: Represents the average distance between the observed values and the predicted values. Lower values indicate better fit.\n",
    "\n",
    "### 2.1 Calculate Fit Quality Metrics\n",
    "\n",
    "For our nonlinear model, we need to calculate these metrics using the original (non-transformed) data, even though we performed the fit on transformed data."
   ]
  },
  {
   "cell_type": "code",
   "execution_count": null,
   "metadata": {},
   "source": [
    "# Calculate predicted values using our model with kmax1 and cs1\n",
    "k_pred1 = kmodel(c, kmax1, cs1)\n",
    "\n",
    "# Calculate residuals (differences between observed and predicted values)\n",
    "residuals = k - k_pred1\n",
    "\n",
    "# Sum of Squared Residuals (Sr)\n",
    "Sr = np.sum(residuals**2)\n",
    "\n",
    "# Total Sum of Squares (St) - variation around the mean\n",
    "St = np.sum((k - np.mean(k))**2)\n",
    "\n",
    "# Coefficient of Determination (R²)\n",
    "r_squared1 = 1 - Sr/St\n",
    "\n",
    "# Standard Error of the Estimate (Syx)\n",
    "# n-2 represents degrees of freedom (n data points minus 2 parameters)\n",
    "Syx_1 = np.sqrt(Sr/(len(k)-2))\n",
    "\n",
    "print(f\"Fit Quality Metrics for Linear Regression Approach:\")\n",
    "print(f\"Sum of Squared Residuals (Sr) = {Sr:.4f}\")\n",
    "print(f\"Total Sum of Squares (St) = {St:.4f}\")\n",
    "print(f\"Coefficient of Determination (R²) = {r_squared1:.4f}\")\n",
    "print(f\"Standard Error of the Estimate (Syx) = {Syx_1:.4f}\")"
   ]
  }
 ],
 "metadata": {
  "kernelspec": {
   "display_name": "Python 3",
   "language": "python",
   "name": "python3"
  },
  "language_info": {
   "codemirror_mode": {
    "name": "ipython",
    "version": 3
   },
   "file_extension": ".py",
   "mimetype": "text/x-python",
   "name": "python",
   "nbconvert_exporter": "python",
   "pygments_lexer": "ipython3",
   "version": "3.8.10"
  }
 },
 "nbformat": 4,
 "nbformat_minor": 4
}