{
 "cells": [
  {
   "cell_type": "markdown",
   "metadata": {},
   "source": [
    "# Worksheet 5-1: Nonlinear Regression\n",
    "\n",
    "[![Open In Colab](https://colab.research.google.com/assets/colab-badge.svg)](https://colab.research.google.com/github/WCC-Engineering/ENGR240/blob/main/Class%20Demos%20and%20Activities/Week%205/Worksheet%205-1_template%20nonlinear%20regression.ipynb)\n",
    "\n",
    "## Overview\n",
    "\n",
    "In this worksheet, we'll explore three different approaches to fit nonlinear models to data:\n",
    "\n",
    "1. **Linear regression on transformed data**: Converting a nonlinear model to linear form\n",
    "2. **Nonlinear regression using scipy.optimize.minimize**: Direct optimization of the sum of squared residuals\n",
    "3. **Nonlinear regression using scipy.optimize.curve_fit**: A more convenient wrapper for nonlinear regression\n",
    "\n",
    "We'll apply these techniques to a bacteria growth rate model and compare their results.\n",
    "\n",
    "## The Model\n",
    "\n",
    "We'll work with a bacterial growth rate model that describes how the growth rate depends on substrate concentration:\n",
    "\n",
    "$$k = k_{max} \\frac{c^2}{c_s + c^2}$$\n",
    "\n",
    "where:\n",
    "- $k$ is the growth rate (number/day)\n",
    "- $c$ is the substrate concentration (mg/L)\n",
    "- $k_{max}$ is the maximum possible growth rate\n",
    "- $c_s$ is the half-saturation constant\n",
    "\n",
    "Our goal is to find the values of $k_{max}$ and $c_s$ that best fit our experimental data."
   ]
  },
  {
   "cell_type": "code",
   "execution_count": null,
   "metadata": {},
   "outputs": [],
   "source": [
    "# Import necessary libraries\n",
    "import numpy as np\n",
    "from scipy import optimize\n",
    "import matplotlib.pyplot as plt\n",
    "\n",
    "# Set plotting style\n",
    "plt.style.use('seaborn-v0_8-whitegrid')\n",
    "\n",
    "# Set random seed for reproducibility\n",
    "np.random.seed(42)"
   ]
  },
  {
   "cell_type": "markdown",
   "metadata": {},
   "source": [
    "## Experimental Data and Model\n",
    "\n",
    "Let's start with our experimental measurements of bacterial growth rate at different substrate concentrations:"
   ]
  },
  {
   "cell_type": "code",
   "execution_count": null,
   "metadata": {},
   "outputs": [],
   "source": [
    "# Substrate concentration (mg/L)\n",
    "c = np.array([0.5, 0.8, 1.5, 2.5, 4.0])\n",
    "\n",
    "# Growth rate (number/day)\n",
    "k = np.array([1.0, 2.5, 5.1, 7.3, 9.1])\n",
    "\n",
    "# Plot the experimental data\n",
    "plt.figure(figsize=(10, 6))\n",
    "plt.scatter(c, k, color='black', s=50, label='Experimental data')\n",
    "plt.xlabel('Substrate Concentration (mg/L)')\n",
    "plt.ylabel('Growth Rate (number/day)')\n",
    "plt.title('Bacterial Growth Rate vs. Substrate Concentration')\n",
    "plt.legend()\n",
    "plt.grid(True)\n",
    "plt.show()\n",
    "\n",
    "# Define our model function\n",
    "def kmodel(c, kmax, cs):\n",
    "    \"\"\"Bacterial growth rate model\n",
    "    \n",
    "    Parameters:\n",
    "    -----------\n",
    "    c : array_like\n",
    "        Substrate concentration (mg/L)\n",
    "    kmax : float\n",
    "        Maximum growth rate (number/day)\n",
    "    cs : float\n",
    "        Half-saturation constant\n",
    "        \n",
    "    Returns:\n",
    "    --------\n",
    "    k : array_like\n",
    "        Growth rate (number/day)\n",
    "    \"\"\"\n",
    "    return kmax * c**2 / (cs + c**2)"
   ]
  },
  {
   "cell_type": "markdown",
   "metadata": {},
   "source": [
    "## Task 1: Linear Regression with Transformed Data\n",
    "\n",
    "Often, we can transform a nonlinear model into a linear form that allows us to use simple linear regression. For our model:\n",
    "\n",
    "$$k = k_{max} \\frac{c^2}{c_s + c^2}$$\n",
    "\n",
    "### 1.1 Derive the Linear Transformation\n",
    "\n",
    "In the cell below, derive a linear transformation of this model. Hint: Start by taking the reciprocal (1/k) of both sides."
   ]
  },
  {
   "cell_type": "markdown",
   "metadata": {},
   "source": [
    "**Your derivation here:**\n",
    "\n",
    "Taking the reciprocal of both sides:\n",
    "\n",
    "$$\\frac{1}{k} = \\frac{c_s + c^2}{k_{max} \\cdot c^2} = \\frac{c_s}{k_{max} \\cdot c^2} + \\frac{1}{k_{max}}$$\n",
    "\n",
    "This is now in the form of a linear equation:\n",
    "\n",
    "$$\\frac{1}{k} = \\frac{c_s}{k_{max}} \\cdot \\frac{1}{c^2} + \\frac{1}{k_{max}}$$\n",
    "\n",
    "Which has the form $Y = mX + b$ where:\n",
    "- $Y = \\frac{1}{k}$\n",
    "- $X = \\frac{1}{c^2}$\n",
    "- $m = \\frac{c_s}{k_{max}}$\n",
    "- $b = \\frac{1}{k_{max}}$"
   ]
  },
  {
   "cell_type": "markdown",
   "metadata": {},
   "source": [
    "### 1.2 Implement the Linear Regression\n",
    "\n",
    "Now, implement the linear regression using the transformed variables and NumPy's `polyfit` function."
   ]
  },
  {
   "cell_type": "code",
   "execution_count": null,
   "metadata": {},
   "outputs": [],
   "source": [
    "# Transform the data\n",
    "X = 1/c**2  # X = 1/c²\n",
    "Y = 1/k     # Y = 1/k\n",
    "\n",
    "# Use np.polyfit to perform linear regression\n",
    "# Complete the line below to fit a 1st-degree polynomial (straight line) to X and Y\n",
    "p = np.polyfit(X, Y, 1)\n",
    "\n",
    "# Extract the slope (m) and intercept (b)\n",
    "m, b = p\n",
    "\n",
    "# Calculate kmax and cs from m and b\n",
    "# Remember: b = 1/kmax and m = cs/kmax\n",
    "kmax1 = 1/b\n",
    "cs1 = m * kmax1\n",
    "\n",
    "print(f\"Linear Regression Results:\")\n",
    "print(f\"m = {m:.4f}, b = {b:.4f}\")\n",
    "print(f\"kmax = {kmax1:.4f}\")\n",
    "print(f\"cs = {cs1:.4f}\")"
   ]
  },
  {
   "cell_type": "markdown",
   "metadata": {},
   "source": [
    "## Task 2: Nonlinear Regression using scipy.optimize.minimize\n",
    "\n",
    "Instead of transforming our model, we can directly fit the nonlinear model to the data using optimization techniques. In this task, we'll use `scipy.optimize.minimize` to minimize the sum of squared residuals."
   ]
  },
  {
   "cell_type": "code",
   "execution_count": null,
   "metadata": {},
   "outputs": [],
   "source": [
    "# Define the objective function to minimize (sum of squared residuals)\n",
    "def objective_function(params, c_data, k_data):\n",
    "    \"\"\"Calculate the sum of squared residuals between model predictions and data\"\"\"\n",
    "    # Extract parameters\n",
    "    kmax, cs = params\n",
    "    \n",
    "    # Calculate predicted values\n",
    "    k_pred = kmodel(c_data, kmax, cs)\n",
    "    \n",
    "    # Calculate residuals\n",
    "    residuals = k_data - k_pred\n",
    "    \n",
    "    # Return sum of squared residuals\n",
    "    return np.sum(residuals**2)\n",
    "\n",
    "# Initial guess for parameters [kmax, cs]\n",
    "initial_guess = [1, 1]\n",
    "\n",
    "# Minimize the objective function\n",
    "result = optimize.minimize(objective_function, \n",
    "                          initial_guess, \n",
    "                          args=(c, k), \n",
    "                          method='Nelder-Mead',\n",
    "                          tol=1e-8)\n",
    "\n",
    "# Extract the optimized parameters\n",
    "kmax2, cs2 = result.x\n",
    "\n",
    "print(\"Nonlinear Regression Results (minimize):\")\n",
    "print(f\"Optimization successful: {result.success}\")\n",
    "print(f\"Function evaluations: {result.nfev}\")\n",
    "print(f\"kmax = {kmax2:.4f}\")\n",
    "print(f\"cs = {cs2:.4f}\")"
   ]
  },
  {
   "cell_type": "markdown",
   "metadata": {},
   "source": [
    "## Task 3: Nonlinear Regression using scipy.optimize.curve_fit\n",
    "\n",
    "The `scipy.optimize.curve_fit` function provides a more convenient interface for fitting models to data. Under the hood, it uses `scipy.optimize.minimize` but with a more user-friendly API specifically designed for curve fitting."
   ]
  },
  {
   "cell_type": "code",
   "execution_count": null,
   "metadata": {},
   "outputs": [],
   "source": [
    "# Use curve_fit to find the optimal parameters\n",
    "popt, pcov = optimize.curve_fit(kmodel, c, k, p0=[1, 1])\n",
    "\n",
    "# Extract the optimized parameters\n",
    "kmax3, cs3 = popt\n",
    "\n",
    "# Extract the parameter covariance matrix\n",
    "parameter_variances = np.diag(pcov)\n",
    "parameter_std_dev = np.sqrt(parameter_variances)\n",
    "\n",
    "print(\"Nonlinear Regression Results (curve_fit):\")\n",
    "print(f\"kmax = {kmax3:.4f} ± {parameter_std_dev[0]:.4f}\")\n",
    "print(f\"cs = {cs3:.4f} ± {parameter_std_dev[1]:.4f}\")"
   ]
  },
  {
   "cell_type": "markdown",
   "metadata": {},
   "source": [
    "## Task 4: Compare All Methods\n",
    "\n",
    "Let's define a function to calculate fit quality metrics and then compare all three methods."
   ]
  },
  {
   "cell_type": "code",
   "execution_count": null,
   "metadata": {},
   "outputs": [],
   "source": [
    "def calculate_fit_metrics(c_data, k_data, kmax, cs):\n",
    "    \"\"\"Calculate fit quality metrics for given model parameters\"\"\"\n",
    "    # Calculate predicted values\n",
    "    k_pred = kmodel(c_data, kmax, cs)\n",
    "    \n",
    "    # Calculate residuals\n",
    "    residuals = k_data - k_pred\n",
    "    \n",
    "    # Sum of Squared Residuals (Sr)\n",
    "    Sr = np.sum(residuals**2)\n",
    "    \n",
    "    # Total Sum of Squares (St) - variation around the mean\n",
    "    St = np.sum((k_data - np.mean(k_data))**2)\n",
    "    \n",
    "    # Coefficient of Determination (R²)\n",
    "    r_squared = 1 - Sr/St\n",
    "    \n",
    "    # Standard Error of the Estimate (Syx)\n",
    "    Syx = np.sqrt(Sr/(len(k_data)-2))\n",
    "    \n",
    "    return r_squared, Syx, Sr, St\n",
    "\n",
    "# Calculate metrics for all three methods\n",
    "r_squared1, Syx_1, Sr1, St = calculate_fit_metrics(c, k, kmax1, cs1)\n",
    "r_squared2, Syx_2, Sr2, St = calculate_fit_metrics(c, k, kmax2, cs2)\n",
    "r_squared3, Syx_3, Sr3, St = calculate_fit_metrics(c, k, kmax3, cs3)\n",
    "\n",
    "# Create a comparison table\n",
    "methods = ['Linear Regression (transformed)', 'Nonlinear Regression (minimize)', 'Nonlinear Regression (curve_fit)']\n",
    "kmax_values = [kmax1, kmax2, kmax3]\n",
    "cs_values = [cs1, cs2, cs3]\n",
    "r_squared_values = [r_squared1, r_squared2, r_squared3]\n",
    "syx_values = [Syx_1, Syx_2, Syx_3]\n",
    "\n",
    "# Print the comparison table\n",
    "print(\"Comparison of Curve Fitting Methods:\")\n",
    "print(\"-\" * 80)\n",
    "print(f\"{'Method':<30} {'kmax':<10} {'cs':<10} {'R²':<10} {'Syx':<10}\")\n",
    "print(\"-\" * 80)\n",
    "for i, method in enumerate(methods):\n",
    "    print(f\"{method:<30} {kmax_values[i]:<10.4f} {cs_values[i]:<10.4f} {r_squared_values[i]:<10.4f} {syx_values[i]:<10.4f}\")\n",
    "print(\"-\" * 80)"
   ]
  },
  {
   "cell_type": "markdown",
   "metadata": {},
   "source": [
    "### Visualize the Three Methods"
   ]
  },
  {
   "cell_type": "code",
   "execution_count": null,
   "metadata": {},
   "outputs": [],
   "source": [
    "# Define a range of concentrations for plotting\n",
    "c_plot = np.linspace(0, 5, 100)\n",
    "\n",
    "# Calculate model predictions for each method\n",
    "k_model1 = kmodel(c_plot, kmax1, cs1)\n",
    "k_model2 = kmodel(c_plot, kmax2, cs2)\n",
    "k_model3 = kmodel(c_plot, kmax3, cs3)\n",
    "\n",
    "# Create the plot\n",
    "plt.figure(figsize=(12, 8))\n",
    "\n",
    "# Plot the data points\n",
    "plt.scatter(c, k, color='black', s=80, label='Experimental data')\n",
    "\n",
    "# Plot the model fits\n",
    "plt.plot(c_plot, k_model1, 'r-', linewidth=2, \n",
    "         label=f'Linear regression: kmax={kmax1:.2f}, cs={cs1:.2f}, R²={r_squared1:.4f}')\n",
    "plt.plot(c_plot, k_model2, 'b--', linewidth=2, \n",
    "         label=f'Nonlinear (minimize): kmax={kmax2:.2f}, cs={cs2:.2f}, R²={r_squared2:.4f}')\n",
    "plt.plot(c_plot, k_model3, 'g-.', linewidth=2, \n",
    "         label=f'Nonlinear (curve_fit): kmax={kmax3:.2f}, cs={cs3:.2f}, R²={r_squared3:.4f}')\n",
    "\n",
    "# Add labels and title\n",
    "plt.xlabel('Substrate Concentration (mg/L)', fontsize=12)\n",
    "plt.ylabel('Growth Rate (number/day)', fontsize=12)\n",
    "plt.title('Comparison of Three Curve Fitting Approaches', fontsize=14)\n",
    "plt.legend(fontsize=11)\n",
    "plt.grid(True)\n",
    "plt.tight_layout()\n",
    "plt.show()"
   ]
  },
  {
   "cell_type": "markdown",
   "metadata": {},
   "source": [
    "## Discussion Questions\n",
    "\n",
    "Answer the following questions based on your observations:\n",
    "\n",
    "1. **Method Comparison**: Compare the results of the three methods. Which method(s) produced the best fit (highest R², lowest Syx)? Why do you think the nonlinear methods (minimize and curve_fit) gave similar results?\n",
    "\n",
    "2. **Method Selection**: What are the advantages and disadvantages of each method? When would you prefer to use each approach for fitting nonlinear models in engineering applications?\n",
    "\n",
    "3. **Parameter Uncertainty**: Only the `curve_fit` method provided uncertainty estimates for the parameters. Why is parameter uncertainty important in engineering analysis, and how might you use this information?"
   ]
  }
 ],
 "metadata": {
  "kernelspec": {
   "display_name": "Python 3",
   "language": "python",
   "name": "python3"
  },
  "language_info": {
   "codemirror_mode": {
    "name": "ipython",
    "version": 3
   },
   "file_extension": ".py",
   "mimetype": "text/x-python",
   "name": "python",
   "nbconvert_exporter": "python",
   "pygments_lexer": "ipython3",
   "version": "3.8.10"
  }
 },
 "nbformat": 4,
 "nbformat_minor": 4
}