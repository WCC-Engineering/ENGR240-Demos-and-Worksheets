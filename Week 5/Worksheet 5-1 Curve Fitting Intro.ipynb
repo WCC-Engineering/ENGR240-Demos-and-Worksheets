{
  "cells": [
    {
      "cell_type": "markdown",
      "metadata": {
        "id": "cZQf9BprNUtt"
      },
      "source": [
        "# ENGR 240: Curve Fitting with Linear and Nonlinear Regression\n",
        "\n",
        "[![Open In Colab](https://colab.research.google.com/assets/colab-badge.svg)](https://colab.research.google.com/github/WCC-Engineering/ENGR240-Demos-and-Worksheets/blob/main/Week%205/Worksheet%205-1%20Curve%20Fitting%20Intro.ipynb)\n",
        "\n",
        "## Introduction\n",
        "\n",
        "Many engineering problems involve fitting mathematical models to experimental data. In this worksheet, we'll explore three different approaches to fitting a bacterial growth model to a set of experimental data.\n",
        "\n",
        "### Learning Objectives\n",
        "- Apply linear regression to transformed nonlinear models\n",
        "- Implement nonlinear regression using `scipy.optimize.minimize`\n",
        "- Implement nonlinear regression using `scipy.optimize.curve_fit`\n",
        "- Calculate and analyze fit quality statistics\n",
        "- Compare different curve fitting approaches for the same problem\n",
        "\n",
        "### Mathematical Background\n",
        "\n",
        "The bacterial growth model we'll be working with relates the growth rate $k$ to substrate concentration $c$ with the following equation:\n",
        "\n",
        "$$k = k_{max} \\frac{c^2}{c_s + c^2}$$\n",
        "\n",
        "where:\n",
        "- $k$ = growth rate (number/day)\n",
        "- $c$ = substrate concentration (mg/L)\n",
        "- $k_{max}$ = maximum growth rate (number/day)\n",
        "- $c_s$ = half-saturation constant (mg/L)$^2$\n",
        "\n",
        "This relationship exhibits nonlinear behavior but can be linearized through algebraic transformation. We'll explore how to fit this model using both transformation-based and direct nonlinear regression approaches."
      ]
    },
    {
      "cell_type": "markdown",
      "metadata": {
        "id": "pwYtzuxMNUtw"
      },
      "source": [
        "## Setup and Imports\n",
        "\n",
        "Let's import the necessary libraries and set up our experimental data:"
      ]
    },
    {
      "cell_type": "code",
      "execution_count": null,
      "metadata": {
        "id": "xS6_mreINUtw"
      },
      "outputs": [],
      "source": [
        "import numpy as np\n",
        "from scipy import optimize\n",
        "import matplotlib.pyplot as plt\n",
        "\n",
        "# Experimental data\n",
        "c = np.array([0.5, 0.8, 1.5, 2.5, 4.0])  # Substrate concentration (mg/L)\n",
        "k = np.array([1.0, 2.5, 5.1, 7.3, 9.1])  # Growth rate (number/day)"
      ]
    },
    {
      "cell_type": "markdown",
      "metadata": {
        "id": "XCM_KOoCNUtx"
      },
      "source": [
        "## Task 1: Linear Regression on Transformed Data\n",
        "\n",
        "One approach to fitting nonlinear models is to transform them into a linear form that can be analyzed using simple linear regression.\n",
        "\n",
        "### Step 1: Transform the Equation\n",
        "\n",
        "Our original model is: $k = k_{max} \\frac{c^2}{c_s + c^2}$\n",
        "\n",
        "To transform this into a linear relationship, let's start by taking the reciprocal of both sides:\n",
        "\n",
        "$$\\frac{1}{k} = \\frac{c_s + c^2}{k_{max} \\cdot c^2} = \\frac{c_s}{k_{max} \\cdot c^2} + \\frac{1}{k_{max}}$$\n",
        "\n",
        "This gives us:\n",
        "\n",
        "$$\\frac{1}{k} = \\frac{c_s}{k_{max}} \\cdot \\frac{1}{c^2} + \\frac{1}{k_{max}}$$\n",
        "\n",
        "Which is in the form $y = m \\cdot x + b$ where:\n",
        "- $y = \\frac{1}{k}$\n",
        "- $x = \\frac{1}{c^2}$\n",
        "- $m = \\frac{c_s}{k_{max}}$\n",
        "- $b = \\frac{1}{k_{max}}$\n",
        "\n",
        "### Step 2: Perform Linear Regression\n",
        "\n",
        "Now let's use `numpy.polyfit` to find the linear relationship between $\\frac{1}{c^2}$ and $\\frac{1}{k}$:"
      ]
    },
    {
      "cell_type": "code",
      "execution_count": null,
      "metadata": {
        "id": "gzkfzKKHNUty"
      },
      "outputs": [],
      "source": [
        "# Calculate transformed variables for linear regression\n",
        "x_transformed = 1 / c**2  # 1/c^2\n",
        "y_transformed = 1 / k     # 1/k\n",
        "\n",
        "# Perform linear regression using numpy.polyfit\n",
        "# polyfit returns [m, b] for the line y = m*x + b\n",
        "p = np.polyfit(x_transformed, y_transformed, 1)\n",
        "\n",
        "# Extract the slope (m) and intercept (b)\n",
        "m, b = p\n",
        "print(f\"Linear regression results: y = {m:.4f}x + {b:.4f}\")\n",
        "\n",
        "# Calculate the original model parameters\n",
        "kmax1 = 1 / b\n",
        "cs1 = m * kmax1\n",
        "\n",
        "print(f\"Derived model parameters:\")\n",
        "print(f\"kmax = {kmax1:.4f}\")\n",
        "print(f\"cs = {cs1:.4f}\")"
      ]
    },
    {
      "cell_type": "markdown",
      "metadata": {
        "id": "1u5GwO0KNUty"
      },
      "source": [
        "### Step 3: Visualize the Fit\n",
        "\n",
        "Let's define a function for our bacterial growth model and plot the fitted curve along with the original data:"
      ]
    },
    {
      "cell_type": "code",
      "execution_count": null,
      "metadata": {
        "id": "SwOSiG0ENUtz"
      },
      "outputs": [],
      "source": [
        "def kmodel(c, kmax, cs):\n",
        "    \"\"\"Growth rate model: k = kmax * c^2 / (cs + c^2)\"\"\"\n",
        "    return kmax * c**2 / (cs + c**2)\n",
        "\n",
        "# Create a range of concentrations for smooth curve plotting\n",
        "c_model = np.linspace(0, 5, 100)\n",
        "\n",
        "# Calculate predicted growth rates using our fitted parameters\n",
        "k_pred1 = kmodel(c_model, kmax1, cs1)\n",
        "\n",
        "# Plot the results\n",
        "plt.figure(figsize=(10, 6))\n",
        "plt.plot(c, k, 'ko', label='Experimental data')\n",
        "plt.plot(c_model, k_pred1, 'r-', label='Linear regression (transformed)')\n",
        "plt.xlabel('Substrate Concentration (mg/L)')\n",
        "plt.ylabel('Growth Rate (number/day)')\n",
        "plt.title('Bacterial Growth Model - Linear Regression on Transformed Data')\n",
        "plt.legend()\n",
        "plt.grid(True)\n",
        "plt.show()"
      ]
    },
    {
      "cell_type": "markdown",
      "metadata": {
        "id": "ezFwFgofNUtz"
      },
      "source": [
        "## Task 2: Nonlinear Regression using scipy.optimize.minimize\n",
        "\n",
        "Instead of transforming the model, we can directly fit the nonlinear model by minimizing the squared norm of residuals using `scipy.optimize.minimize`.\n",
        "\n",
        "### Step 1: Define the Squared Norm of Residuals Function\n",
        "\n",
        "We need to define a function that calculates the squared norm of residuals (sum of squared differences) between our model predictions and the experimental data. Think of this as the squared Euclidean distance between our model vector and the data vector.\n",
        "\n",
        "Your task is to implement this function following these guidelines:"
      ]
    },
    {
      "cell_type": "code",
      "execution_count": null,
      "metadata": {
        "id": "fkbPYy7tNUtz"
      },
      "outputs": [],
      "source": [
        "def residual_norm_squared(params, c_data, k_data):\n",
        "    \"\"\"Calculate the squared norm of residuals between model and data\n",
        "\n",
        "    Parameters:\n",
        "    -----------\n",
        "    params : array-like\n",
        "        Model parameters [kmax, cs]\n",
        "    c_data : array-like\n",
        "        Substrate concentration data\n",
        "    k_data : array-like\n",
        "        Growth rate data\n",
        "\n",
        "    Returns:\n",
        "    --------\n",
        "    float\n",
        "        Squared norm of residuals\n",
        "    \"\"\"\n",
        "    # Extract the model parameters from the params array\n",
        "    # Remember that params[0] is kmax and params[1] is cs\n",
        "\n",
        "    # Calculate the predicted k values using the kmodel function\n",
        "    # defined earlier and the current parameter estimates\n",
        "\n",
        "    # Calculate the residuals (difference between observed and predicted values)\n",
        "\n",
        "    # Return the squared norm of residuals (sum of squared residuals)\n",
        "    # Hint: You can use np.sum()\n",
        "\n",
        "    pass  # Replace with your implementation"
      ]
    },
    {
      "cell_type": "markdown",
      "metadata": {
        "id": "E_wztsVFNUt0"
      },
      "source": [
        "### Step 2: Perform Nonlinear Regression using minimize\n",
        "\n",
        "Now let's use `scipy.optimize.minimize` to find the parameter values that minimize the squared norm of residuals:"
      ]
    },
    {
      "cell_type": "code",
      "execution_count": null,
      "metadata": {
        "id": "Sr1KouplNUt1"
      },
      "outputs": [],
      "source": [
        "# Initial guess for parameters [kmax, cs]\n",
        "initial_guess = [1.0, 1.0]\n",
        "\n",
        "# Perform the optimization\n",
        "result = optimize.minimize(residual_norm_squared, initial_guess,\n",
        "                          args=(c, k),\n",
        "                          method='Nelder-Mead',\n",
        "                          tol=1e-8)\n",
        "\n",
        "# Extract the optimized parameters\n",
        "kmax2, cs2 = result.x\n",
        "\n",
        "print(f\"Optimization result: {result.message}\")\n",
        "print(f\"Number of function evaluations: {result.nfev}\")\n",
        "print(f\"\\nOptimized parameters:\")\n",
        "print(f\"kmax = {kmax2:.4f}\")\n",
        "print(f\"cs = {cs2:.4f}\")\n",
        "\n",
        "# Add this fit to our plot\n",
        "k_pred2 = kmodel(c_model, kmax2, cs2)\n",
        "\n",
        "plt.figure(figsize=(10, 6))\n",
        "plt.plot(c, k, 'ko', label='Experimental data')\n",
        "plt.plot(c_model, k_pred1, 'r-', label='Linear regression (transformed)')\n",
        "plt.plot(c_model, k_pred2, 'b--', label='Nonlinear regression (minimize)')\n",
        "plt.xlabel('Substrate Concentration (mg/L)')\n",
        "plt.ylabel('Growth Rate (number/day)')\n",
        "plt.title('Bacterial Growth Model - Comparison of Fitting Methods')\n",
        "plt.legend()\n",
        "plt.grid(True)\n",
        "plt.show()"
      ]
    },
    {
      "cell_type": "markdown",
      "metadata": {
        "id": "_PF_5gYRNUt1"
      },
      "source": [
        "## Task 3: Nonlinear Regression using scipy.optimize.curve_fit\n",
        "\n",
        "SciPy provides a more specialized function `curve_fit` for directly fitting a function to data. Let's implement this approach:"
      ]
    },
    {
      "cell_type": "code",
      "execution_count": null,
      "metadata": {
        "id": "ehwW4BEeNUt1"
      },
      "outputs": [],
      "source": [
        "# Perform curve fitting\n",
        "# curve_fit automatically minimizes the sum of squared residuals\n",
        "popt, pcov = optimize.curve_fit(kmodel, c, k, p0=[1.0, 1.0])\n",
        "\n",
        "# Extract the optimized parameters\n",
        "kmax3, cs3 = popt\n",
        "\n",
        "# Calculate the standard deviations of the parameters\n",
        "perr = np.sqrt(np.diag(pcov))\n",
        "\n",
        "print(f\"Optimized parameters (curve_fit):\")\n",
        "print(f\"kmax = {kmax3:.4f} ± {perr[0]:.4f}\")\n",
        "print(f\"cs = {cs3:.4f} ± {perr[1]:.4f}\")\n",
        "\n",
        "# Add this fit to our plot\n",
        "k_pred3 = kmodel(c_model, kmax3, cs3)\n",
        "\n",
        "plt.figure(figsize=(10, 6))\n",
        "plt.plot(c, k, 'ko', label='Experimental data')\n",
        "plt.plot(c_model, k_pred1, 'r-', label='Linear regression (transformed)')\n",
        "plt.plot(c_model, k_pred2, 'b--', label='Nonlinear regression (minimize)')\n",
        "plt.plot(c_model, k_pred3, 'g-.', label='Nonlinear regression (curve_fit)')\n",
        "plt.xlabel('Substrate Concentration (mg/L)')\n",
        "plt.ylabel('Growth Rate (number/day)')\n",
        "plt.title('Bacterial Growth Model - Comparison of Three Fitting Methods')\n",
        "plt.legend()\n",
        "plt.grid(True)\n",
        "plt.show()"
      ]
    },
    {
      "cell_type": "markdown",
      "metadata": {
        "id": "4p-bHdePNUt1"
      },
      "source": [
        "## Task 4: Fit Quality Statistics\n",
        "\n",
        "To evaluate and compare the quality of our fits, we'll calculate two important statistics for each method:\n",
        "\n",
        "1. **Coefficient of Determination (R²)**: Measures the proportion of variance in the dependent variable that is predictable from the independent variable(s).\n",
        "   $$R^2 = 1 - \\frac{S_r}{S_t}$$\n",
        "   \n",
        "   where:\n",
        "   - $S_r = \\sum_i (y_i - f_i)^2$ is the sum of squares of residuals\n",
        "   - $S_t = \\sum_i (y_i - \\bar{y})^2$ is the total sum of squares\n",
        "   - $y_i$ are the observed values\n",
        "   - $f_i$ are the predicted values\n",
        "   - $\\bar{y}$ is the mean of the observed data\n",
        "\n",
        "2. **Standard Error of the Estimate (Syx)**: Represents the average distance that the observed values fall from the regression line.\n",
        "   $$S_{yx} = \\sqrt{\\frac{S_r}{n-p}}$$\n",
        "   \n",
        "   where:\n",
        "   - $n$ is the number of observations\n",
        "   - $p$ is the number of parameters in the model\n",
        "\n",
        "### Implement a Function to Calculate Fit Quality Statistics\n",
        "\n",
        "Your task is to implement a function that calculates these statistics for any model and dataset. This function will be useful not only for this worksheet but also for future assignments involving curve fitting."
      ]
    },
    {
      "cell_type": "code",
      "execution_count": null,
      "metadata": {
        "id": "0lwnwAdcNUt2"
      },
      "outputs": [],
      "source": [
        "def fit_quality_stats(y_observed, y_predicted, num_params):\n",
        "    \"\"\"Calculate fit quality statistics for a model\n",
        "\n",
        "    Parameters:\n",
        "    -----------\n",
        "    y_observed : array-like\n",
        "        Observed data values\n",
        "    y_predicted : array-like\n",
        "        Model predicted values\n",
        "    num_params : int\n",
        "        Number of parameters in the model\n",
        "\n",
        "    Returns:\n",
        "    --------\n",
        "    tuple\n",
        "        (r_squared, standard_error)\n",
        "    \"\"\"\n",
        "    # Calculate the mean of the observed data\n",
        "\n",
        "    # Calculate the total sum of squares (S_t)\n",
        "    # Hint: This is the sum of squared deviations from the mean\n",
        "\n",
        "    # Calculate the sum of squares of residuals (S_r)\n",
        "    # Hint: This is the sum of squared differences between observed and predicted values\n",
        "\n",
        "    # Calculate the coefficient of determination (R²)\n",
        "    # R² = 1 - S_r/S_t\n",
        "\n",
        "    # Calculate the standard error of the estimate (Syx)\n",
        "    # Syx = sqrt(S_r/(n-p)) where n is the number of data points and p is the number of parameters\n",
        "\n",
        "    # Return the fit quality statistics as a tuple\n",
        "    pass  # Replace with your implementation\n",
        "\n",
        "# Now let's use this function to evaluate all three fitting methods\n",
        "\n",
        "# Calculate predictions for the actual data points (not the smooth curve)\n",
        "k_pred1_actual = kmodel(c, kmax1, cs1)\n",
        "k_pred2_actual = kmodel(c, kmax2, cs2)\n",
        "k_pred3_actual = kmodel(c, kmax3, cs3)\n",
        "\n",
        "# Calculate fit quality statistics for each method\n",
        "# Each model has 2 parameters (kmax and cs)\n",
        "\n",
        "# Your code here to call fit_quality_stats for each method\n",
        "\n",
        "# Create a table of results\n",
        "print(\"Fit Quality Statistics:\")\n",
        "print(\"-\" * 60)\n",
        "print(f\"{'Method':<30} {'R²':>10} {'Syx':>10} {'kmax':>10} {'cs':>10}\")\n",
        "print(\"-\" * 60)\n",
        "print(f\"{'Linear Regression (transformed)':<30} {r_squared1:10.4f} {syx1:10.4f} {kmax1:10.4f} {cs1:10.4f}\")\n",
        "print(f\"{'Nonlinear Regression (minimize)':<30} {r_squared2:10.4f} {syx2:10.4f} {kmax2:10.4f} {cs2:10.4f}\")\n",
        "print(f\"{'Nonlinear Regression (curve_fit)':<30} {r_squared3:10.4f} {syx3:10.4f} {kmax3:10.4f} {cs3:10.4f}\")\n",
        "print(\"-\" * 60)\n",
        "\n",
        "# Plot residuals (observed - predicted)\n",
        "residuals1 = k - k_pred1_actual\n",
        "residuals2 = k - k_pred2_actual\n",
        "residuals3 = k - k_pred3_actual\n",
        "\n",
        "plt.figure(figsize=(10, 6))\n",
        "plt.plot(c, residuals1, 'ro-', label='Linear regression (transformed)')\n",
        "plt.plot(c, residuals2, 'bs-', label='Nonlinear regression (minimize)')\n",
        "plt.plot(c, residuals3, 'g^-', label='Nonlinear regression (curve_fit)')\n",
        "plt.axhline(y=0, color='k', linestyle='--')\n",
        "plt.xlabel('Substrate Concentration (mg/L)')\n",
        "plt.ylabel('Residuals (observed - predicted)')\n",
        "plt.title('Residuals for Different Fitting Methods')\n",
        "plt.legend()\n",
        "plt.grid(True)\n",
        "plt.show()"
      ]
    },
    {
      "cell_type": "markdown",
      "metadata": {
        "id": "KnUgoYE8NUt2"
      },
      "source": [
        "## Task 5: Discussion and Reflection\n",
        "\n",
        "Based on the curve fitting results and quality statistics, consider and respond to the following questions:\n",
        "\n",
        "1. **Comparison of Methods**: Compare the three fitting methods (transformed linear regression, nonlinear regression with minimize, and nonlinear regression with curve_fit) in terms of:\n",
        "   - Parameter estimates (kmax and cs)\n",
        "   - Fit quality (R² and Syx)\n",
        "   - Ease of implementation\n",
        "   - When might each method be preferred?\n",
        "\n",
        "2. **Transformation Impacts**: How does transforming a nonlinear model to a linear form impact the fitting process? What advantages and disadvantages did you observe?\n",
        "\n",
        "3. **Residuals Analysis**: What can you infer from the patterns in the residuals plot? Are there any trends that indicate potential issues with any of the fitting methods?"
      ]
    },
    {
      "cell_type": "markdown",
      "metadata": {
        "id": "pnL93elHNUt2"
      },
      "source": [
        "Your answers here:"
      ]
    }
  ],
  "metadata": {
    "kernelspec": {
      "display_name": "Python 3 (ipykernel)",
      "language": "python",
      "name": "python3"
    },
    "language_info": {
      "codemirror_mode": {
        "name": "ipython",
        "version": 3
      },
      "file_extension": ".py",
      "mimetype": "text/x-python",
      "name": "python",
      "nbconvert_exporter": "python",
      "pygments_lexer": "ipython3",
      "version": "3.10.12"
    },
    "colab": {
      "provenance": []
    }
  },
  "nbformat": 4,
  "nbformat_minor": 0
}
