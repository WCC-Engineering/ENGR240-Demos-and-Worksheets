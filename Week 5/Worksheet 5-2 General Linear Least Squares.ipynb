{
  "cells": [
    {
      "cell_type": "markdown",
      "metadata": {
        "id": "cZQf9BprNUtt"
      },
      "source": [
        "# ENGR 240: General Linear Least Squares (GLLS)\n",
        "\n",
        "[![Open In Colab](https://colab.research.google.com/assets/colab-badge.svg)](https://colab.research.google.com/github/WCC-Engineering/ENGR240/blob/main/Class%20Demos%20and%20Activities/Week%205/Worksheet%205-2%20General%20Linear%20Least%20Squares.ipynb)\n",
        "\n",
        "## Introduction\n",
        "\n",
        "General Linear Least Squares (GLLS) is a powerful technique for fitting nonlinear models that can be transformed into linear form. In this worksheet, we'll implement this method in Python using NumPy's `np.linalg.lstsq()` function, applying it to a thermistor calibration problem.\n",
        "\n",
        "### Learning Objectives\n",
        "- Understand the principles of General Linear Least Squares\n",
        "- Transform nonlinear models into linear form\n",
        "- Implement GLLS using NumPy's `np.linalg.lstsq()` function\n",
        "- Apply GLLS to a thermistor calibration problem\n",
        "- Evaluate fit quality and visualize results\n",
        "\n",
        "### The Thermistor Calibration Problem\n",
        "\n",
        "Thermistors are temperature-sensing resistors that change resistance with temperature. The relationship between temperature and resistance is nonlinear, but can be modeled using the Steinhart-Hart equation:\n",
        "\n",
        "$$\\frac{1}{T} = A + B\\ln(R) + C[\\ln(R)]^3$$\n",
        "\n",
        "Where:\n",
        "- $T$ is the temperature in Kelvin (or Celsius for our purposes)\n",
        "- $R$ is the resistance in ohms\n",
        "- $A$, $B$, and $C$ are coefficients specific to the thermistor\n",
        "\n",
        "Our goal is to determine the coefficients $A$, $B$, and $C$ that provide the best fit to experimental data.\n",
        "\n",
        "## Understanding General Linear Least Squares (GLLS)\n",
        "\n",
        "GLLS is used to fit models of the form:\n",
        "\n",
        "$$y = \\sum_{j=1}^{m} c_j Z_j(x)$$\n",
        "\n",
        "Where:\n",
        "- $y$ is the dependent variable (possibly transformed)\n",
        "- $x$ is the independent variable\n",
        "- $Z_j(x)$ are basis functions\n",
        "- $c_j$ are the coefficients we want to determine\n",
        "\n",
        "The key insight of GLLS is that while the relationship between $x$ and $y$ might be nonlinear, the relationship between the transformed variables $Z_j(x)$ and a transformation of $y$ can be linear. This allows us to use standard linear least squares techniques.\n",
        "\n",
        "The steps for implementing GLLS are:\n",
        "1. Transform the model into a linear form\n",
        "2. Define the basis functions $Z_j(x)$\n",
        "3. Set up the Z matrix (each column corresponds to a basis function evaluated at all data points)\n",
        "4. Solve the system using linear least squares\n",
        "5. Evaluate the quality of the fit"
      ]
    },
    {
      "cell_type": "markdown",
      "metadata": {
        "id": "pwYtzuxMNUtw"
      },
      "source": [
        "## Setup and Imports\n",
        "\n",
        "Let's import the necessary libraries and set up our experimental data:"
      ]
    },
    {
      "cell_type": "code",
      "execution_count": null,
      "metadata": {
        "id": "xS6_mreINUtw"
      },
      "outputs": [],
      "source": [
        "import numpy as np\n",
        "import matplotlib.pyplot as plt\n",
        "\n",
        "# Sample thermistor data: resistance (ohms) and temperature (Celsius)\n",
        "thermistor_data = np.array([\n",
        "    [4212, 10],\n",
        "    [2815, 20],\n",
        "    [1921, 30],\n",
        "    [1340, 40],\n",
        "    [944, 50],\n",
        "    [682, 60],\n",
        "    [496, 70]\n",
        "])\n",
        "\n",
        "# Extract resistance and temperature data\n",
        "R_data = thermistor_data[:, 0]  # Resistance in ohms\n",
        "T_data = thermistor_data[:, 1]  # Temperature in Celsius\n",
        "\n",
        "print(\"Resistance data (ohms):\", R_data)\n",
        "print(\"Temperature data (°C):\", T_data)"
      ]
    },
    {
      "cell_type": "markdown",
      "metadata": {
        "id": "XCM_KOoCNUtx"
      },
      "source": [
        "## Task 1: Linearize the Model and Define Basis Functions\n",
        "\n",
        "For the thermistor model $T = \\frac{1}{A + B\\ln(R) + C[\\ln(R)]^3}$, we need to linearize it to fit into the GLLS framework.\n",
        "\n",
        "Your tasks:\n",
        "1. Transform the model to express it in a linear form.\n",
        "2. Identify the appropriate dependent variable after transformation.\n",
        "3. Define the basis functions $Z_j(x)$.\n",
        "\n",
        "<details>\n",
        "<summary>Hint</summary>\n",
        "Consider taking the reciprocal of both sides of the equation and see what you get.\n",
        "</details>"
      ]
    },
    {
      "cell_type": "code",
      "execution_count": null,
      "metadata": {
        "id": "gzkfzKKHNUty"
      },
      "outputs": [],
      "source": [
        "# Step 1: Transform the model\n",
        "# Hint: Take the reciprocal of both sides\n",
        "\n",
        "# Step 2: Define the transformed dependent variable\n",
        "# Transformed_y = ?\n",
        "\n",
        "# Step 3: Define the basis functions\n",
        "# Z1(x) = ?\n",
        "# Z2(x) = ?\n",
        "# Z3(x) = ?\n",
        "\n",
        "# Your code here:"
      ]
    },
    {
      "cell_type": "markdown",
      "metadata": {
        "id": "1u5GwO0KNUty"
      },
      "source": [
        "## Task 2: Set Up the Z Matrix\n",
        "\n",
        "Now, we need to set up the Z matrix where each column corresponds to a basis function evaluated at all data points.\n",
        "\n",
        "Your tasks:\n",
        "1. Create the Z matrix with dimensions (n × m), where n is the number of data points and m is the number of basis functions.\n",
        "2. Fill each column with the values of the corresponding basis function evaluated at each data point."
      ]
    },
    {
      "cell_type": "code",
      "execution_count": null,
      "metadata": {
        "id": "SwOSiG0ENUtz"
      },
      "outputs": [],
      "source": [
        "# Create Z matrix\n",
        "# Z = ?\n",
        "\n",
        "# Print Z matrix to verify\n",
        "# print(\"Z matrix shape:\", Z.shape)\n",
        "# print(\"Z matrix:\")\n",
        "# print(Z)\n",
        "\n",
        "# Your code here:"
      ]
    },
    {
      "cell_type": "markdown",
      "metadata": {
        "id": "ezFwFgofNUtz"
      },
      "source": [
        "## Task 3: Solve Using np.linalg.lstsq()\n",
        "\n",
        "Now, we'll use the `np.linalg.lstsq()` function to solve the linear system and find the coefficients.\n",
        "\n",
        "Your tasks:\n",
        "1. Set up the transformed dependent variable vector.\n",
        "2. Use `np.linalg.lstsq()` to find the coefficients.\n",
        "3. Extract the coefficients from the result."
      ]
    },
    {
      "cell_type": "code",
      "execution_count": null,
      "metadata": {
        "id": "fkbPYy7tNUtz"
      },
      "outputs": [],
      "source": [
        "# Create the transformed dependent variable vector\n",
        "# y_transformed = ?\n",
        "\n",
        "# Solve the system using np.linalg.lstsq()\n",
        "# result = np.linalg.lstsq(?, ?, rcond=None)\n",
        "\n",
        "# Extract the coefficients\n",
        "# coefficients = ?\n",
        "\n",
        "# Print the coefficients\n",
        "# print(\"Coefficients (A, B, C):\", coefficients)\n",
        "\n",
        "# Your code here:"
      ]
    },
    {
      "cell_type": "markdown",
      "metadata": {
        "id": "_PF_5gYRNUt1"
      },
      "source": [
        "## Task 4: Calculate Fit Quality Statistics\n",
        "\n",
        "Now, let's evaluate how well our model fits the data. We'll calculate the standard error (Syx) and coefficient of determination (R²).\n",
        "\n",
        "Copy your fit quality statistics function from Worksheet 5-1. If you don't have it, create a function that calculates R² and standard error."
      ]
    },
    {
      "cell_type": "code",
      "execution_count": null,
      "metadata": {
        "id": "ehwW4BEeNUt1"
      },
      "outputs": [],
      "source": [
        "# Copy your fit_quality_stats function from Worksheet 5-1\n",
        "def fit_quality_stats(y_actual, y_predicted):\n",
        "    \"\"\"\n",
        "    Calculate fit quality statistics: R² and standard error.\n",
        "\n",
        "    Parameters:\n",
        "    -----------\n",
        "    y_actual : array-like\n",
        "        Actual values\n",
        "    y_predicted : array-like\n",
        "        Predicted values\n",
        "\n",
        "    Returns:\n",
        "    --------\n",
        "    r_squared : float\n",
        "        Coefficient of determination\n",
        "    std_error : float\n",
        "        Standard error of the estimate\n",
        "    \"\"\"\n",
        "    # Your code from Worksheet 5-1 here\n",
        "    pass\n",
        "\n",
        "# Create a function to predict temperatures using the fitted model\n",
        "def predict_temperature(R, coefficients):\n",
        "    \"\"\"\n",
        "    Predict temperature from resistance using the fitted model.\n",
        "\n",
        "    Parameters:\n",
        "    -----------\n",
        "    R : array-like\n",
        "        Resistance values in ohms\n",
        "    coefficients : array-like\n",
        "        Model coefficients [A, B, C]\n",
        "\n",
        "    Returns:\n",
        "    --------\n",
        "    T : array-like\n",
        "        Predicted temperature values in Celsius\n",
        "    \"\"\"\n",
        "    # Your code here\n",
        "    pass\n",
        "\n",
        "# Calculate predicted temperatures\n",
        "# T_predicted = predict_temperature(R_data, coefficients)\n",
        "\n",
        "# Calculate fit quality statistics\n",
        "# r_squared, std_error = fit_quality_stats(T_data, T_predicted)\n",
        "\n",
        "# Print results\n",
        "# print(f\"R-squared: {r_squared:.4f}\")\n",
        "# print(f\"Standard Error: {std_error:.4f} °C\")\n",
        "\n",
        "# Your code here:"
      ]
    },
    {
      "cell_type": "markdown",
      "metadata": {
        "id": "4p-bHdePNUt1"
      },
      "source": [
        "## Task 5: Visualize the Fit\n",
        "\n",
        "Finally, let's create a visualization to see how well our model fits the data.\n",
        "\n",
        "Your tasks:\n",
        "1. Generate a range of resistance values for smooth plotting.\n",
        "2. Calculate the predicted temperatures for these resistance values.\n",
        "3. Create a scatter plot of the original data.\n",
        "4. Add a line plot of the fitted model.\n",
        "5. Include labels, a legend, and appropriate formatting."
      ]
    },
    {
      "cell_type": "code",
      "execution_count": null,
      "metadata": {
        "id": "0lwnwAdcNUt2"
      },
      "outputs": [],
      "source": [
        "# Generate resistance values for smooth plotting\n",
        "# R_smooth = np.logspace(?, ?, 100)  # Logarithmic spacing works well for thermistor data\n",
        "\n",
        "# Calculate predicted temperatures\n",
        "# T_smooth = predict_temperature(R_smooth, coefficients)\n",
        "\n",
        "# Create a figure\n",
        "# plt.figure(figsize=(10, 6))\n",
        "\n",
        "# Plot original data points\n",
        "# plt.scatter(?, ?, label=?)\n",
        "\n",
        "# Plot fitted curve\n",
        "# plt.plot(?, ?, label=?, color='red')\n",
        "\n",
        "# Add labels and title\n",
        "# plt.xlabel(?)\n",
        "# plt.ylabel(?)\n",
        "# plt.title(?)\n",
        "\n",
        "# Add legend\n",
        "# plt.legend()\n",
        "\n",
        "# Set x-axis to log scale (resistance varies over orders of magnitude)\n",
        "# plt.xscale('log')\n",
        "\n",
        "# Add grid\n",
        "# plt.grid(True, which='both', linestyle='--', alpha=0.7)\n",
        "\n",
        "# Display the plot\n",
        "# plt.show()\n",
        "\n",
        "# Your code here:"
      ]
    },
    {
      "cell_type": "markdown",
      "metadata": {
        "id": "KnUgoYE8NUt2"
      },
      "source": [
        "## Conclusion\n",
        "\n",
        "In this worksheet, you've implemented the General Linear Least Squares method to fit a nonlinear thermistor model. This approach can be applied to many other problems where the model is nonlinear but can be transformed into a linear form.\n",
        "\n",
        "Key takeaways:\n",
        "1. GLLS allows us to use linear least squares techniques for certain nonlinear models.\n",
        "2. The key is transforming the model into a linear form and defining appropriate basis functions.\n",
        "3. NumPy's `np.linalg.lstsq()` function is a powerful tool for solving linear least squares problems.\n",
        "4. Evaluating the fit with statistics and visualization is crucial for assessing model quality.\n",
        "\n",
        "## Discussion Questions\n",
        "\n",
        "1. How would you modify this approach for a different mathematical model?\n",
        "2. What are the advantages and limitations of linearizing a model versus using nonlinear optimization techniques directly as you did in Worksheet 5-1?\n"
      ]
    }
  ],
  "metadata": {
    "kernelspec": {
      "display_name": "Python 3 (ipykernel)",
      "language": "python",
      "name": "python3"
    },
    "language_info": {
      "codemirror_mode": {
        "name": "ipython",
        "version": 3
      },
      "file_extension": ".py",
      "mimetype": "text/x-python",
      "name": "python",
      "nbconvert_exporter": "python",
      "pygments_lexer": "ipython3",
      "version": "3.10.12"
    },
    "colab": {
      "provenance": []
    }
  },
  "nbformat": 4,
  "nbformat_minor": 0
}