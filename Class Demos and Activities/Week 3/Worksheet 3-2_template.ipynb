{
  "cells": [
    {
      "cell_type": "markdown",
      "metadata": {
        "id": "cZQf9BprNUtt"
      },
      "source": [
        "# ENGR 240: Parameters in Roots Problems - Michaelis-Menten Kinetics\n",
        "\n",
        "[![Open In Colab](https://colab.research.google.com/assets/colab-badge.svg)](https://colab.research.google.com/github/WCC-Engineering/ENGR240/blob/main/Class%20Demos%20and%20Activities/Week%203/Worksheet%203-2_template.ipynb)\n",
        "\n",
        "## Introduction\n",
        "\n",
        "In many engineering applications, we encounter nonlinear equations that need to be solved for different parameter values. This worksheet focuses on how to handle changing parameters when using root-finding methods and explores the concept of \"residuals\" in numerical approximations.\n",
        "\n",
        "### Learning Objectives\n",
        "- Implement parameter-passing techniques in root-finding methods\n",
        "- Compare Newton-Raphson method and `scipy.root_scalar` for parametric roots problems\n",
        "- Understand and calculate residuals in numerical approximations\n",
        "- Visualize substrate concentration profiles using the Michaelis-Menten model\n",
        "- Gain programming practice with functions, loops, and arrays\n",
        "\n",
        "### Mathematical Background\n",
        "\n",
        "The **Michaelis-Menten model** describes the kinetics of enzyme-mediated reactions. It is represented by the following equation:\n",
        "\n",
        "$$S = S_0 - v_m t + k_s \\ln\\left(\\frac{S_0}{S}\\right)$$\n",
        "\n",
        "where:\n",
        "- $S$ = substrate concentration (mol/L)\n",
        "- $S_0$ = initial substrate concentration (mol/L) at t = 0\n",
        "- $v_m$ = maximum uptake rate (mol/L/d)\n",
        "- $k_s$ = half saturation constant (mol/L)\n",
        "- $t$ = time (days)\n",
        "\n",
        "For this worksheet, we need to solve for $S$ given specific values of $S_0$, $v_m$, $k_s$, and $t$. Since $S$ appears on both sides of the equation, we can't solve for it directly. Instead, we need to rearrange the equation to find the roots:\n",
        "\n",
        "$$f(S) = S - S_0 + v_m t - k_s \\ln\\left(\\frac{S_0}{S}\\right) = 0$$"
      ]
    },
    {
      "cell_type": "markdown",
      "metadata": {
        "id": "pwYtzuxMNUtw"
      },
      "source": [
        "## Setup and Imports\n",
        "\n",
        "First, let's import the necessary libraries:"
      ]
    },
    {
      "cell_type": "code",
      "execution_count": null,
      "metadata": {
        "id": "xS6_mreINUtw"
      },
      "outputs": [],
      "source": [
        "import numpy as np\n",
        "import matplotlib.pyplot as plt\n",
        "from scipy import optimize\n",
        "import time  # for timing comparison"
      ]
    },
    {
      "cell_type": "markdown",
      "metadata": {
        "id": "XCM_KOoCNUtx"
      },
      "source": [
        "## Newton-Raphson Method with Parameters\n",
        "\n",
        "The Newton-Raphson method is an iterative approach to finding roots. We've previously studied the basic implementation. The method uses the formula:\n",
        "\n",
        "$$x_{n+1} = x_n - \\frac{f(x_n)}{f'(x_n)}$$\n",
        "\n",
        "When working with parameters, we need to modify our implementation to accept additional parameter values.\n",
        "\n",
        "### Implementation with Parameter Passing\n",
        "\n",
        "Let's define our function and its derivative for the Michaelis-Menten model:"
      ]
    },
    {
      "cell_type": "code",
      "execution_count": null,
      "metadata": {
        "id": "gzkfzKKHNUty"
      },
      "outputs": [],
      "source": [
        "def mm_function(S, S0, vm, ks, t):\n",
        "    \"\"\"\n",
        "    Michaelis-Menten function whose root we seek.\n",
        "\n",
        "    Parameters:\n",
        "    -----------\n",
        "    S : float\n",
        "        Substrate concentration (mol/L)\n",
        "    S0 : float\n",
        "        Initial substrate concentration (mol/L)\n",
        "    vm : float\n",
        "        Maximum uptake rate (mol/L/d)\n",
        "    ks : float\n",
        "        Half saturation constant (mol/L)\n",
        "    t : float\n",
        "        Time (days)\n",
        "\n",
        "    Returns:\n",
        "    --------\n",
        "    float : Function value at S\n",
        "    \"\"\"\n",
        "    return S - S0 + vm * t - ks * np.log(S0 / S)"
      ]
    },
    {
      "cell_type": "markdown",
      "metadata": {
        "id": "1u5GwO0KNUty"
      },
      "source": [
        "### Task 1: Derive and Implement the Derivative Function\n",
        "\n",
        "Derive the derivative of the Michaelis-Menten function with respect to S:\n",
        "\n",
        "$$\\frac{d}{dS}\\left[S - S_0 + v_m t - k_s \\ln\\left(\\frac{S_0}{S}\\right)\\right]$$\n",
        "\n",
        "Implement your derived formula in the `mm_derivative` function below. Test your implementation by running the Newton-Raphson method."
      ]
    },
    {
      "cell_type": "code",
      "execution_count": null,
      "metadata": {
        "id": "SwOSiG0ENUtz"
      },
      "outputs": [],
      "source": [
        "# NOTE: You will need to derive and implement the derivative function.\n",
        "# Remove the next line and add your implementation for mm_derivative\n",
        "\n",
        "\"\"\"\n",
        "STUDENT ACTIVITY:\n",
        "1. Derive the derivative of mm_function with respect to S\n",
        "2. Implement the derivative function below\n",
        "\"\"\"\n",
        "\n",
        "def mm_derivative(S, S0, vm, ks, t):\n",
        "    \"\"\"\n",
        "    Derivative of the Michaelis-Menten function with respect to S.\n",
        "\n",
        "    Parameters:\n",
        "    -----------\n",
        "    (Same as mm_function)\n",
        "\n",
        "    Returns:\n",
        "    --------\n",
        "    float : Derivative value at S\n",
        "    \"\"\"\n",
        "    # Replace this with your implementation\n",
        "    pass"
      ]
    },
    {
      "cell_type": "markdown",
      "metadata": {
        "id": "ezFwFgofNUtz"
      },
      "source": [
        "Now let's implement the Newton-Raphson method with parameter passing:"
      ]
    },
    {
      "cell_type": "code",
      "execution_count": null,
      "metadata": {
        "id": "fkbPYy7tNUtz"
      },
      "outputs": [],
      "source": [
        "def newton_raphson(func, dfunc, x0, tol=1e-8, max_iter=100, **params):\n",
        "    \"\"\"\n",
        "    Newton-Raphson method to find a root of a function.\n",
        "\n",
        "    Parameters:\n",
        "    -----------\n",
        "    func : function\n",
        "        Function to find root of\n",
        "    dfunc : function\n",
        "        Derivative of the function\n",
        "    x0 : float\n",
        "        Initial guess\n",
        "    tol : float\n",
        "        Error tolerance\n",
        "    max_iter : int\n",
        "        Maximum number of iterations\n",
        "    **params : dict\n",
        "        Additional parameters to pass to the function\n",
        "\n",
        "    Returns:\n",
        "    --------\n",
        "    tuple : (root, iterations, error, residual)\n",
        "    \"\"\"\n",
        "    x = x0\n",
        "    error = float('inf')\n",
        "    iter_count = 0\n",
        "\n",
        "    while error > tol and iter_count < max_iter:\n",
        "        f_x = func(x, **params)\n",
        "        df_x = dfunc(x, **params)\n",
        "\n",
        "        if df_x == 0:\n",
        "            raise ValueError(\"Derivative is zero. Cannot continue.\")\n",
        "\n",
        "        x_new = x - f_x / df_x\n",
        "\n",
        "        # Calculate relative error\n",
        "        error = abs((x_new - x) / x_new) if x_new != 0 else abs(x_new - x)\n",
        "\n",
        "        x = x_new\n",
        "        iter_count += 1\n",
        "\n",
        "    # Calculate residual - the function value at our solution\n",
        "    residual = abs(func(x, **params))\n",
        "\n",
        "    return x, iter_count, error, residual"
      ]
    },
    {
      "cell_type": "markdown",
      "metadata": {
        "id": "E_wztsVFNUt0"
      },
      "source": [
        "## Using scipy.root_scalar with Parameters\n",
        "\n",
        "SciPy's `root_scalar` function is a powerful tool for finding roots of nonlinear equations. The recommended Brentq method uses an optimized combination of bisection (for reliability) and inverse quadratic interpolation (for speed). This makes it robust for a wide range of problems.\n",
        "\n",
        "### How brentq Works\n",
        "\n",
        "The `fsolve` function is designed to solve systems of nonlinear equations. Its algorithm works as follows:\n",
        "\n",
        "1. It approximates the Jacobian matrix (which contains derivatives) using finite differences\n",
        "2. Uses this approximation to determine a search direction\n",
        "3. Takes steps in that direction, adapting the step size as needed\n",
        "4. Continues iterating until convergence or reaching the maximum iterations\n",
        "\n",
        "### Basic Syntax and Parameters\n",
        "\n",
        "The basic syntax of `fsolve` is:\n",
        "\n",
        "```python\n",
        "result = optimize.fsolve(func, x0, args=(), xtol=1e-08, maxfev=0, ...)\n",
        "```\n",
        "\n",
        "Where:\n",
        "- `func` is the function to find the roots of\n",
        "- `x0` is the initial guess\n",
        "- `args` is a tuple of arguments that will be passed to the function (this is for passing parameters to evaluate your function, not algorithm parameters)\n",
        "- `xtol` is the relative error tolerance (an algorithm parameter)\n",
        "- `maxfev` is the maximum number of function evaluations (an algorithm parameter)\n",
        "\n",
        "#### Algorithm Parameters vs. Function Parameters\n",
        "\n",
        "It's important to distinguish between two types of parameters:\n",
        "\n",
        "1. **Algorithm parameters** - These control how `fsolve` operates, such as:\n",
        "   ```python\n",
        "   # Example of adjusting algorithm parameters\n",
        "   result = optimize.fsolve(func, x0, xtol=1e-10, maxfev=1000, full_output=True)\n",
        "   ```\n",
        "   \n",
        "2. **Function parameters** - These are passed to your function to evaluate it (what this worksheet focuses on):\n",
        "   ```python\n",
        "   # Example of passing parameters to your function\n",
        "   def my_func(x, a, b, c):\n",
        "       return x**2 + a*x + b - c\n",
        "       \n",
        "   # These parameters (5, 3, 10) are passed to my_func as a, b, c\n",
        "   result = optimize.fsolve(my_func, x0=1.0, args=(5, 3, 10))\n",
        "   ```\n",
        "\n",
        "#### When to Use args vs. Alternative Parameter Passing Approaches\n",
        "\n",
        "You might wonder: If `args` can pass parameters to our function, why explore more complex approaches?\n",
        "\n",
        "The `args` parameter in `fsolve` provides a simple way to pass parameters:\n",
        "\n",
        "```python\n",
        "# Using args for parameter passing\n",
        "result = optimize.fsolve(my_func, x0=1.0, args=(5, 3, 10))\n",
        "```\n",
        "\n",
        "However, there are several reasons to consider alternative approaches:\n",
        "\n",
        "1. **Keyword vs. positional arguments**: The `args` approach only passes positional arguments. Our MM function uses keyword arguments (`S0=`, `vm=`, etc.) which are more readable.\n",
        "\n",
        "2. **Parameter order dependency**: With `args`, you must maintain the exact parameter order as defined in the function signature.\n",
        "\n",
        "3. **Changing parameters in loops**: When solving for many different parameter combinations (like our time loop), rebuilding the `args` tuple each time can be cumbersome.\n",
        "\n",
        "4. **Readability**: Lambda functions and wrappers can make the code's intent clearer, especially when only some parameters change while others remain fixed.\n",
        "\n",
        "For this worksheet, we'll explore alternative parameter passing strategies that provide more flexibility and maintainability.\n",
        "\n",
        "Let's see how to implement the first approach:"
      ]
    },
    {
      "cell_type": "code",
      "execution_count": null,
      "metadata": {
        "id": "Sr1KouplNUt1"
      },
      "outputs": [],
      "source": [
        "def solve_with_fsolve(t, S0, vm, ks, x0):\n",
        "    \"\"\"\n",
        "    Solve the Michaelis-Menten equation using scipy.fsolve.\n",
        "\n",
        "    Parameters:\n",
        "    -----------\n",
        "    t : float\n",
        "        Time (days)\n",
        "    S0, vm, ks : float\n",
        "        Model parameters\n",
        "    x0 : float\n",
        "        Initial guess\n",
        "\n",
        "    Returns:\n",
        "    --------\n",
        "    tuple : (root, residual)\n",
        "    \"\"\"\n",
        "    # Lambda function with parameters\n",
        "    f = lambda S: mm_function(S, S0=S0, vm=vm, ks=ks, t=t)\n",
        "\n",
        "    # Solve using fsolve\n",
        "    root = optimize.fsolve(f, x0)[0]\n",
        "\n",
        "    # Calculate residual\n",
        "    residual = abs(f(root))\n",
        "\n",
        "    return root, residual"
      ]
    },
    {
      "cell_type": "markdown",
      "metadata": {
        "id": "_PF_5gYRNUt1"
      },
      "source": [
        "## Problem Setup\n",
        "\n",
        "Let's set up our problem with the following parameters:\n",
        "- Initial substrate concentration (S0) = 10 mol/L\n",
        "- Maximum uptake rate (vm) = 0.5 mol/L/d\n",
        "- Half saturation constant (ks) = 2 mol/L\n",
        "- Time range from 0 to 50 days in steps of 5 days\n",
        "- Use a stopping tolerance of 1e-8 for both methods"
      ]
    },
    {
      "cell_type": "code",
      "execution_count": null,
      "metadata": {
        "id": "ehwW4BEeNUt1"
      },
      "outputs": [],
      "source": [
        "# Set parameters\n",
        "S0 = 10.0  # mol/L\n",
        "vm = 0.5   # mol/L/d\n",
        "ks = 2.0   # mol/L\n",
        "t_values = np.arange(0, 51, 5)  # days\n",
        "\n",
        "# Initial guess for S\n",
        "initial_guess = 0.0001\n",
        "\n",
        "# Define parameter dictionaries for both methods\n",
        "newton_params = {'S0': S0, 'vm': vm, 'ks': ks}\n",
        "fsolve_bracket = [0.0001, 10.01]  # Initial bracket for fsolve"
      ]
    },
    {
      "cell_type": "markdown",
      "metadata": {
        "id": "4p-bHdePNUt1"
      },
      "source": [
        "## Calculating S vs t and Residuals\n",
        "\n",
        "Now, let's calculate S vs t and the associated residuals for both methods.\n",
        "\n",
        "### Task 2: Implement Parameter Looping\n",
        "\n",
        "For this task, you need to:\n",
        "\n",
        "1. Create arrays to store the results\n",
        "2. Loop through each time value\n",
        "3. Call both root-finding methods with the appropriate parameters\n",
        "4. Calculate and store the residuals\n",
        "5. Compare the computation times\n",
        "\n",
        "Start by setting up empty arrays to store your results and then implement a loop to call both root-finding methods for each time value. Your implementation should follow this general structure:\n",
        "\n",
        "```python\n",
        "# Arrays to store results\n",
        "# Your code here\n",
        "\n",
        "# Time execution\n",
        "# Your code here\n",
        "\n",
        "# Loop through each time value\n",
        "# Your code here\n",
        "\n",
        "# Print computation times\n",
        "# Your code here\n",
        "```"
      ]
    },
    {
      "cell_type": "code",
      "execution_count": null,
      "metadata": {
        "id": "0lwnwAdcNUt2"
      },
      "outputs": [],
      "source": [
        "# Your implementation here"
      ]
    },
    {
      "cell_type": "markdown",
      "metadata": {
        "id": "6OjMTgfPNUt2"
      },
      "source": [
        "## Visualizing the Results\n",
        "\n",
        "### Task 3: Create Visualizations\n",
        "\n",
        "Create plots to visualize your results. You should:\n",
        "\n",
        "1. Plot S vs t for both methods\n",
        "2. Plot the residuals vs t for both methods\n",
        "\n",
        "Your implementation should produce informative plots with appropriate labels, titles, and legends."
      ]
    },
    {
      "cell_type": "code",
      "execution_count": null,
      "metadata": {
        "id": "KnUgoYE8NUt2"
      },
      "outputs": [],
      "source": [
        "# Your visualization code here"
      ]
    },
    {
      "cell_type": "markdown",
      "metadata": {
        "id": "pnL93elHNUt2"
      },
      "source": [
        "## Discussion Questions\n",
        "\n",
        "After completing the implementation and visualization tasks, consider the following questions:\n",
        "\n",
        "1. How do the two methods compare in terms of:\n",
        "   - Accuracy (residuals)\n",
        "   - Computational efficiency (execution time)\n",
        "   - Ease of implementation\n",
        "\n",
        "2. How would you modify the code to handle multiple parameter variations (not just time) efficiently?"
      ]
    },
    {
      "cell_type": "markdown",
      "metadata": {
        "id": "be8WatoeNUt3"
      },
      "source": [
        "## Conclusion\n",
        "\n",
        "In this worksheet, we've explored how to handle parameters in root-finding problems using the Newton-Raphson method and `scipy.fsolve`. We've also examined the concept of residuals in numerical approximations and compared the efficiency and accuracy of different approaches.\n",
        "\n",
        "Key takeaways:\n",
        "1. Parameter passing in numerical methods can be handled through function arguments or keyword arguments\n",
        "2. Lambda functions provide a clean way to parameterize functions for `scipy.fsolve`\n",
        "3. Residuals help us understand the accuracy of our numerical solutions\n",
        "4. For complex problems, specialized libraries like SciPy offer robust and efficient solutions\n",
        "\n"
      ]
    }
  ],
  "metadata": {
    "kernelspec": {
      "display_name": "Python 3 (ipykernel)",
      "language": "python",
      "name": "python3"
    },
    "language_info": {
      "codemirror_mode": {
        "name": "ipython",
        "version": 3
      },
      "file_extension": ".py",
      "mimetype": "text/x-python",
      "name": "python",
      "nbconvert_exporter": "python",
      "pygments_lexer": "ipython3",
      "version": "3.10.12"
    },
    "colab": {
      "provenance": []
    }
  },
  "nbformat": 4,
  "nbformat_minor": 0
}