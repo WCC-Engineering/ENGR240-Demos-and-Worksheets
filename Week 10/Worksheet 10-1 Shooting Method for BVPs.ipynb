{
  "cells": [
    {
      "cell_type": "markdown",
      "metadata": {
        "id": "ShootingMethodIntro"
      },
      "source": [
        "# ENGR 240: Linear Shooting Method for Boundary Value Problems\n",
        "\n",
        "[![Open In Colab](https://colab.research.google.com/assets/colab-badge.svg)](https://colab.research.google.com/github/WCC-Engineering/ENGR240/blob/main/Class%20Demos%20and%20Activities/Week%2010/Worksheet%2010-1%20Shooting%20Method%20CPU%20Heat%20Sink.ipynb)\n",
        "\n",
        "## Introduction: CPU Heat Sink Fin Analysis\n",
        "\n",
        "Modern CPUs generate significant heat and require efficient cooling to prevent thermal damage. Heat sink fins are critical components that extend the surface area for heat dissipation. In this worksheet, we'll analyze the temperature distribution along a single aluminum fin using the **shooting method** for boundary value problems.\n",
        "\n",
        "### Physical System\n",
        "\n",
        "**Heat Sink Fin Specifications:**\n",
        "- **Material**: Aluminum (k = 205 W/m·K)\n",
        "- **Length**: 50 mm (0.05 m)\n",
        "- **Cross-section**: Rectangular, 2mm × 10mm\n",
        "- **Base temperature**: 70°C (constant, maintained by heat sink base)\n",
        "- **Ambient temperature**: 25°C\n",
        "- **Heat generation**: Internal heating from adjacent fins and electrical resistance\n",
        "\n",
        "### Mathematical Model\n",
        "\n",
        "The steady-state heat equation with internal heat generation:\n",
        "$$\\frac{d^2T}{dx^2} + \\frac{q}{k} = 0$$\n",
        "\n",
        "**Boundary Conditions:**\n",
        "- **Base (x = 0)**: Fixed temperature $T(0) = 70°C$\n",
        "- **Tip (x = L)**: Convective cooling $-k\\frac{dT}{dx}\\bigg|_{x=L} = h(T_L - T_{amb})$\n",
        "\n",
        "**Learning Objectives:**\n",
        "- Convert 2nd-order BVP to system of 1st-order ODEs\n",
        "- Implement linear shooting method with two initial guesses\n",
        "- Use linear interpolation to satisfy boundary conditions\n",
        "- Analyze temperature distribution in engineering systems"
      ]
    },
    {
      "cell_type": "code",
      "execution_count": null,
      "metadata": {
        "id": "imports"
      },
      "outputs": [],
      "source": [
        "import numpy as np\n",
        "import matplotlib.pyplot as plt\n",
        "from scipy.integrate import solve_ivp\n",
        "\n",
        "plt.style.use('seaborn-v0_8-whitegrid')\n",
        "plt.rcParams['figure.figsize'] = [12, 8]\n",
        "print(\"Libraries imported successfully!\")"
      ]
    },
    {
      "cell_type": "markdown",
      "metadata": {
        "id": "Parameters"
      },
      "source": [
        "## System Parameters"
      ]
    },
    {
      "cell_type": "code",
      "execution_count": null,
      "metadata": {
        "id": "parameters"
      },
      "outputs": [],
      "source": [
        "# Physical parameters\n",
        "L = 0.05          # Fin length (m)\n",
        "k = 205           # Thermal conductivity of aluminum (W/m·K)\n",
        "h = 50            # Convection coefficient (W/m²·K)\n",
        "q_gen = 2e6       # Internal heat generation (W/m³)\n",
        "T_base = 70       # Base temperature (°C)\n",
        "T_amb = 25        # Ambient temperature (°C)\n",
        "\n",
        "# Display parameters\n",
        "print(\"=== CPU Heat Sink Fin Parameters ===\")\n",
        "print(f\"Length: {L*1000:.0f} mm\")\n",
        "print(f\"Material: Aluminum (k = {k} W/m·K)\")\n",
        "print(f\"Base temperature: {T_base}°C\")\n",
        "print(f\"Ambient temperature: {T_amb}°C\")\n",
        "print(f\"Convection coefficient: {h} W/m²·K\")\n",
        "print(f\"Internal heat generation: {q_gen/1e6:.1f} MW/m³\")"
      ]
    },
    {
      "cell_type": "markdown",
      "metadata": {
        "id": "Task1"
      },
      "source": [
        "## Task 1: Converting BVP to System of First-Order ODEs\n",
        "\n",
        "The second-order BVP must be converted to a system of first-order ODEs for numerical solution.\n",
        "\n",
        "**Original equation**: $\\frac{d^2T}{dx^2} + \\frac{q}{k} = 0$\n",
        "\n",
        "**Define state variables:**\n",
        "- $y_1 = T$ (temperature)\n",
        "- $y_2 = \\frac{dT}{dx}$ (temperature gradient)\n",
        "\n",
        "**First-order system:**\n",
        "- $\\frac{dy_1}{dx} = y_2$\n",
        "- $\\frac{dy_2}{dx} = -\\frac{q}{k}$"
      ]
    },
    {
      "cell_type": "code",
      "execution_count": null,
      "metadata": {
        "id": "ode_system"
      },
      "outputs": [],
      "source": [
        "def heat_fin_ode(x, y):\n",
        "    \"\"\"\n",
        "    Heat transfer ODE system for CPU fin.\n",
        "    \n",
        "    Args:\n",
        "        x: Position along fin (m)\n",
        "        y: State vector [T, dT/dx]\n",
        "    \n",
        "    Returns:\n",
        "        dydt: Derivatives [dT/dx, d²T/dx²]\n",
        "    \"\"\"\n",
        "    T, dT_dx = y[0], y[1]\n",
        "    \n",
        "    # First-order system\n",
        "    dT_dt = dT_dx                    # dy1/dx = y2\n",
        "    d2T_dx2 = -q_gen / k            # dy2/dx = -q/k\n",
        "    \n",
        "    return [dT_dt, d2T_dx2]\n",
        "\n",
        "# Test the ODE function\n",
        "test_y = [60, -100]  # Test state: T=60°C, dT/dx=-100 K/m\n",
        "test_derivs = heat_fin_ode(0.01, test_y)\n",
        "print(f\"Test derivatives: {test_derivs}\")\n",
        "print(f\"dT/dx = {test_derivs[0]} K/m\")\n",
        "print(f\"d²T/dx² = {test_derivs[1]} K/m²\")"
      ]
    },
    {
      "cell_type": "markdown",
      "metadata": {
        "id": "Task2"
      },
      "source": [
        "## Task 2: Understanding the Boundary Value Problem\n",
        "\n",
        "Before implementing the shooting method, let's see what happens when we try to solve this as a simple IVP with different guesses for the initial slope."
      ]
    },
    {
      "cell_type": "code",
      "execution_count": null,
      "metadata": {
        "id": "boundary_exploration"
      },
      "outputs": [],
      "source": [
        "# Function to calculate the boundary condition error at x = L\n",
        "def convective_bc_error(T_L, dT_dx_L):\n",
        "    \"\"\"\n",
        "    Calculate the error in the convective boundary condition.\n",
        "    \n",
        "    Boundary condition: -k * dT/dx|_L = h * (T_L - T_amb)\n",
        "    Error = actual_flux - required_flux\n",
        "    \"\"\"\n",
        "    actual_flux = -k * dT_dx_L\n",
        "    required_flux = h * (T_L - T_amb)\n",
        "    return actual_flux - required_flux\n",
        "\n",
        "# Try several different initial slopes\n",
        "initial_slopes = [-200, -500, -800, -1000, -1200]  # Initial guesses for dT/dx at x=0\n",
        "x_span = (0, L)\n",
        "x_eval = np.linspace(0, L, 100)\n",
        "\n",
        "print(\"=== Exploring Different Initial Slopes ===\")\n",
        "solutions = []\n",
        "\n",
        "for slope in initial_slopes:\n",
        "    # Initial conditions: T(0) = T_base, dT/dx(0) = slope\n",
        "    y0 = [T_base, slope]\n",
        "    \n",
        "    # Solve the IVP\n",
        "    sol = solve_ivp(heat_fin_ode, x_span, y0, t_eval=x_eval, method='RK45')\n",
        "    \n",
        "    # Check boundary condition at tip\n",
        "    T_tip = sol.y[0, -1]\n",
        "    dT_dx_tip = sol.y[1, -1]\n",
        "    bc_error = convective_bc_error(T_tip, dT_dx_tip)\n",
        "    \n",
        "    solutions.append({\n",
        "        'slope': slope,\n",
        "        'x': sol.t,\n",
        "        'T': sol.y[0],\n",
        "        'dT_dx': sol.y[1],\n",
        "        'T_tip': T_tip,\n",
        "        'bc_error': bc_error\n",
        "    })\n",
        "    \n",
        "    print(f\"Initial slope: {slope:5.0f} K/m → Tip temp: {T_tip:5.1f}°C, BC error: {bc_error:8.1f} W/m²\")\n",
        "\n",
        "print(f\"\\nTarget: Find the slope that makes BC error ≈ 0\")"
      ]
    },
    {
      "cell_type": "code",
      "execution_count": null,
      "metadata": {
        "id": "plot_exploration"
      },
      "outputs": [],
      "source": [
        "# Plot the different temperature profiles\n",
        "fig, (ax1, ax2) = plt.subplots(1, 2, figsize=(15, 6))\n",
        "\n",
        "# Temperature profiles\n",
        "for sol in solutions:\n",
        "    ax1.plot(sol['x']*1000, sol['T'], \n",
        "             label=f\"dT/dx₀ = {sol['slope']:.0f} K/m\", linewidth=2)\n",
        "\n",
        "ax1.axhline(T_amb, color='gray', linestyle='--', alpha=0.7, label='Ambient temp')\n",
        "ax1.set_xlabel('Position (mm)')\n",
        "ax1.set_ylabel('Temperature (°C)')\n",
        "ax1.set_title('Temperature Profiles with Different Initial Slopes')\n",
        "ax1.legend()\n",
        "ax1.grid(True, alpha=0.3)\n",
        "\n",
        "# Boundary condition errors\n",
        "slopes = [sol['slope'] for sol in solutions]\n",
        "bc_errors = [sol['bc_error'] for sol in solutions]\n",
        "\n",
        "ax2.plot(slopes, bc_errors, 'bo-', linewidth=2, markersize=8)\n",
        "ax2.axhline(0, color='red', linestyle='--', alpha=0.7, label='Target (BC satisfied)')\n",
        "ax2.set_xlabel('Initial Slope dT/dx₀ (K/m)')\n",
        "ax2.set_ylabel('Boundary Condition Error (W/m²)')\n",
        "ax2.set_title('BC Error vs. Initial Slope')\n",
        "ax2.legend()\n",
        "ax2.grid(True, alpha=0.3)\n",
        "\n",
        "plt.tight_layout()\n",
        "plt.show()\n",
        "\n",
        "print(\"\\nObservation: We need to find the initial slope that makes the BC error = 0\")\n",
        "print(\"This is exactly what the shooting method does!\")"
      ]
    },
    {
      "cell_type": "markdown",
      "metadata": {
        "id": "Task3"
      },
      "source": [
        "## Task 3: Linear Shooting Method Implementation\n",
        "\n",
        "For **linear** BVPs, we can use a very efficient approach:\n",
        "1. Make two initial guesses for the unknown boundary condition\n",
        "2. Solve both IVPs\n",
        "3. Use **linear interpolation** to find the correct initial condition\n",
        "\n",
        "This is much more efficient than iterative root-finding methods!"
      ]
    },
    {
      "cell_type": "code",
      "execution_count": null,
      "metadata": {
        "id": "shooting_method"
      },
      "outputs": [],
      "source": [
        "def linear_shooting_method(guess1, guess2):\n",
        "    \"\"\"\n",
        "    Solve the BVP using linear shooting method with two guesses.\n",
        "    \n",
        "    Args:\n",
        "        guess1, guess2: Two initial guesses for dT/dx at x=0\n",
        "    \n",
        "    Returns:\n",
        "        dict: Solution information including correct initial slope\n",
        "    \"\"\"\n",
        "    x_span = (0, L)\n",
        "    x_eval = np.linspace(0, L, 100)\n",
        "    \n",
        "    # Solve with first guess\n",
        "    y0_1 = [T_base, guess1]\n",
        "    sol1 = solve_ivp(heat_fin_ode, x_span, y0_1, t_eval=x_eval, method='RK45')\n",
        "    T_tip_1 = sol1.y[0, -1]\n",
        "    dT_dx_tip_1 = sol1.y[1, -1]\n",
        "    bc_error_1 = convective_bc_error(T_tip_1, dT_dx_tip_1)\n",
        "    \n",
        "    # TODO: Solve with second guess\n",
        "    # Follow the same pattern as above for guess2\n",
        "    y0_2 = [T_base, guess2]\n",
        "    # sol2 = solve_ivp(...)  # Complete this line\n",
        "    # T_tip_2 = ...          # Extract tip temperature\n",
        "    # dT_dx_tip_2 = ...      # Extract tip slope  \n",
        "    # bc_error_2 = ...       # Calculate BC error\n",
        "    \n",
        "    # TODO: Linear interpolation to find correct initial slope\n",
        "    # We want bc_error = 0, so interpolate between the two guesses\n",
        "    # Formula: slope_correct = guess1 + (guess2 - guess1) * (0 - bc_error_1) / (bc_error_2 - bc_error_1)\n",
        "    # slope_correct = ...    # Complete this calculation\n",
        "    \n",
        "    # TODO: Solve with the correct initial slope\n",
        "    # y0_correct = [T_base, slope_correct]\n",
        "    # sol_correct = solve_ivp(...)  # Complete this line\n",
        "    \n",
        "    # TODO: Verify the boundary condition\n",
        "    # T_tip_correct = sol_correct.y[0, -1]\n",
        "    # dT_dx_tip_correct = sol_correct.y[1, -1]\n",
        "    # bc_error_final = convective_bc_error(T_tip_correct, dT_dx_tip_correct)\n",
        "    \n",
        "    # NOTE: Uncomment the return statement below after completing the TODOs\n",
        "    # return {\n",
        "    #     'guess1': guess1,\n",
        "    #     'guess2': guess2,\n",
        "    #     'bc_error_1': bc_error_1,\n",
        "    #     'bc_error_2': bc_error_2,\n",
        "    #     'slope_correct': slope_correct,\n",
        "    #     'x': sol_correct.t,\n",
        "    #     'T': sol_correct.y[0],\n",
        "    #     'dT_dx': sol_correct.y[1],\n",
        "    #     'bc_error_final': bc_error_final,\n",
        "    #     'T_tip': T_tip_correct\n",
        "    # }\n",
        "    \n",
        "    # Temporary return for incomplete function\n",
        "    return {'guess1': guess1, 'guess2': guess2, 'bc_error_1': bc_error_1}\n",
        "\n",
        "# Test the shooting method (will work partially until students complete TODOs)\n",
        "print(\"Testing linear shooting method...\")\n",
        "partial_result = linear_shooting_method(-400, -1000)\n",
        "print(f\"First guess: {partial_result['guess1']} K/m → BC error: {partial_result['bc_error_1']:.1f} W/m²\")\n",
        "print(\"\\nComplete the TODO sections above to implement the full shooting method!\")"
      ]
    },
    {
      "cell_type": "markdown",
      "metadata": {
        "id": "Task4"
      },
      "source": [
        "## Task 4: Solution Analysis (Complete after Task 3)\n",
        "\n",
        "Once you've completed the shooting method implementation, run this cell to analyze the results."
      ]
    },
    {
      "cell_type": "code",
      "execution_count": null,
      "metadata": {
        "id": "solution_analysis"
      },
      "outputs": [],
      "source": [
        "# This cell will work after students complete Task 3\n",
        "print(\"Complete Task 3 to see linear solution analysis!\")\n",
        "print(\"Your plots and engineering metrics will appear here.\")"
      ]
    },
    {
      "cell_type": "markdown",
      "metadata": {
        "id": "Task5"
      },
      "source": [
        "## Task 5: Introducing Nonlinear Effects - Radiation Heat Transfer\n",
        "\n",
        "For high-temperature operation (gaming CPUs, server processors), **radiation** becomes significant alongside convection. This creates a **nonlinear** boundary value problem that cannot be solved with simple linear interpolation.\n",
        "\n",
        "### Nonlinear Heat Equation with Radiation\n",
        "\n",
        "$$\\frac{d^2T}{dx^2} + \\frac{q}{k} - \\frac{\\sigma \\epsilon P}{kA}(T^4 - T_{amb}^4) = 0$$\n",
        "\n",
        "**New terms:**\n",
        "- $\\sigma = 5.67 \\times 10^{-8}$ W/m²·K⁴ (Stefan-Boltzmann constant)\n",
        "- $\\epsilon = 0.05$ (emissivity of polished aluminum)\n",
        "- $P/A$ = perimeter-to-area ratio for rectangular fin\n",
        "- **$T^4$ term makes this nonlinear!**"
      ]
    },
    {
      "cell_type": "code",
      "execution_count": null,
      "metadata": {
        "id": "nonlinear_parameters"
      },
      "outputs": [],
      "source": [
        "# Additional parameters for radiation\n",
        "sigma = 5.67e-8      # Stefan-Boltzmann constant (W/m²·K⁴)\n",
        "epsilon = 0.05       # Emissivity of polished aluminum\n",
        "fin_width = 0.002    # Fin thickness (m)\n",
        "fin_height = 0.010   # Fin height (m)\n",
        "P = 2 * (fin_width + fin_height)  # Perimeter (m)\n",
        "A = fin_width * fin_height         # Cross-sectional area (m²)\n",
        "P_over_A = P / A                   # Perimeter-to-area ratio (1/m)\n",
        "\n",
        "# High-temperature scenario\n",
        "T_base_hot = 150      # High-performance CPU base temperature (°C)\n",
        "T_amb_K = T_amb + 273.15  # Ambient temperature in Kelvin\n",
        "\n",
        "print(\"=== Nonlinear Radiation Model Parameters ===\")\n",
        "print(f\"Fin dimensions: {fin_width*1000:.1f} mm × {fin_height*1000:.1f} mm\")\n",
        "print(f\"Perimeter/Area ratio: {P_over_A:.1f} m⁻¹\")\n",
        "print(f\"Emissivity: {epsilon}\")\n",
        "print(f\"High-temp base: {T_base_hot}°C\")\n",
        "print(f\"Radiation parameter: σε(P/A)/k = {sigma*epsilon*P_over_A/k:.2e} m⁻²K⁻³\")"
      ]
    },
    {
      "cell_type": "code",
      "execution_count": null,
      "metadata": {
        "id": "nonlinear_ode"
      },
      "outputs": [],
      "source": [
        "def heat_fin_ode_nonlinear(x, y):\n",
        "    \"\"\"\n",
        "    Nonlinear heat transfer ODE system with radiation.\n",
        "    \n",
        "    Args:\n",
        "        x: Position along fin (m)\n",
        "        y: State vector [T, dT/dx] where T is in Celsius\n",
        "    \n",
        "    Returns:\n",
        "        dydt: Derivatives [dT/dx, d²T/dx²]\n",
        "    \"\"\"\n",
        "    T_celsius, dT_dx = y[0], y[1]\n",
        "    T_kelvin = T_celsius + 273.15  # Convert to Kelvin for radiation\n",
        "    \n",
        "    # Radiation heat loss term: σε(P/A)(T⁴ - T_amb⁴)\n",
        "    radiation_term = sigma * epsilon * P_over_A * (T_kelvin**4 - T_amb_K**4)\n",
        "    \n",
        "    # Nonlinear ODE: d²T/dx² + q/k - (radiation term)/k = 0\n",
        "    dT_dt = dT_dx                                    # dy1/dx = y2\n",
        "    d2T_dx2 = -q_gen/k + radiation_term/k           # dy2/dx = -q/k + radiation/k\n",
        "    \n",
        "    return [dT_dt, d2T_dx2]\n",
        "\n",
        "# Test the nonlinear ODE function\n",
        "test_y_hot = [120, -500]  # Test state: T=120°C, dT/dx=-500 K/m\n",
        "test_derivs_nonlinear = heat_fin_ode_nonlinear(0.01, test_y_hot)\n",
        "print(f\"Nonlinear ODE test:\")\n",
        "print(f\"Temperature: {test_y_hot[0]}°C = {test_y_hot[0]+273.15}K\")\n",
        "print(f\"dT/dx = {test_derivs_nonlinear[0]} K/m\")\n",
        "print(f\"d²T/dx² = {test_derivs_nonlinear[1]} K/m² (includes radiation effects)\")\n",
        "\n",
        "# Compare radiation vs convection at high temperature\n",
        "T_test = 120  # °C\n",
        "T_test_K = T_test + 273.15\n",
        "conv_loss = h * (T_test - T_amb)\n",
        "rad_loss = sigma * epsilon * (T_test_K**4 - T_amb_K**4)\n",
        "print(f\"\\nAt {T_test}°C:\")\n",
        "print(f\"Convection loss: {conv_loss:.0f} W/m²\")\n",
        "print(f\"Radiation loss: {rad_loss:.0f} W/m²\")\n",
        "print(f\"Radiation is {rad_loss/conv_loss:.1f}x larger than convection!\")"
      ]
    },
    {
      "cell_type": "markdown",
      "metadata": {
        "id": "Task6"
      },
      "source": [
        "## Task 6: Why Linear Interpolation Fails for Nonlinear BVPs\n",
        "\n",
        "Let's see what happens when we try to use linear interpolation on the nonlinear radiation problem."
      ]
    },
    {
      "cell_type": "code",
      "execution_count": null,
      "metadata": {
        "id": "linear_fails"
      },
      "outputs": [],
      "source": [
        "# Modified boundary condition function for nonlinear case\n",
        "def convective_bc_error_nonlinear(T_L, dT_dx_L):\n",
        "    \"\"\"\n",
        "    Calculate the error in the convective boundary condition (nonlinear case).\n",
        "    Same as before - the boundary condition itself is still linear.\n",
        "    \"\"\"\n",
        "    actual_flux = -k * dT_dx_L\n",
        "    required_flux = h * (T_L - T_amb)\n",
        "    return actual_flux - required_flux\n",
        "\n",
        "def try_linear_interpolation_nonlinear(guess1, guess2):\n",
        "    \"\"\"\n",
        "    Attempt linear interpolation on the nonlinear problem.\n",
        "    This will demonstrate why it fails!\n",
        "    \"\"\"\n",
        "    x_span = (0, L)\n",
        "    x_eval = np.linspace(0, L, 100)\n",
        "    \n",
        "    # Solve with first guess (high-temp base)\n",
        "    y0_1 = [T_base_hot, guess1]\n",
        "    sol1 = solve_ivp(heat_fin_ode_nonlinear, x_span, y0_1, t_eval=x_eval, method='RK45')\n",
        "    T_tip_1 = sol1.y[0, -1]\n",
        "    dT_dx_tip_1 = sol1.y[1, -1]\n",
        "    bc_error_1 = convective_bc_error_nonlinear(T_tip_1, dT_dx_tip_1)\n",
        "    \n",
        "    # Solve with second guess\n",
        "    y0_2 = [T_base_hot, guess2]\n",
        "    sol2 = solve_ivp(heat_fin_ode_nonlinear, x_span, y0_2, t_eval=x_eval, method='RK45')\n",
        "    T_tip_2 = sol2.y[0, -1]\n",
        "    dT_dx_tip_2 = sol2.y[1, -1]\n",
        "    bc_error_2 = convective_bc_error_nonlinear(T_tip_2, dT_dx_tip_2)\n",
        "    \n",
        "    # Try linear interpolation (this will be wrong!)\n",
        "    slope_linear = guess1 + (guess2 - guess1) * (0 - bc_error_1) / (bc_error_2 - bc_error_1)\n",
        "    \n",
        "    # Test the \"linear\" prediction\n",
        "    y0_linear = [T_base_hot, slope_linear]\n",
        "    sol_linear = solve_ivp(heat_fin_ode_nonlinear, x_span, y0_linear, t_eval=x_eval, method='RK45')\n",
        "    T_tip_linear = sol_linear.y[0, -1]\n",
        "    dT_dx_tip_linear = sol_linear.y[1, -1]\n",
        "    bc_error_linear = convective_bc_error_nonlinear(T_tip_linear, dT_dx_tip_linear)\n",
        "    \n",
        "    return {\n",
        "        'guess1': guess1, 'bc_error_1': bc_error_1,\n",
        "        'guess2': guess2, 'bc_error_2': bc_error_2,\n",
        "        'slope_linear': slope_linear, 'bc_error_linear': bc_error_linear,\n",
        "        'x': sol_linear.t, 'T': sol_linear.y[0]\n",
        "    }\n",
        "\n",
        "# Test linear interpolation on nonlinear problem\n",
        "print(\"=== Testing Linear Interpolation on Nonlinear Problem ===\")\n",
        "nonlinear_test = try_linear_interpolation_nonlinear(-1000, -2000)\n",
        "\n",
        "print(f\"Guess 1: {nonlinear_test['guess1']} K/m → BC error: {nonlinear_test['bc_error_1']:.1f} W/m²\")\n",
        "print(f\"Guess 2: {nonlinear_test['guess2']} K/m → BC error: {nonlinear_test['bc_error_2']:.1f} W/m²\")\n",
        "print(f\"Linear interpolation predicts slope: {nonlinear_test['slope_linear']:.1f} K/m\")\n",
        "print(f\"Actual BC error with predicted slope: {nonlinear_test['bc_error_linear']:.1f} W/m²\")\n",
        "print(f\"\\n❌ Linear interpolation error: {abs(nonlinear_test['bc_error_linear']):.1f} W/m² (should be ≈ 0)\")\n",
        "print(\"\\n🔍 This demonstrates why we need root-finding for nonlinear BVPs!\")"
      ]
    },
    {
      "cell_type": "markdown",
      "metadata": {
        "id": "Task7"
      },
      "source": [
        "## Task 7: Shooting Method with Root Finding\n",
        "\n",
        "For nonlinear BVPs, we need to use iterative root-finding methods like `scipy.optimize.fsolve` instead of simple linear interpolation."
      ]
    },
    {
      "cell_type": "code",
      "execution_count": null,
      "metadata": {
        "id": "shooting_rootfind"
      },
      "outputs": [],
      "source": [
        "from scipy.optimize import fsolve\n",
        "\n",
        "def shooting_function_nonlinear(initial_slope):\n",
        "    \"\"\"\n",
        "    Shooting function for the nonlinear BVP.\n",
        "    Returns the boundary condition error for a given initial slope.\n",
        "    \"\"\"\n",
        "    x_span = (0, L)\n",
        "    y0 = [T_base_hot, initial_slope[0]]  # fsolve passes array\n",
        "    \n",
        "    # Solve the nonlinear ODE\n",
        "    sol = solve_ivp(heat_fin_ode_nonlinear, x_span, y0, method='RK45', dense_output=True)\n",
        "    \n",
        "    if not sol.success:\n",
        "        return 1e6  # Large error if solution fails\n",
        "    \n",
        "    # Extract final values\n",
        "    T_tip = sol.y[0, -1]\n",
        "    dT_dx_tip = sol.y[1, -1]\n",
        "    \n",
        "    # Return boundary condition error\n",
        "    return convective_bc_error_nonlinear(T_tip, dT_dx_tip)\n",
        "\n",
        "# TODO: Use fsolve to find the correct initial slope\n",
        "print(\"=== Solving Nonlinear BVP with Root Finding ===\")\n",
        "print(\"Using scipy.optimize.fsolve...\")\n",
        "\n",
        "# Initial guess for root finding\n",
        "initial_guess = [-1500]  # Starting guess for dT/dx at x=0\n",
        "\n",
        "# TODO: Complete this line to use fsolve\n",
        "# correct_slope = fsolve(shooting_function_nonlinear, initial_guess)\n",
        "# slope_final = correct_slope[0]\n",
        "\n",
        "# TODO: Solve with the correct slope\n",
        "# x_span = (0, L)\n",
        "# x_eval = np.linspace(0, L, 100)\n",
        "# y0_final = [T_base_hot, slope_final]\n",
        "# sol_final = solve_ivp(heat_fin_ode_nonlinear, x_span, y0_final, t_eval=x_eval, method='RK45')\n",
        "\n",
        "# TODO: Verify the solution\n",
        "# T_tip_final = sol_final.y[0, -1]\n",
        "# dT_dx_tip_final = sol_final.y[1, -1]\n",
        "# bc_error_final = convective_bc_error_nonlinear(T_tip_final, dT_dx_tip_final)\n",
        "\n",
        "print(\"Complete the TODO sections to implement nonlinear shooting method!\")\n",
        "# print(f\"Correct initial slope: {slope_final:.1f} K/m\")\n",
        "# print(f\"Final BC error: {bc_error_final:.2e} W/m² (should be ≈ 0)\")\n",
        "# print(f\"Tip temperature: {T_tip_final:.1f}°C\")"
      ]
    },
    {
      "cell_type": "markdown",
      "metadata": {
        "id": "Task8"
      },
      "source": [
        "## Task 8: Comparing Linear vs Nonlinear Solutions\n",
        "\n",
        "Let's compare the linear (convection only) and nonlinear (convection + radiation) solutions."
      ]
    },
    {
      "cell_type": "code",
      "execution_count": null,
      "metadata": {
        "id": "compare_solutions"
      },
      "outputs": [],
      "source": [
        "# This section will work after students complete previous tasks\n",
        "print(\"=== Comparison: Linear vs Nonlinear Heat Transfer ===\")\n",
        "print(\"Complete Tasks 3 and 7 to see detailed comparison!\")\n",
        "print(\"Your comparison plots will appear here.\")"
      ]
    },
    {
      "cell_type": "markdown",
      "metadata": {
        "id": "Task9"
      },
      "source": [
        "## Task 9: Student Exploration - Method Comparison\n",
        "\n",
        "**Challenge**: Explore when radiation effects become significant and compare solution methods.\n",
        "\n",
        "**Your tasks**:\n",
        "1. Try different base temperatures to see when radiation matters\n",
        "2. Compare computational efficiency: linear interpolation vs root-finding\n",
        "3. Experiment with different emissivity values"
      ]
    },
    {
      "cell_type": "code",
      "execution_count": null,
      "metadata": {
        "id": "student_exploration"
      },
      "outputs": [],
      "source": [
        "# TODO: Student exploration section\n",
        "\n",
        "# 1. Temperature threshold exploration\n",
        "base_temps = [70, 100, 130, 160, 200]  # Different CPU base temperatures (°C)\n",
        "\n",
        "print(\"=== Student Exploration: Temperature Effects ===\")\n",
        "print(\"Base Temp (°C) | Radiation/Convection Ratio at Base\")\n",
        "print(\"-\" * 50)\n",
        "\n",
        "for T_test in base_temps:\n",
        "    T_test_K = T_test + 273.15\n",
        "    conv_at_base = h * (T_test - T_amb)\n",
        "    rad_at_base = sigma * epsilon * (T_test_K**4 - T_amb_K**4)\n",
        "    ratio = rad_at_base / conv_at_base if conv_at_base > 0 else 0\n",
        "    \n",
        "    print(f\"{T_test:8.0f}     | {ratio:8.2f}\")\n",
        "    \n",
        "    if ratio > 0.1:  # Radiation becomes significant\n",
        "        print(f\"         → Radiation significant at {T_test}°C!\")\n",
        "\n",
        "print(\"\\n=== Key Insights ===\")\n",
        "print(\"• Linear shooting: Fast, works for linear BVPs\")\n",
        "print(\"• Root-finding shooting: Slower, required for nonlinear BVPs\")\n",
        "print(\"• Radiation effects: T⁴ dependence makes them significant at high temps\")\n",
        "print(\"• Method selection: Choose based on problem linearity\")\n",
        "\n",
        "# TODO: Try different emissivity values\n",
        "emissivity_values = [0.02, 0.05, 0.10, 0.20]  # Polished to oxidized aluminum\n",
        "print(\"\\n=== Effect of Surface Finish (Emissivity) ===\")\n",
        "for eps in emissivity_values:\n",
        "    T_test = 150  # High-performance CPU temperature\n",
        "    T_test_K = T_test + 273.15\n",
        "    rad_loss = sigma * eps * (T_test_K**4 - T_amb_K**4)\n",
        "    print(f\"ε = {eps:.2f}: Radiation loss = {rad_loss:.0f} W/m²\")\n",
        "\n",
        "print(\"\\n🎯 Engineering Insight: Surface finish dramatically affects cooling!\")"
      ]
    },
    {
      "cell_type": "markdown",
      "metadata": {
        "id": "Discussion"
      },
      "source": [
        "## Discussion Questions\n",
        "\n",
        "1. **Why can't we solve boundary value problems directly like initial value problems?**\n",
        "\n",
        "2. **When does linear interpolation work vs. when do we need root-finding methods?**\n",
        "\n",
        "3. **How does the shooting method 'shoot' from one boundary to satisfy the condition at the other boundary?**\n",
        "\n",
        "4. **For the CPU heat sink application:**\n",
        "   - At what temperature do radiation effects become significant?\n",
        "   - Why does the T⁴ term make the problem nonlinear?\n",
        "   - How would you optimize cooling for different operating conditions?\n",
        "\n",
        "5. **Computational trade-offs:**\n",
        "   - When is the extra computational cost of root-finding justified?\n",
        "   - What are the advantages/disadvantages of each shooting method?\n",
        "\n",
        "6. **Physical insights:**\n",
        "   - Why does radiation dominate at high temperatures?\n",
        "   - How does surface treatment (emissivity) affect heat transfer?\n",
        "\n",
        "## Key Takeaways\n",
        "\n",
        "### Mathematical Concepts\n",
        "- **Linear BVPs**: Use efficient linear interpolation (2 shots)\n",
        "- **Nonlinear BVPs**: Require iterative root-finding methods\n",
        "- **scipy tools**: `solve_ivp` for ODEs, `fsolve` for root-finding\n",
        "- **Method selection**: Problem linearity determines approach\n",
        "\n",
        "### Engineering Applications\n",
        "- **Heat transfer**: Convection vs radiation at different temperatures\n",
        "- **CPU cooling**: Design considerations for high-performance processors\n",
        "- **Surface engineering**: Emissivity effects on thermal performance\n",
        "- **Design optimization**: Balancing multiple heat transfer mechanisms\n",
        "\n",
        "### Computational Methods\n",
        "- **Shooting method**: Converts BVPs to IVPs with parameter adjustment\n",
        "- **Linear interpolation**: Fast, exact for linear problems\n",
        "- **Root-finding**: Essential for nonlinear problems, more computationally expensive\n",
        "- **Error checking**: Always verify boundary conditions are satisfied\n",
        "\n",
        "The shooting method demonstrates how numerical methods must adapt to problem characteristics—linear problems have elegant solutions, while nonlinear problems require more sophisticated approaches. Understanding when to use each method is crucial for efficient engineering analysis!"
      ]
    }
  ],
  "metadata": {
    "kernelspec": {
      "display_name": "Python 3",
      "language": "python",
      "name": "python3"
    },
    "language_info": {
      "codemirror_mode": {
        "name": "ipython",
        "version": 3
      },
      "file_extension": ".py",
      "mimetype": "text/x-python",
      "name": "python",
      "nbconvert_exporter": "python",
      "pygments_lexer": "ipython3",
      "version": "3.10.12"
    },
    "colab": {
      "provenance": []
    }
  },
  "nbformat": 4,
  "nbformat_minor": 0
}
