{
      "cell_type": "markdown",
      "metadata": {
        "id": "Task9"
      },
      "source": [
        "## Task 9: Student Exploration - Method Comparison\n",
        "\n",
        "**Challenge**: Explore when radiation effects become significant and compare solution methods.\n",
        "\n",
        "**Your tasks**:\n",
        "1. Try different base temperatures to see when radiation matters\n",
        "2. Compare computational efficiency: linear interpolation vs root-finding\n",
        "3. Experiment with different emissivity values"
      ]
    },
    {
      "cell_type": "code",
      "execution_count": null,
      "metadata": {
        "id": "student_exploration"
      },
      "outputs": [],
      "source": [
        "# TODO: Student exploration section\n",
        "\n",
        "# 1. Temperature threshold exploration\n",
        "base_temps = [70, 100, 130, 160, 200]  # Different CPU base temperatures (°C)\n",
        "\n",
        "print(\"=== Student Exploration: Temperature Effects ===\")\n",
        "print(\"Base Temp (°C) | Radiation/Convection Ratio at Base\")\n",
        "print(\"-\" * 50)\n",
        "\n",
        "for T_test in base_temps:\n",
        "    T_test_K = T_test + 273.15\n",
        "    conv_at_base = h * (T_test - T_amb)\n",
        "    rad_at_base = sigma * epsilon * (T_test_K**4 - T_amb_K**4)\n",
        "    ratio = rad_at_base / conv_at_base if conv_at_base > 0 else 0\n",
        "    \n",
        "    print(f\"{T_test:8.0f}     | {ratio:8.2f}\")\n",
        "    \n",
        "    if ratio > 0.1:  # Radiation becomes significant\n",
        "        print(f\"         → Radiation significant at {T_test}°C!\")\n",
        "\n",
        "print(\"\\n=== Key Insights ===\")\n",
        "print(\"• Linear shooting: Fast, works for linear BVPs\")\n",
        "print(\"• Root-finding shooting: Slower, required for nonlinear BVPs\")\n{
  "cells": [
    {
      "cell_type": "markdown",
      "metadata": {
        "id": "ShootingMethodIntro"
      },
      "source": [
        "# ENGR 240: Linear Shooting Method for Boundary Value Problems\n",
        "\n",
        "[![Open In Colab](https://colab.research.google.com/assets/colab-badge.svg)](https://colab.research.google.com/github/WCC-Engineering/ENGR240/blob/main/Class%20Demos%20and%20Activities/Week%2010/Worksheet%2010-1%20Shooting%20Method%20CPU%20Heat%20Sink.ipynb)\n",
        "\n",
        "## Introduction: CPU Heat Sink Fin Analysis\n",
        "\n",
        "Modern CPUs generate significant heat and require efficient cooling to prevent thermal damage. Heat sink fins are critical components that extend the surface area for heat dissipation. In this worksheet, we'll analyze the temperature distribution along a single aluminum fin using the **shooting method** for boundary value problems.\n",
        "\n",
        "### Physical System\n",
        "\n",
        "**Heat Sink Fin Specifications:**\n",
        "- **Material**: Aluminum (k = 205 W/m·K)\n",
        "- **Length**: 50 mm (0.05 m)\n",
        "- **Cross-section**: Rectangular, 2mm × 10mm\n",
        "- **Base temperature**: 70°C (constant, maintained by heat sink base)\n",
        "- **Ambient temperature**: 25°C\n",
        "- **Heat generation**: Internal heating from adjacent fins and electrical resistance\n",
        "\n",
        "### Mathematical Model\n",
        "\n",
        "The steady-state heat equation with internal heat generation:\n",
        "$$\\frac{d^2T}{dx^2} + \\frac{q}{k} = 0$$\n",
        "\n",
        "**Boundary Conditions:**\n",
        "- **Base (x = 0)**: Fixed temperature $T(0) = 70°C$\n",
        "- **Tip (x = L)**: Convective cooling $-k\\frac{dT}{dx}\\bigg|_{x=L} = h(T_L - T_{amb})$\n",
        "\n",
        "**Learning Objectives:**\n",
        "- Convert 2nd-order BVP to system of 1st-order ODEs\n",
        "- Implement linear shooting method with two initial guesses\n",
        "- Use linear interpolation to satisfy boundary conditions\n",
        "- Analyze temperature distribution in engineering systems"
      ]
    },
    {
      "cell_type": "code",
      "execution_count": null,
      "metadata": {
        "id": "imports"
      },
      "outputs": [],
      "source": [
        "import numpy as np\n",
        "import matplotlib.pyplot as plt\n",
        "from scipy.integrate import solve_ivp\n",
        "\n",
        "plt.style.use('seaborn-v0_8-whitegrid')\n",
        "plt.rcParams['figure.figsize'] = [12, 8]\n",
        "print(\"Libraries imported successfully!\")"
      ]
    },
    {
      "cell_type": "markdown",
      "metadata": {
        "id": "Parameters"
      },
      "source": [
        "## System Parameters"
      ]
    },
    {
      "cell_type": "code",
      "execution_count": null,
      "metadata": {
        "id": "parameters"
      },
      "outputs": [],
      "source": [
        "# Physical parameters\n",
        "L = 0.05          # Fin length (m)\n",
        "k = 205           # Thermal conductivity of aluminum (W/m·K)\n",
        "h = 50            # Convection coefficient (W/m²·K)\n",
        "q_gen = 2e6       # Internal heat generation (W/m³)\n",
        "T_base = 70       # Base temperature (°C)\n",
        "T_amb = 25        # Ambient temperature (°C)\n",
        "\n",
        "# Display parameters\n",
        "print(\"=== CPU Heat Sink Fin Parameters ===\")\n",
        "print(f\"Length: {L*1000:.0f} mm\")\n",
        "print(f\"Material: Aluminum (k = {k} W/m·K)\")\n",
        "print(f\"Base temperature: {T_base}°C\")\n",
        "print(f\"Ambient temperature: {T_amb}°C\")\n",
        "print(f\"Convection coefficient: {h} W/m²·K\")\n",
        "print(f\"Internal heat generation: {q_gen/1e6:.1f} MW/m³\")"
      ]
    },
    {
      "cell_type": "markdown",
      "metadata": {
        "id": "Task1"
      },
      "source": [
        "## Task 1: Converting BVP to System of First-Order ODEs\n",
        "\n",
        "The second-order BVP must be converted to a system of first-order ODEs for numerical solution.\n",
        "\n",
        "**Original equation**: $\\frac{d^2T}{dx^2} + \\frac{q}{k} = 0$\n",
        "\n",
        "**Define state variables:**\n",
        "- $y_1 = T$ (temperature)\n",
        "- $y_2 = \\frac{dT}{dx}$ (temperature gradient)\n",
        "\n",
        "**First-order system:**\n",
        "- $\\frac{dy_1}{dx} = y_2$\n",
        "- $\\frac{dy_2}{dx} = -\\frac{q}{k}$"
      ]
    },
    {
      "cell_type": "code",
      "execution_count": null,
      "metadata": {
        "id": "ode_system"
      },
      "outputs": [],
      "source": [
        "def heat_fin_ode(x, y):\n",
        "    \"\"\"\n",
        "    Heat transfer ODE system for CPU fin.\n",
        "    \n",
        "    Args:\n",
        "        x: Position along fin (m)\n",
        "        y: State vector [T, dT/dx]\n",
        "    \n",
        "    Returns:\n",
        "        dydt: Derivatives [dT/dx, d²T/dx²]\n",
        "    \"\"\"\n",
        "    T, dT_dx = y[0], y[1]\n",
        "    \n",
        "    # First-order system\n",
        "    dT_dt = dT_dx                    # dy1/dx = y2\n",
        "    d2T_dx2 = -q_gen / k            # dy2/dx = -q/k\n",
        "    \n",
        "    return [dT_dt, d2T_dx2]\n",
        "\n",
        "# Test the ODE function\n",
        "test_y = [60, -100]  # Test state: T=60°C, dT/dx=-100 K/m\n",
        "test_derivs = heat_fin_ode(0.01, test_y)\n",
        "print(f\"Test derivatives: {test_derivs}\")\n",
        "print(f\"dT/dx = {test_derivs[0]} K/m\")\n",
        "print(f\"d²T/dx² = {test_derivs[1]} K/m²\")"
      ]
    },
    {
      "cell_type": "markdown",
      "metadata": {
        "id": "Task2"
      },
      "source": [
        "## Task 2: Understanding the Boundary Value Problem\n",
        "\n",
        "Before implementing the shooting method, let's see what happens when we try to solve this as a simple IVP with different guesses for the initial slope."
      ]
    },
    {
      "cell_type": "code",
      "execution_count": null,
      "metadata": {
        "id": "boundary_exploration"
      },
      "outputs": [],
      "source": [
        "# Function to calculate the boundary condition error at x = L\n",
        "def convective_bc_error(T_L, dT_dx_L):\n",
        "    \"\"\"\n",
        "    Calculate the error in the convective boundary condition.\n",
        "    \n",
        "    Boundary condition: -k * dT/dx|_L = h * (T_L - T_amb)\n",
        "    Error = actual_flux - required_flux\n",
        "    \"\"\"\n",
        "    actual_flux = -k * dT_dx_L\n",
        "    required_flux = h * (T_L - T_amb)\n",
        "    return actual_flux - required_flux\n",
        "\n",
        "# Try several different initial slopes\n",
        "initial_slopes = [-200, -500, -800, -1000, -1200]  # Initial guesses for dT/dx at x=0\n",
        "x_span = (0, L)\n",
        "x_eval = np.linspace(0, L, 100)\n",
        "\n",
        "print(\"=== Exploring Different Initial Slopes ===\")\n",
        "solutions = []\n",
        "\n",
        "for slope in initial_slopes:\n",
        "    # Initial conditions: T(0) = T_base, dT/dx(0) = slope\n",
        "    y0 = [T_base, slope]\n",
        "    \n",
        "    # Solve the IVP\n",
        "    sol = solve_ivp(heat_fin_ode, x_span, y0, t_eval=x_eval, method='RK45')\n",
        "    \n",
        "    # Check boundary condition at tip\n",
        "    T_tip = sol.y[0, -1]\n",
        "    dT_dx_tip = sol.y[1, -1]\n",
        "    bc_error = convective_bc_error(T_tip, dT_dx_tip)\n",
        "    \n",
        "    solutions.append({\n",
        "        'slope': slope,\n",
        "        'x': sol.t,\n",
        "        'T': sol.y[0],\n",
        "        'dT_dx': sol.y[1],\n",
        "        'T_tip': T_tip,\n",
        "        'bc_error': bc_error\n",
        "    })\n",
        "    \n",
        "    print(f\"Initial slope: {slope:5.0f} K/m → Tip temp: {T_tip:5.1f}°C, BC error: {bc_error:8.1f} W/m²\")\n",
        "\n",
        "print(f\"\\nTarget: Find the slope that makes BC error ≈ 0\")"
      ]
    },
    {
      "cell_type": "code",
      "execution_count": null,
      "metadata": {
        "id": "plot_exploration"
      },
      "outputs": [],
      "source": [
        "# Plot the different temperature profiles\n",
        "fig, (ax1, ax2) = plt.subplots(1, 2, figsize=(15, 6))\n",
        "\n",
        "# Temperature profiles\n",
        "for sol in solutions:\n",
        "    ax1.plot(sol['x']*1000, sol['T'], \n",
        "             label=f\"dT/dx₀ = {sol['slope']:.0f} K/m\", linewidth=2)\n",
        "\n",
        "ax1.axhline(T_amb, color='gray', linestyle='--', alpha=0.7, label='Ambient temp')\n",
        "ax1.set_xlabel('Position (mm)')\n",
        "ax1.set_ylabel('Temperature (°C)')\n",
        "ax1.set_title('Temperature Profiles with Different Initial Slopes')\n",
        "ax1.legend()\n",
        "ax1.grid(True, alpha=0.3)\n",
        "\n",
        "# Boundary condition errors\n",
        "slopes = [sol['slope'] for sol in solutions]\n",
        "bc_errors = [sol['bc_error'] for sol in solutions]\n",
        "\n",
        "ax2.plot(slopes, bc_errors, 'bo-', linewidth=2, markersize=8)\n",
        "ax2.axhline(0, color='red', linestyle='--', alpha=0.7, label='Target (BC satisfied)')\n",
        "ax2.set_xlabel('Initial Slope dT/dx₀ (K/m)')\n",
        "ax2.set_ylabel('Boundary Condition Error (W/m²)')\n",
        "ax2.set_title('BC Error vs. Initial Slope')\n",
        "ax2.legend()\n",
        "ax2.grid(True, alpha=0.3)\n",
        "\n",
        "plt.tight_layout()\n",
        "plt.show()\n",
        "\n",
        "print(\"\\nObservation: We need to find the initial slope that makes the BC error = 0\")\n",
        "print(\"This is exactly what the shooting method does!\")"
      ]
    },
    {
      "cell_type": "markdown",
      "metadata": {
        "id": "Task3"
      },
      "source": [
        "## Task 3: Linear Shooting Method Implementation\n",
        "\n",
        "For **linear** BVPs, we can use a very efficient approach:\n",
        "1. Make two initial guesses for the unknown boundary condition\n",
        "2. Solve both IVPs\n",
        "3. Use **linear interpolation** to find the correct initial condition\n",
        "\n",
        "This is much more efficient than iterative root-finding methods!"
      ]
    },
    {
      "cell_type": "code",
      "execution_count": null,
      "metadata": {
        "id": "shooting_method"
      },
      "outputs": [],
      "source": [
        "def linear_shooting_method(guess1, guess2):\n",
        "    \"\"\"\n",
        "    Solve the BVP using linear shooting method with two guesses.\n",
        "    \n",
        "    Args:\n",
        "        guess1, guess2: Two initial guesses for dT/dx at x=0\n",
        "    \n",
        "    Returns:\n",
        "        dict: Solution information including correct initial slope\n",
        "    \"\"\"\n",
        "    x_span = (0, L)\n",
        "    x_eval = np.linspace(0, L, 100)\n",
        "    \n",
        "    # Solve with first guess\n",
        "    y0_1 = [T_base, guess1]\n",
        "    sol1 = solve_ivp(heat_fin_ode, x_span, y0_1, t_eval=x_eval, method='RK45')\n",
        "    T_tip_1 = sol1.y[0, -1]\n",
        "    dT_dx_tip_1 = sol1.y[1, -1]\n",
        "    bc_error_1 = convective_bc_error(T_tip_1, dT_dx_tip_1)\n",
        "    \n",
        "    # TODO: Solve with second guess\n",
        "    # Follow the same pattern as above for guess2\n",
        "    y0_2 = [T_base, guess2]\n",
        "    # sol2 = solve_ivp(...)  # Complete this line\n",
        "    # T_tip_2 = ...          # Extract tip temperature\n",
        "    # dT_dx_tip_2 = ...      # Extract tip slope  \n",
        "    # bc_error_2 = ...       # Calculate BC error\n",
        "    \n",
        "    # TODO: Linear interpolation to find correct initial slope\n",
        "    # We want bc_error = 0, so interpolate between the two guesses\n",
        "    # Formula: slope_correct = guess1 + (guess2 - guess1) * (0 - bc_error_1) / (bc_error_2 - bc_error_1)\n",
        "    # slope_correct = ...    # Complete this calculation\n",
        "    \n",
        "    # TODO: Solve with the correct initial slope\n",
        "    # y0_correct = [T_base, slope_correct]\n",
        "    # sol_correct = solve_ivp(...)  # Complete this line\n",
        "    \n",
        "    # Verify the boundary condition\n",
        "    # T_tip_correct = sol_correct.y[0, -1]\n",
        "    # dT_dx_tip_correct = sol_correct.y[1, -1]\n",
        "    # bc_error_final = convective_bc_error(T_tip_correct, dT_dx_tip_correct)\n",
        "    \n",
        "    return {\n",
        "        'guess1': guess1,\n",
        "        'guess2': guess2,\n",
        "        'bc_error_1': bc_error_1,\n",
        "        'bc_error_2': bc_error_2,\n",
        "        'slope_correct': slope_correct,\n",
        "        'x': sol_correct.t,\n",
        "        'T': sol_correct.y[0],\n",
        "        'dT_dx': sol_correct.y[1],\n",
        "        'bc_error_final': bc_error_final,\n",
        "        'T_tip': T_tip_correct\n",
        "    }\n",
        "\n",
        "# Apply the shooting method\n",
        "result = linear_shooting_method(-400, -1000)\n",
        "\n",
        "print(\"=== Linear Shooting Method Results ===\")\n",
        "print(f\"First guess: {result['guess1']} K/m → BC error: {result['bc_error_1']:.1f} W/m²\")\n",
        "print(f\"Second guess: {result['guess2']} K/m → BC error: {result['bc_error_2']:.1f} W/m²\")\n",
        "print(f\"Correct slope: {result['slope_correct']:.1f} K/m\")\n",
        "print(f\"Final BC error: {result['bc_error_final']:.2e} W/m² (should be ≈ 0)\")\n",
        "print(f\"Tip temperature: {result['T_tip']:.1f}°C\")"
      ]
    },
    {
      "cell_type": "markdown",
      "metadata": {
        "id": "Task4"
      },
      "source": [
        "## Task 4: Solution Analysis and Visualization"
      ]
    },
    {
      "cell_type": "code",
      "execution_count": null,
      "metadata": {
        "id": "solution_analysis"
      },
      "outputs": [],
      "source": [
        "# Create comprehensive plots of the solution\n",
        "fig, ((ax1, ax2), (ax3, ax4)) = plt.subplots(2, 2, figsize=(16, 12))\n",
        "\n",
        "# Temperature profile\n",
        "ax1.plot(result['x']*1000, result['T'], 'b-', linewidth=3, label='CPU Fin Temperature')\n",
        "ax1.axhline(T_amb, color='gray', linestyle='--', alpha=0.7, label='Ambient Temperature')\n",
        "ax1.axhline(T_base, color='red', linestyle='--', alpha=0.7, label='Base Temperature')\n",
        "ax1.set_xlabel('Position (mm)')\n",
        "ax1.set_ylabel('Temperature (°C)')\n",
        "ax1.set_title('Temperature Distribution Along CPU Heat Sink Fin')\n",
        "ax1.legend()\n",
        "ax1.grid(True, alpha=0.3)\n",
        "\n",
        "# Temperature gradient\n",
        "ax2.plot(result['x']*1000, result['dT_dx'], 'r-', linewidth=3)\n",
        "ax2.set_xlabel('Position (mm)')\n",
        "ax2.set_ylabel('Temperature Gradient (K/m)')\n",
        "ax2.set_title('Temperature Gradient Along Fin')\n",
        "ax2.grid(True, alpha=0.3)\n",
        "\n",
        "# Heat flux distribution\n",
        "heat_flux = -k * result['dT_dx']  # Heat flux = -k * dT/dx\n",
        "ax3.plot(result['x']*1000, heat_flux/1000, 'g-', linewidth=3)  # Convert to kW/m²\n",
        "ax3.set_xlabel('Position (mm)')\n",
        "ax3.set_ylabel('Heat Flux (kW/m²)')\n",
        "ax3.set_title('Heat Flux Distribution')\n",
        "ax3.grid(True, alpha=0.3)\n",
        "\n",
        "# Shooting method illustration\n",
        "guesses = [result['guess1'], result['guess2']]\n",
        "errors = [result['bc_error_1'], result['bc_error_2']]\n",
        "ax4.plot(guesses, errors, 'bo-', markersize=10, linewidth=2, label='Initial guesses')\n",
        "ax4.plot(result['slope_correct'], result['bc_error_final'], 'rs', \n",
        "         markersize=12, label='Correct solution')\n",
        "ax4.axhline(0, color='red', linestyle='--', alpha=0.7)\n",
        "ax4.set_xlabel('Initial Slope (K/m)')\n",
        "ax4.set_ylabel('BC Error (W/m²)')\n",
        "ax4.set_title('Linear Interpolation in Shooting Method')\n",
        "ax4.legend()\n",
        "ax4.grid(True, alpha=0.3)\n",
        "\n",
        "plt.tight_layout()\n",
        "plt.show()\n",
        "\n",
        "# TODO: Calculate and display key engineering metrics\n",
        "# max_temp = np.max(result['T'])          # Maximum temperature\n",
        "# max_temp_location = ...                 # Location of maximum temperature (in mm)\n",
        "# heat_input = ...                        # Heat flux at base (W/m²)\n",
        "# heat_output = ...                       # Heat flux at tip (W/m²)\n",
        "\n",
        "print(\"\\n=== Engineering Analysis ===\")\n",
        "# print(f\"Maximum temperature: {max_temp:.1f}°C at {max_temp_location:.1f} mm\")\n",
        "# print(f\"Heat input at base: {heat_input/1000:.1f} kW/m²\")\n",
        "# print(f\"Heat output at tip: {heat_output/1000:.1f} kW/m²\")\n",
        "print(f\"Temperature drop along fin: {T_base - result['T_tip']:.1f}°C\")\n",
        "print(f\"Fin efficiency: {((result['T_tip'] - T_amb)/(T_base - T_amb))*100:.1f}%\")"
      ]
    },
    {
      "cell_type": "markdown",
      "metadata": {
        "id": "Task5"
      },
      "source": [
        "## Task 5: Parameter Study - Design Optimization\n",
        "\n",
        "Let's explore how different design parameters affect the fin performance."
      ]
    },
    {
      "cell_type": "code",
      "execution_count": null,
      "metadata": {
        "id": "parameter_study"
      },
      "outputs": [],
      "source": [
        "def solve_fin_with_parameters(h_conv, q_internal):\n",
        "    \"\"\"\n",
        "    Solve the fin problem with different parameters.\n",
        "    \"\"\"\n",
        "    # Temporarily modify global parameters\n",
        "    global h, q_gen\n",
        "    h_orig, q_orig = h, q_gen\n",
        "    h, q_gen = h_conv, q_internal\n",
        "    \n",
        "    # Solve using shooting method\n",
        "    try:\n",
        "        result = linear_shooting_method(-400, -1000)\n",
        "        success = True\n",
        "    except:\n",
        "        result = None\n",
        "        success = False\n",
        "    \n",
        "    # Restore original parameters\n",
        "    h, q_gen = h_orig, q_orig\n",
        "    \n",
        "    return result, success\n",
        "\n",
        "# TODO: Study effect of convection coefficient\n",
        "h_values = [20, 50, 100, 200]  # Different convection coefficients (W/m²·K)\n",
        "print(\"=== Effect of Convection Coefficient ===\")\n",
        "\n",
        "for h_test in h_values:\n",
        "    result, success = solve_fin_with_parameters(h_test, q_gen)\n",
        "    if success:\n",
        "        # TODO: Print results for each h value\n",
        "        # print(f\"h = {h_test:3d} W/m²·K: Tip temp = {result['T_tip']:.1f}°C\")\n",
        "        pass\n",
        "\n",
        "# TODO: Study effect of heat generation\n",
        "q_values = [1e6, 2e6, 3e6, 4e6]  # Different heat generation rates (W/m³)\n",
        "print(\"\\n=== Effect of Internal Heat Generation ===\")\n",
        "\n",
        "for q_test in q_values:\n",
        "    result, success = solve_fin_with_parameters(h, q_test)\n",
        "    if success:\n",
        "        # TODO: Print results for each q value\n",
        "        # print(f\"q = {q_test/1e6:.1f} MW/m³: Tip temp = {result['T_tip']:.1f}°C\")\n",
        "        pass"
      ]
    },
    {
      "cell_type": "markdown",
      "metadata": {
        "id": "Task6"
      },
      "source": [
        "## Task 6: Comparison with Analytical Solution\n",
        "\n",
        "For validation, let's compare our numerical solution with the analytical solution for this linear BVP."
      ]
    },
    {
      "cell_type": "code",
      "execution_count": null,
      "metadata": {
        "id": "analytical_solution"
      },
      "outputs": [],
      "source": [
        "def analytical_solution(x):\n",
        "    \"\"\"\n",
        "    Analytical solution for the heat transfer BVP.\n",
        "    For d²T/dx² + q/k = 0 with T(0) = T_base and convective BC at x = L\n",
        "    \"\"\"\n",
        "    # The general solution is T(x) = C1 + C2*x - (q/k)*x²/2\n",
        "    # Apply boundary conditions to find C1 and C2\n",
        "    \n",
        "    # From T(0) = T_base: C1 = T_base\n",
        "    C1 = T_base\n",
        "    \n",
        "    # From convective BC at x = L: -k*(dT/dx)|_L = h*(T_L - T_amb)\n",
        "    # dT/dx = C2 - (q/k)*x\n",
        "    # T(L) = C1 + C2*L - (q/k)*L²/2\n",
        "    # Substituting into BC: -k*(C2 - (q/k)*L) = h*(C1 + C2*L - (q/k)*L²/2 - T_amb)\n",
        "    \n",
        "    # Solving for C2:\n",
        "    numerator = h * (T_amb - C1 + (q_gen/k) * L**2 / 2) + k * (q_gen/k) * L\n",
        "    denominator = k + h * L\n",
        "    C2 = numerator / denominator\n",
        "    \n",
        "    # Temperature distribution\n",
        "    T_analytical = C1 + C2 * x - (q_gen/k) * x**2 / 2\n",
        "    \n",
        "    return T_analytical, C2\n",
        "\n",
        "# Calculate analytical solution\n",
        "x_analytical = np.linspace(0, L, 100)\n",
        "T_analytical, dT_dx_analytical = analytical_solution(x_analytical)\n",
        "\n",
        "# Calculate analytical solution\n",
        "x_analytical = np.linspace(0, L, 100)\n",
        "T_analytical, dT_dx_analytical = analytical_solution(x_analytical)\n",
        "\n",
        "# TODO: Compare numerical and analytical solutions\n",
        "# This section will work after completing Task 3\n",
        "print(\"Analytical solution calculated successfully!\")\n",
        "print(f\"Analytical tip temperature: {T_analytical[-1]:.1f}°C\")\n",
        "print(f\"Analytical initial slope: {dT_dx_analytical:.1f} K/m\")\n",
        "print(\"\\nComplete Task 3 to see numerical comparison!\")"
      ]
    },
    {
      "cell_type": "markdown",
      "metadata": {
        "id": "Task7"
      },
      "source": [
        "## Task 7: Student Exploration - Design Challenge\n",
        "\n",
        "**Challenge**: Design a heat sink fin that keeps the tip temperature below 45°C while maximizing heat dissipation.\n",
        "\n",
        "**Your task**: Experiment with different parameters to achieve this goal."
      ]
    },
    {
      "cell_type": "code",
      "execution_count": null,
      "metadata": {
        "id": "student_exploration"
      },
      "outputs": [],
      "source": [
        "# TODO: Student exploration section\n",
        "# Modify these parameters to meet the design challenge\n",
        "\n",
        "# Design parameters to explore:\n",
        "student_h = 50        # TODO: Try different values (20-200 W/m²·K)\n",
        "student_q = 2e6       # TODO: Try different values (1e6-5e6 W/m³)\n",
        "student_L = 0.05      # TODO: Try different lengths (0.02-0.10 m)\n",
        "\n",
        "print(\"=== Student Design Challenge ===\")\n",
        "print(\"Goal: Keep tip temperature below 45°C\")\n",
        "print(\"\\nYour design parameters:\")\n",
        "print(f\"Convection coefficient: {student_h} W/m²·K\")\n",
        "print(f\"Heat generation: {student_q/1e6:.1f} MW/m³\")\n",
        "print(f\"Fin length: {student_L*1000:.0f} mm\")\n",
        "\n",
        "# TODO: Solve with your parameters\n",
        "# Temporarily modify the global parameters\n",
        "h_orig, q_orig, L_orig = h, q_gen, L\n",
        "h, q_gen, L = student_h, student_q, student_L\n",
        "\n",
        "try:\n",
        "    student_result = linear_shooting_method(-400, -1000)\n",
        "    \n",
        "    print(f\"\\nResults:\")\n",
        "    print(f\"Tip temperature: {student_result['T_tip']:.1f}°C\")\n",
        "    \n",
        "    if student_result['T_tip'] < 45:\n",
        "        print(\"✅ SUCCESS: Tip temperature is below 45°C!\")\n",
        "    else:\n",
        "        print(\"❌ FAILED: Tip temperature is too high\")\n",
        "    \n",
        "    # Calculate heat dissipation rate\n",
        "    heat_dissipated = -k * student_result['dT_dx'][-1]  # Heat flux at tip\n",
        "    print(f\"Heat dissipation at tip: {heat_dissipated/1000:.1f} kW/m²\")\n",
        "    \n",
        "    # Plot your design\n",
        "    plt.figure(figsize=(10, 6))\n",
        "    plt.plot(student_result['x']*1000, student_result['T'], 'b-', linewidth=3, label='Your Design')\n",
        "    plt.axhline(45, color='red', linestyle='--', label='Temperature Limit')\n",
        "    plt.axhline(T_amb, color='gray', linestyle='--', alpha=0.7, label='Ambient')\n",
        "    plt.xlabel('Position (mm)')\n",
        "    plt.ylabel('Temperature (°C)')\n",
        "    plt.title('Your Heat Sink Fin Design')\n",
        "    plt.legend()\n",
        "    plt.grid(True, alpha=0.3)\n",
        "    plt.show()\n",
        "    \n",
        "except Exception as e:\n",
        "    print(f\"Error in calculation: {e}\")\n",
        "    print(\"Try adjusting your parameters!\")\n",
        "\n",
        "# Restore original parameters\n",
        "h, q_gen, L = h_orig, q_orig, L_orig"
      ]
    },
    {
      "cell_type": "markdown",
      "metadata": {
        "id": "Discussion"
      },
      "source": [
        "## Discussion Questions\n",
        "\n",
        "1. **Why can't we solve boundary value problems directly like initial value problems?**\n",
        "\n",
        "2. **What is the key advantage of the linear shooting method over iterative root-finding methods?**\n",
        "\n",
        "3. **How does the shooting method 'shoot' from one boundary to satisfy the condition at the other boundary?**\n",
        "\n",
        "4. **What happens if our two initial guesses are too close together? Why?**\n",
        "\n",
        "5. **For the CPU heat sink application:**\n",
        "   - Which design parameter has the most impact on tip temperature?\n",
        "   - How would you improve cooling performance in practice?\n",
        "   - What are the limitations of this 1D model?\n",
        "\n",
        "6. **When might the shooting method fail or be less effective?**\n",
        "\n",
        "## Key Takeaways\n",
        "\n",
        "- **Boundary Value Problems** require different approaches than Initial Value Problems\n",
        "- **Linear shooting method** uses linear interpolation between two solutions\n",
        "- **scipy.integrate.solve_ivp** with RK45 provides accurate solutions\n",
        "- **Engineering applications**: Heat transfer, structural analysis, fluid flow\n",
        "- **Design optimization**: Multiple parameters affect system performance\n",
        "\n",
        "The shooting method bridges the gap between IVP solvers and BVP requirements, making it a powerful tool for engineering analysis and design optimization!"
      ]
    }
  ],
  "metadata": {
    "kernelspec": {
      "display_name": "Python 3",
      "language": "python",
      "name": "python3"
    },
    "language_info": {
      "codemirror_mode": {
        "name": "ipython",
        "version": 3
      },
      "file_extension": ".py",
      "mimetype": "text/x-python",
      "name": "python",
      "nbconvert_exporter": "python",
      "pygments_lexer": "ipython3",
      "version": "3.10.12"
    },
    "colab": {
      "provenance": []
    }
  },
  "nbformat": 4,
  "nbformat_minor": 0
}
