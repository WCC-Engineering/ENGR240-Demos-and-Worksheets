{
  "cells": [
    {
      "cell_type": "markdown",
      "metadata": {
        "id": "view-in-github",
        "colab_type": "text"
      },
      "source": [
        "[![Open In Colab](https://colab.research.google.com/assets/colab-badge.svg)](https://colab.research.google.com/github/WCC-Engineering/ENGR240/blob/main/Class%20Demos%20and%20Activities/Week%2010/Worksheet%2010-2%20Finite%20Difference%20Methods%20for%20BVPs.ipynb)"
      ]
    },
    {
      "cell_type": "markdown",
      "metadata": {
        "id": "title"
      },
      "source": [
        "# Worksheet 10-2: Finite Difference Method for Beam Deflection BVPs\n",
        "\n",
        "## ENGR 240 - Week 10: Boundary Value Problems\n",
        "\n",
        "**Learning Goals:** Apply finite differences to solve BVPs, formulate matrices by hand, understand boundary condition effects\n",
        "\n",
        "In this worksheet, we'll solve a classic structural engineering problem using the finite difference method. You'll see how to transform a differential equation into a linear system that can be solved with standard numerical methods."
      ]
    },
    {
      "cell_type": "code",
      "execution_count": null,
      "metadata": {
        "id": "setup"
      },
      "outputs": [],
      "source": [
        "import numpy as np\n",
        "import matplotlib.pyplot as plt\n",
        "plt.rcParams['figure.figsize'] = (10, 6)"
      ]
    },
    {
      "cell_type": "markdown",
      "metadata": {
        "id": "problem"
      },
      "source": [
        "# 1. Problem Setup (10 min)\n",
        "\n",
        "**Simply supported beam with settlement:**\n",
        "- Length L = 4 m, uniform load q = 1000 N/m\n",
        "- Left support: y(0) = 0, Right support: y(L) = δ = 0.005 m (settlement)\n",
        "- Governing ODE: d²y/dx² = q/(EI) = k (constant)\n",
        "\n",
        "**Analytical solution:** y(x) = (q/24EI)x(L³-2L²x+x³) + δx/L"
      ]
    },
    {
      "cell_type": "code",
      "execution_count": null,
      "metadata": {
        "id": "parameters"
      },
      "outputs": [],
      "source": [
        "# Parameters\n",
        "L, q, E, I, delta = 4.0, 1000.0, 200e9, 8.33e-6, 0.005\n",
        "k = q / (E * I)\n",
        "print(f\"Constant k = q/(EI) = {k:.2e} m⁻²\")\n",
        "\n",
        "# Analytical solution\n",
        "def y_analytical(x):\n",
        "    return (q/(24*E*I)) * x * (L**3 - 2*L**2*x + x**3) + (delta * x / L)\n",
        "\n",
        "# Plot reference solution\n",
        "x_plot = np.linspace(0, L, 100)\n",
        "y_plot = y_analytical(x_plot)\n",
        "plt.plot(x_plot, y_plot*1000, 'b-', linewidth=2, label='Analytical')\n",
        "plt.xlabel('x (m)'); plt.ylabel('y (mm)'); plt.grid(True); plt.legend(); plt.show()\n",
        "print(f\"Max deflection: {min(y_plot)*1000:.2f} mm\")\nprint(\"\\nNotice the beam deflects downward due to the load, but the right end\")\nprint(\"is forced upward due to the 5mm settlement of the support.\")"
      ]
    },
    {
      "cell_type": "markdown",
      "metadata": {
        "id": "recall"
      },
      "source": [
        "# Task 2: Recall Finite Differences (8 min)\n",
        "\n",
        "Before diving into the problem, let's recall the fundamental finite difference approximation you learned in previous weeks.\n",
        "\n",
        "**🤔 Complete this:** d²y/dx²|ᵢ ≈ (yᵢ₊₁ - _____ + yᵢ₋₁)/h²\n",
        "\n",
        "**Answer:** 2yᵢ\n",
        "\n",
        "This second-order central difference formula is the key to transforming our differential equation into algebraic equations.\n",
        "\n",
        "**6-node grid:** h = L/5 = 0.8 m\n",
        "```\n",
        "Node:  0    1    2    3    4    5\n",
        "x:     0   0.8  1.6  2.4  3.2   4\n",
        "BC:   y=0   ?    ?    ?    ?   y=δ\n",
        "```\n",
        "Interior nodes 1,2,3,4 → 4 equations needed\n",
        "\n",
        "We have 4 unknown deflections at the interior nodes, so we need exactly 4 equations to solve the system."
      ]
    },
    {
      "cell_type": "code",
      "execution_count": null,
      "metadata": {
        "id": "grid"
      },
      "outputs": [],
      "source": [
        "# Grid setup\n",
        "n_nodes = 6\n",
        "h = L / (n_nodes - 1)\n",
        "x_nodes = np.linspace(0, L, n_nodes)\n",
        "print(f\"Grid spacing h = {h:.1f} m\")\n",
        "print(\"Nodes:\", [f\"x_{i}={x:.1f}\" for i, x in enumerate(x_nodes)])"
      ]
    },
    {
      "cell_type": "markdown",
      "metadata": {
        "id": "hand_work"
      },
      "source": [
        "# 3. Hand Formulation (20 min)\n",
        "\n",
        "**Step 1:** Apply FD at each interior node: (yᵢ₋₁ - 2yᵢ + yᵢ₊₁)/h² = k\n",
        "\n",
        "Rearrange: yᵢ₋₁ - 2yᵢ + yᵢ₊₁ = kh²\n",
        "\n",
        "**Step 2:** Write equations for nodes 1,2,3,4:\n",
        "- Node 1: y₀ - 2y₁ + y₂ = kh² → -2y₁ + y₂ = kh² (since y₀=0)\n",
        "- Node 2: y₁ - 2y₂ + y₃ = kh²\n",
        "- Node 3: y₂ - 2y₃ + y₄ = kh²\n",
        "- Node 4: y₃ - 2y₄ + y₅ = kh² → y₃ - 2y₄ = kh² - δ (since y₅=δ)\n",
        "\n",
        "**✏️ YOUR TURN:** Complete the matrix equation Ay = b:\n",
        "\n",
        "$$\\begin{bmatrix}-2&1&0&0\\\\?&?&?&?\\\\?&?&?&?\\\\?&?&?&?\\end{bmatrix}\\begin{bmatrix}y_1\\\\y_2\\\\y_3\\\\y_4\\end{bmatrix}=\\begin{bmatrix}kh^2\\\\?\\\\?\\\\?\\end{bmatrix}$$"
      ]
    },
    {
      "cell_type": "code",
      "execution_count": null,
      "metadata": {
        "id": "hand_calculation"
      },
      "outputs": [],
      "source": [
        "# Calculate RHS constant\n",
        "rhs = k * h**2\n",
        "print(f\"kh² = {rhs:.6f}\")\n",
        "\n",
        "# SOLUTION: Fill in your hand-calculated matrix\n",
        "A = np.array([\n",
        "    [-2.0,  1.0,  0.0,  0.0],  # Node 1\n",
        "    [ 1.0, -2.0,  1.0,  0.0],  # Node 2\n",
        "    [ 0.0,  1.0, -2.0,  1.0],  # Node 3\n",
        "    [ 0.0,  0.0,  1.0, -2.0]   # Node 4\n",
        "])\n",
        "\n",
        "b = np.array([\n",
        "    rhs,        # Node 1: kh²\n",
        "    rhs,        # Node 2: kh²\n",
        "    rhs,        # Node 3: kh²\n",
        "    rhs - delta # Node 4: kh² - δ  ← BOUNDARY CONDITION EFFECT!\n",
        "])\n",
        "\n",
        "print(\"Matrix A:\")\n",
        "print(A)\n",
        "print(f\"\\nVector b: {b}\")\n",
        "print(f\"\\nKey insight: δ = {delta} affects b[3], not matrix A!\")\nprint(\"This is a fundamental principle: boundary conditions modify the\")\nprint(\"right-hand side vector, while the coefficient matrix A depends\")\nprint(\"only on the interior finite difference stencil.\")"
      ]
    },
    {
      "cell_type": "markdown",
      "metadata": {
        "id": "solve"
      },
      "source": [
        "# Task 4: Solve & Compare (12 min)\n",
        "\n",
        "Now let's solve our linear system and see how well our finite difference approximation matches the analytical solution. This is the moment of truth!"
      ]
    },
    {
      "cell_type": "code",
      "execution_count": null,
      "metadata": {
        "id": "solution"
      },
      "outputs": [],
      "source": [
        "# Solve linear system\n",
        "y_interior = np.linalg.solve(A, b)\n",
        "print(\"Interior node solutions:\")\n",
        "for i, y in enumerate(y_interior, 1):\n",
        "    print(f\"y_{i} = {y:.6f} m = {y*1000:.3f} mm\")\n",
        "\n",
        "# Complete solution (add boundary nodes)\n",
        "y_fd = np.zeros(n_nodes)\n",
        "y_fd[0] = 0.0\n",
        "y_fd[1:5] = y_interior\n",
        "y_fd[5] = delta\n",
        "\n",
        "# Analytical at nodes\n",
        "y_exact_nodes = y_analytical(x_nodes)\n",
        "\n",
        "# Plot comparison\n",
        "plt.plot(x_plot, y_plot*1000, 'b-', linewidth=2, label='Analytical')\n",
        "plt.plot(x_nodes, y_fd*1000, 'ro-', markersize=8, label='6-node FD')\n",
        "plt.plot([0, L], [0, delta*1000], 'gs', markersize=10, label='Boundary Conditions')\n",
        "plt.xlabel('x (m)'); plt.ylabel('y (mm)'); plt.grid(True); plt.legend(); plt.show()\n",
        "\n",
        "# Error analysis\n",
        "errors = np.abs(y_fd - y_exact_nodes) * 1000\n",
        "print(f\"\\nMax error: {np.max(errors):.4f} mm\")\n",
        "print(f\"RMS error: {np.sqrt(np.mean(errors**2)):.4f} mm\")"
      ]
    },
    {
      "cell_type": "markdown",
      "metadata": {
        "id": "refinement"
      },
      "source": [
        "# Task 5: Mesh Refinement (10 min)\n",
        "\n",
        "One of the beautiful aspects of numerical methods is that we can systematically improve accuracy by refining our discretization. Let's see how the solution converges as we use more nodes."
      ]
    },
    {
      "cell_type": "code",
      "execution_count": null,
      "metadata": {
        "id": "auto_solver"
      },
      "outputs": [],
      "source": [
        "def solve_beam_fd(n_nodes):\n",
        "    \"\"\"Solve beam BVP with n_nodes using finite differences\"\"\"\n",
        "    h = L / (n_nodes - 1)\n",
        "    x = np.linspace(0, L, n_nodes)\n",
        "    n_int = n_nodes - 2\n",
        "    \n",
        "    # Build tridiagonal matrix\n",
        "    A = np.diag(-2*np.ones(n_int)) + np.diag(np.ones(n_int-1), 1) + np.diag(np.ones(n_int-1), -1)\n",
        "    \n",
        "    # RHS vector\n",
        "    b = np.full(n_int, k * h**2)\n",
        "    b[-1] -= delta  # BC effect\n",
        "    \n",
        "    # Solve and construct full solution\n",
        "    y_int = np.linalg.solve(A, b)\n",
        "    y_full = np.zeros(n_nodes)\n",
        "    y_full[1:-1] = y_int\n",
        "    y_full[-1] = delta\n",
        "    \n",
        "    # Calculate error\n",
        "    y_exact = y_analytical(x)\n",
        "    max_error = np.max(np.abs(y_full - y_exact)) * 1000\n",
        "    \n",
        "    return x, y_full, max_error\n",
        "\n",
        "# Convergence study\n",
        "node_counts = [6, 11, 21, 41]\n",
        "errors = []\n",
        "h_values = []\n",
        "\n",
        "plt.figure(figsize=(12, 5))\n",
        "plt.subplot(1,2,1)\n",
        "plt.plot(x_plot, y_plot*1000, 'k-', linewidth=3, label='Analytical')\n",
        "\n",
        "colors = ['red', 'green', 'orange', 'purple']\n",
        "for i, (n, color) in enumerate(zip(node_counts, colors)):\n",
        "    x, y, err = solve_beam_fd(n)\n",
        "    h = L / (n - 1)\n",
        "    h_values.append(h)\n",
        "    errors.append(err)\n",
        "    plt.plot(x, y*1000, 'o-', color=color, label=f'{n} nodes', markersize=4)\n",
        "\n",
        "plt.xlabel('x (m)'); plt.ylabel('y (mm)'); plt.title('Convergence with Mesh Refinement')\n",
        "plt.grid(True); plt.legend()\n",
        "\n",
        "plt.subplot(1,2,2)\n",
        "plt.loglog(h_values, errors, 'bo-', linewidth=2, markersize=8)\n",
        "plt.loglog(h_values, errors[0]*(np.array(h_values)/h_values[0])**2, 'r--', label='O(h²)')\n",
        "plt.xlabel('Grid spacing h (m)'); plt.ylabel('Max error (mm)')\n",
        "plt.title('Error vs Grid Spacing'); plt.grid(True); plt.legend()\n",
        "plt.tight_layout(); plt.show()\n",
        "\n",
        "print(\"Convergence Results:\")\n",
        "for n, h, err in zip(node_counts, h_values, errors):\n",
        "    print(f\"{n:2d} nodes: h={h:.3f}m, error={err:.4f}mm\")\n",
        "print(f\"\\nError reduction factor: {errors[0]/errors[-1]:.1f}x\")"
      ]
    },
    {
      "cell_type": "markdown",
      "metadata": {
        "id": "wrap_up"
      },
      "source": [
        "# Task 6: Key Takeaways (5 min)\n",
        "\n",
        "Congratulations! You've successfully implemented the finite difference method for a boundary value problem. Let's summarize what you've learned and where this knowledge can take you.\n",
        "\n",
        "**✅ What we learned:**\n",
        "- FD method: substitute approximations into ODE\n",
        "- Each interior node → one equation\n",
        "- Non-zero BCs affect RHS vector, not coefficient matrix\n",
        "- Finer meshes → better accuracy (O(h²) convergence)\n",
        "\n",
        "**🔧 Engineering relevance:**\n",
        "- Foundation settlement analysis\n",
        "- Variable loading: q(x)\n",
        "- Different BCs: cantilever, fixed-fixed\n",
        "- Extension to 2D/3D problems\n",
        "\n",
        "**🎯 The big picture:** This method scales up to solve problems with thousands of unknowns, making it practical for real engineering analysis. Modern structural analysis software uses these same principles!\n",
        "\n",
        "**📈 Next:** Finite element method for complex geometries!"
      ]
    }
  ],
  "metadata": {
    "colab": {
      "provenance": []
    },
    "kernelspec": {
      "display_name": "Python 3",
      "name": "python3"
    },
    "language_info": {
      "name": "python"
    }
  },
  "nbformat": 4,
  "nbformat_minor": 0
}
