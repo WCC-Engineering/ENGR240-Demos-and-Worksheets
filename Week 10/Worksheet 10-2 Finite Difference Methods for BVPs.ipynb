{
  "cells": [
    {
      "cell_type": "markdown",
      "metadata": {
        "id": "view-in-github",
        "colab_type": "text"
      },
      "source": [
        "[![Open In Colab](https://colab.research.google.com/assets/colab-badge.svg)](https://colab.research.google.com/github/WCC-Engineering/ENGR240/blob/main/Class%20Demos%20and%20Activities/Week%2010/Worksheet%2010-2%20Finite%20Difference%20Methods%20for%20BVPs.ipynb)"
      ]
    },
    {
      "cell_type": "markdown",
      "metadata": {
        "id": "FiniteDifferenceIntro"
      },
      "source": [
        "# Worksheet 10.2 Finite Difference Method for Boundary Value Problems\n",
        "## ENGR 240: Engineering Computations\n",
        "\n",
        "## Introduction: Beam Deflection Analysis\n",
        "\n",
        "In structural engineering, understanding beam deflection is critical for ensuring safe and reliable designs. This worksheet explores the **finite difference method** for solving boundary value problems through the analysis of a simply supported beam with foundation settlement.\n",
        "\n",
        "### Physical System\n",
        "\n",
        "**Simply Supported Beam Specifications:**\n",
        "- **Length**: 4.0 m\n",
        "- **Material**: Steel (E = 200 × 10⁹ Pa)\n",
        "- **Moment of Inertia**: I = 8.33 × 10⁻⁶ m⁴\n",
        "- **Loading**: Uniform distributed load w = 1000 N/m (downward)\n",
        "- **Support conditions**: Left pinned, right settled by δ = 5 mm\n",
        "\n",
        "### Mathematical Model\n",
        "\n",
        "The governing differential equation for beam deflection starts with the fourth-order equation:\n",
        "$EI\\frac{d^4y}{dx^4} = w(x)$\n",
        "\n",
        "Integrating twice to relate deflection to bending moment:\n",
        "- First integration: $EI\\frac{d^3y}{dx^3} = \\int w(x)\\,dx + C_1$ (shear force relationship)\n",
        "- Second integration: $EI\\frac{d^2y}{dx^2} = \\int\\int w(x)\\,dx^2 + C_1x + C_2$ (bending moment $M(x)$)\n",
        "\n",
        "For our uniform distributed load case, this simplifies to:\n",
        "$\\frac{d^2y}{dx^2} = -\\frac{w}{EI}$\n",
        "\n",
        "**Boundary Conditions:**\n",
        "- **Left support (x = 0)**: $y(0) = 0$ (pinned connection)\n",
        "- **Right support (x = L)**: $y(L) = \\delta = 0.005$ m (foundation settlement)\n",
        "\n",
        "**Learning Objectives:**\n",
        "- Apply finite difference approximations to boundary value problems\n",
        "- Formulate coefficient matrices for linear systems by hand\n",
        "- Understand how boundary conditions modify the linear system\n",
        "- Investigate mesh refinement and convergence to analytical solutions"
      ]
    },
    {
      "cell_type": "code",
      "execution_count": null,
      "metadata": {
        "id": "imports"
      },
      "outputs": [],
      "source": [
        "import numpy as np\n",
        "import matplotlib.pyplot as plt\n",
        "\n",
        "plt.style.use('seaborn-v0_8-whitegrid')\n",
        "plt.rcParams['figure.figsize'] = [12, 8]\n",
        "print(\"Libraries imported successfully!\")"
      ]
    },
    {
      "cell_type": "markdown",
      "metadata": {
        "id": "SystemParameters"
      },
      "source": [
        "## System Parameters"
      ]
    },
    {
      "cell_type": "code",
      "execution_count": null,
      "metadata": {
        "id": "parameters"
      },
      "outputs": [],
      "source": [
        "# Physical parameters\n",
        "L = 4.0           # Beam length (m)\n",
        "w = 1000.0        # Distributed load (N/m)\n",
        "E = 200e9         # Young's modulus (Pa)\n",
        "I = 8.33e-6       # Moment of inertia (m^4)\n",
        "delta = 0.005     # Settlement at right end (m)\n",
        "\n",
        "# Calculate the constant term\n",
        "k = -w / (E * I)  # Note: negative for downward deflection\n",
        "\n",
        "# Display parameters\n",
        "print(\"=== Beam Deflection Analysis Parameters ===\")\n",
        "print(f\"Length: {L} m\")\n",
        "print(f\"Distributed load: {w} N/m\")\n",
        "print(f\"Young's modulus: {E/1e9:.0f} GPa\")\n",
        "print(f\"Moment of inertia: {I*1e6:.2f} × 10⁻⁶ m⁴\")\n",
        "print(f\"Settlement: {delta*1000:.0f} mm\")\n",
        "print(f\"Constant k = -w/(EI) = {k:.2e} m⁻²\")"
      ]
    },
    {
      "cell_type": "markdown",
      "metadata": {
        "id": "Task1"
      },
      "source": [
        "## Task 1: Problem Setup and Analytical Solution (10 minutes)\n",
        "\n",
        "Before applying the finite difference method, let's establish our reference solution. For this beam problem, the analytical solution combines classical beam theory with the effects of foundation settlement."
      ]
    },
    {
      "cell_type": "code",
      "execution_count": null,
      "metadata": {
        "id": "analytical_solution"
      },
      "outputs": [],
      "source": [
        "def analytical_solution(x):\n",
        "    \"\"\"\n",
        "    Analytical solution for simply supported beam with uniform load and settlement.\n",
        "    \n",
        "    Components:\n",
        "    - Classical beam deflection: -(w/24EI) * x * (L³ - 2L²x + x³)\n",
        "    - Linear settlement variation: δ * x / L\n",
        "    \"\"\"\n",
        "    beam_deflection = -(w/(24*E*I)) * x * (L**3 - 2*L**2*x + x**3)\n",
        "    settlement_effect = delta * x / L\n",
        "    return beam_deflection + settlement_effect\n",
        "\n",
        "# Generate analytical solution for plotting\n",
        "x_analytical = np.linspace(0, L, 200)\n",
        "y_analytical = analytical_solution(x_analytical)\n",
        "\n",
        "# Plot the reference solution\n",
        "plt.figure(figsize=(12, 6))\n",
        "plt.plot(x_analytical, y_analytical*1000, 'b-', linewidth=3, label='Analytical Solution')\n",
        "plt.axhline(y=0, color='k', linestyle='--', alpha=0.3)\n",
        "plt.axhline(y=delta*1000, color='r', linestyle=':', alpha=0.5, label=f'Settlement = {delta*1000:.0f} mm')\n",
        "\n",
        "plt.xlabel('Position x (m)', fontsize=12)\n",
        "plt.ylabel('Deflection y (mm)', fontsize=12)\n",
        "plt.title('Beam Deflection: Analytical Reference Solution', fontsize=14, fontweight='bold')\n",
        "plt.grid(True, alpha=0.3)\n",
        "plt.legend(fontsize=12)\n",
        "plt.tight_layout()\n",
        "plt.show()\n",
        "\n",
        "# Key results\n",
        "max_deflection = np.min(y_analytical)\n",
        "max_location = x_analytical[np.argmin(y_analytical)]\n",
        "print(f\"\\n=== Analytical Solution Results ===\")\n",
        "print(f\"Maximum deflection: {max_deflection*1000:.2f} mm\")\n",
        "print(f\"Location of maximum: {max_location:.2f} m from left support\")\n",
        "print(f\"Deflection at right end: {delta*1000:.1f} mm (settlement)\")"
      ]
    },
    {
      "cell_type": "markdown",
      "metadata": {
        "id": "Task2"
      },
      "source": [
        "## Task 2: Finite Difference Fundamentals (8 minutes)\n",
        "\n",
        "### Recall: Second-Order Central Difference\n",
        "\n",
        "From previous weeks, recall the finite difference approximation for the second derivative:\n",
        "\n",
        "$\\frac{d^2y}{dx^2}\\bigg|_{x=x_i} \\approx \\frac{y_{i+1} - 2y_i + y_{i-1}}{h^2}$\n",
        "\n",
        "where $h$ is the grid spacing between nodes.\n",
        "\n",
        "### Grid Discretization\n",
        "\n",
        "For our 6-node system:\n",
        "- **Grid spacing**: $h = L/(n-1) = 4.0/5 = 0.8$ m  \n",
        "- **Node locations**: x₀ = 0, x₁ = 0.8, x₂ = 1.6, x₃ = 2.4, x₄ = 3.2, x₅ = 4.0\n",
        "- **Known values**: y₀ = 0 (left BC), y₅ = δ (right BC)\n",
        "- **Unknowns**: y₁, y₂, y₃, y₄ (4 interior nodes → 4 equations needed)"
      ]
    },
    {
      "cell_type": "code",
      "execution_count": null,
      "metadata": {
        "id": "grid_setup"
      },
      "outputs": [],
      "source": [
        "# 6-node grid setup\n",
        "n_nodes = 6\n",
        "h = L / (n_nodes - 1)\n",
        "x_nodes = np.linspace(0, L, n_nodes)\n",
        "\n",
        "print(\"=== 6-Node Finite Difference Grid ===\")\n",
        "print(f\"Grid spacing: h = {h:.1f} m\")\n",
        "print(f\"Number of interior nodes: {n_nodes-2}\")\n",
        "print(\"\\nNode Information:\")\n",
        "print(\"Node    x (m)    Condition\")\n",
        "print(\"-\" * 35)\n",
        "for i, x in enumerate(x_nodes):\n",
        "    if i == 0:\n",
        "        condition = \"y = 0 (pinned)\"\n",
        "    elif i == n_nodes-1:\n",
        "        condition = f\"y = {delta*1000:.0f} mm (settlement)\"\n",
        "    else:\n",
        "        condition = \"unknown (interior)\"\n",
        "    print(f\"{i:4d}    {x:4.1f}     {condition}\")\n",
        "\n",
        "print(f\"\\n→ Need {n_nodes-2} equations for {n_nodes-2} unknowns\")"
      ]
    },
    {
      "cell_type": "markdown",
      "metadata": {
        "id": "Task3"
      },
      "source": [
        "## Task 3: Hand Formulation of Linear System (20 minutes)\n",
        "\n",
        "### Step 1: Apply Finite Difference Approximation\n",
        "\n",
        "At each interior node $i$, substitute the finite difference approximation into the governing ODE:\n",
        "\n",
        "$\\frac{d^2y}{dx^2} = k \\quad \\Rightarrow \\quad \\frac{y_{i+1} - 2y_i + y_{i-1}}{h^2} = k$\n",
        "\n",
        "Rearranging: $y_{i-1} - 2y_i + y_{i+1} = kh^2$\n",
        "\n",
        "### Step 2: Write Equations for Interior Nodes\n",
        "\n",
        "Apply this formula at nodes 1, 2, 3, and 4:"
      ]
    },
    {
      "cell_type": "code",
      "execution_count": null,
      "metadata": {
        "id": "fd_equations"
      },
      "outputs": [],
      "source": [
        "# Calculate the RHS constant\n",
        "rhs_constant = k * h**2\n",
        "print(\"=== Finite Difference Equations ===\")\n",
        "print(f\"RHS constant: kh² = {rhs_constant:.6f}\")\n",
        "print(f\"Physical meaning: {rhs_constant:.2e} represents curvature × spacing²\\n\")\n",
        "\n",
        "print(\"Interior node equations (before applying boundary conditions):\")\n",
        "print(\"Node 1: y₀ - 2y₁ + y₂ = kh²\")\n",
        "print(\"Node 2: y₁ - 2y₂ + y₃ = kh²\")\n",
        "print(\"Node 3: y₂ - 2y₃ + y₄ = kh²\")\n",
        "print(\"Node 4: y₃ - 2y₄ + y₅ = kh²\")\n",
        "\n",
        "print(\"\\nAfter applying boundary conditions (y₀ = 0, y₅ = δ):\")\n",
        "print(\"Node 1: 0 - 2y₁ + y₂ = kh²  →  -2y₁ + y₂ = kh²\")\n",
        "print(\"Node 2: y₁ - 2y₂ + y₃ = kh²\")\n",
        "print(\"Node 3: y₂ - 2y₃ + y₄ = kh²\")\n",
        "print(f\"Node 4: y₃ - 2y₄ + δ = kh²  →  y₃ - 2y₄ = kh² - δ = {rhs_constant - delta:.6f}\")\n",
        "\n",
        "print(\"\\nKey Insight: The non-zero boundary condition affects only the RHS vector!\")"
      ]
    },
    {
      "cell_type": "markdown",
      "metadata": {
        "id": "MatrixFormulation"
      },
      "source": [
        "### Step 3: Matrix Formulation\n",
        "\n",
        "**Your Turn:** Complete the coefficient matrix **A** and RHS vector **b** for the system **Ay = b**:\n",
        "\n",
        "**Solution:**\n",
        "\n",
        "$\\mathbf{A} = \\begin{bmatrix}\n",
        "-2 & 1 & 0 & 0 \\\\\n",
        "1 & -2 & 1 & 0 \\\\\n",
        "0 & 1 & -2 & 1 \\\\\n",
        "0 & 0 & 1 & -2\n",
        "\\end{bmatrix}, \\quad\n",
        "\\mathbf{b} = \\begin{bmatrix}\n",
        "kh^2 \\\\\n",
        "kh^2 \\\\\n",
        "kh^2 \\\\\n",
        "kh^2 - \\delta\n",
        "\\end{bmatrix}$"
      ]
    },
    {
      "cell_type": "code",
      "execution_count": null,
      "metadata": {
        "id": "matrix_construction"
      },
      "outputs": [],
      "source": [
        "# Construct the coefficient matrix A (tridiagonal structure)\n",
        "A_hand = np.array([\n",
        "    [-2.0,  1.0,  0.0,  0.0],   # Node 1 equation\n",
        "    [ 1.0, -2.0,  1.0,  0.0],   # Node 2 equation  \n",
        "    [ 0.0,  1.0, -2.0,  1.0],   # Node 3 equation\n",
        "    [ 0.0,  0.0,  1.0, -2.0]    # Node 4 equation\n",
        "])\n",
        "\n",
        "# Construct the RHS vector b\n",
        "b_hand = np.array([\n",
        "    rhs_constant,           # Node 1: kh²\n",
        "    rhs_constant,           # Node 2: kh²\n",
        "    rhs_constant,           # Node 3: kh²\n",
        "    rhs_constant - delta    # Node 4: kh² - δ (boundary effect!)\n",
        "])\n",
        "\n",
        "print(\"=== Hand-Calculated Linear System ===\")\n",
        "print(\"\\nCoefficient matrix A:\")\n",
        "print(A_hand)\n",
        "print(\"\\nRHS vector b:\")\n",
        "print(f\"[{b_hand[0]:8.6f}]\")\n",
        "print(f\"[{b_hand[1]:8.6f}]\")\n",
        "print(f\"[{b_hand[2]:8.6f}]\")\n",
        "print(f\"[{b_hand[3]:8.6f}]  ← includes settlement effect\")\n",
        "\n",
        "print(f\"\\nNote: b[3] = {b_hand[3]:.6f} = kh² - δ\")\n",
        "print(\"The settlement δ modifies the RHS, not the matrix structure!\")"
      ]
    },
    {
      "cell_type": "markdown",
      "metadata": {
        "id": "Task4"
      },
      "source": [
        "## Task 4: Solution and Comparison (12 minutes)"
      ]
    },
    {
      "cell_type": "code",
      "execution_count": null,
      "metadata": {
        "id": "solve_system"
      },
      "outputs": [],
      "source": [
        "# Solve the linear system\n",
        "y_interior = np.linalg.solve(A_hand, b_hand)\n",
        "\n",
        "print(\"=== Linear System Solution ===\")\n",
        "print(\"Interior node deflections:\")\n",
        "for i, deflection in enumerate(y_interior, 1):\n",
        "    print(f\"y_{i} = {deflection:8.6f} m = {deflection*1000:7.3f} mm\")\n",
        "\n",
        "# Construct complete solution vector\n",
        "y_fd_complete = np.zeros(n_nodes)\n",
        "y_fd_complete[0] = 0.0           # Left BC: y₀ = 0\n",
        "y_fd_complete[1:5] = y_interior  # Interior solutions\n",
        "y_fd_complete[5] = delta         # Right BC: y₅ = δ\n",
        "\n",
        "print(f\"\\nComplete nodal solution:\")\n",
        "print(\"Node    x (m)    FD Solution (mm)\")\n",
        "print(\"-\" * 35)\n",
        "for i, (x, y) in enumerate(zip(x_nodes, y_fd_complete)):\n",
        "    print(f\"{i:4d}    {x:4.1f}     {y*1000:10.3f}\")"
      ]
    },
    {
      "cell_type": "markdown",
      "metadata": {
        "id": "Task5"
      },
      "source": [
        "## Task 5: Mesh Refinement Study (10 minutes)\n",
        "\n",
        "Let's investigate how solution accuracy improves with finer discretizations."
      ]
    },
    {
      "cell_type": "code",
      "execution_count": null,
      "metadata": {
        "id": "refinement_function"
      },
      "outputs": [],
      "source": [
        "def solve_beam_fd(n_nodes):\n",
        "    \"\"\"\n",
        "    Solve beam deflection BVP using finite differences.\n",
        "    \n",
        "    Args:\n",
        "        n_nodes: Total number of grid points\n",
        "    \n",
        "    Returns:\n",
        "        x_nodes: Grid point locations\n",
        "        y_numerical: Finite difference solution\n",
        "        y_analytical: Analytical solution at grid points\n",
        "        max_error: Maximum error in mm\n",
        "    \"\"\"\n",
        "    # Grid setup\n",
        "    h = L / (n_nodes - 1)\n",
        "    x = np.linspace(0, L, n_nodes)\n",
        "    n_interior = n_nodes - 2\n",
        "    \n",
        "    # Build tridiagonal coefficient matrix\n",
        "    A = np.diag(-2*np.ones(n_interior))\n",
        "    A += np.diag(np.ones(n_interior-1), 1)   # Upper diagonal\n",
        "    A += np.diag(np.ones(n_interior-1), -1)  # Lower diagonal\n",
        "    \n",
        "    # Build RHS vector\n",
        "    rhs_val = k * h**2\n",
        "    b = np.full(n_interior, rhs_val)\n",
        "    b[-1] -= delta  # Apply settlement BC\n",
        "    \n",
        "    # Solve system\n",
        "    y_int = np.linalg.solve(A, b)\n",
        "    \n",
        "    # Construct complete solution\n",
        "    y_num = np.zeros(n_nodes)\n",
        "    y_num[1:-1] = y_int\n",
        "    y_num[-1] = delta\n",
        "    \n",
        "    # Analytical solution at grid points\n",
        "    y_ana = analytical_solution(x)\n",
        "    \n",
        "    # Calculate error\n",
        "    max_err = np.max(np.abs(y_num - y_ana)) * 1000  # mm\n",
        "    \n",
        "    return x, y_num, y_ana, max_err\n",
        "\n",
        "# Test with our 6-node case\n",
        "x_test, y_test, y_ana_test, error_test = solve_beam_fd(6)\n",
        "print(f\"Verification: 6-node max error = {error_test:.4f} mm\")\n",
        "\n",
        "# Mesh refinement study\n",
        "node_counts = [6, 11, 21, 41, 81]\n",
        "errors = []\n",
        "h_values = []\n",
        "\n",
        "print(\"\\n=== Mesh Refinement Study ===\")\n",
        "print(\"Nodes    h (m)    Max Error (mm)\")\n",
        "print(\"-\" * 35)\n",
        "\n",
        "for n in node_counts:\n",
        "    x, y_fd, y_exact, error = solve_beam_fd(n)\n",
        "    h_val = L / (n - 1)\n",
        "    errors.append(error)\n",
        "    h_values.append(h_val)\n",
        "    print(f\"{n:5d}    {h_val:4.2f}    {error:10.4f}\")\n",
        "\n",
        "# Plot convergence\n",
        "plt.figure(figsize=(10, 6))\n",
        "plt.loglog(h_values, errors, 'bo-', linewidth=2, markersize=8, label='FD Error')\n",
        "plt.loglog(h_values, np.array(h_values)**2 * errors[0] / h_values[0]**2, 'r--', \n",
        "          linewidth=2, label='O(h²) Reference')\n",
        "plt.xlabel('Grid Spacing h (m)', fontsize=12)\n",
        "plt.ylabel('Maximum Error (mm)', fontsize=12)\n",
        "plt.title('Mesh Refinement Study: Error vs Grid Spacing', fontsize=14, fontweight='bold')\n",
        "plt.grid(True, alpha=0.3)\n",
        "plt.legend(fontsize=12)\n",
        "plt.tight_layout()\n",
        "plt.show()\n",
        "\n",
        "print(f\"\\nConvergence rate: Error ∝ h^{np.log(errors[-1]/errors[0])/np.log(h_values[-1]/h_values[0]):.1f}\")\n",
        "print(\"Expected for 2nd-order finite differences: Error ∝ h²\")"
      ]
    },
    {
      "cell_type": "markdown",
      "metadata": {
        "id": "Summary"
      },
      "source": [
        "## Engineering Insights and Summary\n",
        "\n",
        "### Real-World Applications\n",
        "\n",
        "The finite difference method demonstrated here extends to many structural engineering problems:\n",
        "\n",
        "**Common Applications:**\n",
        "- Foundation settlement analysis (as shown here)\n",
        "- Variable loading: w(x) functions for non-uniform loads\n",
        "- Variable stiffness: EI(x) for composite or damaged beams\n",
        "- Different boundary conditions: cantilevers, fixed-fixed, spring supports\n",
        "- 2D problems: Plate bending, membrane stresses\n",
        "\n",
        "### Key Learning Points\n",
        "\n",
        "**Finite Difference Method:**\n",
        "- Transforms differential equations into linear algebra\n",
        "- Each interior node contributes one equation\n",
        "- Boundary conditions modify the RHS vector, not the coefficient matrix structure\n",
        "\n",
        "**Matrix Properties:**\n",
        "- Second-order BVPs result in tridiagonal coefficient matrices\n",
        "- Sparse, symmetric, and well-conditioned for beam problems\n",
        "- System size equals number of interior nodes\n",
        "\n",
        "**Convergence Behavior:**\n",
        "- Error decreases as O(h²) for 2nd-order finite differences\n",
        "- Trade-off between accuracy and computational cost\n",
        "- Even coarse grids often provide engineering accuracy"
      ]
    },
    {
      "cell_type": "markdown",
      "metadata": {
        "id": "OptionalChallenges"
      },
      "source": [
        "## Task 6: Linear Varying Load Analysis (15 minutes)\n",
        "\n",
        "Now solve the same beam problem with a **linearly varying load**: $w(x) = w_0 \\left(1 + \\frac{x}{L}\\right)$\n",
        "\n",
        "This represents a load that increases linearly from $w_0$ at the left end to $2w_0$ at the right end.\n",
        "\n",
        "### Mathematical Changes\n",
        "\n",
        "The governing ODE becomes:\n",
        "$\\frac{d^2y}{dx^2} = -\\frac{w(x)}{EI} = -\\frac{w_0}{EI}\\left(1 + \\frac{x}{L}\\right)$\n",
        "\n",
        "At each interior node $i$, the RHS becomes:\n",
        "$kh^2 = -\\frac{w_0 h^2}{EI}\\left(1 + \\frac{x_i}{L}\\right)$\n",
        "\n",
        "**Your Task:**\n",
        "1. Modify the RHS vector to account for the varying load\n",
        "2. Solve the system and compare with the uniform load case\n",
        "3. Plot both solutions on the same graph\n",
        "4. Calculate the analytical solution for the linear load case"
      ]
    },
    {
      "cell_type": "code",
      "execution_count": null,
      "metadata": {
        "id": "extension_workspace"
      },
      "outputs": [],
      "source": [
        "# Linear Varying Load Implementation\n",
        "\n",
        "# Define the base load intensity\n",
        "w0 = 1000.0  # Base load intensity (N/m)\n",
        "\n",
        "def solve_beam_fd_variable(n_nodes, w_func):\n",
        "    \"\"\"\n",
        "    Solve beam deflection BVP with variable loading using finite differences.\n",
        "    \n",
        "    Args:\n",
        "        n_nodes: Total number of grid points\n",
        "        w_func: Function that returns load intensity w(x) at position x\n",
        "    \n",
        "    Returns:\n",
        "        x_nodes: Grid point locations\n",
        "        y_numerical: Finite difference solution\n",
        "    \"\"\"\n",
        "    # Grid setup\n",
        "    h = L / (n_nodes - 1)\n",
        "    x = np.linspace(0, L, n_nodes)\n",
        "    n_interior = n_nodes - 2\n",
        "    \n",
        "    # Build tridiagonal coefficient matrix (same as before)\n",
        "    A = np.diag(-2*np.ones(n_interior))\n",
        "    A += np.diag(np.ones(n_interior-1), 1)   # Upper diagonal\n",
        "    A += np.diag(np.ones(n_interior-1), -1)  # Lower diagonal\n",
        "    \n",
        "    # Build RHS vector with variable loading\n",
        "    b = np.zeros(n_interior)\n",
        "    for i in range(n_interior):\n",
        "        node_idx = i + 1  # Interior node index\n",
        "        x_i = x[node_idx]\n",
        "        w_i = w_func(x_i)\n",
        "        b[i] = -w_i * h**2 / (E * I)  # RHS for variable load\n",
        "    \n",
        "    b[-1] -= delta  # Apply settlement BC\n",
        "    \n",
        "    # Solve system\n",
        "    y_int = np.linalg.solve(A, b)\n",
        "    \n",
        "    # Construct complete solution\n",
        "    y_num = np.zeros(n_nodes)\n",
        "    y_num[1:-1] = y_int\n",
        "    y_num[-1] = delta\n",
        "    \n",
        "    return x, y_num\n",
        "\n",
        "# Define linear varying load function\n",
        "def linear_load(x):\n",
        "    return w0 * (1 + x/L)\n",
        "\n",
        "# Solve for both uniform and linear varying loads\n",
        "x_nodes, y_uniform = solve_beam_fd(6)[:2]  # Use first 2 return values\n",
        "x_nodes, y_linear = solve_beam_fd_variable(6, linear_load)\n",
        "\n",
        "# Compare solutions\n",
        "print(\"=== Comparison: Uniform vs Linear Varying Load ===\")\n",
        "print(\"Node    x (m)    Uniform (mm)    Linear (mm)    Difference\")\n",
        "print(\"-\" * 60)\n",
        "for i, (x, y_u, y_l) in enumerate(zip(x_nodes, y_uniform, y_linear)):\n",
        "    diff = (y_l - y_u) * 1000\n",
        "    print(f\"{i:4d}    {x:4.1f}     {y_u*1000:10.3f}     {y_l*1000:9.3f}     {diff:+7.3f}\")\n",
        "\n",
        "# Plot comparison\n",
        "plt.figure(figsize=(12, 8))\n",
        "\n",
        "# Plot load distributions\n",
        "plt.subplot(2, 1, 1)\n",
        "x_plot = np.linspace(0, L, 100)\n",
        "w_uniform = np.full_like(x_plot, w0)\n",
        "w_linear = linear_load(x_plot)\n",
        "\n",
        "plt.plot(x_plot, w_uniform, 'b-', linewidth=2, label='Uniform Load')\n",
        "plt.plot(x_plot, w_linear, 'r-', linewidth=2, label='Linear Varying Load')\n",
        "plt.xlabel('Position x (m)')\n",
        "plt.ylabel('Load w(x) (N/m)')\n",
        "plt.title('Load Distribution Comparison')\n",
        "plt.legend()\n",
        "plt.grid(True, alpha=0.3)\n",
        "\n",
        "# Plot deflection comparison\n",
        "plt.subplot(2, 1, 2)\n",
        "plt.plot(x_nodes, y_uniform*1000, 'bo-', linewidth=2, markersize=8, label='Uniform Load')\n",
        "plt.plot(x_nodes, y_linear*1000, 'ro-', linewidth=2, markersize=8, label='Linear Varying Load')\n",
        "plt.axhline(y=0, color='k', linestyle='--', alpha=0.3)\n",
        "plt.xlabel('Position x (m)')\n",
        "plt.ylabel('Deflection y (mm)')\n",
        "plt.title('Deflection Comparison: Uniform vs Linear Varying Load')\n",
        "plt.legend()\n",
        "plt.grid(True, alpha=0.3)\n",
        "\n",
        "plt.tight_layout()\n",
        "plt.show()\n",
        "\n",
        "print(f\"\\nMaximum deflection - Uniform: {np.min(y_uniform)*1000:.3f} mm\")\n",
        "print(f\"Maximum deflection - Linear:  {np.min(y_linear)*1000:.3f} mm\")\n",
        "      ]
    }
  ],
  "metadata": {
    "colab": {
      "provenance": []
    },
    "kernelspec": {
      "display_name": "Python 3",
      "name": "python3"
    },
    "language_info": {
      "name": "python"
    }
  },
  "nbformat": 4,
  "nbformat_minor": 0
}
