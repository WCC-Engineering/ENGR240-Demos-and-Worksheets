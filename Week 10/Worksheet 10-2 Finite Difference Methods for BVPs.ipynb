    
    # Solve the system
    y_interior = np.linalg.solve(A, b)
    
    # Construct complete solution
    y_solution = np.zeros(n_nodes)
    y_solution[0] = 0.0
    y_solution[1:-1] = y_interior
    y_solution[-1] = delta
    
    # Calculate error
    y_analytical_nodes = analytical_solution(x_nodes)
    max_error = np.max(np.abs(y_solution - y_analytical_nodes))
    
    return x_nodes, y_solution, max_error

print("Finite difference solver function defined successfully!")