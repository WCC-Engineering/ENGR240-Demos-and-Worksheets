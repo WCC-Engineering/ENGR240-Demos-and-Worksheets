{
  "cells": [
    {
      "cell_type": "markdown",
      "metadata": {
        "id": "view-in-github",
        "colab_type": "text"
      },
      "source": [
        "[![Open In Colab](https://colab.research.google.com/assets/colab-badge.svg)](https://colab.research.google.com/github/WCC-Engineering/ENGR240/blob/main/Class%20Demos%20and%20Activities/Week%2010/Worksheet%2010-2%20Finite%20Difference%20Methods%20for%20BVPs.ipynb)"
      ]
    },
    {
      "cell_type": "markdown",
      "metadata": {
        "id": "FiniteDifferenceIntro"
      },
      "source": [
        "# Worksheet 10.2 Finite Difference Method for Boundary Value Problems\n",
        "## ENGR 240: Engineering Computations\n",
        "\n",
        "## Introduction: Beam Deflection Analysis\n",
        "\n",
        "In structural engineering, understanding beam deflection is critical for ensuring safe and reliable designs. This worksheet explores the **finite difference method** for solving boundary value problems through the analysis of a simply supported beam with foundation settlement.\n",
        "\n",
        "### Physical System\n",
        "\n",
        "**Simply Supported Beam Specifications:**\n",
        "- **Length**: 4.0 m\n",
        "- **Material**: Steel (E = 200 × 10⁹ Pa)\n",
        "- **Moment of Inertia**: I = 8.33 × 10⁻⁶ m⁴\n",
        "- **Loading**: Uniform distributed load w = 1000 N/m (downward)\n",
        "- **Support conditions**: Left pinned, right settled by δ = 5 mm\n",
        "\n",
        "### Mathematical Model\n",
        "\n",
        "The governing differential equation for beam deflection starts with the fourth-order equation:\n",
        "$EI\\frac{d^4y}{dx^4} = w(x)$\n",
        "\n",
        "For our uniform distributed load case with $w(x) = w$, integrating twice:\n",
        "- First integration: $EI\\frac{d^3y}{dx^3} = wx + C_1$ (shear force relationship)\n",
        "- Second integration: $EI\\frac{d^2y}{dx^2} = \\frac{wx^2}{2} + C_1x + C_2$ (bending moment $M(x)$)\n",
        "\n",
        "For a simply supported beam, the bending moment must be zero at both ends:\n",
        "- At $x = 0$: $M(0) = C_2 = 0$\n",
        "- At $x = L$: $M(L) = \\frac{wL^2}{2} + C_1L = 0 \\Rightarrow C_1 = -\\frac{wL}{2}$\n",
        "\n",
        "Therefore, the bending moment equation becomes:\n",
        "$EI\\frac{d^2y}{dx^2} = \\frac{wLx}{2} - \\frac{wx^2}{2} = \\frac{wx}{2}(L - x)$\n",
        "\n",
        "**Boundary Conditions:**\n",
        "- **Left support (x = 0)**: $y(0) = 0$ (pinned connection)\n",
        "- **Right support (x = L)**: $y(L) = \\delta = 0.005$ m (foundation settlement)\n",
        "\n",
        "**Learning Objectives:**\n",
        "- Apply finite difference approximations to boundary value problems\n",
        "- Formulate coefficient matrices for linear systems by hand\n",
        "- Understand how boundary conditions modify the linear system\n",
        "- Investigate mesh refinement and convergence to analytical solutions"
      ]
    },
    {
      "cell_type": "code",
      "execution_count": null,
      "metadata": {
        "id": "imports"
      },
      "outputs": [],
      "source": [
        "import numpy as np\n",
        "import matplotlib.pyplot as plt\n",
        "\n",
        "plt.style.use('seaborn-v0_8-whitegrid')\n",
        "plt.rcParams['figure.figsize'] = [12, 8]\n",
        "print(\"Libraries imported successfully!\")"
      ]
    },
    {
      "cell_type": "markdown",
      "metadata": {
        "id": "SystemParameters"
      },
      "source": [
        "## System Parameters"
      ]
    },
    {
      "cell_type": "code",
      "execution_count": null,
      "metadata": {
        "id": "parameters"
      },
      "outputs": [],
      "source": [
        "# Physical parameters\n",
        "L = 4.0           # Beam length (m)\n",
        "w = 1000.0        # Distributed load (N/m)\n",
        "E = 200e9         # Young's modulus (Pa)\n",
        "I = 8.33e-6       # Moment of inertia (m^4)\n",
        "delta = 0.005     # Settlement at right end (m)\n",
        "\n",
        "# Display parameters\n",
        "print(\"=== Beam Deflection Analysis Parameters ===\")\n",
        "print(f\"Length: {L} m\")\n",
        "print(f\"Distributed load: {w} N/m\")\n",
        "print(f\"Young's modulus: {E/1e9:.0f} GPa\")\n",
        "print(f\"Moment of inertia: {I*1e6:.2f} × 10⁻⁶ m⁴\")\n",
        "print(f\"Settlement: {delta*1000:.0f} mm\")\n",
        "print(f\"\\nCorrect ODE: EI d²y/dx² = (wx/2)(L-x)\")\n",
        "print(\"This accounts for proper simply supported boundary conditions.\")"
      ]
    },
    {
      "cell_type": "markdown",
      "metadata": {
        "id": "Task1"
      },
      "source": [
        "## Task 1: Problem Setup and Analytical Solution (10 minutes)\n",
        "\n",
        "Before applying the finite difference method, let's establish our reference solution. For this beam problem, the analytical solution accounts for the correct simply supported boundary conditions on bending moment."
      ]
    },
    {
      "cell_type": "code",
      "execution_count": null,
      "metadata": {
        "id": "analytical_solution"
      },
      "outputs": [],
      "source": [
        "def analytical_solution(x):\n",
        "    \"\"\"\n",
        "    Analytical solution for simply supported beam with uniform load and settlement.\n",
        "    \n",
        "    Based on the correct ODE: EI d²y/dx² = (wx/2)(L-x)\n",
        "    Integrating twice and applying boundary conditions gives the classical\n",
        "    simply supported beam deflection formula plus settlement effect.\n",
        "    \n",
        "    Components:\n",
        "    - Classical beam deflection: -(w/24EI) * x * (L³ - 2L²x + x³)\n",
        "    - Linear settlement variation: δ * x / L\n",
        "    \"\"\"\n",
        "    # Classical simply supported beam deflection (accounts for moment BCs)\n",
        "    beam_deflection = -(w/(24*E*I)) * x * (L**3 - 2*L**2*x + x**3)\n",
        "    \n",
        "    # Linear settlement variation from left (0) to right (δ)\n",
        "    settlement_effect = delta * x / L\n",
        "    \n",
        "    return beam_deflection + settlement_effect\n",
        "\n",
        "# Generate analytical solution for plotting\n",
        "x_analytical = np.linspace(0, L, 200)\n",
        "y_analytical = analytical_solution(x_analytical)\n",
        "\n",
        "# Plot the reference solution\n",
        "plt.figure(figsize=(12, 6))\n",
        "plt.plot(x_analytical, y_analytical*1000, 'b-', linewidth=3, label='Analytical Solution')\n",
        "plt.axhline(y=0, color='k', linestyle='--', alpha=0.3)\n",
        "plt.axhline(y=delta*1000, color='r', linestyle=':', alpha=0.5, label=f'Settlement = {delta*1000:.0f} mm')\n",
        "\n",
        "plt.xlabel('Position x (m)', fontsize=12)\n",
        "plt.ylabel('Deflection y (mm)', fontsize=12)\n",
        "plt.title('Beam Deflection: Analytical Reference Solution', fontsize=14, fontweight='bold')\n",
        "plt.grid(True, alpha=0.3)\n",
        "plt.legend(fontsize=12)\n",
        "plt.tight_layout()\n",
        "plt.show()\n",
        "\n",
        "# Key results\n",
        "max_deflection = np.min(y_analytical)\n",
        "max_location = x_analytical[np.argmin(y_analytical)]\n",
        "print(f\"\\n=== Analytical Solution Results ===\")\n",
        "print(f\"Maximum deflection: {max_deflection*1000:.2f} mm\")\n",
        "print(f\"Location of maximum: {max_location:.2f} m from left support\")\n",
        "print(f\"Deflection at right end: {delta*1000:.1f} mm (settlement)\")\n",
        "print(f\"\\nNote: This solution satisfies both displacement and moment boundary conditions.\")"
      ]
    },
    {
      "cell_type": "markdown",
      "metadata": {
        "id": "Task2"
      },
      "source": [
        "## Task 2: Finite Difference Fundamentals (8 minutes)\n",
        "\n",
        "### The Challenge: Variable Coefficient ODE\n",
        "\n",
        "Our governing equation is:\n",
        "$EI\\frac{d^2y}{dx^2} = \\frac{wx}{2}(L-x)$\n",
        "\n",
        "This has a **variable right-hand side** that depends on position $x$. At each grid point $x_i$, we need:\n",
        "$\\frac{d^2y}{dx^2}\\bigg|_{x=x_i} = \\frac{w x_i}{2EI}(L-x_i)$\n",
        "\n",
        "### Finite Difference Approximation\n",
        "\n",
        "Using the second-order central difference:\n",
        "$\\frac{d^2y}{dx^2}\\bigg|_{x=x_i} \\approx \\frac{y_{i+1} - 2y_i + y_{i-1}}{h^2}$\n",
        "\n",
        "### Grid Discretization\n",
        "\n",
        "For our 6-node system:\n",
        "- **Grid spacing**: $h = L/(n-1) = 4.0/5 = 0.8$ m  \n",
        "- **Node locations**: x₀ = 0, x₁ = 0.8, x₂ = 1.6, x₃ = 2.4, x₄ = 3.2, x₅ = 4.0\n",
        "- **Known values**: y₀ = 0 (left BC), y₅ = δ (right BC)\n",
        "- **Unknowns**: y₁, y₂, y₃, y₄ (4 interior nodes → 4 equations needed)"
      ]
    },
    {
      "cell_type": "code",
      "execution_count": null,
      "metadata": {
        "id": "grid_setup"
      },
      "outputs": [],
      "source": [
        "# 6-node grid setup\n",
        "n_nodes = 6\n",
        "h = L / (n_nodes - 1)\n",
        "x_nodes = np.linspace(0, L, n_nodes)\n",
        "\n",
        "print(\"=== 6-Node Finite Difference Grid ===\")\n",
        "print(f\"Grid spacing: h = {h:.1f} m\")\n",
        "print(f\"Number of interior nodes: {n_nodes-2}\")\n",
        "print(\"\\nNode Information:\")\n",
        "print(\"Node    x (m)    Condition          RHS Value\")\n",
        "print(\"-\" * 55)\n",
        "for i, x in enumerate(x_nodes):\n",
        "    if i == 0:\n",
        "        condition = \"y = 0 (pinned)\"\n",
        "        rhs_info = \"N/A\"\n",
        "    elif i == n_nodes-1:\n",
        "        condition = f\"y = {delta*1000:.0f} mm (settlement)\"\n",
        "        rhs_info = \"N/A\"\n",
        "    else:\n",
        "        condition = \"unknown (interior)\"\n",
        "        rhs_val = (w * x / (2 * E * I)) * (L - x) * h**2\n",
        "        rhs_info = f\"{rhs_val:.2e}\"\n",
        "    print(f\"{i:4d}    {x:4.1f}     {condition:20s} {rhs_info}\")\n",
        "\n",
        "print(f\"\\n→ Need {n_nodes-2} equations for {n_nodes-2} unknowns\")\n",
        "print(\"→ Each interior node has a different RHS value due to variable loading\")"
      ]
    },
    {
      "cell_type": "markdown",
      "metadata": {
        "id": "Task3"
      },
      "source": [
        "## Task 3: Hand Formulation of Linear System (20 minutes)\n",
        "\n",
        "### Step 1: Apply Finite Difference Approximation\n",
        "\n",
        "At each interior node $i$, substitute the finite difference approximation:\n",
        "\n",
        "$\\frac{y_{i+1} - 2y_i + y_{i-1}}{h^2} = \\frac{w x_i}{2EI}(L-x_i)$\n",
        "\n",
        "Rearranging: $y_{i-1} - 2y_i + y_{i+1} = \\frac{w x_i h^2}{2EI}(L-x_i)$\n",
        "\n",
        "### Step 2: Write Equations for Interior Nodes\n",
        "\n",
        "Apply this formula at nodes 1, 2, 3, and 4:"
      ]
    },
    {
      "cell_type": "code",
      "execution_count": null,
      "metadata": {
        "id": "fd_equations"
      },
      "outputs": [],
      "source": [
        "# Calculate the RHS constants for each interior node\n",
        "print(\"=== Finite Difference Equations (Variable RHS) ===\")\n",
        "print(\"\\nInterior node equations (before applying boundary conditions):\")\n",
        "\n",
        "rhs_values = []\n",
        "for i in range(1, n_nodes-1):  # Interior nodes 1, 2, 3, 4\n",
        "    x_i = x_nodes[i]\n",
        "    rhs_i = (w * x_i * h**2) / (2 * E * I) * (L - x_i)\n",
        "    rhs_values.append(rhs_i)\n",
        "    print(f\"Node {i}: y_{i-1} - 2y_{i} + y_{i+1} = {rhs_i:.6f}\")\n",
        "    print(f\"         (RHS from x={x_i:.1f}: wx(L-x)h²/2EI = {rhs_i:.2e})\")\n",
        "\n",
        "print(\"\\nAfter applying boundary conditions (y₀ = 0, y₅ = δ):\")\n",
        "print(f\"Node 1: 0 - 2y₁ + y₂ = {rhs_values[0]:.6f}  →  -2y₁ + y₂ = {rhs_values[0]:.6f}\")\n",
        "print(f\"Node 2: y₁ - 2y₂ + y₃ = {rhs_values[1]:.6f}\")\n",
        "print(f\"Node 3: y₂ - 2y₃ + y₄ = {rhs_values[2]:.6f}\")\n",
        "print(f\"Node 4: y₃ - 2y₄ + δ = {rhs_values[3]:.6f}  →  y₃ - 2y₄ = {rhs_values[3] - delta:.6f}\")\n",
        "\n",
        "print(\"\\nKey Insight: Variable loading creates different RHS values at each node!\")"
      ]
    },
    {
      "cell_type": "markdown",
      "metadata": {
        "id": "MatrixFormulation"
      },
      "source": [
        "### Step 3: Matrix Formulation\n",
        "\n",
        "**The coefficient matrix A remains the same** (tridiagonal structure), but **the RHS vector b has different values** at each interior node.\n",
        "\n",
        "**Solution:**\n",
        "\n",
        "$\\mathbf{A} = \\begin{bmatrix}\n",
        "-2 & 1 & 0 & 0 \\\\\n",
        "1 & -2 & 1 & 0 \\\\\n",
        "0 & 1 & -2 & 1 \\\\\n",
        "0 & 0 & 1 & -2\n",
        "\\end{bmatrix}, \\quad\n",
        "\\mathbf{b} = \\begin{bmatrix}\n",
        "\\frac{wx_1h^2}{2EI}(L-x_1) \\\\\n",
        "\\frac{wx_2h^2}{2EI}(L-x_2) \\\\\n",
        "\\frac{wx_3h^2}{2EI}(L-x_3) \\\\\n",
        "\\frac{wx_4h^2}{2EI}(L-x_4) - \\delta\n",
        "\\end{bmatrix}$"
      ]
    },
    {
      "cell_type": "code",
      "execution_count": null,
      "metadata": {
        "id": "matrix_construction"
      },
      "outputs": [],
      "source": [
        "# Construct the coefficient matrix A (same tridiagonal structure)\n",
        "A_hand = np.array([\n",
        "    [-2.0,  1.0,  0.0,  0.0],   # Node 1 equation\n",
        "    [ 1.0, -2.0,  1.0,  0.0],   # Node 2 equation  \n",
        "    [ 0.0,  1.0, -2.0,  1.0],   # Node 3 equation\n",
        "    [ 0.0,  0.0,  1.0, -2.0]    # Node 4 equation\n",
        "])\n",
        "\n",
        "# Construct the RHS vector b (now with variable values)\n",
        "b_hand = np.array([\n",
        "    rhs_values[0],              # Node 1: variable RHS\n",
        "    rhs_values[1],              # Node 2: variable RHS\n",
        "    rhs_values[2],              # Node 3: variable RHS\n",
        "    rhs_values[3] - delta       # Node 4: variable RHS - δ (boundary effect!)\n",
        "])\n",
        "\n",
        "print(\"=== Hand-Calculated Linear System (Variable Loading) ===\")\n",
        "print(\"\\nCoefficient matrix A (unchanged):\")\n",
        "print(A_hand)\n",
        "print(\"\\nRHS vector b (now variable):\")\n",
        "for i, val in enumerate(b_hand):\n",
        "    node_num = i + 1\n",
        "    if i == 3:\n",
        "        print(f\"[{val:8.6f}]  ← Node {node_num}: includes settlement effect\")\n",
        "    else:\n",
        "        print(f\"[{val:8.6f}]  ← Node {node_num}: wx(L-x)h²/2EI\")\n",
        "\n",
        "print(f\"\\nKey Difference: Each RHS value accounts for the local loading at that node position.\")\n",
        "print(\"The simply supported beam has spatially varying curvature, not constant curvature!\")"
      ]
    },
    {
      "cell_type": "markdown",
      "metadata": {
        "id": "Task4"
      },
      "source": [
        "## Task 4: Solution and Comparison (12 minutes)"
      ]
    },
    {
      "cell_type": "code",
      "execution_count": null,
      "metadata": {
        "id": "solve_system"
      },
      "outputs": [],
      "source": [
        "# Solve the linear system\n",
        "y_interior = np.linalg.solve(A_hand, b_hand)\n",
        "\n",
        "print(\"=== Linear System Solution ===\")\n",
        "print(\"Interior node deflections:\")\n",
        "for i, deflection in enumerate(y_interior, 1):\n",
        "    print(f\"y_{i} = {deflection:8.6f} m = {deflection*1000:7.3f} mm\")\n",
        "\n",
        "# Construct complete solution vector\n",
        "y_fd_complete = np.zeros(n_nodes)\n",
        "y_fd_complete[0] = 0.0           # Left BC: y₀ = 0\n",
        "y_fd_complete[1:5] = y_interior  # Interior solutions\n",
        "y_fd_complete[5] = delta         # Right BC: y₅ = δ\n",
        "\n",
        "print(f\"\\nComplete nodal solution:\")\n",
        "print(\"Node    x (m)    FD Solution (mm)    Analytical (mm)    Error (mm)\")\n",
        "print(\"-\" * 70)\n",
        "\n",
        "y_analytical_nodes = analytical_solution(x_nodes)\n",
        "for i, (x, y_fd, y_ana) in enumerate(zip(x_nodes, y_fd_complete, y_analytical_nodes)):\n",
        "    error = (y_fd - y_ana) * 1000\n",
        "    print(f\"{i:4d}    {x:4.1f}     {y_fd*1000:10.3f}       {y_ana*1000:10.3f}      {error:+7.3f}\")\n",
        "\n",
        "max_error = np.max(np.abs(y_fd_complete - y_analytical_nodes)) * 1000\n",
        "print(f\"\\nMaximum error: {max_error:.4f} mm\")\n",
        "print(\"The finite difference solution closely matches the analytical solution!\")"
      ]
    },
    {
      "cell_type": "markdown",
      "metadata": {
        "id": "Summary"
      },
      "source": [
        "## Engineering Insights and Summary\n",
        "\n",
        "### Key Learning Points\n",
        "\n",
        "**Mathematical Modeling:**\n",
        "- Simply supported beams require zero bending moment boundary conditions\n",
        "- This leads to the correct ODE: $EI\\frac{d^2y}{dx^2} = \\frac{wx}{2}(L-x)$\n",
        "- The RHS varies with position, creating a **variable coefficient BVP**\n",
        "\n",
        "**Finite Difference Method:**\n",
        "- Coefficient matrix structure remains the same (tridiagonal)\n",
        "- RHS vector values change at each interior node\n",
        "- Each node accounts for local loading conditions\n",
        "- Boundary conditions still modify the RHS vector\n",
        "\n",
        "**Engineering Applications:**\n",
        "- Foundation settlement analysis with proper beam theory\n",
        "- Variable loading distributions\n",
        "- Different support conditions and boundary constraints\n",
        "- Validates importance of correct mathematical modeling\n",
        "\n",
        "**Convergence Behavior:**\n",
        "- Error still decreases as O(h²) for 2nd-order finite differences\n",
        "- Accurate solutions even with coarse grids\n",
        "- Proper physics leads to better numerical behavior"
      ]
    }
  ],
  "metadata": {
    "colab": {
      "provenance": []
    },
    "kernelspec": {
      "display_name": "Python 3",
      "name": "python3"
    },
    "language_info": {
      "name": "python"
    }
  },
  "nbformat": 4,
  "nbformat_minor": 0
}