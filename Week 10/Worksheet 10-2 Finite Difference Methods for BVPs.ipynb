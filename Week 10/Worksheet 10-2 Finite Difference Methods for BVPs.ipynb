        "print(f\"\\nMaximum deflection - Uniform: {np.min(y_uniform)*1000:.3f} mm\")\n",
        "print(f\"Maximum deflection - Linear:  {np.min(y_linear)*1000:.3f} mm\")\n",
        "print(f\"Difference: {(np.min(y_linear) - np.min(y_uniform))*1000:.3f} mm\")"