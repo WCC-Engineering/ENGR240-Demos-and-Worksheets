{
  "cells": [
    {
      "cell_type": "markdown",
      "metadata": {
        "id": "colab-badge"
      },
      "source": [
        "[![Open In Colab](https://colab.research.google.com/assets/colab-badge.svg)](https://colab.research.google.com/github/WCC-Engineering/ENGR240/blob/main/Class%20Demos%20and%20Activities/Week%201/maclaurin_sine_demo.ipynb)"
      ]
    },
    {
      "cell_type": "markdown",
      "metadata": {
        "id": "title-cell"
      },
      "source": [
        "# MacLaurin Series Approximation for Sine\n",
        "\n",
        "## ENGR& 240: Engineering Computations\n",
        "### Introduction to Scientific Computing with Python\n",
        "\n",
        "This demo illustrates how adding terms to the MacLaurin series for the sine function improves the accuracy of the approximation. We'll progressively add terms to see how the approximation gets better."
      ]
    },
    {
      "cell_type": "markdown",
      "metadata": {
        "id": "intro-cell"
      },
      "source": [
        "## Introduction\n",
        "\n",
        "The MacLaurin series for sine is a power series expansion about x = 0:\n",
        "\n",
        "$$\\sin(x) = x - \\frac{x^3}{3!} + \\frac{x^5}{5!} - \\frac{x^7}{7!} + \\frac{x^9}{9!} - \\cdots$$\n",
        "\n",
        "As we add more terms to this series, the approximation becomes more accurate over a wider range of input values. This demonstration will visualize how the accuracy improves with each additional term."
      ]
    },
    {
      "cell_type": "code",
      "execution_count": null,
      "metadata": {
        "id": "import-cell"
      },
      "source": [
        "import numpy as np\n",
        "import matplotlib.pyplot as plt\n",
        "import math  # For factorial calculations\n",
        "\n",
        "# Set style for better visualization\n",
        "plt.style.use('seaborn-v0_8-whitegrid')\n",
        "plt.rcParams['figure.figsize'] = (12, 6)"
      ],
      "outputs": []
    },
    {
      "cell_type": "markdown",
      "metadata": {
        "id": "setup-cell"
      },
      "source": [
        "## Setting up the x-axis and true sine values\n",
        "\n",
        "First, let's create our x-axis values and calculate the true sine values for comparison."
      ]
    },
    {
      "cell_type": "code",
      "execution_count": null,
      "metadata": {
        "id": "setup-code"
      },
      "source": [
        "# Create x values spanning -2π to 2π\n",
        "x = np.linspace(-2*np.pi, 2*np.pi, 1000)\n",
        "\n",
        "# Compute actual sine values\n",
        "true_sine = np.sin(x)\n",
        "\n",
        "# Plot the true sine function\n",
        "plt.figure(figsize=(12, 6))\n",
        "plt.plot(x, true_sine, 'k-', linewidth=2, label='True sine')\n",
        "plt.title('Sine Function')\n",
        "plt.xlabel('x (radians)')\n",
        "plt.ylabel('sin(x)')\n",
        "plt.grid(True)\n",
        "\n",
        "# Add vertical lines at π intervals\n",
        "plt.axvline(x=-2*np.pi, color='gray', linestyle='--', alpha=0.5)\n",
        "plt.axvline(x=-np.pi, color='gray', linestyle='--', alpha=0.5)\n",
        "plt.axvline(x=0, color='gray', linestyle='--', alpha=0.5)\n",
        "plt.axvline(x=np.pi, color='gray', linestyle='--', alpha=0.5)\n",
        "plt.axvline(x=2*np.pi, color='gray', linestyle='--', alpha=0.5)\n",
        "\n",
        "# Add text labels for π values\n",
        "plt.text(-2*np.pi-0.3, 0.8, '-2π')\n",
        "plt.text(-np.pi-0.2, 0.8, '-π')\n",
        "plt.text(-0.1, 0.8, '0')\n",
        "plt.text(np.pi-0.2, 0.8, 'π')\n",
        "plt.text(2*np.pi-0.3, 0.8, '2π')\n",
        "\n",
        "# Set y-axis limits to -5 to 5\n",
        "plt.ylim(-5, 5)\n",
        "\n",
        "plt.legend()\n",
        "plt.show()"
      ],
      "outputs": []
    },
    {
      "cell_type": "markdown",
      "metadata": {
        "id": "term1-header"
      },
      "source": [
        "## First Term Approximation: $\\sin(x) \\approx x$\n",
        "\n",
        "The first term in the MacLaurin series for sine is simply $x$. Let's see how this approximates the sine function."
      ]
    },
    {
      "cell_type": "code",
      "execution_count": null,
      "metadata": {
        "id": "term1-code"
      },
      "source": [
        "# First term approximation: sin(x) ≈ x\n",
        "approx1 = x\n",
        "\n",
        "# Plot true sine and first approximation\n",
        "plt.figure(figsize=(12, 6))\n",
        "plt.plot(x, true_sine, 'k-', linewidth=2, label='True sine')\n",
        "plt.plot(x, approx1, 'r-', linewidth=1.5, label='1-term: $sin(x) \\approx x$')\n",
        "plt.title('MacLaurin Series Approximation of Sine: 1 Term')\n",
        "plt.xlabel('x (radians)')\n",
        "plt.ylabel('sin(x)')\n",
        "plt.grid(True)\n",
        "\n",
        "# Add vertical lines at π intervals\n",
        "plt.axvline(x=-2*np.pi, color='gray', linestyle='--', alpha=0.5)\n",
        "plt.axvline(x=-np.pi, color='gray', linestyle='--', alpha=0.5)\n",
        "plt.axvline(x=0, color='gray', linestyle='--', alpha=0.5)\n",
        "plt.axvline(x=np.pi, color='gray', linestyle='--', alpha=0.5)\n",
        "plt.axvline(x=2*np.pi, color='gray', linestyle='--', alpha=0.5)\n",
        "\n",
        "# Add text labels for π values\n",
        "plt.text(-2*np.pi-0.3, 0.8, '-2π')\n",
        "plt.text(-np.pi-0.2, 0.8, '-π')\n",
        "plt.text(-0.1, 0.8, '0')\n",
        "plt.text(np.pi-0.2, 0.8, 'π')\n",
        "plt.text(2*np.pi-0.3, 0.8, '2π')\n",
        "\n",
        "# Set y-axis limits to -5 to 5\n",
        "plt.ylim(-5, 5)\n",
        "\n",
        "plt.legend()\n",
        "plt.show()"
      ],
      "outputs": []
    },
    {
      "cell_type": "markdown",
      "metadata": {
        "id": "term2-header"
      },
      "source": [
        "## Two-Term Approximation: $\\sin(x) \\approx x - \\frac{x^3}{3!}$\n",
        "\n",
        "Let's add the second term to our approximation."
      ]
    },
    {
      "cell_type": "code",
      "execution_count": null,
      "metadata": {
        "id": "term2-code"
      },
      "source": [
        "# Second term approximation: sin(x) ≈ x - x^3/3!\n",
        "# Using math.factorial for factorial calculations\n",
        "approx2 = x - (x**3) / math.factorial(3)\n",
        "\n",
        "# Plot true sine and approximations\n",
        "plt.figure(figsize=(12, 6))\n",
        "plt.plot(x, true_sine, 'k-', linewidth=2, label='True sine')\n",
        "plt.plot(x, approx1, 'r-', linewidth=1.5, label='1-term: $sin(x) \\approx x$')\n",
        "plt.plot(x, approx2, 'g-', linewidth=1.5, label='2-term: $sin(x) \\approx x - \\frac{x^3}{3!}$')\n",
        "plt.title('MacLaurin Series Approximation of Sine: 2 Terms')\n",
        "plt.xlabel('x (radians)')\n",
        "plt.ylabel('sin(x)')\n",
        "plt.grid(True)\n",
        "\n",
        "# Add vertical lines at π intervals\n",
        "plt.axvline(x=-2*np.pi, color='gray', linestyle='--', alpha=0.5)\n",
        "plt.axvline(x=-np.pi, color='gray', linestyle='--', alpha=0.5)\n",
        "plt.axvline(x=0, color='gray', linestyle='--', alpha=0.5)\n",
        "plt.axvline(x=np.pi, color='gray', linestyle='--', alpha=0.5)\n",
        "plt.axvline(x=2*np.pi, color='gray', linestyle='--', alpha=0.5)\n",
        "\n",
        "# Add text labels for π values\n",
        "plt.text(-2*np.pi-0.3, 0.8, '-2π')\n",
        "plt.text(-np.pi-0.2, 0.8, '-π')\n",
        "plt.text(-0.1, 0.8, '0')\n",
        "plt.text(np.pi-0.2, 0.8, 'π')\n",
        "plt.text(2*np.pi-0.3, 0.8, '2π')\n",
        "\n",
        "# Set y-axis limits to -5 to 5\n",
        "plt.ylim(-5, 5)\n",
        "\n",
        "plt.legend()\n",
        "plt.show()"
      ],
      "outputs": []
    },
    {
      "cell_type": "markdown",
      "metadata": {
        "id": "term3-header"
      },
      "source": [
        "## Three-Term Approximation: $\\sin(x) \\approx x - \\frac{x^3}{3!} + \\frac{x^5}{5!}$\n",
        "\n",
        "Let's add the third term to our approximation."
      ]
    },
    {
      "cell_type": "code",
      "execution_count": null,
      "metadata": {
        "id": "term3-code"
      },
      "source": [
        "# Third term approximation: sin(x) ≈ x - x^3/3! + x^5/5!\n",
        "approx3 = x - (x**3) / math.factorial(3) + (x**5) / math.factorial(5)\n",
        "\n",
        "# Plot true sine and approximations\n",
        "plt.figure(figsize=(12, 6))\n",
        "plt.plot(x, true_sine, 'k-', linewidth=2, label='True sine')\n",
        "plt.plot(x, approx1, 'r-', linewidth=1.5, label='1-term: $sin(x) \\approx x$')\n",
        "plt.plot(x, approx2, 'g-', linewidth=1.5, label='2-term: $sin(x) \\approx x - \\frac{x^3}{3!}$')\n",
        "plt.plot(x, approx3, 'b-', linewidth=1.5, label='3-term: $sin(x) \\approx x - \\frac{x^3}{3!} + \\frac{x^5}{5!}$')\n",
        "plt.title('MacLaurin Series Approximation of Sine: 3 Terms')\n",
        "plt.xlabel('x (radians)')\n",
        "plt.ylabel('sin(x)')\n",
        "plt.grid(True)\n",
        "\n",
        "# Add vertical lines at π intervals\n",
        "plt.axvline(x=-2*np.pi, color='gray', linestyle='--', alpha=0.5)\n",
        "plt.axvline(x=-np.pi, color='gray', linestyle='--', alpha=0.5)\n",
        "plt.axvline(x=0, color='gray', linestyle='--', alpha=0.5)\n",
        "plt.axvline(x=np.pi, color='gray', linestyle='--', alpha=0.5)\n",
        "plt.axvline(x=2*np.pi, color='gray', linestyle='--', alpha=0.5)\n",
        "\n",
        "# Add text labels for π values\n",
        "plt.text(-2*np.pi-0.3, 0.8, '-2π')\n",
        "plt.text(-np.pi-0.2, 0.8, '-π')\n",
        "plt.text(-0.1, 0.8, '0')\n",
        "plt.text(np.pi-0.2, 0.8, 'π')\n",
        "plt.text(2*np.pi-0.3, 0.8, '2π')\n",
        "\n",
        "# Set y-axis limits to -5 to 5\n",
        "plt.ylim(-5, 5)\n",
        "\n",
        "plt.legend()\n",
        "plt.show()"
      ],
      "outputs": []
    },
    {
      "cell_type": "markdown",
      "metadata": {
        "id": "term4-header"
      },
      "source": [
        "## Four-Term Approximation: $\\sin(x) \\approx x - \\frac{x^3}{3!} + \\frac{x^5}{5!} - \\frac{x^7}{7!}$\n",
        "\n",
        "Let's add the fourth term to our approximation."
      ]
    },
    {
      "cell_type": "code",
      "execution_count": null,
      "metadata": {
        "id": "term4-code"
      },
      "source": [
        "# Fourth term approximation: sin(x) ≈ x - x^3/3! + x^5/5! - x^7/7!\n",
        "approx4 = x - (x**3) / math.factorial(3) + (x**5) / math.factorial(5) - (x**7) / math.factorial(7)\n",
        "\n",
        "# Plot true sine and approximations\n",
        "plt.figure(figsize=(12, 6))\n",
        "plt.plot(x, true_sine, 'k-', linewidth=2, label='True sine')\n",
        "plt.plot(x, approx1, 'r-', linewidth=1.5, label='1-term')\n",
        "plt.plot(x, approx2, 'g-', linewidth=1.5, label='2-term')\n",
        "plt.plot(x, approx3, 'b-', linewidth=1.5, label='3-term')\n",
        "plt.plot(x, approx4, 'm-', linewidth=1.5, label='4-term')\n",
        "plt.title('MacLaurin Series Approximation of Sine: 4 Terms')\n",
        "plt.xlabel('x (radians)')\n",
        "plt.ylabel('sin(x)')\n",
        "plt.grid(True)\n",
        "\n",
        "# Add vertical lines at π intervals\n",
        "plt.axvline(x=-2*np.pi, color='gray', linestyle='--', alpha=0.5)\n",
        "plt.axvline(x=-np.pi, color='gray', linestyle='--', alpha=0.5)\n",
        "plt.axvline(x=0, color='gray', linestyle='--', alpha=0.5)\n",
        "plt.axvline(x=np.pi, color='gray', linestyle='--', alpha=0.5)\n",
        "plt.axvline(x=2*np.pi, color='gray', linestyle='--', alpha=0.5)\n",
        "\n",
        "# Add text labels for π values\n",
        "plt.text(-2*np.pi-0.3, 0.8, '-2π')\n",
        "plt.text(-np.pi-0.2, 0.8, '-π')\n",
        "plt.text(-0.1, 0.8, '0')\n",
        "plt.text(np.pi-0.2, 0.8, 'π')\n",
        "plt.text(2*np.pi-0.3, 0.8, '2π')\n",
        "\n",
        "# Set y-axis limits to -5 to 5\n",
        "plt.ylim(-5, 5)\n",
        "\n",
        "plt.legend()\n",
        "plt.show()"
      ],
      "outputs": []
    },
    {
      "cell_type": "markdown",
      "metadata": {
        "id": "term5-header"
      },
      "source": [
        "## Five-Term Approximation\n",
        "\n",
        "Let's add the fifth term to our approximation: $\\sin(x) \\approx x - \\frac{x^3}{3!} + \\frac{x^5}{5!} - \\frac{x^7}{7!} + \\frac{x^9}{9!}$"
      ]
    },
    {
      "cell_type": "code",
      "execution_count": null,
      "metadata": {
        "id": "term5-code"
      },
      "source": [
        "# Fifth term approximation: sin(x) ≈ x - x^3/3! + x^5/5! - x^7/7! + x^9/9!\n",
        "approx5 = x - (x**3) / math.factorial(3) + (x**5) / math.factorial(5) - (x**7) / math.factorial(7) + (x**9) / math.factorial(9)\n",
        "\n",
        "# Plot true sine and approximations\n",
        "plt.figure(figsize=(12, 6))\n",
        "plt.plot(x, true_sine, 'k-', linewidth=2, label='True sine')\n",
        "plt.plot(x, approx1, 'r-', linewidth=1, label='1-term')\n",
        "plt.plot(x, approx2, 'g-', linewidth=1, label='2-term')\n",
        "plt.plot(x, approx3, 'b-', linewidth=1, label='3-term')\n",
        "plt.plot(x, approx4, 'm-', linewidth=1, label='4-term')\n",
        "plt.plot(x, approx5, 'c-', linewidth=1.5, label='5-term')\n",
        "plt.title('MacLaurin Series Approximation of Sine: 5 Terms')\n",
        "plt.xlabel('x (radians)')\n",
        "plt.ylabel('sin(x)')\n",
        "plt.grid(True)\n",
        "\n",
        "# Add vertical lines at π intervals\n",
        "plt.axvline(x=-2*np.pi, color='gray', linestyle='--', alpha=0.5)\n",
        "plt.axvline(x=-np.pi, color='gray', linestyle='--', alpha=0.5)\n",
        "plt.axvline(x=0, color='gray', linestyle='--', alpha=0.5)\n",
        "plt.axvline(x=np.pi, color='gray', linestyle='--', alpha=0.5)\n",
        "plt.axvline(x=2*np.pi, color='gray', linestyle='--', alpha=0.5)\n",
        "\n",
        "# Add text labels for π values\n",
        "plt.text(-2*np.pi-0.3, 0.8, '-2π')\n",
        "plt.text(-np.pi-0.2, 0.8, '-π')\n",
        "plt.text(-0.1, 0.8, '0')\n",
        "plt.text(np.pi-0.2, 0.8, 'π')\n",
        "plt.text(2*np.pi-0.3, 0.8, '2π')\n",
        "\n",
        "# Set y-axis limits to -5 to 5\n",
        "plt.ylim(-5, 5)\n",
        "\n",
        "plt.legend()\n",
        "plt.show()"
      ],
      "outputs": []
    },
    {
      "cell_type": "markdown",
      "metadata": {
        "id": "comparison-header"
      },
      "source": [
        "## Comparing Approximation Accuracy at Specific Points\n",
        "\n",
        "Let's examine the numerical values at specific points to better understand the increasing accuracy."
      ]
    },
    {
      "cell_type": "code",
      "execution_count": null,
      "metadata": {
        "id": "comparison-code"
      },
      "source": [
        "# Create a table showing approximation values at specific points\n",
        "import pandas as pd\n",
        "from IPython.display import display, HTML\n",
        "\n",
        "# Calculate sine and approximations at specific points\n",
        "test_points = np.array([0, np.pi/6, np.pi/4, np.pi/2, np.pi])\n",
        "test_points_labels = ['0', 'π/6', 'π/4', 'π/2', 'π']\n",
        "true_values = np.sin(test_points)\n",
        "\n",
        "# Calculate approximations at these points\n",
        "approx1_vals = test_points  # 1-term\n",
        "\n",
        "# 2-term\n",
        "approx2_vals = test_points - (test_points**3) / math.factorial(3)\n",
        "\n",
        "# 3-term\n",
        "approx3_vals = test_points - (test_points**3) / math.factorial(3) + (test_points**5) / math.factorial(5)\n",
        "\n",
        "# 4-term\n",
        "approx4_vals = test_points - (test_points**3) / math.factorial(3) + (test_points**5) / math.factorial(5) - (test_points**7) / math.factorial(7)\n",
        "\n",
        "# 5-term\n",
        "approx5_vals = test_points - (test_points**3) / math.factorial(3) + (test_points**5) / math.factorial(5) - (test_points**7) / math.factorial(7) + (test_points**9) / math.factorial(9)\n",
        "\n",
        "# Create a DataFrame\n",
        "data = {'x': test_points_labels, \n",
        "        'True Sine': true_values,\n",
        "        '1-term': approx1_vals,\n",
        "        '2-term': approx2_vals,\n",
        "        '3-term': approx3_vals,\n",
        "        '4-term': approx4_vals,\n",
        "        '5-term': approx5_vals\n",
        "       }\n",
        "\n",
        "df = pd.DataFrame(data)\n",
        "pd.set_option('display.precision', 8)  # Show 8 decimal places\n",
        "\n",
        "# Display the table with formatting\n",
        "display(HTML(\"<h3>Sine Approximation Values</h3>\"))\n",
        "display(df)\n",
        "\n",
        "# Calculate and display absolute errors\n",
        "error1 = np.abs(approx1_vals - true_values)\n",
        "error2 = np.abs(approx2_vals - true_values)\n",
        "error3 = np.abs(approx3_vals - true_values)\n",
        "error4 = np.abs(approx4_vals - true_values)\n",
        "error5 = np.abs(approx5_vals - true_values)\n",
        "\n",
        "error_data = {'x': test_points_labels, \n",
        "              '1-term Error': error1,\n",
        "              '2-term Error': error2,\n",
        "              '3-term Error': error3,\n",
        "              '4-term Error': error4,\n",
        "              '5-term Error': error5\n",
        "             }\n",
        "\n",
        "error_df = pd.DataFrame(error_data)\n",
        "\n",
        "display(HTML(\"<h3>Absolute Error in Approximations</h3>\"))\n",
        "display(error_df)"
      ],
      "outputs": []
    },
    {
      "cell_type": "markdown",
      "metadata": {
        "id": "larger-range-header"
      },
      "source": [
        "## Exploring a Larger Range\n",
        "\n",
        "Let's see how our approximations perform over a larger range of x values."
      ]
    },
    {
      "cell_type": "code",
      "execution_count": null,
      "metadata": {
        "id": "larger-range-code"
      },
      "source": [
        "# Create x values spanning -4π to 4π for a larger view\n",
        "x_large = np.linspace(-4*np.pi, 4*np.pi, 1000)\n",
        "\n",
        "# Calculate true sine values\n",
        "true_sine_large = np.sin(x_large)\n",
        "\n",
        "# Calculate approximations\n",
        "approx1_large = x_large  # 1-term\n",
        "approx3_large = x_large - (x_large**3) / math.factorial(3) + (x_large**5) / math.factorial(5)  # 3-term\n",
        "approx5_large = x_large - (x_large**3) / math.factorial(3) + (x_large**5) / math.factorial(5) - (x_large**7) / math.factorial(7) + (x_large**9) / math.factorial(9)  # 5-term\n",
        "\n",
        "# Plot on a larger range\n",
        "plt.figure(figsize=(14, 7))\n",
        "plt.plot(x_large, true_sine_large, 'k-', linewidth=2, label='True sine')\n",
        "plt.plot(x_large, approx1_large, 'r-', linewidth=1, label='1-term')\n",
        "plt.plot(x_large, approx3_large, 'b-', linewidth=1, label='3-term')\n",
        "plt.plot(x_large, approx5_large, 'c-', linewidth=1.5, label='5-term')\n",
        "plt.title('MacLaurin Series Approximation of Sine: Extended Range')\n",
        "plt.xlabel('x (radians)')\n",
        "plt.ylabel('sin(x)')\n",
        "plt.grid(True)\n",
        "\n",
        "# Add vertical lines at π intervals\n",
        "for i in range(-4, 5):\n",
        "    plt.axvline(x=i*np.pi, color='gray', linestyle='--', alpha=0.5)\n",
        "    plt.text(i*np.pi-0.3, 0.8, f'{i}π' if i != 0 else '0')\n",
        "\n",
        "# Set y-axis limits to -5 to 5\n",
        "plt.ylim(-5, 5)\n",
        "plt.legend()\n",
        "plt.show()"
      ],
      "outputs": []
    },
    {
      "cell_type": "markdown",
      "metadata": {
        "id": "conclusion-cell"
      },
      "source": [
        "## Conclusion\n",
        "\n",
        "This demonstration illustrates several important principles about the MacLaurin series for sine:\n",
        "\n",
        "1. **Accuracy near the origin**: Even with just a few terms, the approximation is very accurate near x = 0, which is the point around which the series is expanded.\n",
        "\n",
        "2. **Increasing accuracy with more terms**: As we add more terms to the series, the approximation becomes more accurate over a wider range of x values. Notice how each additional term extends the range where the approximation closely matches the true sine function.\n",
        "\n",
        "3. **Divergence at extreme values**: No matter how many terms we include, the approximation eventually breaks down for sufficiently large |x|. This is the fundamental limitation of any Taylor/MacLaurin series approximation.\n",
        "\n",
        "4. **Periodic behavior**: The error has a periodic pattern, with certain x values (like multiples of π) showing particularly high error unless enough terms are included.\n",
        "\n",
        "The MacLaurin series provides a powerful way to approximate trigonometric and other transcendental functions using only polynomial terms, which is the foundation for how such functions are calculated in computer systems and numerical algorithms."
      ]
    }
  ],
  "metadata": {
    "colab": {
      "name": "maclaurin_sine_demo.ipynb",
      "provenance": [],
      "toc_visible": true
    },
    "kernelspec": {
      "display_name": "Python 3",
      "name": "python3"
    },
    "language_info": {
      "name": "python"
    }
  },
  "nbformat": 4,
  "nbformat_minor": 0
}