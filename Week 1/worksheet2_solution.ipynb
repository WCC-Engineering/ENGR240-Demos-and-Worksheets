{
  "cells": [
    {
      "cell_type": "markdown",
      "metadata": {
        "id": "colab-badge"
      },
      "source": [
        "[![Open In Colab](https://colab.research.google.com/assets/colab-badge.svg)](https://colab.research.google.com/github/edavishahl/ENGR240/blob/main/Class%20Demos%20and%20Activities/Week%201/worksheet2_solution.ipynb)"
      ]
    },
    {
      "cell_type": "markdown",
      "metadata": {
        "id": "title-cell"
      },
      "source": [
        "# Worksheet 1.2: Electrical Signal Analysis (SOLUTION)\n",
        "\n",
        "## ENGR& 240: Engineering Computations\n",
        "### Introduction to Scientific Computing with Python"
      ]
    },
    {
      "cell_type": "markdown",
      "metadata": {
        "id": "objectives-cell"
      },
      "source": [
        "## Objectives\n",
        "- Apply array operations to analyze signal properties\n",
        "- Identify key characteristics (maxima, minima, thresholds) in signal data\n",
        "- Calculate derived metrics from signal data\n",
        "- Use boolean indexing to find specific signal conditions"
      ]
    },
    {
      "cell_type": "markdown",
      "metadata": {
        "id": "intro-cell"
      },
      "source": [
        "## Introduction\n",
        "\n",
        "Engineers frequently work with electrical signals and need to analyze their properties. In this worksheet, we will explore how Python can be used to analyze common electrical waveforms. We'll focus on sine waves and square waves, which are fundamental in electrical engineering.\n",
        "\n",
        "For these exercises, we'll need the NumPy and Matplotlib libraries:"
      ]
    },
    {
      "cell_type": "code",
      "execution_count": null,
      "metadata": {
        "id": "import-cell"
      },
      "source": [
        "import numpy as np\n",
        "import matplotlib.pyplot as plt\n",
        "\n",
        "# Set plot style for better visualization\n",
        "plt.style.use('seaborn-v0_8-whitegrid')\n",
        "plt.rcParams['figure.figsize'] = (10, 6)"
      ],
      "outputs": []
    },
    {
      "cell_type": "markdown",
      "metadata": {
        "id": "task1-header"
      },
      "source": [
        "## Task 1: Signal Generation and Visualization\n",
        "\n",
        "First, let's generate our test signals. We'll create a sine wave and a square wave to work with during our analysis tasks. This code has been provided for you."
      ]
    },
    {
      "cell_type": "code",
      "execution_count": null,
      "metadata": {
        "id": "task1-code"
      },
      "source": [
        "# Define signal parameters\n",
        "amplitude = 5.0     # Amplitude in volts\n",
        "frequency = 60.0    # Frequency in Hz\n",
        "phase = np.pi/4     # Phase shift in radians\n",
        "\n",
        "# Create time vector from 0 to 50ms with 1000 points\n",
        "t = np.linspace(0, 0.05, 1000)  # 0 to 50ms with 1000 points\n",
        "\n",
        "# Generate sine wave: v(t) = A sin(2πft + φ)\n",
        "sine_wave = amplitude * np.sin(2 * np.pi * frequency * t + phase)\n",
        "\n",
        "# Define square wave parameters\n",
        "square_amplitude = 3.3    # Amplitude in volts\n",
        "square_frequency = 100.0  # Frequency in Hz\n",
        "\n",
        "# Generate square wave using np.sign() function\n",
        "sine_basis = np.sin(2 * np.pi * square_frequency * t)\n",
        "square_wave = square_amplitude * np.sign(sine_basis)\n",
        "\n",
        "# Plot both signals on the same graph\n",
        "plt.figure()\n",
        "plt.plot(t, sine_wave, 'b-', linewidth=2, label='Sine Wave (60Hz, 5V)')\n",
        "plt.plot(t, square_wave, 'r--', linewidth=2, label='Square Wave (100Hz, 3.3V)')\n",
        "\n",
        "# Add title, labels, and legend\n",
        "plt.title('Comparison of Sine and Square Waves')\n",
        "plt.xlabel('Time (s)')\n",
        "plt.ylabel('Voltage (V)')\n",
        "plt.legend()\n",
        "plt.grid(True)\n",
        "plt.show()"
      ],
      "outputs": []
    },
    {
      "cell_type": "markdown",
      "metadata": {
        "id": "task2-header"
      },
      "source": [
        "## Task 2: Signal Analysis Techniques\n",
        "\n",
        "Now that we've created our signals, let's analyze their properties using NumPy array operations."
      ]
    },
    {
      "cell_type": "markdown",
      "metadata": {
        "id": "task2a-header"
      },
      "source": [
        "### Task 2.1: Finding Signal Peaks\n",
        "\n",
        "For a sine wave, the peak values (maxima and minima) are important characteristics. Let's find the peaks in our sine wave and highlight them on a plot.\n",
        "\n",
        "Complete the code below to find the maximum and minimum values in the sine wave, and then plot the sine wave with the peaks marked by distinct points."
      ]
    },
    {
      "cell_type": "code",
      "execution_count": null,
      "metadata": {
        "id": "task2a-code"
      },
      "source": [
        "# Find the maximum value and its index\n",
        "max_value = np.max(sine_wave)\n",
        "max_index = np.argmax(sine_wave)\n",
        "max_time = t[max_index]  # Time at which maximum occurs\n",
        "\n",
        "# Find the minimum value and its index\n",
        "min_value = np.min(sine_wave)\n",
        "min_index = np.argmin(sine_wave)\n",
        "min_time = t[min_index]  # Time at which minimum occurs\n",
        "\n",
        "print(f\"Maximum voltage: {max_value:.2f}V at t = {max_time:.6f}s\")\n",
        "print(f\"Minimum voltage: {min_value:.2f}V at t = {min_time:.6f}s\")\n",
        "\n",
        "# Plot the sine wave with peaks marked\n",
        "plt.figure()\n",
        "plt.plot(t, sine_wave, 'b-', label='Sine Wave')\n",
        "\n",
        "# Mark the maximum with a red point\n",
        "plt.plot(max_time, max_value, 'ro', markersize=8, label='Maximum')\n",
        "\n",
        "# Mark the minimum with a green point\n",
        "plt.plot(min_time, min_value, 'go', markersize=8, label='Minimum')\n",
        "\n",
        "# Add title, labels, and legend\n",
        "plt.title('Sine Wave with Peak Detection')\n",
        "plt.xlabel('Time (s)')\n",
        "plt.ylabel('Voltage (V)')\n",
        "plt.legend()\n",
        "plt.grid(True)\n",
        "plt.show()"
      ],
      "outputs": []
    },
    {
      "cell_type": "markdown",
      "metadata": {
        "id": "task2b-header"
      },
      "source": [
        "### Task 2.2: Calculating Derived Metrics\n",
        "\n",
        "Engineers often need to calculate derived metrics from signals, such as:\n",
        "\n",
        "- RMS (Root Mean Square) value\n",
        "- Average value\n",
        "- Peak-to-peak value\n",
        "\n",
        "The RMS value of a signal is defined as:\n",
        "\n",
        "$$V_{RMS} = \\sqrt{\\frac{1}{N}\\sum_{i=1}^{N}v_i^2}$$\n",
        "\n",
        "Where $v_i$ represents each voltage sample and $N$ is the total number of samples.\n",
        "\n",
        "Complete the code below to calculate these metrics for both the sine and square waves."
      ]
    },
    {
      "cell_type": "code",
      "execution_count": null,
      "metadata": {
        "id": "task2b-code"
      },
      "source": [
        "# Calculate metrics for sine wave\n",
        "sine_rms = np.sqrt(np.mean(sine_wave**2))  # RMS value\n",
        "sine_avg = np.mean(sine_wave)              # Average value\n",
        "sine_p2p = np.max(sine_wave) - np.min(sine_wave)  # Peak-to-peak value\n",
        "\n",
        "# Calculate metrics for square wave\n",
        "square_rms = np.sqrt(np.mean(square_wave**2))  # RMS value\n",
        "square_avg = np.mean(square_wave)              # Average value\n",
        "square_p2p = np.max(square_wave) - np.min(square_wave)  # Peak-to-peak value\n",
        "\n",
        "# Display results in a formatted way\n",
        "print(\"Sine Wave Metrics:\")\n",
        "print(f\"  RMS Value: {sine_rms:.4f}V\")\n",
        "print(f\"  Average Value: {sine_avg:.4f}V\")\n",
        "print(f\"  Peak-to-Peak Value: {sine_p2p:.4f}V\")\n",
        "print(\"\\nSquare Wave Metrics:\")\n",
        "print(f\"  RMS Value: {square_rms:.4f}V\")\n",
        "print(f\"  Average Value: {square_avg:.4f}V\")\n",
        "print(f\"  Peak-to-Peak Value: {square_p2p:.4f}V\")"
      ],
      "outputs": []
    },
    {
      "cell_type": "markdown",
      "metadata": {
        "id": "task2c-header"
      },
      "source": [
        "### Task 2.3: Threshold Crossing Analysis\n",
        "\n",
        "In digital systems, we often need to determine when a signal crosses a particular threshold voltage. For this task:\n",
        "\n",
        "1. Determine all points where the sine wave crosses a threshold of 2.5V (rising edge only)\n",
        "2. Plot the sine wave and mark these threshold crossing points\n",
        "\n",
        "This task introduces boolean indexing/masking, which is a powerful feature in NumPy for data analysis."
      ]
    },
    {
      "cell_type": "code",
      "execution_count": null,
      "metadata": {
        "id": "task2c-code"
      },
      "source": [
        "# Define threshold\n",
        "threshold = 2.5  # Volts\n",
        "\n",
        "# Find rising edge crossings\n",
        "# We want indices where: current value > threshold AND previous value <= threshold\n",
        "rising_indices = np.where((sine_wave[1:] > threshold) & (sine_wave[:-1] <= threshold))[0]\n",
        "\n",
        "# Account for offset due to using [1:] in the condition\n",
        "rising_indices = rising_indices + 1\n",
        "\n",
        "# Get the times and values at these threshold crossings\n",
        "crossing_times = t[rising_indices]\n",
        "crossing_values = sine_wave[rising_indices]\n",
        "\n",
        "print(f\"Found {len(crossing_times)} threshold crossings at:\")\n",
        "for i, time in enumerate(crossing_times):\n",
        "    print(f\"  Crossing {i+1}: t = {time:.6f}s, V = {crossing_values[i]:.4f}V\")\n",
        "\n",
        "# Plot the sine wave with threshold and crossing points\n",
        "plt.figure()\n",
        "plt.plot(t, sine_wave, 'b-', label='Sine Wave')\n",
        "\n",
        "# Add horizontal line for threshold\n",
        "plt.axhline(y=threshold, color='r', linestyle='--', label=f'Threshold ({threshold}V)')\n",
        "\n",
        "# Mark the crossing points\n",
        "plt.plot(crossing_times, crossing_values, 'go', markersize=8, label='Rising Edge Crossings')\n",
        "\n",
        "# Add title, labels, and legend\n",
        "plt.title('Sine Wave Threshold Crossing Analysis')\n",
        "plt.xlabel('Time (s)')\n",
        "plt.ylabel('Voltage (V)')\n",
        "plt.legend()\n",
        "plt.grid(True)\n",
        "plt.show()"
      ],
      "outputs": []
    },
    {
      "cell_type": "markdown",
      "metadata": {
        "id": "reflection-cell"
      },
      "source": [
        "## Reflection\n",
        "\n",
        "After completing this worksheet, answer the following questions:\n",
        "\n",
        "1. How do the RMS values of the sine and square waves compare? Can you explain why they differ?\n",
        "\n",
        "   **Answer**: The RMS value of a square wave is equal to its amplitude (3.3V in our case), while the RMS value of a sine wave is its amplitude divided by √2 (about 3.54V for our 5V sine wave). This difference occurs because a square wave maintains its peak values for the entire cycle, while a sine wave continuously varies. In general terms, the RMS value measures the \"effective\" power of the signal, and for a given amplitude, square waves deliver more power than sine waves.\n",
        "\n",
        "2. What NumPy functions did you find most useful for signal analysis? Why?\n",
        "\n",
        "   **Answer**: Several NumPy functions proved particularly useful:\n",
        "   - `np.sin()`: For generating the sine wave\n",
        "   - `np.sign()`: For creating the square wave\n",
        "   - `np.max()`, `np.min()`, `np.argmax()`, `np.argmin()`: For finding peak values and their positions\n",
        "   - `np.mean()`: For calculating average values\n",
        "   - `np.sqrt()`: For RMS calculations\n",
        "   - Boolean indexing with `np.where()`: For threshold crossing detection\n",
        "   \n",
        "   These functions are valuable because they operate efficiently on entire arrays at once (vectorized operations), which is much faster than using Python loops to process individual elements.\n",
        "\n",
        "3. How could these signal analysis techniques be applied to real-world engineering problems?\n",
        "\n",
        "   **Answer**: These techniques have numerous applications in electrical engineering and signal processing:\n",
        "   - Threshold detection is fundamental for digital signal processing, triggering systems, and fault detection\n",
        "   - RMS calculations are used to determine power consumption in electrical systems\n",
        "   - Peak detection is important for calibration, safety systems, and quality control\n",
        "   - Signal filtering is essential for noise reduction in sensors, communication systems, and audio processing\n",
        "   - Frequency analysis (which could be added) helps in designing filters, identifying system resonances, and diagnosing problems in mechanical systems\n",
        "\n",
        "4. What was the most challenging part of this worksheet? How did you overcome it?\n",
        "\n",
        "   **Answer**: The threshold crossing detection was likely the most challenging part as it required understanding of boolean indexing and careful handling of array indexing. This technique required thinking about how to express a condition that spans two adjacent samples (current > threshold AND previous ≤ threshold). The key was breaking the problem into steps: first identifying the condition, then adjusting the indices to account for the offset created by comparing different parts of the array, and finally extracting the specific times and values at those points."
      ]
    }
  ],
  "metadata": {
    "colab": {
      "name": "worksheet2_solution.ipynb",
      "provenance": [],
      "toc_visible": true
    },
    "kernelspec": {
      "display_name": "Python 3",
      "name": "python3"
    },
    "language_info": {
      "name": "python"
    }
  },
  "nbformat": 4,
  "nbformat_minor": 0
}