{
  "cells": [
    {
      "cell_type": "markdown",
      "metadata": {
        "id": "colab-badge"
      },
      "source": [
        "[![Open In Colab](https://colab.research.google.com/assets/colab-badge.svg)](https://colab.research.google.com/github/edavishahl/ENGR240/blob/main/Class%20Demos%20and%20Activities/Week%201/worksheet1_solution.ipynb)"
      ]
    },
    {
      "cell_type": "markdown",
      "metadata": {
        "id": "title-cell"
      },
      "source": [
        "# Worksheet 1.1: Plotting and Parameter Sensitivity Analysis (SOLUTION)\n",
        "\n",
        "## ENGR& 240: Engineering Computations\n",
        "### Introduction to Scientific Computing with Python"
      ]
    },
    {
      "cell_type": "markdown",
      "metadata": {
        "id": "objectives-cell"
      },
      "source": [
        "## Objectives\n",
        "- Use Python and matplotlib to generate a formatted plot of a mathematical model\n",
        "- Design figures to effectively communicate model sensitivity to parameter changes"
      ]
    },
    {
      "cell_type": "markdown",
      "metadata": {
        "id": "instructions-cell"
      },
      "source": [
        "## Instructions\n",
        "A decaying oscillation (e.g. in a vibrating mechanical system or an electrical circuit) can be modeled with the following function:\n",
        "\n",
        "$$y = Ae^{-kt}\\cos(\\omega t + \\phi)$$\n",
        "\n",
        "This model has four parameters. What are they? How does the value of each parameter affect the graph of this function? Fill out the table below based on your recollection from previous math and/or physics courses (you'll be able to verify this information with your results later)."
      ]
    },
    {
      "cell_type": "markdown",
      "metadata": {
        "id": "parameter-table-cell"
      },
      "source": [
        "| Parameter | Effect on graph |\n",
        "|-----------|----------------|\n",
        "| A         | Initial amplitude (height of oscillation at t=0) |\n",
        "| k         | Decay rate (how quickly the amplitude diminishes) |\n",
        "| ω         | Angular frequency (related to period by T = 2π/ω) |\n",
        "| φ         | Phase shift (shifts the cosine wave left or right) |"
      ]
    },
    {
      "cell_type": "markdown",
      "metadata": {
        "id": "task1-cell"
      },
      "source": [
        "## Python Task 1: Generating a plot of the model\n",
        "\n",
        "Complete the code below to create a Python script that does the following:\n",
        "- Defines values (you pick) for the four parameters.\n",
        "- Defines a time vector with 200 evenly spaced values between 0 and three periods of the oscillation (RECALL: How does the period of the oscillation relate to one of the parameters in the model?)\n",
        "- Generates a graph of the model (y versus t). Include axis labels and a descriptive title on your graph.\n",
        "\n",
        "Experiment with the parameter values you specify (change the values and run your cell again) until you have a graph that shows the effect of each parameter."
      ]
    },
    {
      "cell_type": "code",
      "execution_count": null,
      "metadata": {
        "id": "task1-code-cell"
      },
      "source": [
        "# Import necessary libraries\n",
        "import numpy as np\n",
        "import matplotlib.pyplot as plt\n",
        "\n",
        "# Define parameter values\n",
        "A = 10          # Initial amplitude\n",
        "k = 0.5         # Decay rate\n",
        "omega = np.pi/2 # Angular frequency (rad/s)\n",
        "phi = -np.pi/4  # Phase shift (radians)\n",
        "\n",
        "# Set up time vector\n",
        "# Period = 2π/ω\n",
        "T = 2 * np.pi / omega  # Period of oscillation\n",
        "t_end = 3 * T          # End time (3 periods)\n",
        "t = np.linspace(0, t_end, 200)  # Time vector with 200 points\n",
        "\n",
        "# Generate the data for the decaying cosine model\n",
        "y = A * np.exp(-k * t) * np.cos(omega * t + phi)\n",
        "\n",
        "# Create and format the plot\n",
        "plt.figure(figsize=(10, 6))\n",
        "plt.plot(t, y, 'b-', linewidth=2)\n",
        "plt.title('Decaying Oscillation Example')\n",
        "plt.xlabel('t (seconds)')\n",
        "plt.ylabel('y')\n",
        "plt.grid(True)\n",
        "\n",
        "# Add a text box with the equation for reference\n",
        "equation = f'$y = {A}e^{{-{k}t}}\\\\cos({omega:.2f}t {phi:+.2f})$'\n",
        "plt.text(0.6*t_end, 0.8*A, equation, fontsize=12, \n",
        "         bbox=dict(facecolor='white', alpha=0.5))\n",
        "\n",
        "plt.show()"
      ],
      "outputs": []
    },
    {
      "cell_type": "markdown",
      "metadata": {
        "id": "task2-cell"
      },
      "source": [
        "## Python Task 2: Parameter Sensitivity Analysis\n",
        "\n",
        "Start task 2 once you have found parameter values that result in a graph that shows the characteristics of the oscillation (amplitude, decay rate, frequency, and phase shift).\n",
        "\n",
        "Modify the code below to generate one additional figure that demonstrates the effect of varying one or more of the parameters in the model. Your figure should include an overlay of multiple plots. Make sure it is properly labeled with axis labels, a legend, and a descriptive title. \n",
        "\n",
        "Annotate your figure (using text annotations) so that along with your title, legend, and labels, your figure clearly communicates the analysis you conducted."
      ]
    },
    {
      "cell_type": "code",
      "execution_count": null,
      "metadata": {
        "id": "task2-code-cell"
      },
      "source": [
        "# Parameter Sensitivity Analysis\n",
        "# For this example, we'll vary the frequency parameter (omega)\n",
        "\n",
        "# Use parameters from Task 1 as baseline\n",
        "A = 10          # Initial amplitude\n",
        "k = 0.5         # Decay rate\n",
        "phi = -np.pi/4  # Phase shift (radians)\n",
        "\n",
        "# Define different omega values to compare\n",
        "omega_values = [np.pi/2, np.pi, 3*np.pi/2]\n",
        "labels = ['ω = π/2 rad/s', 'ω = π rad/s', 'ω = 3π/2 rad/s']\n",
        "colors = ['b', 'r', 'k']\n",
        "line_styles = ['-', '--', '-.']\n",
        "\n",
        "# Use the longest period to ensure all oscillations fit in the plot window\n",
        "T_max = 2 * np.pi / min(omega_values)\n",
        "t_end = 3 * T_max\n",
        "t = np.linspace(0, t_end, 200)\n",
        "\n",
        "# Create and format the multi-line plot\n",
        "plt.figure(figsize=(12, 7))\n",
        "\n",
        "# Plot each frequency\n",
        "for i, omega in enumerate(omega_values):\n",
        "    y = A * np.exp(-k * t) * np.cos(omega * t + phi)\n",
        "    plt.plot(t, y, color=colors[i], linestyle=line_styles[i], \n",
        "             linewidth=2, label=labels[i])\n",
        "\n",
        "# Add envelope curves\n",
        "envelope_plus = A * np.exp(-k * t)\n",
        "envelope_minus = -A * np.exp(-k * t)\n",
        "plt.plot(t, envelope_plus, 'g:', linewidth=1.5, label='Amplitude Envelope')\n",
        "plt.plot(t, envelope_minus, 'g:', linewidth=1.5)\n",
        "\n",
        "# Add labels, title, and legend\n",
        "plt.title('Decaying Oscillation at Various Frequencies')\n",
        "plt.xlabel('t (seconds)')\n",
        "plt.ylabel('y')\n",
        "plt.grid(True)\n",
        "plt.legend(loc='lower right')\n",
        "\n",
        "# Add text annotation\n",
        "equation = f'$y = {A}e^{{-{k}t}}\\\\cos(\\\\omega t {phi:+.2f})$'\n",
        "plt.text(0.6*t_end, -3, equation, fontsize=12, \n",
        "         bbox=dict(facecolor='white', alpha=0.7))\n",
        "\n",
        "# Add observation annotation\n",
        "plt.text(0.05*t_end, -7, 'Observation: Higher frequencies result in\\nmore oscillations within the same decay envelope',\n",
        "         fontsize=10, bbox=dict(facecolor='lightyellow', alpha=0.7))\n",
        "\n",
        "plt.show()"
      ],
      "outputs": []
    },
    {
      "cell_type": "markdown",
      "metadata": {
        "id": "alternative-example-cell"
      },
      "source": [
        "### Alternative Example: Varying the Decay Rate (k)\n",
        "\n",
        "Here's another example that demonstrates the effect of varying the decay rate parameter (k)."
      ]
    },
    {
      "cell_type": "code",
      "execution_count": null,
      "metadata": {
        "id": "alternative-code-cell"
      },
      "source": [
        "# Parameter Sensitivity Analysis - Varying Decay Rate\n",
        "\n",
        "# Use parameters from Task 1 as baseline\n",
        "A = 10           # Initial amplitude\n",
        "omega = np.pi/2  # Angular frequency (rad/s)\n",
        "phi = -np.pi/4   # Phase shift (radians)\n",
        "\n",
        "# Define different decay rates to compare\n",
        "k_values = [0.2, 0.5, 1.0]\n",
        "labels = ['k = 0.2 (slow decay)', 'k = 0.5 (medium decay)', 'k = 1.0 (fast decay)']\n",
        "colors = ['g', 'b', 'r']\n",
        "line_styles = ['-', '--', '-.']\n",
        "\n",
        "# Time vector\n",
        "T = 2 * np.pi / omega  # Period of oscillation\n",
        "t_end = 5 * T          # End time (5 periods to see decay effects)\n",
        "t = np.linspace(0, t_end, 200)\n",
        "\n",
        "# Create and format the multi-line plot\n",
        "plt.figure(figsize=(12, 7))\n",
        "\n",
        "# Plot each decay rate\n",
        "for i, k in enumerate(k_values):\n",
        "    y = A * np.exp(-k * t) * np.cos(omega * t + phi)\n",
        "    plt.plot(t, y, color=colors[i], linestyle=line_styles[i], \n",
        "             linewidth=2, label=labels[i])\n",
        "    \n",
        "    # Also plot the envelopes for each decay rate\n",
        "    env = A * np.exp(-k * t)\n",
        "    plt.plot(t, env, color=colors[i], linestyle=':', linewidth=0.8)\n",
        "    plt.plot(t, -env, color=colors[i], linestyle=':', linewidth=0.8)\n",
        "\n",
        "# Add labels, title, and legend\n",
        "plt.title('Effect of Decay Rate (k) on Oscillation Damping')\n",
        "plt.xlabel('t (seconds)')\n",
        "plt.ylabel('y')\n",
        "plt.grid(True)\n",
        "plt.legend(loc='upper right')\n",
        "\n",
        "# Add equation and observation annotation\n",
        "equation = f'$y = {A}e^{{-kt}}\\\\cos({omega:.2f}t {phi:+.2f})$'\n",
        "plt.text(0.6*t_end, 0.8*A, equation, fontsize=12, \n",
        "         bbox=dict(facecolor='white', alpha=0.7))\n",
        "\n",
        "plt.text(0.05*t_end, -7, 'Observation: Larger k values cause faster amplitude decay',\n",
        "         fontsize=10, bbox=dict(facecolor='lightyellow', alpha=0.7))\n",
        "\n",
        "plt.show()"
      ],
      "outputs": []
    },
    {
      "cell_type": "markdown",
      "metadata": {
        "id": "reflection-cell"
      },
      "source": [
        "## Reflection\n",
        "\n",
        "After completing the tasks above, answer the following questions:\n",
        "\n",
        "1. How does each parameter affect the graph of the decaying cosine function? Does this match your initial expectations?\n",
        "\n",
        "   **Answer**: Each parameter affects the graph in a specific way:\n",
        "   - A (amplitude): Controls the initial height of the oscillation at t=0\n",
        "   - k (decay rate): Controls how quickly the amplitude diminishes over time\n",
        "   - ω (angular frequency): Controls how many oscillations occur per unit time (period = 2π/ω)\n",
        "   - φ (phase shift): Shifts the starting position of the oscillation\n",
        "   \n",
        "   This matches the expected behavior from mathematical/physical models.\n",
        "\n",
        "2. Which parameter did you choose to vary in your sensitivity analysis? Why did you choose this parameter?\n",
        "\n",
        "   **Answer**: For the first analysis example, we varied the frequency parameter ω to demonstrate how it affects the oscillation pattern while keeping the same decay envelope. For the second analysis, we varied the decay rate k to show how it affects the damping behavior. Frequency and decay rate are often the most critical parameters in real-world oscillating systems, as they determine the dynamic response characteristics.\n",
        "\n",
        "3. What aspects of Python and matplotlib were most useful for this task? What challenges did you encounter?\n",
        "\n",
        "   **Answer**: \n",
        "   \n",
        "   **Useful Python/matplotlib features**:\n",
        "   - NumPy's vectorized operations allow us to easily generate the mathematical functions\n",
        "   - Matplotlib's flexible plotting functions make it easy to overlay multiple curves\n",
        "   - Text annotation and formatting capabilities help make plots more informative\n",
        "   - The ability to customize line styles, colors, and plot properties\n",
        "   - List comprehensions and for loops simplify generating multiple plots with different parameters\n",
        "   \n",
        "   **Challenges**:\n",
        "   - Getting the right aspect ratio and figure size for clear visualization\n",
        "   - Placing text annotations in appropriate locations\n",
        "   - Working with LaTeX formatting in plot text can be tricky\n",
        "   - Ensuring all curves are visible when they overlap\n",
        "   - Managing legend placement and readability"
      ]
    }
  ],
  "metadata": {
    "colab": {
      "name": "worksheet1_solution.ipynb",
      "provenance": [],
      "toc_visible": true
    },
    "kernelspec": {
      "display_name": "Python 3",
      "name": "python3"
    },
    "language_info": {
      "name": "python"
    }
  },
  "nbformat": 4,
  "nbformat_minor": 0
}