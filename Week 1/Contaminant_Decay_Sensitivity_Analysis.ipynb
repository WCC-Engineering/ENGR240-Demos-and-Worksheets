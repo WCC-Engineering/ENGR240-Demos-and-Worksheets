{
  "cells": [
    {
      "cell_type": "markdown",
      "metadata": {
        "id": "colab_button"
      },
      "source": [
        "[![Open In Colab](https://colab.research.google.com/assets/colab-badge.svg)](https://colab.research.google.com/github/WCC-Engineering/ENGR240-Demos-and-Worksheets/blob/main/Week%201/Contaminant_Decay_Sensitivity_Analysis.ipynb)"
      ]
    },
    {
      "cell_type": "markdown",
      "metadata": {
        "id": "intro_header"
      },
      "source": [
        "# Introduction to Parameter Sensitivity Analysis\n",
        "## Contaminant Decay Model Example\n",
        "\n",
        "This notebook introduces fundamental concepts in scientific computing by exploring how changes in model parameters affect system behavior - a technique known as **parameter sensitivity analysis**.\n",
        "\n",
        "### Learning Objectives\n",
        "- Understand how to implement a simple mathematical model in Python\n",
        "- Learn how to conduct a basic parameter sensitivity analysis\n",
        "- Visualize and interpret model sensitivity to parameter changes\n",
        "- Apply scientific computing techniques to analyze environmental remediation scenarios\n",
        "\n",
        "### The Contaminant Decay Model\n",
        "\n",
        "We'll explore a two-component contaminant decay model described by the equation:\n",
        "\n",
        "$$p(t) = A_0 \\cdot e^{-k_A \\cdot t} + B_0 \\cdot e^{-k_B \\cdot t}$$\n",
        "\n",
        "Where:\n",
        "- $p(t)$ = total contaminant concentration (ppm) at time $t$\n",
        "- $t$ = time (days)\n",
        "- $A_0$ = initial concentration of contaminant A (ppm)\n",
        "- $B_0$ = initial concentration of contaminant B (ppm)\n",
        "- $k_A$ = decay rate of contaminant A (day$^{-1}$)\n",
        "- $k_B$ = decay rate of contaminant B (day$^{-1}$)\n",
        "\n",
        "This model represents two contaminants that decay independently according to first-order kinetics (exponential decay), which is common in environmental engineering applications."
      ]
    },
    {
      "cell_type": "markdown",
      "metadata": {
        "id": "setup_section"
      },
      "source": [
        "## Setup\n",
        "\n",
        "First, we'll import the necessary Python libraries for numerical computing and visualization."
      ]
    },
    {
      "cell_type": "code",
      "execution_count": null,
      "metadata": {
        "id": "imports"
      },
      "source": [
        "import numpy as np  # For numerical operations\n",
        "import matplotlib.pyplot as plt  # For creating plots\n",
        "\n",
        "# Set plot style for better visualization\n",
        "plt.style.use('seaborn-v0_8-whitegrid')\n",
        "plt.rcParams['figure.figsize'] = [10, 6]  # Set default figure size"
      ],
      "outputs": []
    },
    {
      "cell_type": "markdown",
      "metadata": {
        "id": "model_parameters"
      },
      "source": [
        "## Model Parameters\n",
        "\n",
        "Let's define our model parameters. In this example, we'll:\n",
        "1. Keep the initial concentrations ($A_0$ and $B_0$) constant\n",
        "2. Keep the decay rate of contaminant A ($k_A$) constant\n",
        "3. Vary the decay rate of contaminant B ($k_B$) to analyze its effect on the total concentration\n",
        "\n",
        "A higher decay rate means the contaminant breaks down more quickly. The units day$^{-1}$ represent the fraction of the contaminant that decays per day."
      ]
    },
    {
      "cell_type": "code",
      "execution_count": null,
      "metadata": {
        "id": "parameters"
      },
      "source": [
        "# Model parameters\n",
        "A0 = 200  # Initial concentration of contaminant A (ppm)\n",
        "B0 = 100  # Initial concentration of contaminant B (ppm)\n",
        "kA = 1    # Decay rate of contaminant A (day^-1)\n",
        "\n",
        "# The parameter values we're using in our sensitivity analysis\n",
        "kB1 = 0.5  # First decay rate for contaminant B (day^-1)\n",
        "kB2 = 1.0  # Second decay rate for contaminant B (day^-1)\n",
        "kB3 = 2.0  # Third decay rate for contaminant B (day^-1)\n",
        "kB4 = 5.0  # Fourth decay rate for contaminant B (day^-1)\n",
        "\n",
        "# Time domain for simulation\n",
        "t = np.linspace(0, 6, 100)  # 100 time points from 0 to 6 days\n",
        "\n",
        "# Define a regulatory standard concentration (for reference)\n",
        "standard = 10  # ppm"
      ],
      "outputs": []
    },
    {
      "cell_type": "markdown",
      "metadata": {
        "id": "exp_decay_explanation"
      },
      "source": [
        "## The Exponential Decay Function\n",
        "\n",
        "Exponential decay is described by the function $f(t) = f_0 \\cdot e^{-kt}$, where:\n",
        "- $f_0$ is the initial value (at $t=0$)\n",
        "- $k$ is the decay rate constant\n",
        "- $t$ is time\n",
        "\n",
        "Important properties of exponential decay:\n",
        "- At $t=0$, the function equals $f_0$\n",
        "- As $t$ increases, the function approaches zero\n",
        "- The half-life (time for the quantity to reduce by half) is $t_{1/2} = \\ln(2)/k$\n",
        "\n",
        "In our contaminant model, we're summing two exponential decay terms, each with its own initial value and decay rate."
      ]
    },
    {
      "cell_type": "markdown",
      "metadata": {
        "id": "calculate_section"
      },
      "source": [
        "## Calculate Contaminant Concentrations\n",
        "\n",
        "Now we'll calculate the total contaminant concentration over time for each value of $k_B$."
      ]
    },
    {
      "cell_type": "code",
      "execution_count": null,
      "metadata": {
        "id": "calculations"
      },
      "source": [
        "# Calculate concentrations for each kB value individually\n",
        "\n",
        "# First scenario - kB = 0.5\n",
        "p1 = A0 * np.exp(-kA * t) + B0 * np.exp(-kB1 * t)\n",
        "\n",
        "# Second scenario - kB = 1.0\n",
        "p2 = A0 * np.exp(-kA * t) + B0 * np.exp(-kB2 * t)\n",
        "\n",
        "# Third scenario - kB = 2.0\n",
        "p3 = A0 * np.exp(-kA * t) + B0 * np.exp(-kB3 * t)\n",
        "\n",
        "# Fourth scenario - kB = 5.0\n",
        "p4 = A0 * np.exp(-kA * t) + B0 * np.exp(-kB4 * t)\n",
        "\n",
        "# Print the half-life for each scenario\n",
        "half_life_A = np.log(2) / kA\n",
        "\n",
        "half_life_B1 = np.log(2) / kB1\n",
        "print(f\"When kB = {kB1}:\")\n",
        "print(f\"  Half-life of contaminant A: {half_life_A:.2f} days\")\n",
        "print(f\"  Half-life of contaminant B: {half_life_B1:.2f} days\\n\")\n",
        "\n",
        "half_life_B2 = np.log(2) / kB2\n",
        "print(f\"When kB = {kB2}:\")\n",
        "print(f\"  Half-life of contaminant A: {half_life_A:.2f} days\")\n",
        "print(f\"  Half-life of contaminant B: {half_life_B2:.2f} days\\n\")\n",
        "\n",
        "half_life_B3 = np.log(2) / kB3\n",
        "print(f\"When kB = {kB3}:\")\n",
        "print(f\"  Half-life of contaminant A: {half_life_A:.2f} days\")\n",
        "print(f\"  Half-life of contaminant B: {half_life_B3:.2f} days\\n\")\n",
        "\n",
        "half_life_B4 = np.log(2) / kB4\n",
        "print(f\"When kB = {kB4}:\")\n",
        "print(f\"  Half-life of contaminant A: {half_life_A:.2f} days\")\n",
        "print(f\"  Half-life of contaminant B: {half_life_B4:.2f} days\\n\")"
      ],
      "outputs": []
    },
    {
      "cell_type": "markdown",
      "metadata": {
        "id": "visualization_section"
      },
      "source": [
        "## Visualize the Results\n",
        "\n",
        "Let's create a plot to visualize how changing the decay rate of contaminant B affects the total concentration over time."
      ]
    },
    {
      "cell_type": "code",
      "execution_count": null,
      "metadata": {
        "id": "create_plot"
      },
      "source": [
        "# Create the plot\n",
        "plt.figure(figsize=(12, 7))\n",
        "\n",
        "# Plot each scenario individually\n",
        "plt.plot(t, p1, linewidth=2.5, label=f'$k_B = {kB1}$')\n",
        "plt.plot(t, p2, linewidth=2.5, label=f'$k_B = {kB2}$')\n",
        "plt.plot(t, p3, linewidth=2.5, label=f'$k_B = {kB3}$')\n",
        "plt.plot(t, p4, linewidth=2.5, label=f'$k_B = {kB4}$')\n",
        "\n",
        "# Add the regulatory standard as a horizontal line\n",
        "plt.plot(t, standard * np.ones_like(t), 'k--', linewidth=1.5)\n",
        "plt.text(0.5, standard + 5, f'{standard} ppm Standard', fontsize=10)\n",
        "\n",
        "# Add the model equation to the plot\n",
        "plt.text(3, 150, '$p(t) = A_0 \\cdot e^{-k_A t} + B_0 \\cdot e^{-k_B t}$', fontsize=12)\n",
        "\n",
        "# Add labels and legend\n",
        "plt.title('Sensitivity of the Contaminant Decay Model to $k_B$ when $k_A = 1$ day$^{-1}$', fontsize=14)\n",
        "plt.xlabel('Time (days)', fontsize=12)\n",
        "plt.ylabel('Total Contaminant Concentration (ppm)', fontsize=12)\n",
        "plt.legend(fontsize=10)\n",
        "plt.grid(True, alpha=0.3)\n",
        "\n",
        "# Set axis limits for better visualization\n",
        "plt.ylim(0, 320)\n",
        "plt.xlim(0, 6)\n",
        "\n",
        "plt.show()"
      ],
      "outputs": []
    },
    {
      "cell_type": "markdown",
      "metadata": {
        "id": "interpretation"
      },
      "source": [
        "## Interpreting the Results\n",
        "\n",
        "From the plot above, we can observe several key insights:\n",
        "\n",
        "1. **Initial concentration**: At time t=0, all curves start at the same point (300 ppm), which is the sum of $A_0$ (200 ppm) and $B_0$ (100 ppm).\n",
        "\n",
        "2. **Decay rate impact**: As $k_B$ increases, the overall concentration decreases more rapidly. This makes intuitive sense - a higher decay rate means faster breakdown of the contaminant.\n",
        "\n",
        "3. **Compliance timeline**: The dashed line represents a regulatory standard of 10 ppm. We can see that different values of $k_B$ result in different times to reach this standard:\n",
        "   - With $k_B = 0.5$ (slowest decay), it takes longest to reach the standard\n",
        "   - With $k_B = 5$ (fastest decay), it takes the least time\n",
        "\n",
        "4. **Long-term behavior**: As time increases, the curves begin to converge. This occurs because contaminant B eventually decays to negligible levels regardless of $k_B$, and the long-term behavior becomes dominated by contaminant A (which has a constant decay rate in all scenarios).\n",
        "\n",
        "This sensitivity analysis helps engineers and scientists understand how important the decay rate of contaminant B is to the overall remediation timeline, which could inform decisions about treatment methods."
      ]
    },
    {
      "cell_type": "markdown",
      "metadata": {
        "id": "application_section"
      },
      "source": [
        "## Application and Discussion\n",
        "\n",
        "### Real-world Significance\n",
        "\n",
        "This type of model is commonly used in environmental engineering to predict how long it will take for contaminated sites to reach acceptable concentration levels. Some examples include:\n",
        "\n",
        "- **Groundwater remediation**: Predicting how long natural attenuation will take to clean up a contaminated aquifer\n",
        "- **Soil contamination**: Estimating the timeline for bioremediation of petroleum hydrocarbons\n",
        "- **Radioactive decay**: Calculating safe storage periods for radioactive waste (though radioactive decay often involves more complex chains)\n",
        "\n",
        "### Scientific Computing Concepts Demonstrated\n",
        "\n",
        "This simple example demonstrates several key scientific computing concepts:\n",
        "\n",
        "- **Numerical model implementation**: Translating mathematical equations into computational code\n",
        "- **Parameter sensitivity analysis**: Systematically varying model parameters to understand their impact\n",
        "- **Data visualization**: Effectively communicating results through appropriate plotting\n",
        "- **Model interpretation**: Drawing meaningful conclusions from computational results"
      ]
    }
  ],
  "metadata": {
    "colab": {
      "provenance": []
    },
    "kernelspec": {
      "display_name": "Python 3",
      "language": "python",
      "name": "python3"
    },
    "language_info": {
      "codemirror_mode": {
        "name": "ipython",
        "version": 3
      },
      "file_extension": ".py",
      "mimetype": "text/x-python",
      "name": "python",
      "nbconvert_exporter": "python",
      "pygments_lexer": "ipython3",
      "version": "3.8.5"
    }
  },
  "nbformat": 4,
  "nbformat_minor": 4
}