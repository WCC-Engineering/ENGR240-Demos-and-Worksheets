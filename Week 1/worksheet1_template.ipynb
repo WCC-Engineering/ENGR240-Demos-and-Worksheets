{
  "cells": [
    {
      "cell_type": "markdown",
      "metadata": {
        "id": "colab-badge"
      },
      "source": [
        "[![Open In Colab](https://colab.research.google.com/assets/colab-badge.svg)](https://colab.research.google.com/github/edavishahl/ENGR240/blob/main/Class%20Demos%20and%20Activities/Week%201/worksheet1_template.ipynb)"
      ]
    },
    {
      "cell_type": "markdown",
      "metadata": {
        "id": "title-cell"
      },
      "source": [
        "# Worksheet 1.1: Plotting and Parameter Sensitivity Analysis\n",
        "\n",
        "## ENGR& 240: Engineering Computations\n",
        "### Introduction to Scientific Computing with Python"
      ]
    },
    {
      "cell_type": "markdown",
      "metadata": {
        "id": "objectives-cell"
      },
      "source": [
        "## Objectives\n",
        "- Use Python and matplotlib to generate a formatted plot of a mathematical model\n",
        "- Design figures to effectively communicate model sensitivity to parameter changes"
      ]
    },
    {
      "cell_type": "markdown",
      "metadata": {
        "id": "instructions-cell"
      },
      "source": [
        "## Instructions\n",
        "A decaying oscillation (e.g. in a vibrating mechanical system or an electrical circuit) can be modeled with the following function:\n",
        "\n",
        "$$y = Ae^{-kt}\\cos(\\omega t + \\phi)$$\n",
        "\n",
        "This model has four parameters. What are they? How does the value of each parameter affect the graph of this function? Fill out the table below based on your recollection from previous math and/or physics courses (you'll be able to verify this information with your results later)."
      ]
    },
    {
      "cell_type": "markdown",
      "metadata": {
        "id": "parameter-table-cell"
      },
      "source": [
        "| Parameter | Effect on graph |\n",
        "|-----------|----------------|\n",
        "| A         |                |\n",
        "| k         |                |\n",
        "| ω         |                |\n",
        "| φ         |                |"
      ]
    },
    {
      "cell_type": "markdown",
      "metadata": {
        "id": "task1-cell"
      },
      "source": [
        "## Python Task 1: Generating a plot of the model\n",
        "\n",
        "Complete the code below to create a Python script that does the following:\n",
        "- Defines values (you pick) for the four parameters.\n",
        "- Defines a time vector with 200 evenly spaced values between 0 and three periods of the oscillation (RECALL: How does the period of the oscillation relate to one of the parameters in the model?)\n",
        "- Generates a graph of the model (y versus t). Include axis labels and a descriptive title on your graph.\n",
        "\n",
        "Experiment with the parameter values you specify (change the values and run your cell again) until you have a graph that shows the effect of each parameter."
      ]
    },
    {
      "cell_type": "code",
      "execution_count": null,
      "metadata": {
        "id": "task1-code-cell"
      },
      "source": [
        "# Import necessary libraries\n",
        "import numpy as np\n",
        "import matplotlib.pyplot as plt\n",
        "\n",
        "# Define parameter values\n",
        "A = # Initial amplitude\n",
        "k = # Decay rate\n",
        "omega = # Angular frequency (rad/s)\n",
        "phi = # Phase shift (radians)\n",
        "\n",
        "# Set up time vector\n",
        "# Enter commands here to compute the period of the oscillation \n",
        "# and set up a time vector according to the Task 1 instructions\n",
        "\n",
        "\n",
        "# Generate the data for the decaying cosine model\n",
        "y = A * np.exp(-k * t) * np.cos(omega * t + phi)\n",
        "\n",
        "# Create and format the plot\n",
        "plt.figure(figsize=(10, 6))\n",
        "plt.plot(t, y)\n",
        "plt.title('?') # Replace with your own title\n",
        "plt.xlabel('?') # Replace with your own x-axis label\n",
        "plt.ylabel('?') # Replace with your own y-axis label\n",
        "plt.grid(True)\n",
        "plt.show()"
      ],
      "outputs": []
    },
    {
      "cell_type": "markdown",
      "metadata": {
        "id": "task2-cell"
      },
      "source": [
        "## Python Task 2: Parameter Sensitivity Analysis\n",
        "\n",
        "Start task 2 once you have found parameter values that result in a graph that shows the characteristics of the oscillation (amplitude, decay rate, frequency, and phase shift).\n",
        "\n",
        "Modify the code below to generate one additional figure that demonstrates the effect of varying one or more of the parameters in the model. Your figure should include an overlay of multiple plots. Make sure it is properly labeled with axis labels, a legend, and a descriptive title. \n",
        "\n",
        "Annotate your figure (using text annotations) so that along with your title, legend, and labels, your figure clearly communicates the analysis you conducted."
      ]
    },
    {
      "cell_type": "code",
      "execution_count": null,
      "metadata": {
        "id": "task2-code-cell"
      },
      "source": [
        "# Parameter Sensitivity Analysis\n",
        "# Enter commands below to generate data for an additional figure that shows\n",
        "# the effect of changing one or more parameters\n",
        "\n",
        "# Use your parameters from Task 1 as a baseline\n",
        "A = # Initial amplitude\n",
        "k = # Decay rate\n",
        "omega = # Angular frequency (rad/s)\n",
        "phi = # Phase shift (radians)\n",
        "\n",
        "# Set up time vector\n",
        "\n",
        "\n",
        "# Create and format the multi-line plot with different parameter values\n",
        "plt.figure(figsize=(12, 7))\n",
        "\n",
        "# Add multiple plots with different parameters\n",
        "# For example, to vary frequency (omega):\n",
        "\n",
        "\n",
        "# Add appropriate labels, title, legend, and grid\n",
        "plt.title('?') # Replace with descriptive title\n",
        "plt.xlabel('?') # Replace with appropriate x-axis label\n",
        "plt.ylabel('?') # Replace with appropriate y-axis label\n",
        "plt.grid(True)\n",
        "plt.legend()\n",
        "\n",
        "# Add text annotation to highlight important aspects of the parameter sensitivity\n",
        "# plt.text(x_position, y_position, 'Your annotation text')\n",
        "\n",
        "plt.show()"
      ],
      "outputs": []
    },
    {
      "cell_type": "markdown",
      "metadata": {
        "id": "reflection-cell"
      },
      "source": [
        "## Reflection\n",
        "\n",
        "After completing the tasks above, answer the following questions:\n",
        "\n",
        "1. How does each parameter affect the graph of the decaying cosine function? Does this match your initial expectations?\n",
        "\n",
        "2. Which parameter did you choose to vary in your sensitivity analysis? Why did you choose this parameter?\n",
        "\n",
        "3. What aspects of Python and matplotlib were most useful for this task? What challenges did you encounter?"
      ]
    }
  ],
  "metadata": {
    "colab": {
      "name": "worksheet1_template.ipynb",
      "provenance": [],
      "toc_visible": true
    },
    "kernelspec": {
      "display_name": "Python 3",
      "name": "python3"
    },
    "language_info": {
      "name": "python"
    }
  },
  "nbformat": 4,
  "nbformat_minor": 0
}