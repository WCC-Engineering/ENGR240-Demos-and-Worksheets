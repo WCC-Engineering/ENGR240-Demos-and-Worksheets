{
  "cells": [
    {
      "cell_type": "markdown",
      "metadata": {
        "id": "TfRJ5l4DNUt4"
      },
      "source": [
        "### Your Task: Create a Cubic Spline with Custom End Conditions\n",
        "\n",
        "1. Create a cubic spline for the bridge data using the 'natural' end condition\n",
        "2. Create another spline with custom end slopes: left slope = -8, right slope = 8\n",
        "3. Create a third spline using the 'not-a-knot' condition\n",
        "4. Plot all three splines on the same graph for comparison\n",
        "5. Extract and print the coefficients for the segment between x=15 and x=20\n",
        "\n",
        "**Note**: Remember that the syntax for specifying a clamped spline is: `bc_type=((1, left_slope), (1, right_slope))`"
      ]
    },
    {
      "cell_type": "code",
      "execution_count": null,
      "metadata": {
        "id": "UNCdf45wNUt5"
      },
      "outputs": [],
      "source": [
        "# Your code here\n",
        "# 1. Create splines with different end conditions\n",
        "\n",
        "# 2. Plot the splines\n",
        "\n",
        "# 3. Find and print coefficients for the segment between x=15 and x=20"
      ]
    },
    {
      "cell_type": "markdown",
      "metadata": {
        "id": "nAEj4FsMNUt5"
      },
      "source": [
        "## Task 6: Discussion Questions\n",
        "\n",
        "After completing the above tasks, answer the following questions:\n",
        "\n",
        "1. How do the different end conditions affect the behavior of the spline near the endpoints? Which end condition seems most appropriate for the bridge girder deflection problem?\n",
        "\n",
        "2. When examining the coefficients for the different splines, what differences do you notice?\n",
        "\n",
        "3. In which engineering scenarios would you prefer to use a natural spline versus a clamped spline?\n",
        "\n",
        "4. What are the advantages and disadvantages of spline interpolation compared to other interpolation methods (like polynomial interpolation)?"
      ]
    },
    {
      "cell_type": "markdown",
      "metadata": {
        "id": "XD0GbDUBNUt5"
      },
      "source": [
        "Your answers here:\n",
        "\n",
        "1. \n",
        "\n",
        "2. \n",
        "\n",
        "3. \n",
        "\n",
        "4. "
      ]
    },
    {
      "cell_type": "markdown",
      "metadata": {
        "id": "vLUmFTbkNUt5"
      },
      "source": [
        "## Conclusion\n",
        "\n",
        "In this worksheet, we've explored the fundamentals of cubic spline interpolation using SciPy. We've learned how to:\n",
        "\n",
        "1. Create cubic splines with various end conditions\n",
        "2. Visualize the resulting interpolations\n",
        "3. Extract and understand the spline coefficients\n",
        "4. Apply splines to engineering problems like beam deflection analysis\n",
        "\n",
        "Spline interpolation is a powerful tool for engineering applications where smooth interpolation of measured data is essential. By understanding how to work with end conditions and coefficients, you can create accurate and physically meaningful interpolations.\n",
        "\n",
        "### Further Reading\n",
        "\n",
        "- [SciPy Documentation on `CubicSpline`](https://docs.scipy.org/doc/scipy/reference/generated/scipy.interpolate.CubicSpline.html)\n",
        "- [SciPy Tutorial on Interpolation](https://docs.scipy.org/doc/scipy/tutorial/interpolate.html)\n",
        "- _Numerical Methods for Engineers_, by Steven C. Chapra and Raymond P. Canale - Chapter on Spline Interpolation\n",
        "- _Applied Numerical Methods with MATLAB_, by Steven C. Chapra - Section on Splines and Piecewise Interpolation"
      ]
    }
  ],
  "metadata": {
    "kernelspec": {
      "display_name": "Python 3 (ipykernel)",
      "language": "python",
      "name": "python3"
    },
    "language_info": {
      "codemirror_mode": {
        "name": "ipython",
        "version": 3
      },
      "file_extension": ".py",
      "mimetype": "text/x-python",
      "name": "python",
      "nbconvert_exporter": "python",
      "pygments_lexer": "ipython3",
      "version": "3.10.12"
    },
    "colab": {
      "provenance": []
    }
  },
  "nbformat": 4,
  "nbformat_minor": 0
}