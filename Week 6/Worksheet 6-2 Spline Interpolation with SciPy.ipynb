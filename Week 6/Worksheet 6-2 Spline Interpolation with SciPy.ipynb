{
  "cells": [
    {
      "cell_type": "markdown",
      "metadata": {
        "id": "cZQf9BprNUtt"
      },
      "source": [
        "# ENGR 240: Spline Interpolation with SciPy\n",
        "\n",
        "[![Open In Colab](https://colab.research.google.com/assets/colab-badge.svg)](https://colab.research.google.com/github/WCC-Engineering/ENGR240/blob/main/Class%20Demos%20and%20Activities/Week%206/Worksheet%206-2%20Spline%20Interpolation%20with%20SciPy.ipynb)\n",
        "\n",
        "## Introduction\n",
        "\n",
        "In many engineering applications, we need to interpolate between discrete data points to create a smooth, continuous representation that approximates underlying behavior. Splines are piecewise polynomial functions that provide smooth interpolation between data points and are widely used in engineering design, data analysis, and computer graphics.\n",
        "\n",
        "In this worksheet, we'll explore spline interpolation using SciPy's `interpolate` module, specifically focusing on cubic splines, which are among the most common types of splines used in engineering applications.\n",
        "\n",
        "### Learning Objectives\n",
        "- Understand the basic theory behind spline interpolation\n",
        "- Implement various cubic spline end conditions using SciPy\n",
        "- Extract and analyze spline coefficients\n",
        "- Apply spline interpolation to a real engineering problem\n",
        "\n",
        "### Application Context: Structural Beam Deflection Analysis\n",
        "\n",
        "In this worksheet, we'll focus on a practical engineering application: analyzing the deflection of a beam under various loading conditions. Structural engineers often use spline interpolation to:\n",
        "\n",
        "1. Smoothly interpolate between measured deflection points\n",
        "2. Create continuous mathematical representations of physical measurements\n",
        "3. Estimate values between measurement points\n",
        "4. Generate smooth visualization of deformation profiles\n",
        "\n",
        "The ability to properly implement various end conditions is especially important in beam analysis, as they represent different physical constraints (e.g., fixed ends, free ends, or specific known slopes)."
      ]
    },
    {
      "cell_type": "markdown",
      "metadata": {
        "id": "pwYtzuxMNUtw"
      },
      "source": [
        "## Theoretical Background: Spline Interpolation\n",
        "\n",
        "### What is a Spline?\n",
        "\n",
        "A spline is a piecewise polynomial function that smoothly connects a set of data points. The term \"spline\" originated from the flexible drafting tools used by shipbuilders and draftsmen to draw smooth curves through a set of points.\n",
        "\n",
        "### Cubic Splines\n",
        "\n",
        "Cubic splines are particularly popular because they provide a good balance between smoothness and computational efficiency. A cubic spline consists of third-degree polynomial segments connecting pairs of data points, where the polynomials are constrained to ensure the resulting curve is continuous and smooth.\n",
        "\n",
        "For a set of data points $(x_0, y_0), (x_1, y_1), \\ldots, (x_n, y_n)$ where $x_0 < x_1 < \\ldots < x_n$, a cubic spline $S(x)$ is defined as:\n",
        "\n",
        "$$S(x) = S_i(x) \\quad \\text{for } x_i \\leq x \\leq x_{i+1}, i = 0, 1, \\ldots, n-1$$\n",
        "\n",
        "where each $S_i(x)$ is a cubic polynomial of the form:\n",
        "\n",
        "$$S_i(x) = a_i + b_i(x-x_i) + c_i(x-x_i)^2 + d_i(x-x_i)^3$$\n",
        "\n",
        "The coefficients $a_i$, $b_i$, $c_i$, and $d_i$ are determined by enforcing the following constraints:\n",
        "\n",
        "1. **Interpolation**: The spline passes through all data points\n",
        "   - $S_i(x_i) = y_i$\n",
        "   - $S_i(x_{i+1}) = y_{i+1}$\n",
        "   \n",
        "2. **Continuity**: The first and second derivatives are continuous at interior knots\n",
        "   - $S_i'(x_{i+1}) = S_{i+1}'(x_{i+1})$\n",
        "   - $S_i''(x_{i+1}) = S_{i+1}''(x_{i+1})$\n",
        "\n",
        "### End Conditions\n",
        "\n",
        "The constraints above give us $4n - 2$ equations for $4n$ unknown coefficients. To fully determine the spline, we need two additional conditions, typically specified at the endpoints. Common end conditions include:\n",
        "\n",
        "1. **Natural Spline**: Second derivatives at endpoints are set to zero\n",
        "   - $S''(x_0) = S''(x_n) = 0$\n",
        "   \n",
        "2. **Clamped Spline**: First derivatives at endpoints are specified\n",
        "   - $S'(x_0) = f'_0$ and $S'(x_n) = f'_n$\n",
        "   \n",
        "3. **Not-a-knot**: Third derivative is continuous at the second and second-to-last points\n",
        "   - $S_0'''(x_1) = S_1'''(x_1)$\n",
        "   - $S_{n-2}'''(x_{n-1}) = S_{n-1}'''(x_{n-1})$\n",
        "   \n",
        "4. **Periodic**: Function and derivatives at endpoints match (for cyclic data)\n",
        "   - $S^{(k)}(x_0) = S^{(k)}(x_n)$ for $k = 0, 1, 2$\n",
        "\n",
        "The choice of end conditions depends on the physical constraints of the problem and the behavior expected at the boundaries."
      ]
    },
    {
      "cell_type": "markdown",
      "metadata": {
        "id": "XCM_KOoCNUtx"
      },
      "source": [
        "## Setup and Imports\n",
        "\n",
        "Let's start by importing the necessary libraries:"
      ]
    },
    {
      "cell_type": "code",
      "execution_count": null,
      "metadata": {
        "id": "xS6_mreINUtw"
      },
      "outputs": [],
      "source": [
        "import numpy as np\n",
        "from scipy import interpolate\n",
        "import matplotlib.pyplot as plt\n",
        "\n",
        "# Set plot style\n",
        "plt.style.use('seaborn-v0_8-whitegrid')\n",
        "plt.rcParams['figure.figsize'] = [10, 6]\n",
        "plt.rcParams['font.size'] = 12"
      ]
    },
    {
      "cell_type": "markdown",
      "metadata": {
        "id": "1u5GwO0KNUty"
      },
      "source": [
        "## Task 1: Basic Spline Interpolation\n",
        "\n",
        "Let's start with a simple example of beam deflection data. Consider a simply-supported beam with a concentrated load at its center. We have measured the deflection at several points along the beam:"
      ]
    },
    {
      "cell_type": "code",
      "execution_count": null,
      "metadata": {
        "id": "SwOSiG0ENUtz"
      },
      "outputs": [],
      "source": [
        "# Define beam data\n",
        "# x represents position along the beam (meters)\n",
        "# y represents measured deflection (millimeters)\n",
        "x = np.array([0.0, 1.0, 2.0, 3.0, 4.0, 5.0, 6.0])\n",
        "y = np.array([0.0, -5.2, -8.1, -9.0, -8.1, -5.2, 0.0])\n",
        "\n",
        "# Plot the measured data points\n",
        "plt.figure()\n",
        "plt.plot(x, y, 'o', markersize=8, label='Measured deflection')\n",
        "plt.xlabel('Position along beam (m)')\n",
        "plt.ylabel('Deflection (mm)')\n",
        "plt.title('Beam Deflection Measurements')\n",
        "plt.grid(True)\n",
        "plt.legend()\n",
        "plt.show()"
      ]
    },
    {
      "cell_type": "markdown",
      "metadata": {
        "id": "ezFwFgofNUtz"
      },
      "source": [
        "### Step 1: Create a Basic Cubic Spline\n",
        "\n",
        "Let's create a basic cubic spline interpolation using SciPy's `CubicSpline` function with default settings (natural spline):"
      ]
    },
    {
      "cell_type": "code",
      "execution_count": null,
      "metadata": {
        "id": "fkbPYy7tNUtz"
      },
      "outputs": [],
      "source": [
        "# Create a cubic spline with default settings (natural spline)\n",
        "cs_natural = interpolate.CubicSpline(x, y)\n",
        "\n",
        "# Create a finer grid for smooth plotting\n",
        "x_fine = np.linspace(0, 6, 200)\n",
        "y_natural = cs_natural(x_fine)\n",
        "\n",
        "# Plot the results\n",
        "plt.figure()\n",
        "plt.plot(x, y, 'o', markersize=8, label='Measured data')\n",
        "plt.plot(x_fine, y_natural, '-', label='Natural cubic spline')\n",
        "plt.xlabel('Position along beam (m)')\n",
        "plt.ylabel('Deflection (mm)')\n",
        "plt.title('Beam Deflection with Natural Cubic Spline')\n",
        "plt.legend()\n",
        "plt.grid(True)\n",
        "plt.show()"
      ]
    },
    {
      "cell_type": "markdown",
      "metadata": {
        "id": "E_wztsVFNUt0"
      },
      "source": [
        "### Step 2: Examine the Spline Coefficients\n",
        "\n",
        "The `CubicSpline` object contains the coefficients for each polynomial segment. Let's extract and examine these coefficients:"
      ]
    },
    {
      "cell_type": "code",
      "execution_count": null,
      "metadata": {
        "id": "Sr1KouplNUt1"
      },
      "outputs": [],
      "source": [
        "# Display the coefficients of the natural cubic spline\n",
        "print(\"Cubic Spline Coefficients:\")\n",
        "print(\"\\nCoefficients shape:\", cs_natural.c.shape)\n",
        "print(\"\\nCoefficient array:\\n\", cs_natural.c)\n",
        "print(\"\\nKnots (x values):\\n\", cs_natural.x)\n",
        "\n",
        "# Print coefficients for each segment in a more readable format\n",
        "print(\"\\nCoefficients for each polynomial segment:\")\n",
        "for i in range(len(x) - 1):\n",
        "    print(f\"\\nSegment {i} ({x[i]} ≤ x ≤ {x[i+1]})\")\n",
        "    # Note: SciPy's CubicSpline stores coefficients in the order [d, c, b, a] for each segment\n",
        "    # The polynomials are of the form: a + b(x-x_i) + c(x-x_i)^2 + d(x-x_i)^3\n",
        "    a = cs_natural(x[i])  # The value at the left endpoint is the constant term\n",
        "    b = cs_natural.c[2, i]\n",
        "    c = cs_natural.c[1, i]\n",
        "    d = cs_natural.c[0, i]\n",
        "    print(f\"  P{i}(x) = {a:.4f} + {b:.4f}(x-{x[i]}) + {c:.4f}(x-{x[i]})^2 + {d:.4f}(x-{x[i]})^3\")"
      ]
    }
  ],
  "metadata": {
    "kernelspec": {
      "display_name": "Python 3 (ipykernel)",
      "language": "python",
      "name": "python3"
    },
    "language_info": {
      "codemirror_mode": {
        "name": "ipython",
        "version": 3
      },
      "file_extension": ".py",
      "mimetype": "text/x-python",
      "name": "python",
      "nbconvert_exporter": "python",
      "pygments_lexer": "ipython3",
      "version": "3.10.12"
    },
    "colab": {
      "provenance": []
    }
  },
  "nbformat": 4,
  "nbformat_minor": 0
}