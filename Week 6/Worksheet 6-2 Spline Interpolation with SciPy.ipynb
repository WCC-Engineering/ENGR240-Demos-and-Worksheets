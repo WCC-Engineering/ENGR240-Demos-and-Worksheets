{
  "cells": [
    {
      "cell_type": "markdown",
      "metadata": {
        "id": "cZQf9BprNUtt"
      }
  ],
  "metadata": {
    "kernelspec": {
      "display_name": "Python 3 (ipykernel)",
      "language": "python",
      "name": "python3"
    },
    "language_info": {
      "codemirror_mode": {
        "name": "ipython",
        "version": 3
      },
      "file_extension": ".py",
      "mimetype": "text/x-python",
      "name": "python",
      "nbconvert_exporter": "python",
      "pygments_lexer": "ipython3",
      "version": "3.10.12"
    },
    "colab": {
      "provenance": []
    }
  },
  "nbformat": 4,
  "nbformat_minor": 0
},
      "source": [
        "# ENGR 240: Spline Interpolation with SciPy\n",
        "\n",
        "[![Open In Colab](https://colab.research.google.com/assets/colab-badge.svg)](https://colab.research.google.com/github/WCC-Engineering/ENGR240/blob/main/Class%20Demos%20and%20Activities/Week%206/Worksheet%206-2%20Spline%20Interpolation%20with%20SciPy.ipynb)\n",
        "\n",
        "## Introduction\n",
        "\n",
        "In many engineering applications, we need to interpolate between discrete data points to create a smooth, continuous representation that approximates underlying behavior. Splines are piecewise polynomial functions that provide smooth interpolation between data points and are widely used in engineering design, data analysis, and computer graphics.\n",
        "\n",
        "In this worksheet, we'll explore spline interpolation using SciPy's `interpolate` module, specifically focusing on cubic splines, which are among the most common types of splines used in engineering applications.\n",
        "\n",
        "### Learning Objectives\n",
        "- Understand the basic theory behind spline interpolation\n",
        "- Implement various cubic spline end conditions using SciPy\n",
        "- Extract and analyze spline coefficients\n",
        "- Apply spline interpolation to a real engineering problem\n",
        "\n",
        "### Application Context: Structural Beam Deflection Analysis\n",
        "\n",
        "In this worksheet, we'll focus on a practical engineering application: analyzing the deflection of a beam under various loading conditions. Structural engineers often use spline interpolation to:\n",
        "\n",
        "1. Smoothly interpolate between measured deflection points\n",
        "2. Create continuous mathematical representations of physical measurements\n",
        "3. Estimate values between measurement points\n",
        "4. Generate smooth visualization of deformation profiles\n",
        "\n",
        "The ability to properly implement various end conditions is especially important in beam analysis, as they represent different physical constraints (e.g., fixed ends, free ends, or specific known slopes)."
      ]
    },
    {
      "cell_type": "markdown",
      "metadata": {
        "id": "pwYtzuxMNUtw"
      },
      "source": [
        "## Theoretical Background: Spline Interpolation\n",
        "\n",
        "### What is a Spline?\n",
        "\n",
        "A spline is a piecewise polynomial function that smoothly connects a set of data points. The term \"spline\" originated from the flexible drafting tools used by shipbuilders and draftsmen to draw smooth curves through a set of points.\n",
        "\n",
        "### Cubic Splines\n",
        "\n",
        "Cubic splines are particularly popular because they provide a good balance between smoothness and computational efficiency. A cubic spline consists of third-degree polynomial segments connecting pairs of data points, where the polynomials are constrained to ensure the resulting curve is continuous and smooth.\n",
        "\n",
        "For a set of data points $(x_0, y_0), (x_1, y_1), \\ldots, (x_n, y_n)$ where $x_0 < x_1 < \\ldots < x_n$, a cubic spline $S(x)$ is defined as:\n",
        "\n",
        "$$S(x) = S_i(x) \\quad \\text{for } x_i \\leq x \\leq x_{i+1}, i = 0, 1, \\ldots, n-1$$\n",
        "\n",
        "where each $S_i(x)$ is a cubic polynomial of the form:\n",
        "\n",
        "$$S_i(x) = a_i + b_i(x-x_i) + c_i(x-x_i)^2 + d_i(x-x_i)^3$$\n",
        "\n",
        "The coefficients $a_i$, $b_i$, $c_i$, and $d_i$ are determined by enforcing the following constraints:\n",
        "\n",
        "1. **Interpolation**: The spline passes through all data points\n",
        "   - $S_i(x_i) = y_i$\n",
        "   - $S_i(x_{i+1}) = y_{i+1}$\n",
        "   \n",
        "2. **Continuity**: The first and second derivatives are continuous at interior knots\n",
        "   - $S_i'(x_{i+1}) = S_{i+1}'(x_{i+1})$\n",
        "   - $S_i''(x_{i+1}) = S_{i+1}''(x_{i+1})$\n",
        "\n",
        "### End Conditions\n",
        "\n",
        "The constraints above give us $4n - 2$ equations for $4n$ unknown coefficients. To fully determine the spline, we need two additional conditions, typically specified at the endpoints. Common end conditions include:\n",
        "\n",
        "1. **Natural Spline**: Second derivatives at endpoints are set to zero\n",
        "   - $S''(x_0) = S''(x_n) = 0$\n",
        "   \n",
        "2. **Clamped Spline**: First derivatives at endpoints are specified\n",
        "   - $S'(x_0) = f'_0$ and $S'(x_n) = f'_n$\n",
        "   \n",
        "3. **Not-a-knot**: Third derivative is continuous at the second and second-to-last points\n",
        "   - $S_0'''(x_1) = S_1'''(x_1)$\n",
        "   - $S_{n-2}'''(x_{n-1}) = S_{n-1}'''(x_{n-1})$\n",
        "   \n",
        "4. **Periodic**: Function and derivatives at endpoints match (for cyclic data)\n",
        "   - $S^{(k)}(x_0) = S^{(k)}(x_n)$ for $k = 0, 1, 2$\n",
        "\n",
        "The choice of end conditions depends on the physical constraints of the problem and the behavior expected at the boundaries."
      ]
    },
    {
      "cell_type": "markdown",
      "metadata": {
        "id": "XCM_KOoCNUtx"
      },
      "source": [
        "## Setup and Imports\n",
        "\n",
        "Let's start by importing the necessary libraries:"
      ]
    },
    {
      "cell_type": "code",
      "execution_count": null,
      "metadata": {
        "id": "UNCdf45wNUt5"
      },
      "outputs": [],
      "source": [
        "# Your code here\n",
        "# 1. Create splines with different end conditions\n",
        "\n",
        "# 2. Plot the splines\n",
        "\n",
        "# 3. Find and print coefficients for the segment between x=15 and x=20"
      ]
    },
    {
      "cell_type": "markdown",
      "metadata": {
        "id": "nAEj4FsMNUt5"
      },
      "source": [
        "## Task 6: Discussion Questions\n",
        "\n",
        "After completing the above tasks, answer the following questions:\n",
        "\n",
        "1. How do the different end conditions affect the behavior of the spline near the endpoints? Which end condition seems most appropriate for the bridge girder deflection problem?\n",
        "\n",
        "2. When examining the coefficients for the different splines, what differences do you notice?\n",
        "\n",
        "3. In which engineering scenarios would you prefer to use a natural spline versus a clamped spline?\n",
        "\n",
        "4. What are the advantages and disadvantages of spline interpolation compared to other interpolation methods (like polynomial interpolation)?"
      ]
    },
    {
      "cell_type": "markdown",
      "metadata": {
        "id": "XD0GbDUBNUt5"
      },
      "source": [
        "Your answers here:\n",
        "\n",
        "1. \n",
        "\n",
        "2. \n",
        "\n",
        "3. \n",
        "\n",
        "4. "
      ]
    },
    {
      "cell_type": "markdown",
      "metadata": {
        "id": "vLUmFTbkNUt5"
      },
      "source": [
        "## Conclusion\n",
        "\n",
        "In this worksheet, we've explored the fundamentals of cubic spline interpolation using SciPy. We've learned how to:\n",
        "\n",
        "1. Create cubic splines with various end conditions\n",
        "2. Visualize the resulting interpolations\n",
        "3. Extract and understand the spline coefficients\n",
        "4. Apply splines to engineering problems like beam deflection analysis\n",
        "\n",
        "Spline interpolation is a powerful tool for engineering applications where smooth interpolation of measured data is essential. By understanding how to work with end conditions and coefficients, you can create accurate and physically meaningful interpolations.\n",
        "\n",
        "### Further Reading\n",
        "\n",
        "- [SciPy Documentation on `CubicSpline`](https://docs.scipy.org/doc/scipy/reference/generated/scipy.interpolate.CubicSpline.html)\n",
        "- [SciPy Tutorial on Interpolation](https://docs.scipy.org/doc/scipy/tutorial/interpolate.html)\n",
        "- _Numerical Methods for Engineers_, by Steven C. Chapra and Raymond P. Canale - Chapter on Spline Interpolation\n",
        "- _Applied Numerical Methods with MATLAB_, by Steven C. Chapra - Section on Splines and Piecewise Interpolation"
      ]
    } "xS6_mreINUtw"
      },
      "outputs": [],
      "source": [
        "import numpy as np\n",
        "from scipy import interpolate\n",
        "import matplotlib.pyplot as plt\n",
        "\n",
        "# Set plot style\n",
        "plt.style.use('seaborn-v0_8-whitegrid')\n",
        "plt.rcParams['figure.figsize'] = [10, 6]\n",
        "plt.rcParams['font.size'] = 12"
      ]
    },
    {
      "cell_type": "markdown",
      "metadata": {
        "id": "1u5GwO0KNUty"
      },
      "source": [
        "## Task 1: Basic Spline Interpolation\n",
        "\n",
        "Let's start with a simple example of beam deflection data. Consider a simply-supported beam with a concentrated load at its center. We have measured the deflection at several points along the beam:"
      ]
    },
    {
      "cell_type": "code",
      "execution_count": null,
      "metadata": {
        "id": "SwOSiG0ENUtz"
      },
      "outputs": [],
      "source": [
        "# Define beam data\n",
        "# x represents position along the beam (meters)\n",
        "# y represents measured deflection (millimeters)\n",
        "x = np.array([0.0, 1.0, 2.0, 3.0, 4.0, 5.0, 6.0])\n",
        "y = np.array([0.0, -5.2, -8.1, -9.0, -8.1, -5.2, 0.0])\n",
        "\n",
        "# Plot the measured data points\n",
        "plt.figure()\n",
        "plt.plot(x, y, 'o', markersize=8, label='Measured deflection')\n",
        "plt.xlabel('Position along beam (m)')\n",
        "plt.ylabel('Deflection (mm)')\n",
        "plt.title('Beam Deflection Measurements')\n",
        "plt.grid(True)\n",
        "plt.legend()\n",
        "plt.show()"
      ]
    },
    {
      "cell_type": "markdown",
      "metadata": {
        "id": "ezFwFgofNUtz"
      },
      "source": [
        "### Step 1: Create a Basic Cubic Spline\n",
        "\n",
        "Let's create a basic cubic spline interpolation using SciPy's `CubicSpline` function with default settings (natural spline):"
      ]
    },
    {
      "cell_type": "code",
      "execution_count": null,
      "metadata": {
        "id": "fkbPYy7tNUtz"
      },
      "outputs": [],
      "source": [
        "# Create a cubic spline with default settings (natural spline)\n",
        "cs_natural = interpolate.CubicSpline(x, y)\n",
        "\n",
        "# Create a finer grid for smooth plotting\n",
        "x_fine = np.linspace(0, 6, 200)\n",
        "y_natural = cs_natural(x_fine)\n",
        "\n",
        "# Plot the results\n",
        "plt.figure()\n",
        "plt.plot(x, y, 'o', markersize=8, label='Measured data')\n",
        "plt.plot(x_fine, y_natural, '-', label='Natural cubic spline')\n",
        "plt.xlabel('Position along beam (m)')\n",
        "plt.ylabel('Deflection (mm)')\n",
        "plt.title('Beam Deflection with Natural Cubic Spline')\n",
        "plt.legend()\n",
        "plt.grid(True)\n",
        "plt.show()"
      ]
    },
    {
      "cell_type": "markdown",
      "metadata": {
        "id": "E_wztsVFNUt0"
      },
      "source": [
        "### Step 2: Examine the Spline Coefficients\n",
        "\n",
        "The `CubicSpline` object contains the coefficients for each polynomial segment. Let's extract and examine these coefficients:"
      ]
    },
    {
      "cell_type": "code",
      "execution_count": null,
      "metadata": {
        "id": "Sr1KouplNUt1"
      },
      "outputs": [],
      "source": [
        "# Display the coefficients of the natural cubic spline\n",
        "print(\"Cubic Spline Coefficients:\")\n",
        "print(\"\\nCoefficients shape:\", cs_natural.c.shape)\n",
        "print(\"\\nCoefficient array:\\n\", cs_natural.c)\n",
        "print(\"\\nKnots (x values):\\n\", cs_natural.x)\n",
        "\n",
        "# Print coefficients for each segment in a more readable format\n",
        "print(\"\\nCoefficients for each polynomial segment:\")\n",
        "for i in range(len(x) - 1):\n",
        "    print(f\"\\nSegment {i} ({x[i]} ≤ x ≤ {x[i+1]})\")\n",
        "    # Note: SciPy's CubicSpline stores coefficients in the order [d, c, b, a] for each segment\n",
        "    # The polynomials are of the form: a + b(x-x_i) + c(x-x_i)^2 + d(x-x_i)^3\n",
        "    a = cs_natural(x[i])  # The value at the left endpoint is the constant term\n",
        "    b = cs_natural.c[2, i]\n",
        "    c = cs_natural.c[1, i]\n",
        "    d = cs_natural.c[0, i]\n",
        "    print(f\"  P{i}(x) = {a:.4f} + {b:.4f}(x-{x[i]}) + {c:.4f}(x-{x[i]})^2 + {d:.4f}(x-{x[i]})^3\")"
      ]
    },
    {
      "cell_type": "markdown",
      "metadata": {
        "id": "_PF_5gYRNUt1"
      },
      "source": [
        "### Step 3: Understanding the Coefficient Array\n",
        "\n",
        "The coefficient array returned by SciPy's `CubicSpline` is organized as follows:\n",
        "- Shape: (4, n-1) where n is the number of data points\n",
        "- Row 0: Coefficients for the cubic term (d)\n",
        "- Row 1: Coefficients for the quadratic term (c)\n",
        "- Row 2: Coefficients for the linear term (b)\n",
        "- Row 3: Coefficients for the constant term (not used directly, as each polynomial is defined relative to the left knot)\n",
        "\n",
        "For a given segment i (between knots i and i+1), the polynomial is:\n",
        "P_i(x) = a_i + b_i(x-x_i) + c_i(x-x_i)^2 + d_i(x-x_i)^3\n",
        "\n",
        "where:\n",
        "- a_i = y_i (the value at the left knot)\n",
        "- b_i = cs.c[2, i]\n",
        "- c_i = cs.c[1, i]\n",
        "- d_i = cs.c[0, i]\n",
        "\n",
        "\n",
        "## Task 2: Implementing Different End Conditions\n",
        "\n",
        "Now, let's explore how different end conditions affect the spline interpolation. The SciPy `CubicSpline` function allows us to specify various boundary conditions using the `bc_type` parameter."
      ]
    },
    {
      "cell_type": "code",
      "execution_count": null,
      "metadata": {
        "id": "ehwW4BEeNUt1"
      },
      "outputs": [],
      "source": [
        "# Create cubic splines with different end conditions\n",
        "\n",
        "# 1. Natural spline (second derivatives at endpoints are zero)\n",
        "cs_natural = interpolate.CubicSpline(x, y, bc_type='natural')\n",
        "\n",
        "# 2. Clamped spline (first derivatives specified at endpoints)\n",
        "# For a simply supported beam, the slope at the supports should be non-zero\n",
        "# Let's specify slopes based on theoretical beam deflection\n",
        "cs_clamped = interpolate.CubicSpline(x, y, bc_type=((1, -2.5), (1, 2.5)))  # (left_bc, right_bc)\n",
        "\n",
        "# 3. Not-a-knot condition\n",
        "cs_notaknot = interpolate.CubicSpline(x, y, bc_type='not-a-knot')\n",
        "\n",
        "# 4. Periodic condition (not suitable for this beam problem but included for completeness)\n",
        "# Note: This would only work if y[0] = y[-1], which is true for our beam\n",
        "cs_periodic = interpolate.CubicSpline(x, y, bc_type='periodic')\n",
        "\n",
        "# Evaluate the splines on a fine grid\n",
        "y_natural = cs_natural(x_fine)\n",
        "y_clamped = cs_clamped(x_fine)\n",
        "y_notaknot = cs_notaknot(x_fine)\n",
        "y_periodic = cs_periodic(x_fine)\n",
        "\n",
        "# Plot the results\n",
        "plt.figure(figsize=(12, 7))\n",
        "plt.plot(x, y, 'o', markersize=8, label='Measured data')\n",
        "plt.plot(x_fine, y_natural, '-', label='Natural')\n",
        "plt.plot(x_fine, y_clamped, '--', label='Clamped')\n",
        "plt.plot(x_fine, y_notaknot, '-.', label='Not-a-knot')\n",
        "plt.plot(x_fine, y_periodic, ':', label='Periodic')\n",
        "plt.xlabel('Position along beam (m)')\n",
        "plt.ylabel('Deflection (mm)')\n",
        "plt.title('Beam Deflection with Different Spline End Conditions')\n",
        "plt.legend()\n",
        "plt.grid(True)\n",
        "plt.show()"
      ]
    },
    {
      "cell_type": "markdown",
      "metadata": {
        "id": "4p-bHdePNUt1"
      },
      "source": [
        "### Let's also examine the first derivatives (slope) of these splines\n",
        "\n",
        "The first derivative of the deflection curve represents the slope of the beam. For a simply-supported beam, we expect non-zero slopes at the supports. Let's visualize how different end conditions affect the slope:"
      ]
    },
    {
      "cell_type": "code",
      "execution_count": null,
      "metadata": {
        "id": "0lwnwAdcNUt2"
      },
      "outputs": [],
      "source": [
        "# Calculate the first derivatives of the splines\n",
        "y_natural_deriv = cs_natural(x_fine, 1)  # 1 indicates first derivative\n",
        "y_clamped_deriv = cs_clamped(x_fine, 1)\n",
        "y_notaknot_deriv = cs_notaknot(x_fine, 1)\n",
        "y_periodic_deriv = cs_periodic(x_fine, 1)\n",
        "\n",
        "# Plot the first derivatives\n",
        "plt.figure(figsize=(12, 7))\n",
        "plt.plot(x_fine, y_natural_deriv, '-', label='Natural')\n",
        "plt.plot(x_fine, y_clamped_deriv, '--', label='Clamped')\n",
        "plt.plot(x_fine, y_notaknot_deriv, '-.', label='Not-a-knot')\n",
        "plt.plot(x_fine, y_periodic_deriv, ':', label='Periodic')\n",
        "plt.axhline(y=0, color='k', linestyle='-', alpha=0.3)\n",
        "plt.xlabel('Position along beam (m)')\n",
        "plt.ylabel('Slope (mm/m)')\n",
        "plt.title('Beam Slope with Different Spline End Conditions')\n",
        "plt.legend()\n",
        "plt.grid(True)\n",
        "plt.show()"
      ]
    },
    {
      "cell_type": "markdown",
      "metadata": {
        "id": "KnUgoYE8NUt2"
      },
      "source": [
        "## Task 3: Custom End Conditions\n",
        "\n",
        "Now, let's implement custom end conditions for our spline. For a simply-supported beam, we know that:\n",
        "1. The deflection at the supports is zero (already in our data)\n",
        "2. The second derivative (curvature) is proportional to the bending moment\n",
        "\n",
        "Let's implement a clamped condition with different slopes on each end:"
      ]
    },
    {
      "cell_type": "code",
      "execution_count": null,
      "metadata": {
        "id": "pnL93elHNUt2"
      },
      "outputs": [],
      "source": [
        "# Experiment with different slope values at the endpoints\n",
        "left_slopes = [-3.0, -2.0, -1.0]\n",
        "right_slopes = [3.0, 2.0, 1.0]\n",
        "\n",
        "plt.figure(figsize=(12, 7))\n",
        "plt.plot(x, y, 'o', markersize=8, label='Measured data')\n",
        "\n",
        "# Try different combinations of slopes\n",
        "for i, (left_slope, right_slope) in enumerate(zip(left_slopes, right_slopes)):\n",
        "    cs_custom = interpolate.CubicSpline(x, y, bc_type=((1, left_slope), (1, right_slope)))\n",
        "    y_custom = cs_custom(x_fine)\n",
        "    plt.plot(x_fine, y_custom, '-', \n",
        "             label=f'Slopes: ({left_slope}, {right_slope})')\n",
        "    \n",
        "plt.xlabel('Position along beam (m)')\n",
        "plt.ylabel('Deflection (mm)')\n",
        "plt.title('Beam Deflection with Custom End Slopes')\n",
        "plt.legend()\n",
        "plt.grid(True)\n",
        "plt.show()"
      ]
    },
    {
      "cell_type": "markdown",
      "metadata": {
        "id": "QW3mrRx8NUt3"
      },
      "source": [
        "Now, let's implement a mixed boundary condition, where we specify different types of constraints on each end:"
      ]
    },
    {
      "cell_type": "code",
      "execution_count": null,
      "metadata": {
        "id": "JK3D4VWZNUt3"
      },
      "outputs": [],
      "source": [
        "# Mixed boundary conditions\n",
        "# Left end: First derivative (slope) specified\n",
        "# Right end: Second derivative (curvature) specified\n",
        "cs_mixed = interpolate.CubicSpline(x, y, bc_type=((1, -2.5), (2, 0)))\n",
        "\n",
        "# Evaluate the spline on a fine grid\n",
        "y_mixed = cs_mixed(x_fine)\n",
        "\n",
        "# Plot the results\n",
        "plt.figure()\n",
        "plt.plot(x, y, 'o', markersize=8, label='Measured data')\n",
        "plt.plot(x_fine, y_natural, '-', label='Natural')\n",
        "plt.plot(x_fine, y_mixed, '--', label='Mixed (slope left, curvature right)')\n",
        "plt.xlabel('Position along beam (m)')\n",
        "plt.ylabel('Deflection (mm)')\n",
        "plt.title('Beam Deflection with Mixed End Conditions')\n",
        "plt.legend()\n",
        "plt.grid(True)\n",
        "plt.show()"
      ]
    },
    {
      "cell_type": "markdown",
      "metadata": {
        "id": "r8q8y5Z0NUt3"
      },
      "source": [
        "## Task 4: Extracting and Examining Spline Coefficients\n",
        "\n",
        "Now let's create a function to display the coefficients in a more readable format:"
      ]
    },
    {
      "cell_type": "code",
      "execution_count": null,
      "metadata": {
        "id": "zEy6JTQnNUt3"
      },
      "outputs": [],
      "source": [
        "def display_spline_coefficients(spline, x_values):\n",
        "    \"\"\"Display the coefficients of a cubic spline in a readable format.\n",
        "    \n",
        "    Parameters:\n",
        "    -----------\n",
        "    spline : scipy.interpolate.CubicSpline\n",
        "        The cubic spline object\n",
        "    x_values : array-like\n",
        "        The x coordinates of the data points (knots)\n",
        "    \"\"\"\n",
        "    print(\"Spline Coefficients:\")\n",
        "    print(f\"  Number of segments: {len(x_values) - 1}\")\n",
        "    print(f\"  Coefficient array shape: {spline.c.shape}\")\n",
        "    print(\"\\nPolynomial representation for each segment:\")\n",
        "    \n",
        "    for i in range(len(x_values) - 1):\n",
        "        x_i = x_values[i]\n",
        "        x_i1 = x_values[i+1]\n",
        "        print(f\"\\nSegment {i}: {x_i} ≤ x ≤ {x_i1}\")\n",
        "        \n",
        "        # Extract coefficients for this segment\n",
        "        # In SciPy's CubicSpline, coefficients are stored as [d, c, b, a]\n",
        "        a = spline(x_i)  # Value at left knot\n",
        "        b = spline.c[2, i]  # Linear coefficient\n",
        "        c = spline.c[1, i]  # Quadratic coefficient\n",
        "        d = spline.c[0, i]  # Cubic coefficient\n",
        "        \n",
        "        # Print the polynomial\n",
        "        equation = f\"  P{i}(x) = {a:.6f}\"\n",
        "        if b != 0:\n",
        "            equation += f\" + {b:.6f}(x-{x_i})\"\n",
        "        if c != 0:\n",
        "            equation += f\" + {c:.6f}(x-{x_i})²\"\n",
        "        if d != 0:\n",
        "            equation += f\" + {d:.6f}(x-{x_i})³\"\n",
        "        print(equation)\n",
        "        \n",
        "    return\n",
        "\n",
        "# Display coefficients for the natural spline\n",
        "print(\"Natural Spline:\")\n",
        "display_spline_coefficients(cs_natural, x)\n",
        "\n",
        "# Display coefficients for the clamped spline\n",
        "print(\"\\n\" + \"-\"*50 + \"\\n\")\n",
        "print(\"Clamped Spline:\")\n",
        "display_spline_coefficients(cs_clamped, x)"
      ]
    },
    {
      "cell_type": "markdown",
      "metadata": {
        "id": "QfK0Tc1SNUt4"
      },
      "source": [
        "## Task 5: Student Practice - Implementing a Custom Spline\n",
        "\n",
        "Now it's your turn to work with splines! Consider a new engineering scenario: a bridge girder with the following measured deflection data:"
      ]
    },
    {
      "cell_type": "code",
      "execution_count": null,
      "metadata": {
        "id": "Kzj7f6TnNUt4"
      },
      "outputs": [],
      "source": [
        "# Bridge girder data\n",
        "bridge_x = np.array([0, 5, 10, 15, 20, 25, 30, 35, 40])  # Position (m)\n",
        "bridge_y = np.array([0, -25, -45, -60, -65, -60, -45, -25, 0])  # Deflection (mm)\n",
        "\n",
        "# Plot the data\n",
        "plt.figure(figsize=(12, 6))\n",
        "plt.plot(bridge_x, bridge_y, 'ko', markersize=8, label='Measured deflection')\n",
        "plt.xlabel('Position along bridge (m)')\n",
        "plt.ylabel('Deflection (mm)')\n",
        "plt.title('Bridge Girder Deflection Measurements')\n",
        "plt.grid(True)\n",
        "plt.legend()\n",
        "plt.show()"
      ]
    },
    {
      "cell_type": "markdown",
      "metadata": {
        "id": "TfRJ5l4DNUt4"
      },
      "source": [
        "### Your Task: Create a Cubic Spline with Custom End Conditions\n",
        "\n",
        "1. Create a cubic spline for the bridge data using the 'natural' end condition\n",
        "2. Create another spline with custom end slopes: left slope = -8, right slope = 8\n",
        "3. Create a third spline using the 'not-a-knot' condition\n",
        "4. Plot all three splines on the same graph for comparison\n",
        "5. Extract and print the coefficients for the segment between x=15 and x=20\n",
        "\n",
        "**Note**: Remember that the syntax for specifying a clamped spline is: `bc_type=((1, left_slope), (1, right_slope))`"
      ]
    },
    {
      "cell_type": "code",
      "execution_count": null,
      "metadata": {
        "id":
