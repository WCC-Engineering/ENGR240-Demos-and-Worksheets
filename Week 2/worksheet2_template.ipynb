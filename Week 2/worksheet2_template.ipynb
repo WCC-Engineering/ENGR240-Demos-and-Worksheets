{
  "cells": [
    {
      "cell_type": "markdown",
      "metadata": {
        "id": "colab-badge"
      },
      "source": [
        "[![Open In Colab](https://colab.research.google.com/assets/colab-badge.svg)](https://colab.research.google.com/github/WCC-Engineering/ENGR240/blob/main/Class%20Demos%20and%20Activities/Week%202/worksheet2_template.ipynb)"
      ]
    },
    {
      "cell_type": "markdown",
      "metadata": {
        "id": "title-cell"
      },
      "source": [
        "# Worksheet 2.2: Flow Regime Analysis\n",
        "\n",
        "## ENGR& 240: Engineering Computations\n",
        "### Introduction to Scientific Computing with Python"
      ]
    },
    {
      "cell_type": "markdown",
      "metadata": {
        "id": "objectives-cell"
      },
      "source": [
        "## Objectives\n",
        "- Practice implementing conditional statements in Python\n",
        "- Develop functions with decision logic\n",
        "- Use lambda functions for simple formula evaluations\n",
        "- Visualize the relationship between different engineering variables"
      ]
    },
    {
      "cell_type": "markdown",
      "metadata": {
        "id": "instructions-cell"
      },
      "source": [
        "## Instructions\n",
        "\n",
        "In this worksheet, we will analyze fluid flow in pipes, focusing on determining flow regimes and calculating friction factors. These calculations are fundamental in fluid mechanics and are used extensively in designing pipe systems, analyzing pressure drops, and understanding fluid behavior.\n",
        "\n",
        "We'll work with the Reynolds number, a dimensionless quantity that helps predict whether fluid flow will be laminar or turbulent. Based on the flow regime, we'll implement different equations for calculating the friction factor, which is used to determine pressure drop in pipe systems."
      ]
    },
    {
      "cell_type": "markdown",
      "metadata": {
        "id": "background-cell"
      },
      "source": [
        "## Background: Reynolds Number and Flow Regimes\n",
        "\n",
        "The Reynolds number (Re) is a dimensionless quantity that predicts flow patterns in fluid mechanics. It is defined as:\n",
        "\n",
        "$$Re = \\frac{\\rho v D}{\\mu} = \\frac{v D}{\\nu}$$\n",
        "\n",
        "Where:\n",
        "- $\\rho$ is the fluid density (kg/m³)\n",
        "- $v$ is the flow velocity (m/s)\n",
        "- $D$ is the pipe diameter (m)\n",
        "- $\\mu$ is the dynamic viscosity (kg/(m·s))\n",
        "- $\\nu$ is the kinematic viscosity (m²/s), where $\\nu = \\mu/\\rho$\n",
        "\n",
        "Based on the Reynolds number, flow can be categorized into three regimes:\n",
        "1. **Laminar flow**: Re < 2300\n",
        "2. **Transitional flow**: 2300 ≤ Re ≤ 4000\n",
        "3. **Turbulent flow**: Re > 4000\n",
        "\n",
        "### Friction Factor Calculations\n",
        "\n",
        "The Darcy friction factor (f) is used to calculate pressure drop in pipe flow and depends on the flow regime:\n",
        "\n",
        "1. **Laminar flow**:\n",
        "   $$f = \\frac{64}{Re}$$\n",
        "\n",
        "2. **Transitional flow**: Typically interpolated between laminar and turbulent values\n",
        "\n",
        "3. **Turbulent flow**: Several equations exist, including the Colebrook equation and its approximations. For smooth pipes, the Blasius equation is often used:\n",
        "   $$f = \\frac{0.316}{Re^{0.25}}$$\n",
        "\n",
        "For rough pipes in turbulent flow, we use the Haaland equation (an approximation of the Colebrook equation):\n",
        "$$f = \\left(-1.8 \\log_{10}\\left[\\frac{6.9}{Re} + \\left(\\frac{\\epsilon/D}{3.7}\\right)^{1.11}\\right]\\right)^{-2}$$\n",
        "\n",
        "Where:\n",
        "- $\\epsilon$ is the pipe roughness (m)\n",
        "- $D$ is the pipe diameter (m)\n",
        "- $\\epsilon/D$ is the relative roughness"
      ]
    },
    {
      "cell_type": "markdown",
      "metadata": {
        "id": "part1-cell"
      },
      "source": [
        "## Part 1: Reynolds Number Calculation\n",
        "\n",
        "First, we'll write a function to calculate the Reynolds number. Let's import the necessary libraries and define our function."
      ]
    },
    {
      "cell_type": "code",
      "execution_count": null,
      "metadata": {
        "id": "reynolds-number-cell"
      },
      "source": [
        "import numpy as np\n",
        "import matplotlib.pyplot as plt\n",
        "\n",
        "def calculate_reynolds(velocity, diameter, kinematic_viscosity):\n",
        "    \"\"\"\n",
        "    Calculate the Reynolds number for pipe flow.\n",
        "    \n",
        "    Parameters:\n",
        "    ----------\n",
        "    velocity : float or array\n",
        "        Flow velocity in m/s\n",
        "    diameter : float or array\n",
        "        Pipe diameter in m\n",
        "    kinematic_viscosity : float or array\n",
        "        Kinematic viscosity in m²/s\n",
        "        \n",
        "    Returns:\n",
        "    -------\n",
        "    reynolds : float or array\n",
        "        Reynolds number (dimensionless)\n",
        "    \"\"\"\n",
        "    reynolds = velocity * diameter / kinematic_viscosity\n",
        "    return reynolds\n",
        "\n",
        "# Test the function\n",
        "# Example: Water at 20°C (kinematic viscosity ≈ 1.004e-6 m²/s)\n",
        "# Pipe diameter: 0.05 m (50 mm)\n",
        "# Flow velocity: 1 m/s\n",
        "water_viscosity = 1.004e-6  # m²/s\n",
        "pipe_diameter = 0.05  # m\n",
        "flow_velocity = 1.0  # m/s\n",
        "\n",
        "re = calculate_reynolds(flow_velocity, pipe_diameter, water_viscosity)\n",
        "print(f\"Reynolds number: {re:.0f}\")"
      ],
      "outputs": []
    },
    {
      "cell_type": "markdown",
      "metadata": {
        "id": "part2-cell"
      },
      "source": [
        "## Part 2: Classifying Flow Regimes\n",
        "\n",
        "Now, let's write a function that classifies the flow regime based on the Reynolds number. Complete the function below to return the flow regime and apply it to the previous example."
      ]
    },
    {
      "cell_type": "code",
      "execution_count": null,
      "metadata": {
        "id": "flow-regime-cell"
      },
      "source": [
        "def classify_flow_regime(reynolds):\n",
        "    \"\"\"\n",
        "    Classify the flow regime based on the Reynolds number.\n",
        "    \n",
        "    Parameters:\n",
        "    ----------\n",
        "    reynolds : float or array\n",
        "        Reynolds number\n",
        "        \n",
        "    Returns:\n",
        "    -------\n",
        "    regime : str or array of str\n",
        "        Flow regime ('laminar', 'transitional', or 'turbulent')\n",
        "    \"\"\"\n",
        "    # Your code here - use if/elif/else statements to classify the flow regime\n",
        "    # based on the Reynolds number thresholds described in the background section\n",
        "    \n",
        "    return regime\n",
        "\n",
        "# Test the function with our previous example\n",
        "flow_type = classify_flow_regime(re)\n",
        "print(f\"Flow regime: {flow_type}\")"
      ],
      "outputs": []
    },
    {
      "cell_type": "markdown",
      "metadata": {
        "id": "trace-exercise-cell"
      },
      "source": [
        "Let's test our functions with a few different flow velocities to see how the Reynolds number and flow regime change:"
      ]
    },
    {
      "cell_type": "code",
      "execution_count": null,
      "metadata": {
        "id": "tracing-code-cell"
      },
      "source": [
        "# Calculate the Reynolds number and flow regime for the different velocities\n",
        "velocities = [0.01, 0.05, 3.0]  # m/s\n",
        "\n",
        "for velocity in velocities:\n",
        "    reynolds = calculate_reynolds(velocity, pipe_diameter, water_viscosity)\n",
        "    regime = classify_flow_regime(reynolds)\n",
        "    print(f\"Velocity: {velocity} m/s, Reynolds: {reynolds:.0f}, Regime: {regime}\")"
      ],
      "outputs": []
    },
    {
      "cell_type": "markdown",
      "metadata": {
        "id": "part3-cell"
      },
      "source": [
        "## Part 3: Friction Factor Calculation\n",
        "\n",
        "Next, we'll implement a function to calculate the Darcy friction factor based on the flow regime and pipe properties. This function will use conditional statements to apply the appropriate equation for each flow regime.\n",
        "\n",
        "For this implementation, we'll use:\n",
        "- The theoretical equation (64/Re) for laminar flow\n",
        "- Linear interpolation between laminar and turbulent values for transitional flow\n",
        "- The Haaland equation for turbulent flow"
      ]
    },
    {
      "cell_type": "code",
      "execution_count": null,
      "metadata": {
        "id": "friction-factor-cell"
      },
      "source": [
        "def calculate_friction_factor(reynolds, relative_roughness=0):\n",
        "    \"\"\"\n",
        "    Calculate the Darcy friction factor based on Reynolds number and relative roughness.\n",
        "    \n",
        "    Parameters:\n",
        "    ----------\n",
        "    reynolds : float or array\n",
        "        Reynolds number\n",
        "    relative_roughness : float or array, optional\n",
        "        Relative pipe roughness (ε/D), dimensionless\n",
        "        Default is 0 (smooth pipe)\n",
        "        \n",
        "    Returns:\n",
        "    -------\n",
        "    friction_factor : float or array\n",
        "        Darcy friction factor\n",
        "    \"\"\"\n",
        "    # Define the friction factor equations as lambda functions\n",
        "    # This is a good use case for lambda functions - simple one-line formulas\n",
        "    laminar_f = lambda re: 64 / re\n",
        "    \n",
        "    # Blasius equation for turbulent flow in smooth pipes\n",
        "    blasius_f = lambda re: 0.316 / (re ** 0.25)\n",
        "    \n",
        "    # Haaland equation for turbulent flow in rough pipes\n",
        "    haaland_f = lambda re, roughness: (-1.8 * np.log10((6.9/re) + (roughness/3.7)**1.11))**(-2)\n",
        "    \n",
        "    # Implement conditional logic based on flow regime\n",
        "    # For the transitional regime, we'll use linear interpolation between the laminar and turbulent values\n",
        "    # Linear interpolation formula: y = y1 + (x - x1) * (y2 - y1) / (x2 - x1)\n",
        "    # Where: x1 = 2300, x2 = 4000, y1 = f_laminar, y2 = f_turbulent\n",
        "    \n",
        "    # Your code here - implement the conditional logic to select the appropriate equation\n",
        "    # and calculate the friction factor\n",
        "    \n",
        "    # For transitional flow, use this linear interpolation approach:\n",
        "    # 1. Calculate f_laminar at Re = 2300\n",
        "    # 2. Calculate f_turbulent at Re = 4000 (using haaland_f if roughness > 0, otherwise blasius_f)\n",
        "    # 3. Calculate interpolation factor t = (reynolds - 2300) / (4000 - 2300)\n",
        "    # 4. Calculate friction_factor = f_laminar + t * (f_turbulent - f_laminar)\n",
        "    \n",
        "    return friction_factor\n",
        "\n",
        "# Test the function for our previous example with a typical roughness\n",
        "relative_roughness = 0.0001  # A typical value for commercial steel pipes\n",
        "f = calculate_friction_factor(re, relative_roughness)\n",
        "print(f\"Friction factor: {f:.6f}\")"
      ],
      "outputs": []
    },
    {
      "cell_type": "markdown",
      "metadata": {
        "id": "part4-cell"
      },
      "source": [
        "## Part 4: Pressure Drop Calculation\n",
        "\n",
        "Now that we can calculate the friction factor, let's create a function to calculate the pressure drop in a pipe. The pressure drop is given by the Darcy-Weisbach equation:\n",
        "\n",
        "$$\\Delta P = f \\cdot \\frac{L}{D} \\cdot \\frac{\\rho v^2}{2}$$\n",
        "\n",
        "Where:\n",
        "- $\\Delta P$ is the pressure drop (Pa)\n",
        "- $f$ is the Darcy friction factor (dimensionless)\n",
        "- $L$ is the pipe length (m)\n",
        "- $D$ is the pipe diameter (m)\n",
        "- $\\rho$ is the fluid density (kg/m³)\n",
        "- $v$ is the flow velocity (m/s)"
      ]
    },
    {
      "cell_type": "code",
      "execution_count": null,
      "metadata": {
        "id": "pressure-drop-cell"
      },
      "source": [
        "def calculate_pressure_drop(friction_factor, length, diameter, density, velocity):\n",
        "    \"\"\"\n",
        "    Calculate pressure drop in a pipe using the Darcy-Weisbach equation.\n",
        "    \n",
        "    Parameters:\n",
        "    ----------\n",
        "    friction_factor : float or array\n",
        "        Darcy friction factor\n",
        "    length : float or array\n",
        "        Pipe length in m\n",
        "    diameter : float or array\n",
        "        Pipe diameter in m\n",
        "    density : float or array\n",
        "        Fluid density in kg/m³\n",
        "    velocity : float or array\n",
        "        Flow velocity in m/s\n",
        "        \n",
        "    Returns:\n",
        "    -------\n",
        "    pressure_drop : float or array\n",
        "        Pressure drop in Pa\n",
        "    \"\"\"\n",
        "    # Your code here - implement the Darcy-Weisbach equation\n",
        "    \n",
        "    return pressure_drop\n",
        "\n",
        "# Test the function\n",
        "water_density = 998.2  # kg/m³ at 20°C\n",
        "pipe_length = 100  # m\n",
        "\n",
        "pressure_drop = calculate_pressure_drop(f, pipe_length, pipe_diameter, water_density, flow_velocity)\n",
        "print(f\"Pressure drop: {pressure_drop:.2f} Pa ({pressure_drop/1000:.4f} kPa)\")"
      ],
      "outputs": []
    },
    {
      "cell_type": "markdown",
      "metadata": {
        "id": "part6-cell"
      },
      "source": [
        "## Part 5: Visualizing the Relationship Between Velocity and Pressure Drop\n",
        "\n",
        "Finally, let's visualize the relationship between flow velocity and pressure drop. We'll create a plot that shows how the pressure drop changes with velocity, highlighting the transition between flow regimes."
      ]
    },
    {
      "cell_type": "code",
      "execution_count": null,
      "metadata": {
        "id": "visualization-cell"
      },
      "source": [
        "# Create a range of velocities\n",
        "velocities = np.linspace(0.01, 3.0, 100)  # m/s\n",
        "\n",
        "# Calculate the pressure drop for each velocity\n",
        "# Your code here - use a loop or vectorization to calculate pressure drop for each velocity\n",
        "# Store the results along with the Reynolds numbers and flow regimes\n",
        "\n",
        "# Plot the results\n",
        "plt.figure(figsize=(12, 8))\n",
        "\n",
        "# Create a plot of pressure drop vs. velocity with different colors for each flow regime\n",
        "# Your code here\n",
        "\n",
        "plt.xlabel('Flow Velocity (m/s)')\n",
        "plt.ylabel('Pressure Drop (kPa)')\n",
        "plt.title('Pressure Drop vs. Flow Velocity for Different Flow Regimes')\n",
        "plt.grid(True)\n",
        "plt.legend()\n",
        "plt.tight_layout()\n",
        "plt.show()"
      ],
      "outputs": []
    },
    {
      "cell_type": "markdown",
      "metadata": {
        "id": "reflection-cell"
      },
      "source": [
        "## Reflection\n",
        "\n",
        "After completing this worksheet, answer the following questions:\n",
        "\n",
        "1. How do conditional statements help you model different physical phenomena in engineering problems?\n",
        "\n",
        "2. What are the benefits of breaking down a complex analysis into separate functions vs. having one large function that does everything?\n",
        "\n",
        "3. How would you modify the code to handle a different fluid or pipe material? What changes would be needed?\n",
        "\n",
        "4. How did using lambda functions for mathematical formulas improve (or not improve) your code's readability and maintainability?"
      ]
    }
  ],
  "metadata": {
    "colab": {
      "name": "worksheet2_template.ipynb",
      "provenance": [],
      "toc_visible": true
    },
    "kernelspec": {
      "display_name": "Python 3",
      "name": "python3"
    },
    "language_info": {
      "name": "python"
    }
  },
  "nbformat": 4,
  "nbformat_minor": 0
}