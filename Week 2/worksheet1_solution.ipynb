{
  "cells": [
    {
      "cell_type": "markdown",
      "metadata": {
        "id": "colab-badge"
      },
      "source": [
        "[![Open In Colab](https://colab.research.google.com/assets/colab-badge.svg)](https://colab.research.google.com/github/WCC-Engineering/ENGR240/blob/week2-worksheet/Class%20Demos%20and%20Activities/Week%202/worksheet1_solution.ipynb)"
      ]
    },
    {
      "cell_type": "markdown",
      "metadata": {
        "id": "title-cell"
      },
      "source": [
        "# Worksheet 2.1: Loops and Series Calculations (SOLUTION)\n",
        "\n",
        "## ENGR& 240: Engineering Computations\n",
        "### Introduction to Scientific Computing with Python"
      ]
    },
    {
      "cell_type": "markdown",
      "metadata": {
        "id": "objectives-cell"
      },
      "source": [
        "## Objectives\n",
        "- Understand for loops and how they're used in scientific computing\n",
        "- Analyze code that computes terms in a geometric series\n",
        "- Implement and visualize infinite series calculations\n",
        "- Practice tracing execution of loops in Python code"
      ]
    },
    {
      "cell_type": "markdown",
      "metadata": {
        "id": "instructions-cell"
      },
      "source": [
        "## Instructions\n",
        "\n",
        "This worksheet focuses on understanding and implementing series calculations using loops in Python. We'll examine a geometric series function, trace its execution, and then extend the concept to another important series.\n",
        "\n",
        "A geometric series is a sum where each term is found by multiplying the previous term by a fixed, non-zero number called the common ratio. In our case, we'll be looking at the series:\n",
        "\n",
        "$$\\sum_{k=1}^{\\infty} \\frac{1}{2^k} = \\frac{1}{2} + \\frac{1}{4} + \\frac{1}{8} + \\frac{1}{16} + \\ldots$$\n",
        "\n",
        "This is a common series in engineering and science with a known sum of 1 as the number of terms approaches infinity."
      ]
    },
    {
      "cell_type": "markdown",
      "metadata": {
        "id": "part1-cell"
      },
      "source": [
        "## Part 1: Understanding the Geometric Series Function\n",
        "\n",
        "Below is a Python function that calculates the first N terms of a geometric series with a ratio of 1/2, as well as the cumulative sum of these terms. Study the code, then answer the questions that follow."
      ]
    },
    {
      "cell_type": "code",
      "execution_count": null,
      "metadata": {
        "id": "geom2-code-cell"
      },
      "source": [
        "import numpy as np\n",
        "import matplotlib.pyplot as plt\n",
        "\n",
        "def geom2(N):\n",
        "    \"\"\"\n",
        "    [series_vector, series_sums] = geom2(N)\n",
        "    \n",
        "    Outputs a vector of the first N terms of the geometric series given by \n",
        "    \n",
        "        x_k = 1/2^k\n",
        "    \n",
        "    Also outputs a second vector of the first N series sums\n",
        "    \n",
        "    Parameters:\n",
        "    -----------\n",
        "    N : int\n",
        "        Number of terms in the series\n",
        "        \n",
        "    Returns:\n",
        "    --------\n",
        "    series_vector : ndarray\n",
        "        Vector containing the first N terms of the geometric series\n",
        "    series_sums : ndarray\n",
        "        Vector containing the cumulative sums of the series\n",
        "    \"\"\"\n",
        "    \n",
        "    # Initialize arrays with the first term\n",
        "    series_vector = np.zeros(N)\n",
        "    series_sums = np.zeros(N)\n",
        "    \n",
        "    # Set the first term\n",
        "    series_vector[0] = 0.5  # 1/2^1\n",
        "    series_sums[0] = series_vector[0]\n",
        "    \n",
        "    # Calculate remaining terms\n",
        "    for k in range(1, N):\n",
        "        series_vector[k] = 1/(2**(k+1))  # Note: we use k+1 because Python is 0-indexed\n",
        "        series_sums[k] = series_sums[k-1] + series_vector[k]\n",
        "    \n",
        "    return series_vector, series_sums"
      ],
      "outputs": []
    },
    {
      "cell_type": "markdown",
      "metadata": {
        "id": "tracing-cell"
      },
      "source": [
        "### Variable Tracing\n",
        "\n",
        "Let's trace through the execution of this function for `N = 5`. Fill in the table below to track how the variables change as the loop iterates. The first row is done for you."
      ]
    },
    {
      "cell_type": "markdown",
      "metadata": {
        "id": "trace-table-cell"
      },
      "source": [
        "| Loop Iteration | k | series_vector[k] | series_sums[k] |\n",
        "|---------------|---|------------------|----------------|\n",
        "| Before loop | - | [0.5, 0, 0, 0, 0] | [0.5, 0, 0, 0, 0] |\n",
        "| Iteration 1 | 1 | 0.25 (1/2^2) | 0.75 (0.5 + 0.25) |\n",
        "| Iteration 2 | 2 | 0.125 (1/2^3) | 0.875 (0.75 + 0.125) |\n",
        "| Iteration 3 | 3 | 0.0625 (1/2^4) | 0.9375 (0.875 + 0.0625) |\n",
        "| Iteration 4 | 4 | 0.03125 (1/2^5) | 0.96875 (0.9375 + 0.03125) |"
      ]
    },
    {
      "cell_type": "markdown",
      "metadata": {
        "id": "test-function-cell"
      },
      "source": [
        "Now, let's test the function with `N = 10` and print the results:"
      ]
    },
    {
      "cell_type": "code",
      "execution_count": null,
      "metadata": {
        "id": "test-code-cell"
      },
      "source": [
        "# Test the geom2 function with N = 10\n",
        "terms, sums = geom2(10)\n",
        "\n",
        "# Print the results\n",
        "print(\"Terms of the geometric series:\")\n",
        "print(terms)\n",
        "print(\"\\nCumulative sums:\")\n",
        "print(sums)"
      ],
      "outputs": []
    },
    {
      "cell_type": "markdown",
      "metadata": {
        "id": "visualization-cell"
      },
      "source": [
        "Let's visualize both the individual terms and the cumulative sums:"
      ]
    },
    {
      "cell_type": "code",
      "execution_count": null,
      "metadata": {
        "id": "visualization-code-cell"
      },
      "source": [
        "# Visualize the geometric series with N = 20\n",
        "N = 20\n",
        "terms, sums = geom2(N)\n",
        "\n",
        "# Create term indices for plotting (1 to N)\n",
        "indices = np.arange(1, N+1)\n",
        "\n",
        "# Create a figure with two subplots\n",
        "plt.figure(figsize=(12, 6))\n",
        "\n",
        "# Plot the individual terms\n",
        "plt.subplot(1, 2, 1)\n",
        "plt.stem(indices, terms, basefmt=\" \")\n",
        "plt.xlabel('Term Index (k)')\n",
        "plt.ylabel('Term Value (1/2^k)')\n",
        "plt.title('Individual Terms of Geometric Series')\n",
        "plt.grid(True)\n",
        "\n",
        "# Plot the cumulative sum\n",
        "plt.subplot(1, 2, 2)\n",
        "plt.plot(indices, sums, 'o-')\n",
        "plt.axhline(y=1.0, color='r', linestyle='--', label='Limit = 1.0')\n",
        "plt.xlabel('Number of Terms')\n",
        "plt.ylabel('Cumulative Sum')\n",
        "plt.title('Partial Sums of Geometric Series')\n",
        "plt.grid(True)\n",
        "plt.legend()\n",
        "\n",
        "plt.tight_layout()\n",
        "plt.show()"
      ],
      "outputs": []
    },
    {
      "cell_type": "markdown",
      "metadata": {
        "id": "questions-cell"
      },
      "source": [
        "### Conceptual Questions\n",
        "\n",
        "Answer the following questions about the geometric series function:\n",
        "\n",
        "1. What is the purpose of initializing `series_vector` and `series_sums` as arrays of zeros? Why not start with empty arrays?\n",
        "\n",
        "   **Answer**: We initialize the arrays with zeros to pre-allocate memory for all N elements. This is more efficient than appending elements to empty arrays, which would require reallocating memory with each append operation. Pre-allocation also allows us to access any element by index, which is necessary for the loop to work.\n",
        "\n",
        "2. What would happen if we changed the loop to start from 0 instead of 1? What adjustments would we need to make to the code?\n",
        "\n",
        "   **Answer**: If we changed the loop to start from 0, we would be re-calculating the first element that we've already set before the loop. We would need to remove the separate initialization of the first term and adjust the formula to `series_vector[k] = 1/(2**(k+1))` to maintain the same mathematical sequence.\n",
        "\n",
        "3. The formula for the sum of an infinite geometric series with first term a and common ratio r (where |r| < 1) is:\n",
        "   $$S_{\\infty} = \\frac{a}{1-r}$$\n",
        "   Calculate the theoretical sum for our series and compare it to the value of `sums[N-1]` for large N. How close does our numerical calculation get to the theoretical value?\n",
        "   \n",
        "   **Answer**: For our series, a = 1/2 and r = 1/2. Thus, the theoretical sum is:\n",
        "   $$S_{\\infty} = \\frac{1/2}{1-1/2} = \\frac{1/2}{1/2} = 1$$\n",
        "   \n",
        "   For N = 20, we get a numerical sum of approximately 0.9999990463. The difference is about 0.0000009537, showing our calculation is very close to the theoretical value of 1."
      ]
    },
    {
      "cell_type": "markdown",
      "metadata": {
        "id": "implementation-cell"
      },
      "source": [
        "## Part 2: Alternating Series - The Leibniz Series\n",
        "\n",
        "Now, we'll consider an interesting alternating series called the Leibniz series, which is used to approximate π:\n",
        "\n",
        "$$\\frac{\\pi}{4} = 1 - \\frac{1}{3} + \\frac{1}{5} - \\frac{1}{7} + \\frac{1}{9} - \\ldots = \\sum_{k=0}^{\\infty} \\frac{(-1)^k}{2k+1}$$\n",
        "\n",
        "Your task is to implement a function called `leibniz_series(N)` that calculates the first N terms of this series and returns both the individual terms and the cumulative sum (which approximates π/4)."
      ]
    },
    {
      "cell_type": "code",
      "execution_count": null,
      "metadata": {
        "id": "leibniz-code-cell"
      },
      "source": [
        "def leibniz_series(N):\n",
        "    \"\"\"\n",
        "    Calculate the first N terms of the Leibniz series and their cumulative sum.\n",
        "    \n",
        "    The Leibniz series is: 1 - 1/3 + 1/5 - 1/7 + ... = π/4\n",
        "    \n",
        "    Parameters:\n",
        "    -----------\n",
        "    N : int\n",
        "        Number of terms to calculate\n",
        "        \n",
        "    Returns:\n",
        "    --------\n",
        "    terms : ndarray\n",
        "        Array of the first N terms of the series\n",
        "    partial_sums : ndarray\n",
        "        Array of the cumulative sums (approximations of π/4)\n",
        "    \"\"\"\n",
        "    # Initialize arrays\n",
        "    terms = np.zeros(N)\n",
        "    partial_sums = np.zeros(N)\n",
        "    \n",
        "    # Calculate terms and partial sums\n",
        "    for k in range(N):\n",
        "        # Calculate the denominator: 2k+1\n",
        "        denominator = 2*k + 1\n",
        "        \n",
        "        # Calculate the term with alternating sign: (-1)^k / (2k+1)\n",
        "        terms[k] = ((-1)**k) / denominator\n",
        "        \n",
        "        # Calculate the running sum\n",
        "        if k == 0:\n",
        "            partial_sums[k] = terms[k]\n",
        "        else:\n",
        "            partial_sums[k] = partial_sums[k-1] + terms[k]\n",
        "    \n",
        "    return terms, partial_sums"
      ],
      "outputs": []
    },
    {
      "cell_type": "markdown",
      "metadata": {
        "id": "verification-cell"
      },
      "source": [
        "Once you've implemented the function, use it to calculate and visualize the series. How many terms do you need to get a good approximation of π?"
      ]
    },
    {
      "cell_type": "code",
      "execution_count": null,
      "metadata": {
        "id": "leibniz-test-cell"
      },
      "source": [
        "# Test your leibniz_series function\n",
        "N = 10\n",
        "terms, partial_sums = leibniz_series(N)\n",
        "\n",
        "print(\"Leibniz series terms:\")\n",
        "print(terms)\n",
        "print(\"\\nPartial sums (approximations of π/4):\")\n",
        "print(partial_sums)\n",
        "print(\"\\nApproximation of π using\", N, \"terms:\", 4 * partial_sums[-1])\n",
        "print(\"Actual value of π:\", np.pi)\n",
        "print(\"Absolute error:\", abs(np.pi - 4 * partial_sums[-1]))\n"
      ],
      "outputs": []
    },
    {
      "cell_type": "markdown",
      "metadata": {
        "id": "leibniz-visualization-cell"
      },
      "source": [
        "### Visualizing Convergence to π\n",
        "\n",
        "Create a visualization that shows both the individual terms and how the cumulative sum converges to π/4 (or multiply by 4 to show convergence to π directly)."
      ]
    },
    {
      "cell_type": "code",
      "execution_count": null,
      "metadata": {
        "id": "leibniz-viz-code-cell"
      },
      "source": [
        "# Visualize the Leibniz series and its convergence to π\n",
        "N = 100\n",
        "terms, partial_sums = leibniz_series(N)\n",
        "\n",
        "# Create term indices for plotting (1 to N)\n",
        "indices = np.arange(1, N+1)\n",
        "\n",
        "# Create a figure with two subplots\n",
        "plt.figure(figsize=(12, 6))\n",
        "\n",
        "# Plot the individual terms\n",
        "plt.subplot(1, 2, 1)\n",
        "plt.stem(indices, terms, basefmt=\" \")\n",
        "plt.xlabel('Term Index (k)')\n",
        "plt.ylabel('Term Value ((-1)^k/(2k+1))')\n",
        "plt.title('Individual Terms of Leibniz Series')\n",
        "plt.grid(True)\n",
        "\n",
        "# Plot the convergence to π\n",
        "plt.subplot(1, 2, 2)\n",
        "plt.plot(indices, 4 * partial_sums, 'o-')\n",
        "plt.axhline(y=np.pi, color='r', linestyle='--', label='π = {:.10f}'.format(np.pi))\n",
        "plt.xlabel('Number of Terms')\n",
        "plt.ylabel('Approximation of π')\n",
        "plt.title('Convergence of Leibniz Series to π')\n",
        "plt.grid(True)\n",
        "plt.legend()\n",
        "\n",
        "plt.tight_layout()\n",
        "plt.show()\n",
        "\n",
        "# Plot the absolute error (on a logarithmic scale)\n",
        "plt.figure(figsize=(10, 6))\n",
        "plt.semilogy(indices, abs(np.pi - 4 * partial_sums), 'o-')\n",
        "plt.xlabel('Number of Terms')\n",
        "plt.ylabel('Absolute Error (|π - Approximation|)')\n",
        "plt.title('Error in Leibniz Series Approximation of π')\n",
        "plt.grid(True)\n",
        "plt.show()"
      ],
      "outputs": []
    },
    {
      "cell_type": "markdown",
      "metadata": {
        "id": "reflection-cell"
      },
      "source": [
        "## Reflection\n",
        "\n",
        "After completing this worksheet, answer the following questions:\n",
        "\n",
        "1. How does the geometric series converge compared to the Leibniz series? Which one converges faster?\n",
        "\n",
        "   **Answer**: The geometric series converges much faster than the Leibniz series. After just 20 terms, the geometric series gets within about 10^-6 of its limit, while the Leibniz series is still off by about 0.01 from π after 100 terms. This is because the terms in the geometric series decrease exponentially (by a factor of 1/2 each time), while the terms in the Leibniz series decrease only as 1/n, which is much slower.\n",
        "\n",
        "2. What are the advantages of using array operations versus loops in Python for these calculations?\n",
        "\n",
        "   **Answer**: Array operations in NumPy (vectorization) offer several advantages:\n",
        "   - Faster execution (operations are performed in compiled C code rather than Python loops)\n",
        "   - Cleaner, more concise code\n",
        "   - Better memory management\n",
        "   - Potential for parallel processing\n",
        "   - Reduced risk of indexing errors common in explicit loops\n",
        "\n",
        "3. Can you think of ways to improve the efficiency of the Leibniz series calculation? (Hint: Consider vectorization using NumPy.)\n",
        "\n",
        "   **Answer**: Yes, we can vectorize the Leibniz series calculation:\n",
        "   ```python\n",
        "   def vectorized_leibniz_series(N):\n",
        "       k = np.arange(N)\n",
        "       terms = (-1)**k / (2*k + 1)\n",
        "       partial_sums = np.cumsum(terms)\n",
        "       return terms, partial_sums\n",
        "   ```\n",
        "   This implementation would be much faster than the loop-based version, especially for large N, as it takes advantage of NumPy's optimized array operations."
      ]
    }
  ],
  "metadata": {
    "colab": {
      "name": "worksheet1_solution.ipynb",
      "provenance": [],
      "toc_visible": true
    },
    "kernelspec": {
      "display_name": "Python 3",
      "name": "python3"
    },
    "language_info": {
      "name": "python"
    }
  },
  "nbformat": 4,
  "nbformat_minor": 0
}