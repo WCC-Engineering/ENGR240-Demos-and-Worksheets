{
  "cells": [
    {
      "cell_type": "markdown",
      "metadata": {
        "id": "colab-badge"
      },
      "source": [
        "[![Open In Colab](https://colab.research.google.com/assets/colab-badge.svg)](https://colab.research.google.com/github/WCC-Engineering/ENGR240/blob/main/Class%20Demos%20and%20Activities/Week%202/worksheet2_solution.ipynb)"
      ]
    },
    {
      "cell_type": "markdown",
      "metadata": {
        "id": "title-cell"
      },
      "source": [
        "# Worksheet 2.2: Flow Regime Analysis (SOLUTION)\n",
        "\n",
        "## ENGR& 240: Engineering Computations\n",
        "### Introduction to Scientific Computing with Python"
      ]
    },
    {
      "cell_type": "markdown",
      "metadata": {
        "id": "objectives-cell"
      },
      "source": [
        "## Objectives\n",
        "- Practice implementing conditional statements in Python\n",
        "- Develop functions with decision logic\n",
        "- Use lambda functions for simple formula evaluations\n",
        "- Visualize the relationship between different engineering variables"
      ]
    },
    {
      "cell_type": "markdown",
      "metadata": {
        "id": "instructions-cell"
      },
      "source": [
        "## Instructions\n",
        "\n",
        "In this worksheet, we will analyze fluid flow in pipes, focusing on determining flow regimes and calculating friction factors. These calculations are fundamental in fluid mechanics and are used extensively in designing pipe systems, analyzing pressure drops, and understanding fluid behavior.\n",
        "\n",
        "We'll work with the Reynolds number, a dimensionless quantity that helps predict whether fluid flow will be laminar or turbulent. Based on the flow regime, we'll implement different equations for calculating the friction factor, which is used to determine pressure drop in pipe systems."
      ]
    },
    {
      "cell_type": "markdown",
      "metadata": {
        "id": "background-cell"
      },
      "source": [
        "## Background: Reynolds Number and Flow Regimes\n",
        "\n",
        "The Reynolds number (Re) is a dimensionless quantity that predicts flow patterns in fluid mechanics. It is defined as:\n",
        "\n",
        "$$Re = \\frac{\\rho v D}{\\mu} = \\frac{v D}{\\nu}$$\n",
        "\n",
        "Where:\n",
        "- $\\rho$ is the fluid density (kg/m³)\n",
        "- $v$ is the flow velocity (m/s)\n",
        "- $D$ is the pipe diameter (m)\n",
        "- $\\mu$ is the dynamic viscosity (kg/(m·s))\n",
        "- $\\nu$ is the kinematic viscosity (m²/s), where $\\nu = \\mu/\\rho$\n",
        "\n",
        "Based on the Reynolds number, flow can be categorized into three regimes:\n",
        "1. **Laminar flow**: Re < 2300\n",
        "2. **Transitional flow**: 2300 ≤ Re ≤ 4000\n",
        "3. **Turbulent flow**: Re > 4000\n",
        "\n",
        "### Friction Factor Calculations\n",
        "\n",
        "The Darcy friction factor (f) is used to calculate pressure drop in pipe flow and depends on the flow regime:\n",
        "\n",
        "1. **Laminar flow**:\n",
        "   $$f = \\frac{64}{Re}$$\n",
        "\n",
        "2. **Transitional flow**: Typically interpolated between laminar and turbulent values\n",
        "\n",
        "3. **Turbulent flow**: Several equations exist, including the Colebrook equation and its approximations. For smooth pipes, the Blasius equation is often used:\n",
        "   $$f = \\frac{0.316}{Re^{0.25}}$$\n",
        "\n",
        "For rough pipes in turbulent flow, we use the Haaland equation (an approximation of the Colebrook equation):\n",
        "$$f = \\left(-1.8 \\log_{10}\\left[\\frac{6.9}{Re} + \\left(\\frac{\\epsilon/D}{3.7}\\right)^{1.11}\\right]\\right)^{-2}$$\n",
        "\n",
        "Where:\n",
        "- $\\epsilon$ is the pipe roughness (m)\n",
        "- $D$ is the pipe diameter (m)\n",
        "- $\\epsilon/D$ is the relative roughness"
      ]
    },
    {
      "cell_type": "markdown",
      "metadata": {
        "id": "part1-cell"
      },
      "source": [
        "## Part 1: Reynolds Number Calculation\n",
        "\n",
        "First, we'll write a function to calculate the Reynolds number. Let's import the necessary libraries and define our function."
      ]
    },
    {
      "cell_type": "code",
      "execution_count": null,
      "metadata": {
        "id": "reynolds-number-cell"
      },
      "source": [
        "import numpy as np\n",
        "import matplotlib.pyplot as plt\n",
        "\n",
        "def calculate_reynolds(velocity, diameter, kinematic_viscosity):\n",
        "    \"\"\"\n",
        "    Calculate the Reynolds number for pipe flow.\n",
        "    \n",
        "    Parameters:\n",
        "    ----------\n",
        "    velocity : float or array\n",
        "        Flow velocity in m/s\n",
        "    diameter : float or array\n",
        "        Pipe diameter in m\n",
        "    kinematic_viscosity : float or array\n",
        "        Kinematic viscosity in m²/s\n",
        "        \n",
        "    Returns:\n",
        "    -------\n",
        "    reynolds : float or array\n",
        "        Reynolds number (dimensionless)\n",
        "    \"\"\"\n",
        "    reynolds = velocity * diameter / kinematic_viscosity\n",
        "    return reynolds\n",
        "\n",
        "# Test the function\n",
        "# Example: Water at 20°C (kinematic viscosity ≈ 1.004e-6 m²/s)\n",
        "# Pipe diameter: 0.05 m (50 mm)\n",
        "# Flow velocity: 1 m/s\n",
        "water_viscosity = 1.004e-6  # m²/s\n",
        "pipe_diameter = 0.05  # m\n",
        "flow_velocity = 1.0  # m/s\n",
        "\n",
        "re = calculate_reynolds(flow_velocity, pipe_diameter, water_viscosity)\n",
        "print(f\"Reynolds number: {re:.0f}\")"
      ],
      "outputs": []
    },
    {
      "cell_type": "markdown",
      "metadata": {
        "id": "part2-cell"
      },
      "source": [
        "## Part 2: Classifying Flow Regimes\n",
        "\n",
        "Now, let's write a function that classifies the flow regime based on the Reynolds number."
      ]
    },
    {
      "cell_type": "code",
      "execution_count": null,
      "metadata": {
        "id": "flow-regime-cell"
      },
      "source": [
        "def classify_flow_regime(reynolds):\n",
        "    \"\"\"\n",
        "    Classify the flow regime based on the Reynolds number.\n",
        "    \n",
        "    Parameters:\n",
        "    ----------\n",
        "    reynolds : float or array\n",
        "        Reynolds number\n",
        "        \n",
        "    Returns:\n",
        "    -------\n",
        "    regime : str or array of str\n",
        "        Flow regime ('laminar', 'transitional', or 'turbulent')\n",
        "    \"\"\"\n",
        "    if reynolds < 2300:\n",
        "        regime = 'laminar'\n",
        "    elif reynolds <= 4000:\n",
        "        regime = 'transitional'\n",
        "    else:\n",
        "        regime = 'turbulent'\n",
        "    \n",
        "    return regime\n",
        "\n",
        "# Test the function with our previous example\n",
        "flow_type = classify_flow_regime(re)\n",
        "print(f\"Flow regime: {flow_type}\")"
      ],
      "outputs": []
    },
    {
      "cell_type": "markdown",
      "metadata": {
        "id": "trace-exercise-cell"
      },
      "source": [
        "Let's test our functions with a few different flow velocities to see how the Reynolds number and flow regime change:"
      ]
    },
    {
      "cell_type": "code",
      "execution_count": null,
      "metadata": {
        "id": "tracing-code-cell"
      },
      "source": [
        "# Calculate the Reynolds number and flow regime for the different velocities\n",
        "velocities = [0.01, 0.05, 3.0]  # m/s\n",
        "\n",
        "for velocity in velocities:\n",
        "    reynolds = calculate_reynolds(velocity, pipe_diameter, water_viscosity)\n",
        "    regime = classify_flow_regime(reynolds)\n",
        "    print(f\"Velocity: {velocity} m/s, Reynolds: {reynolds:.0f}, Regime: {regime}\")"
      ],
      "outputs": []
    },
    {
      "cell_type": "markdown",
      "metadata": {
        "id": "part3-cell"
      },
      "source": [
        "## Part 3: Friction Factor Calculation\n",
        "\n",
        "Next, we'll implement a function to calculate the Darcy friction factor based on the flow regime and pipe properties. This function will use conditional statements to apply the appropriate equation for each flow regime.\n",
        "\n",
        "For this implementation, we'll use:\n",
        "- The theoretical equation (64/Re) for laminar flow\n",
        "- Linear interpolation between laminar and turbulent values for transitional flow\n",
        "- The Haaland equation for turbulent flow"
      ]
    },
    {
      "cell_type": "code",
      "execution_count": null,
      "metadata": {
        "id": "friction-factor-cell"
      },
      "source": [
        "def calculate_friction_factor(reynolds, relative_roughness=0):\n",
        "    \"\"\"\n",
        "    Calculate the Darcy friction factor based on Reynolds number and relative roughness.\n",
        "    \n",
        "    Parameters:\n",
        "    ----------\n",
        "    reynolds : float or array\n",
        "        Reynolds number\n",
        "    relative_roughness : float or array, optional\n",
        "        Relative pipe roughness (ε/D), dimensionless\n",
        "        Default is 0 (smooth pipe)\n",
        "        \n",
        "    Returns:\n",
        "    -------\n",
        "    friction_factor : float or array\n",
        "        Darcy friction factor\n",
        "    \"\"\"\n",
        "    # Define the friction factor equations as lambda functions\n",
        "    # This is a good use case for lambda functions - simple one-line formulas\n",
        "    laminar_f = lambda re: 64 / re\n",
        "    \n",
        "    # Blasius equation for turbulent flow in smooth pipes\n",
        "    blasius_f = lambda re: 0.316 / (re ** 0.25)\n",
        "    \n",
        "    # Haaland equation for turbulent flow in rough pipes\n",
        "    haaland_f = lambda re, roughness: (-1.8 * np.log10((6.9/re) + (roughness/3.7)**1.11))**(-2)\n",
        "    \n",
        "    # Implement conditional logic based on flow regime\n",
        "    # For the transitional regime, we'll use linear interpolation between the laminar and turbulent values\n",
        "    # Linear interpolation formula: y = y1 + (x - x1) * (y2 - y1) / (x2 - x1)\n",
        "    # Where: x1 = 2300, x2 = 4000, y1 = f_laminar, y2 = f_turbulent\n",
        "    \n",
        "    if reynolds < 2300:  # Laminar flow\n",
        "        friction_factor = laminar_f(reynolds)\n",
        "    elif reynolds <= 4000:  # Transitional flow\n",
        "        # Linear interpolation between laminar and turbulent\n",
        "        f_laminar = laminar_f(2300)\n",
        "        f_turbulent = blasius_f(4000) if relative_roughness == 0 else haaland_f(4000, relative_roughness)\n",
        "        \n",
        "        # Linear interpolation factor\n",
        "        t = (reynolds - 2300) / (4000 - 2300)\n",
        "        friction_factor = f_laminar + t * (f_turbulent - f_laminar)\n",
        "    else:  # Turbulent flow\n",
        "        if relative_roughness == 0:\n",
        "            # Smooth pipe - use Blasius equation\n",
        "            friction_factor = blasius_f(reynolds)\n",
        "        else:\n",
        "            # Rough pipe - use Haaland equation\n",
        "            friction_factor = haaland_f(reynolds, relative_roughness)\n",
        "    \n",
        "    return friction_factor\n",
        "\n",
        "# Test the function for our previous example with a typical roughness\n",
        "relative_roughness = 0.0001  # A typical value for commercial steel pipes\n",
        "f = calculate_friction_factor(re, relative_roughness)\n",
        "print(f\"Friction factor: {f:.6f}\")"
      ],
      "outputs": []
    },
    {
      "cell_type": "markdown",
      "metadata": {
        "id": "part4-cell"
      },
      "source": [
        "## Part 4: Pressure Drop Calculation\n",
        "\n",
        "Now that we can calculate the friction factor, let's create a function to calculate the pressure drop in a pipe. The pressure drop is given by the Darcy-Weisbach equation:\n",
        "\n",
        "$$\\Delta P = f \\cdot \\frac{L}{D} \\cdot \\frac{\\rho v^2}{2}$$\n",
        "\n",
        "Where:\n",
        "- $\\Delta P$ is the pressure drop (Pa)\n",
        "- $f$ is the Darcy friction factor (dimensionless)\n",
        "- $L$ is the pipe length (m)\n",
        "- $D$ is the pipe diameter (m)\n",
        "- $\\rho$ is the fluid density (kg/m³)\n",
        "- $v$ is the flow velocity (m/s)"
      ]
    },
    {
      "cell_type": "code",
      "execution_count": null,
      "metadata": {
        "id": "pressure-drop-cell"
      },
      "source": [
        "def calculate_pressure_drop(friction_factor, length, diameter, density, velocity):\n",
        "    \"\"\"\n",
        "    Calculate pressure drop in a pipe using the Darcy-Weisbach equation.\n",
        "    \n",
        "    Parameters:\n",
        "    ----------\n",
        "    friction_factor : float or array\n",
        "        Darcy friction factor\n",
        "    length : float or array\n",
        "        Pipe length in m\n",
        "    diameter : float or array\n",
        "        Pipe diameter in m\n",
        "    density : float or array\n",
        "        Fluid density in kg/m³\n",
        "    velocity : float or array\n",
        "        Flow velocity in m/s\n",
        "        \n",
        "    Returns:\n",
        "    -------\n",
        "    pressure_drop : float or array\n",
        "        Pressure drop in Pa\n",
        "    \"\"\"\n",
        "    pressure_drop = friction_factor * (length / diameter) * (density * velocity**2 / 2)\n",
        "    return pressure_drop\n",
        "\n",
        "# Test the function\n",
        "water_density = 998.2  # kg/m³ at 20°C\n",
        "pipe_length = 100  # m\n",
        "\n",
        "pressure_drop = calculate_pressure_drop(f, pipe_length, pipe_diameter, water_density, flow_velocity)\n",
        "print(f\"Pressure drop: {pressure_drop:.2f} Pa ({pressure_drop/1000:.4f} kPa)\")"
      ],
      "outputs": []
    },
    {
      "cell_type": "markdown",
      "metadata": {
        "id": "part6-cell"
      },
      "source": [
        "## Part 5: Visualizing the Relationship Between Velocity and Pressure Drop\n",
        "\n",
        "Finally, let's visualize the relationship between flow velocity and pressure drop. We'll create a plot that shows how the pressure drop changes with velocity, highlighting the transition between flow regimes."
      ]
    },
    {
      "cell_type": "code",
      "execution_count": null,
      "metadata": {
        "id": "visualization-cell"
      },
      "source": [
        "# Create a range of velocities that includes transition points\n",
        "velocities = np.linspace(0.01, 3.0, 500)  # Using more points for smoother transition\n",
        "\n",
        "# Calculate the transition velocities based on Reynolds number\n",
        "re_2300_velocity = 2300 * water_viscosity / pipe_diameter  # Around 0.046 m/s\n",
        "re_4000_velocity = 4000 * water_viscosity / pipe_diameter  # Around 0.080 m/s\n",
        "\n",
        "# Print these transition velocities for reference\n",
        "print(f\"Laminar-transitional boundary velocity: {re_2300_velocity:.3f} m/s\")\n",
        "print(f\"Transitional-turbulent boundary velocity: {re_4000_velocity:.3f} m/s\")\n",
        "\n",
        "# Initialize arrays to store results\n",
        "reynolds_numbers = np.zeros_like(velocities)\n",
        "regimes = np.full(len(velocities), '', dtype=object)  # Better initialization for string arrays\n",
        "friction_factors = np.zeros_like(velocities)\n",
        "pressure_drops = np.zeros_like(velocities)\n",
        "\n",
        "# Calculate the results for each velocity\n",
        "for i, v in enumerate(velocities):\n",
        "    # Calculate Reynolds number\n",
        "    reynolds = calculate_reynolds(v, pipe_diameter, water_viscosity)\n",
        "    reynolds_numbers[i] = reynolds\n",
        "    \n",
        "    # Determine flow regime\n",
        "    regime = classify_flow_regime(reynolds)\n",
        "    regimes[i] = regime\n",
        "    \n",
        "    # Calculate friction factor\n",
        "    f = calculate_friction_factor(reynolds, relative_roughness)\n",
        "    friction_factors[i] = f\n",
        "    \n",
        "    # Calculate pressure drop\n",
        "    p_drop = calculate_pressure_drop(f, pipe_length, pipe_diameter, water_density, v)\n",
        "    pressure_drops[i] = p_drop / 1000  # Convert to kPa for better visualization\n",
        "\n",
        "# Verify how many points fall into each regime\n",
        "laminar_count = np.sum(regimes == 'laminar')\n",
        "transitional_count = np.sum(regimes == 'transitional')\n",
        "turbulent_count = np.sum(regimes == 'turbulent')\n",
        "print(f\"Points in each regime: Laminar: {laminar_count}, Transitional: {transitional_count}, Turbulent: {turbulent_count}\")\n",
        "\n",
        "# Identify indices for each flow regime for separate plotting\n",
        "laminar_indices = np.where(regimes == 'laminar')[0]\n",
        "transitional_indices = np.where(regimes == 'transitional')[0]\n",
        "turbulent_indices = np.where(regimes == 'turbulent')[0]\n",
        "\n",
        "# Create the plot\n",
        "plt.figure(figsize=(12, 8))\n",
        "\n",
        "# Plot each flow regime with a different color\n",
        "if len(laminar_indices) > 0:\n",
        "    plt.plot(velocities[laminar_indices], pressure_drops[laminar_indices], 'b-', \n",
        "             linewidth=2, label='Laminar Flow')\n",
        "    \n",
        "if len(transitional_indices) > 0:\n",
        "    plt.plot(velocities[transitional_indices], pressure_drops[transitional_indices], 'g-', \n",
        "             linewidth=2, label='Transitional Flow')\n",
        "    \n",
        "if len(turbulent_indices) > 0:\n",
        "    plt.plot(velocities[turbulent_indices], pressure_drops[turbulent_indices], 'r-', \n",
        "             linewidth=2, label='Turbulent Flow')\n",
        "\n",
        "# Add regime transition lines\n",
        "plt.axvline(x=re_2300_velocity, color='gray', linestyle='--', label='Re = 2300')\n",
        "plt.axvline(x=re_4000_velocity, color='gray', linestyle=':', label='Re = 4000')\n",
        "\n",
        "# Add annotations\n",
        "plt.text(re_2300_velocity - 0.05, np.max(pressure_drops) * 0.9, 'Laminar-Transitional\\nBoundary', \n",
        "         horizontalalignment='right', verticalalignment='top')\n",
        "plt.text(re_4000_velocity + 0.05, np.max(pressure_drops) * 0.9, 'Transitional-Turbulent\\nBoundary', \n",
        "         horizontalalignment='left', verticalalignment='top')\n",
        "\n",
        "# Set log scale for y-axis since pressure drop varies greatly\n",
        "plt.yscale('log')\n",
        "\n",
        "# Add labels and title\n",
        "plt.xlabel('Flow Velocity (m/s)')\n",
        "plt.ylabel('Pressure Drop (kPa)')\n",
        "plt.title(f'Pressure Drop vs. Flow Velocity for Different Flow Regimes\\nPipe Diameter: {pipe_diameter*1000:.0f} mm, Relative Roughness: {relative_roughness}')\n",
        "plt.grid(True, which='both', linestyle='--', alpha=0.7)\n",
        "plt.legend(loc='lower right')\n",
        "plt.tight_layout()\n",
        "plt.show()\n",
        "\n",
        "# Create another plot showing the friction factor vs. Reynolds number\n",
        "plt.figure(figsize=(12, 6))\n",
        "\n",
        "# Plot on a log-log scale\n",
        "if len(laminar_indices) > 0:\n",
        "    plt.loglog(reynolds_numbers[laminar_indices], friction_factors[laminar_indices], 'b-', \n",
        "             linewidth=2, label='Laminar Flow')\n",
        "    \n",
        "if len(transitional_indices) > 0:\n",
        "    plt.loglog(reynolds_numbers[transitional_indices], friction_factors[transitional_indices], 'g-', \n",
        "             linewidth=2, label='Transitional Flow')\n",
        "    \n",
        "if len(turbulent_indices) > 0:\n",
        "    plt.loglog(reynolds_numbers[turbulent_indices], friction_factors[turbulent_indices], 'r-', \n",
        "             linewidth=2, label='Turbulent Flow')\n",
        "\n",
        "# Add vertical lines for regime transitions\n",
        "plt.axvline(x=2300, color='gray', linestyle='--')\n",
        "plt.axvline(x=4000, color='gray', linestyle=':')\n",
        "\n",
        "# Add labels and title\n",
        "plt.xlabel('Reynolds Number')\n",
        "plt.ylabel('Friction Factor')\n",
        "plt.title(f'Friction Factor vs. Reynolds Number for Different Flow Regimes\\nRelative Roughness: {relative_roughness}')\n",
        "plt.grid(True, which='both', linestyle='--', alpha=0.7)\n",
        "plt.legend()\n",
        "plt.tight_layout()\n",
        "plt.show()"
      ],
      "outputs": []
    },
    {
      "cell_type": "markdown",
      "metadata": {
        "id": "reflection-cell"
      },
      "source": [
        "## Reflection\n",
        "\n",
        "After completing this worksheet, answer the following questions:\n",
        "\n",
        "1. How do conditional statements help you model different physical phenomena in engineering problems?\n",
        "\n",
        "   **Answer**: Conditional statements allow us to implement different mathematical models or equations for different regimes or scenarios in engineering problems. In fluid dynamics, as seen in this worksheet, different physical equations apply to different flow regimes (laminar, transitional, turbulent). Conditional statements let us select the appropriate model based on calculated parameters like the Reynolds number. This approach mirrors how engineers approach real-world problems, where different physical laws apply under different conditions.\n",
        "\n",
        "2. What are the benefits of breaking down a complex analysis into separate functions vs. having one large function that does everything?\n",
        "\n",
        "   **Answer**: Breaking down complex analysis into separate functions offers numerous benefits:\n",
        "   - **Modularity**: Each function handles a specific task, making the code easier to understand and maintain\n",
        "   - **Reusability**: Individual functions can be reused in other analyses or projects\n",
        "   - **Testability**: Smaller functions are easier to test individually, ensuring correctness\n",
        "   - **Readability**: Code becomes more self-documenting when function names clearly describe their purpose\n",
        "   - **Collaboration**: Different team members can work on different functions simultaneously\n",
        "   - **Debugging**: Errors are easier to locate and fix in smaller functions\n",
        "   \n",
        "   In our pipe flow analysis, breaking it down into reynolds number calculation, flow regime classification, friction factor calculation, and pressure drop calculation made the code much more manageable and aligned with how engineers conceptually approach the problem.\n",
        "\n",
        "3. How would you modify the code to handle a different fluid or pipe material? What changes would be needed?\n",
        "\n",
        "   **Answer**: Our modular design makes these modifications straightforward:\n",
        "   - For a different fluid, we would just need to change the input parameters: `kinematic_viscosity` and `density` to match the new fluid properties\n",
        "   - For a different pipe material, we would need to use the appropriate relative roughness value for that material\n",
        "   \n",
        "   No changes to the core functions would be needed. For example, to analyze air flow through a steel pipe, we would simply update the input parameters:\n",
        "   ```python\n",
        "   air_viscosity = 1.48e-5  # m²/s at 20°C\n",
        "   air_density = 1.2  # kg/m³ at 20°C\n",
        "   steel_pipe_roughness = 0.00092  # relative roughness for a 50mm steel pipe\n",
        "   \n",
        "   # Then use these values in our calculations\n",
        "   reynolds = calculate_reynolds(velocity, pipe_diameter, air_viscosity)\n",
        "   friction = calculate_friction_factor(reynolds, steel_pipe_roughness)\n",
        "   ```\n",
        "   This flexibility demonstrates the power of our modular design and parameterized functions.\n",
        "\n",
        "4. How did using lambda functions for mathematical formulas improve (or not improve) your code's readability and maintainability?\n",
        "\n",
        "   **Answer**: Lambda functions significantly improved the code's readability and maintainability by:\n",
        "   - Keeping mathematical formulas concise and in a format that closely resembles their mathematical notation\n",
        "   - Separating the formula definitions from the conditional logic that selects which formula to use\n",
        "   - Making the code more self-documenting, as each lambda function clearly represents a specific equation (e.g., laminar_f, blasius_f, haaland_f)\n",
        "   \n",
        "   The one-line nature of lambda functions is perfectly suited for these relatively simple mathematical formulas. For more complex calculations with multiple steps, regular named functions would be more appropriate. In this specific case, lambda functions provided an elegant solution that improved code organization without sacrificing clarity."
      ]
    }
  ],
  "metadata": {
    "colab": {
      "name": "worksheet2_solution.ipynb",
      "provenance": [],
      "toc_visible": true
    },
    "kernelspec": {
      "display_name": "Python 3",
      "name": "python3"
    },
    "language_info": {
      "name": "python"
    }
  },
  "nbformat": 4,
  "nbformat_minor": 0
}