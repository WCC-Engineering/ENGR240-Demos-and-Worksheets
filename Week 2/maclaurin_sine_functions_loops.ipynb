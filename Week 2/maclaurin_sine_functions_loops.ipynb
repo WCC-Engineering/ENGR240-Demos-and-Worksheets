{
  "cells": [
    {
      "cell_type": "markdown",
      "metadata": {
        "id": "colab-badge"
      },
      "source": [
        "[![Open In Colab](https://colab.research.google.com/assets/colab-badge.svg)](https://colab.research.google.com/github/WCC-Engineering/ENGR240/blob/main/Class%20Demos%20and%20Activities/Week%202/maclaurin_sine_functions_loops.ipynb)"
      ]
    },
    {
      "cell_type": "markdown",
      "metadata": {
        "id": "title-cell"
      },
      "source": [
        "# MacLaurin Series Approximation for Sine Using Functions and Loops\n",
        "\n",
        "## ENGR& 240: Engineering Computations\n",
        "### Introduction to Scientific Computing with Python\n",
        "\n",
        "This demo builds on the Week 1 MacLaurin series demonstration by refactoring the code to use functions and loops. We'll see how these programming structures make the code more elegant, reusable, and efficient."
      ]
    },
    {
      "cell_type": "markdown",
      "metadata": {
        "id": "intro-cell"
      },
      "source": [
        "## Introduction\n",
        "\n",
        "The MacLaurin series for sine is a power series expansion about x = 0:\n",
        "\n",
        "$$\\sin(x) = x - \\frac{x^3}{3!} + \\frac{x^5}{5!} - \\frac{x^7}{7!} + \\frac{x^9}{9!} - \\cdots$$\n",
        "\n",
        "In Week 1, we calculated each term separately with explicit computations. Today, we'll see how to generalize this using:\n",
        "\n",
        "1. **Functions**: Reusable blocks of code that perform specific tasks\n",
        "2. **Loops**: Structures that allow us to repeat operations with changing variables\n",
        "\n",
        "These programming structures are fundamental to writing efficient, maintainable, and scalable code."
      ]
    },
    {
      "cell_type": "code",
      "execution_count": null,
      "metadata": {
        "id": "import-cell"
      },
      "source": [
        "import numpy as np\n",
        "import matplotlib.pyplot as plt\n",
        "import math  # For factorial calculations\n",
        "import time\n",
        "\n",
        "# Set style for better visualization\n",
        "plt.style.use('seaborn-v0_8-whitegrid')\n",
        "plt.rcParams['figure.figsize'] = (12, 6)"
      ],
      "outputs": []
    },
    {
      "cell_type": "markdown",
      "metadata": {
        "id": "sine-term-function"
      },
      "source": [
        "## Function for MacLaurin Sine Terms\n",
        "\n",
        "Let's create a function that calculates each term in the MacLaurin series for sine. This allows us to easily compute any term in the series."
      ]
    },
    {
      "cell_type": "code",
      "execution_count": null,
      "metadata": {
        "id": "sine-term-code"
      },
      "source": [
        "def sine_term(x, n):\n",
        "    \"\"\"\n",
        "    Calculate the nth term in the MacLaurin series for sine.\n",
        "\n",
        "    Parameters:\n",
        "    x (float or array): Input value(s) in radians\n",
        "    n (int): Term number (0-based index)\n",
        "\n",
        "    Returns:\n",
        "    float or array: Value of the nth term in the series\n",
        "    \"\"\"\n",
        "    # nth term has power 2n+1 and alternates sign\n",
        "    power = 2*n + 1\n",
        "    sign = (-1)**n  # Alternates: 1, -1, 1, -1, ...\n",
        "\n",
        "    return sign * (x**power) / math.factorial(power)\n",
        "\n",
        "# Test the sine_term function\n",
        "x_test = np.pi/4  # 45 degrees\n",
        "print(f\"1st term at π/4: {sine_term(x_test, 0):.8f}\")  # x\n",
        "print(f\"2nd term at π/4: {sine_term(x_test, 1):.8f}\")  # -x^3/3!\n",
        "print(f\"3rd term at π/4: {sine_term(x_test, 2):.8f}\")  # x^5/5!"
      ],
      "outputs": []
    },
    {
      "cell_type": "markdown",
      "metadata": {
        "id": "maclaurin-sine-function"
      },
      "source": [
        "## A Complete MacLaurin Sine Function\n",
        "\n",
        "Now let's create a function that computes the MacLaurin series approximation of sine to a specified number of terms. This function will use a loop to sum the terms."
      ]
    },
    {
      "cell_type": "code",
      "execution_count": null,
      "metadata": {
        "id": "maclaurin-sine-code"
      },
      "source": [
        "def maclaurin_sine(x, num_terms):\n",
        "    \"\"\"\n",
        "    Calculate the MacLaurin series approximation of sine using the specified number of terms.\n",
        "\n",
        "    Parameters:\n",
        "    x (float or array): Input value(s) in radians\n",
        "    num_terms (int): Number of terms to include in the approximation\n",
        "\n",
        "    Returns:\n",
        "    float or array: Sine approximation\n",
        "    \"\"\"\n",
        "    result = 0\n",
        "\n",
        "    for n in range(num_terms):\n",
        "        result += sine_term(x, n)\n",
        "\n",
        "    return result\n",
        "\n",
        "# Test the maclaurin_sine function with different numbers of terms\n",
        "x_test = np.pi/4  # 45 degrees\n",
        "true_value = np.sin(x_test)\n",
        "\n",
        "print(f\"True sine(π/4) = {true_value:.8f}\")\n",
        "\n",
        "for terms in range(1, 6):\n",
        "    approx = maclaurin_sine(x_test, terms)\n",
        "    error = abs(approx - true_value)\n",
        "    print(f\"{terms}-term approximation: {approx:.8f}, absolute error: {error:.8f}\")"
      ],
      "outputs": []
    },
    {
      "cell_type": "markdown",
      "metadata": {
        "id": "setup-visualization"
      },
      "source": [
        "## Setting Up for Visualization\n",
        "\n",
        "Now we can use our functions to create the same visualizations as in Week 1, but with much cleaner code."
      ]
    },
    {
      "cell_type": "code",
      "execution_count": null,
      "metadata": {
        "id": "setup-plot-code"
      },
      "source": [
        "# Create x values spanning -2π to 2π\n",
        "x = np.linspace(-2*np.pi, 2*np.pi, 1000)\n",
        "\n",
        "# Compute actual sine values\n",
        "true_sine = np.sin(x)\n",
        "\n",
        "# Create a helper function to draw plots with consistent style\n",
        "def plot_sine_approximations(x, true_sine, approximations, title):\n",
        "    \"\"\"\n",
        "    Plot the true sine function along with various approximations.\n",
        "\n",
        "    Parameters:\n",
        "    x (array): x-axis values\n",
        "    true_sine (array): True sine values\n",
        "    approximations (list of tuples): List of (values, label, color) for each approximation\n",
        "    title (str): Plot title\n",
        "    \"\"\"\n",
        "    plt.figure(figsize=(12, 6))\n",
        "\n",
        "    # Plot true sine function\n",
        "    plt.plot(x, true_sine, 'k-', linewidth=2, label='True sine')\n",
        "\n",
        "    # Plot approximations\n",
        "    for values, label, color in approximations:\n",
        "        plt.plot(x, values, color=color, linewidth=1.5, label=label)\n",
        "\n",
        "    plt.title(title)\n",
        "    plt.xlabel('x (radians)')\n",
        "    plt.ylabel('sin(x)')\n",
        "    plt.grid(True)\n",
        "\n",
        "    # Add vertical lines at π intervals\n",
        "    plt.axvline(x=-2*np.pi, color='gray', linestyle='--', alpha=0.5)\n",
        "    plt.axvline(x=-np.pi, color='gray', linestyle='--', alpha=0.5)\n",
        "    plt.axvline(x=0, color='gray', linestyle='--', alpha=0.5)\n",
        "    plt.axvline(x=np.pi, color='gray', linestyle='--', alpha=0.5)\n",
        "    plt.axvline(x=2*np.pi, color='gray', linestyle='--', alpha=0.5)\n",
        "\n",
        "    # Add text labels for π values\n",
        "    plt.text(-2*np.pi-0.3, 0.8, '-2π')\n",
        "    plt.text(-np.pi-0.2, 0.8, '-π')\n",
        "    plt.text(-0.1, 0.8, '0')\n",
        "    plt.text(np.pi-0.2, 0.8, 'π')\n",
        "    plt.text(2*np.pi-0.3, 0.8, '2π')\n",
        "\n",
        "    # Set y-axis limits to -5 to 5\n",
        "    plt.ylim(-5, 5)\n",
        "\n",
        "    plt.legend()\n",
        "    plt.show()\n",
        "\n",
        "# Plot the true sine function\n",
        "plot_sine_approximations(x, true_sine, [], 'Sine Function')"
      ],
      "outputs": []
    },
    {
      "cell_type": "markdown",
      "metadata": {
        "id": "plot-approximations"
      },
      "source": [
        "## Plotting Approximations with Increasing Terms\n",
        "\n",
        "Now let's compute and plot multiple approximations with increasing numbers of terms."
      ]
    },
    {
      "cell_type": "code",
      "execution_count": null,
      "metadata": {
        "id": "plot-approximations-code"
      },
      "source": [
        "# Calculate approximations with 1 to 5 terms\n",
        "approximations = []\n",
        "colors = ['r', 'g', 'b', 'm', 'c']\n",
        "\n",
        "for i in range(1, 6):\n",
        "    approx = maclaurin_sine(x, i)\n",
        "    label = f'{i}-term'\n",
        "    approximations.append((approx, label, colors[i-1]))\n",
        "\n",
        "    # Plot approximations incrementally to show improvement\n",
        "    title = f'MacLaurin Series Approximation of Sine: {i} Terms'\n",
        "    plot_sine_approximations(x, true_sine, approximations[:i], title)"
      ],
      "outputs": []
    },
    {
      "cell_type": "markdown",
      "metadata": {
        "id": "comparison-header"
      },
      "source": [
        "## Comparing Approximation Accuracy at Specific Points\n",
        "\n",
        "Let's examine the numerical values at specific points to better understand the increasing accuracy."
      ]
    },
    {
      "cell_type": "code",
      "execution_count": null,
      "metadata": {
        "id": "comparison-code"
      },
      "source": [
        "# Create a table showing approximation values at specific points\n",
        "import pandas as pd\n",
        "from IPython.display import display, HTML\n",
        "\n",
        "# Create test points\n",
        "test_points = np.array([0, np.pi/6, np.pi/4, np.pi/2, np.pi])\n",
        "test_points_labels = ['0', 'π/6', 'π/4', 'π/2', 'π']\n",
        "true_values = np.sin(test_points)\n",
        "\n",
        "# Create a function to generate data for tables\n",
        "def generate_comparison_tables(test_points, test_points_labels, true_values, max_terms=5):\n",
        "    \"\"\"\n",
        "    Generate comparison tables for approximation values and errors.\n",
        "\n",
        "    Parameters:\n",
        "    test_points (array): Points to evaluate\n",
        "    test_points_labels (list): Labels for the test points\n",
        "    true_values (array): True sine values\n",
        "    max_terms (int): Maximum number of terms to include\n",
        "    \"\"\"\n",
        "    # Dictionary to hold approximation values\n",
        "    data = {'x': test_points_labels, 'True Sine': true_values}\n",
        "\n",
        "    # Calculate approximations for each number of terms\n",
        "    for i in range(1, max_terms + 1):\n",
        "        approx_values = maclaurin_sine(test_points, i)\n",
        "        data[f'{i}-term'] = approx_values\n",
        "\n",
        "    # Create values DataFrame\n",
        "    values_df = pd.DataFrame(data)\n",
        "\n",
        "    # Dictionary to hold error values\n",
        "    error_data = {'x': test_points_labels}\n",
        "\n",
        "    # Calculate errors for each approximation\n",
        "    for i in range(1, max_terms + 1):\n",
        "        errors = np.abs(data[f'{i}-term'] - true_values)\n",
        "        error_data[f'{i}-term Error'] = errors\n",
        "\n",
        "    # Create errors DataFrame\n",
        "    errors_df = pd.DataFrame(error_data)\n",
        "\n",
        "    # Display the tables\n",
        "    display(HTML(\"<h3>Sine Approximation Values</h3>\"))\n",
        "    display(values_df)\n",
        "\n",
        "    display(HTML(\"<h3>Absolute Error in Approximations</h3>\"))\n",
        "    display(errors_df)\n",
        "\n",
        "# Set display precision to 8 decimal places\n",
        "pd.set_option('display.precision', 8)\n",
        "\n",
        "# Generate and display tables\n",
        "generate_comparison_tables(test_points, test_points_labels, true_values)"
      ],
      "outputs": []
    },
    {
      "cell_type": "markdown",
      "metadata": {
        "id": "larger-range-header"
      },
      "source": [
        "## Exploring a Larger Range\n",
        "\n",
        "Let's see how our approximations perform over a larger range of x values."
      ]
    },
    {
      "cell_type": "code",
      "execution_count": null,
      "metadata": {
        "id": "larger-range-code"
      },
      "source": [
        "# Create x values spanning -4π to 4π for a larger view\n",
        "x_large = np.linspace(-4*np.pi, 4*np.pi, 1000)\n",
        "\n",
        "# Calculate true sine values\n",
        "true_sine_large = np.sin(x_large)\n",
        "\n",
        "# Calculate selected approximations\n",
        "approx1 = maclaurin_sine(x_large, 1)\n",
        "approx3 = maclaurin_sine(x_large, 3)\n",
        "approx5 = maclaurin_sine(x_large, 5)\n",
        "\n",
        "# Plot approximations on larger range\n",
        "plt.figure(figsize=(14, 7))\n",
        "plt.plot(x_large, true_sine_large, 'k-', linewidth=2, label='True sine')\n",
        "plt.plot(x_large, approx1, 'r-', linewidth=1, label='1-term')\n",
        "plt.plot(x_large, approx3, 'b-', linewidth=1, label='3-term')\n",
        "plt.plot(x_large, approx5, 'c-', linewidth=1.5, label='5-term')\n",
        "\n",
        "plt.title('MacLaurin Series Approximation of Sine: Extended Range')\n",
        "plt.xlabel('x (radians)')\n",
        "plt.ylabel('sin(x)')\n",
        "plt.grid(True)\n",
        "\n",
        "# Add vertical lines at π intervals using a loop\n",
        "for i in range(-4, 5):\n",
        "    plt.axvline(x=i*np.pi, color='gray', linestyle='--', alpha=0.5)\n",
        "    plt.text(i*np.pi-0.3, 0.8, f'{i}π' if i != 0 else '0')\n",
        "\n",
        "# Set y-axis limits\n",
        "plt.ylim(-5, 5)\n",
        "plt.legend()\n",
        "plt.show()"
      ],
      "outputs": []
    },
    {
      "cell_type": "markdown",
      "metadata": {
        "id": "conclusion-cell"
      },
      "source": [
        "## Advantages of Using Functions and Loops\n",
        "\n",
        "Let's reflect on the benefits of using functions and loops in our code:\n",
        "\n",
        "1. **Code Reusability**: By using Python's standard library functions like `math.factorial()` and our own custom functions, we can reuse them throughout our code without duplicating logic.\n",
        "\n",
        "2. **Improved Readability**: The code is more organized and easier to understand with descriptive function names that tell us what each part does.\n",
        "\n",
        "3. **Scalability**: Adding more terms to our approximation is as simple as changing the `num_terms` parameter—no need to write new equations.\n",
        "\n",
        "4. **Maintainability**: If we need to fix a bug or improve an algorithm, we only need to change it in one place.\n",
        "\n",
        "5. **Abstraction**: Functions let us work with complex operations at a higher level of abstraction, focusing on the \"what\" rather than the \"how\".\n",
        "\n",
        "6. **Parameter Exploration**: We can easily experiment with different numbers of terms without rewriting code.\n",
        "\n",
        "Compare this structured approach to the Week 1 approach, where we explicitly coded each calculation separately. The new approach is more elegant, flexible, and follows software engineering best practices."
      ]
    }
  ],
  "metadata": {
    "colab": {
      "name": "maclaurin_sine_functions_loops.ipynb",
      "provenance": [],
      "toc_visible": true
    },
    "kernelspec": {
      "display_name": "Python 3",
      "name": "python3"
    },
    "language_info": {
      "name": "python"
    }
  },
  "nbformat": 4,
  "nbformat_minor": 0
}