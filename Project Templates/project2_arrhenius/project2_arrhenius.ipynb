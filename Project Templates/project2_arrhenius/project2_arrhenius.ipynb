{
  "cells": [
    {
      "cell_type": "markdown",
      "metadata": {
        "id": "O_ECriupoX2T"
      },
      "source": [
        "<a href=\"https://colab.research.google.com/github/edavishahl/ENGR240/blob/main/Projects/project2_arrhenius/project2_arrhenius.ipynb\" target=\"_parent\"><img src=\"https://colab.research.google.com/assets/colab-badge.svg\" alt=\"Open In Colab\"/></a>"
      ]
    },
    {
      "cell_type": "markdown",
      "metadata": {
        "id": "75lEVpExoX2V"
      },
      "source": [
        "# ENGR& 240: Engineering Computations\n",
        "## Project 2: Arrhenius Equation Curve Fitting\n",
        "\n",
        "## Due Date: See Canvas\n",
        "\n",
        "### Objectives\n",
        "- Determine the appropriate curve-fitting algorithm to fit a model to a set of empirical data\n",
        "- Interpret curve fit quality statistics.\n",
        "- Develop effective figures for communicating curve fitting results\n"
      ]
    },
    {
      "cell_type": "markdown",
      "metadata": {
        "id": "ZLePIR96oX2W"
      },
      "source": [
        "## Project Description\n",
        "\n",
        "In this project, you will fit two forms of the Arrhenius equation to experimental reaction rate data for the O + H₂ → OH + H reaction. The standard Arrhenius equation and a modified version with a temperature factor will be compared to determine which provides a better fit to the data.\n",
        "\n",
        "### Equations\n",
        "\n",
        "**Standard Arrhenius equation:**\n",
        "\n",
        "$$k = A·e^{-E/(RT)}$$\n",
        "\n",
        "\n",
        "**Modified Arrhenius equation:**\n",
        "\n",
        "$$k = AT^be^{-E/(RT)}$$\n",
        "\n",
        "\n",
        "Where:\n",
        "- k is the reaction rate (s⁻¹)\n",
        "- A is the frequency factor (s⁻¹)\n",
        "- E is the activation energy (J/mol)\n",
        "- R is the universal gas constant [8.314 J/(mol·K)]\n",
        "- T is the absolute temperature (K)\n",
        "- b is an additional parameter in the modified equation"
      ]
    },
    {
      "cell_type": "markdown",
      "metadata": {
        "id": "t9UlTQ3RoX2Y"
      },
      "source": [
        "## Setup\n",
        "\n",
        "First, we need to import the necessary libraries and constants."
      ]
    },
    {
      "cell_type": "code",
      "execution_count": 12,
      "metadata": {
        "id": "WAmF3JQxoX2Y",
        "outputId": "2a699d89-d5c3-403e-9904-1b483cbddf4d",
        "colab": {
          "base_uri": "https://localhost:8080/"
        }
      },
      "outputs": [
        {
          "output_type": "stream",
          "name": "stdout",
          "text": [
            "Requirement already satisfied: requests in /usr/local/lib/python3.11/dist-packages (2.32.3)\n",
            "Requirement already satisfied: charset-normalizer<4,>=2 in /usr/local/lib/python3.11/dist-packages (from requests) (3.4.1)\n",
            "Requirement already satisfied: idna<4,>=2.5 in /usr/local/lib/python3.11/dist-packages (from requests) (3.10)\n",
            "Requirement already satisfied: urllib3<3,>=1.21.1 in /usr/local/lib/python3.11/dist-packages (from requests) (2.4.0)\n",
            "Requirement already satisfied: certifi>=2017.4.17 in /usr/local/lib/python3.11/dist-packages (from requests) (2025.4.26)\n"
          ]
        }
      ],
      "source": [
        "# Import necessary libraries\n",
        "import numpy as np\n",
        "import matplotlib.pyplot as plt\n",
        "from scipy import optimize\n",
        "import pandas as pd\n",
        "from google.colab import files\n",
        "!pip install requests\n",
        "import requests\n",
        "# For prettier plots\n",
        "plt.style.use('seaborn-v0_8-whitegrid')  # or another style of your choosing\n",
        "plt.rcParams['figure.figsize'] = (12, 8)\n",
        "plt.rcParams['font.size'] = 14\n",
        "\n",
        "# Constants\n",
        "R = 8.314  # J/(mol·K) - Universal gas constant"
      ]
    },
    {
      "cell_type": "markdown",
      "metadata": {
        "id": "y07ldGtOoX2Z"
      },
      "source": [
        "## Part 1: Getting the Data from GitHub\n",
        "\n",
        "You'll need to access the O_H2_rxn.dat file with the reaction rate data. The code below will download this data so it is accessible from this notebook."
      ]
    },
    {
      "cell_type": "code",
      "execution_count": 14,
      "metadata": {
        "id": "_85Qj3JZoX2a",
        "outputId": "cd541801-8683-4b48-beb8-21b140d44a06",
        "colab": {
          "base_uri": "https://localhost:8080/"
        }
      },
      "outputs": [
        {
          "output_type": "stream",
          "name": "stdout",
          "text": [
            "Data file downloaded and saved.\n"
          ]
        }
      ],
      "source": [
        "# URL of the data file\n",
        "url = \"https://raw.githubusercontent.com/WCC-Engineering/ENGR240-Demos-and-Worksheets/main/Project%20Templates/project2_arrhenius/O_H2_rxn.dat\"\n",
        "\n",
        "# Download the data\n",
        "response = requests.get(url)\n",
        "response.raise_for_status()  # Raise an exception if the request was unsuccessful\n",
        "\n",
        "# Save the data to a file\n",
        "with open(\"O_H2_rxn.dat\", \"wb\") as file:\n",
        "    file.write(response.content)\n",
        "\n",
        "print(\"Data file downloaded and saved.\")\n",
        "\n"
      ]
    },
    {
      "cell_type": "markdown",
      "metadata": {
        "id": "m3IBvB81oX2c"
      },
      "source": [
        "## Part 2: Load and Visualize the Raw Data\n",
        "\n",
        "Load the data from the provided file and create a plot to visualize the relationship between temperature and reaction rate."
      ]
    },
    {
      "cell_type": "code",
      "execution_count": 16,
      "metadata": {
        "id": "KXIT4KMKoX2c",
        "outputId": "025389dd-9cd0-4e62-b6b5-7c233ac79014",
        "colab": {
          "base_uri": "https://localhost:8080/"
        }
      },
      "outputs": [
        {
          "output_type": "stream",
          "name": "stdout",
          "text": [
            "First 5 rows of data:\n",
            "Temperature: 1200.00 K, Reaction Rate: 7.63e+11 s^-1\n",
            "Temperature: 1210.00 K, Reaction Rate: 8.65e+11 s^-1\n",
            "Temperature: 1220.00 K, Reaction Rate: 1.01e+12 s^-1\n",
            "Temperature: 1230.00 K, Reaction Rate: 1.22e+12 s^-1\n",
            "Temperature: 1240.00 K, Reaction Rate: 1.28e+12 s^-1\n"
          ]
        }
      ],
      "source": [
        "# Load the data file using numpy\n",
        "# The file contains temperature (K) in the first column and reaction rate (s^-1) in the second column\n",
        "\n",
        "# Load the data\n",
        "data = np.loadtxt('O_H2_rxn.dat')\n",
        "#print(data)\n",
        "temperature = data[:, 0]  # K\n",
        "reaction_rate = data[:, 1]  # s^-1\n",
        "\n",
        "# Display the first few rows of data to verify it loaded correctly\n",
        "print(\"First 5 rows of data:\")\n",
        "for i in range(min(5, len(data))):\n",
        "    print(f\"Temperature: {temperature[i]:.2f} K, Reaction Rate: {reaction_rate[i]:.2e} s^-1\")"
      ]
    },
    {
      "cell_type": "code",
      "execution_count": null,
      "metadata": {
        "id": "gPHTQyXZoX2d"
      },
      "outputs": [],
      "source": [
        "# Generate a scatter plot to visualize the raw data\n",
        "# your code here"
      ]
    },
    {
      "cell_type": "markdown",
      "metadata": {
        "id": "nDiVqRoroX2d"
      },
      "source": [
        "## Part 3: Standard Arrhenius Model - k = A*exp(-E/(R*T))\n",
        "\n",
        "Define the standard Arrhenius model and fit it to the data using appropriate curve fitting technique(s). Add more code and/or text blocks as needed to organize your code and document your work."
      ]
    },
    {
      "cell_type": "code",
      "execution_count": null,
      "metadata": {
        "id": "JA_YVlEXoX2d"
      },
      "outputs": [],
      "source": [
        "# Define the standard Arrhenius model\n",
        "def arrhenius_model(T, A, E):\n",
        "\n",
        "# add doc string and code to define the standard model"
      ]
    },
    {
      "cell_type": "code",
      "execution_count": 18,
      "metadata": {
        "id": "aU4AA2WYoX2e"
      },
      "outputs": [],
      "source": [
        "# Use this and additional code blocks to define functions that determine the\n",
        "# best-fit parameters for the standard model. Remember to also visualize the\n",
        "# fit and compute appropriate quality statistics\n",
        "\n"
      ]
    },
    {
      "cell_type": "markdown",
      "metadata": {
        "id": "3DML0jhOoX2e"
      },
      "source": [
        "## Part 4: Modified Arrhenius Model - k = A*T^b*exp(-E/(R*T))\n",
        "\n",
        "Define the modified Arrhenius model and fit it to the data using appropriate curve fitting technique(s). Add more code and/or text blocks as needed to organize your code and document your work."
      ]
    },
    {
      "cell_type": "code",
      "execution_count": null,
      "metadata": {
        "id": "KtsvuiCooX2e"
      },
      "outputs": [],
      "source": [
        "# Define the modified Arrhenius model\n",
        "def modified_arrhenius_model(T, A, b, E):\n",
        "\n",
        "# add doc string and code to define the modified model"
      ]
    },
    {
      "cell_type": "code",
      "execution_count": 20,
      "metadata": {
        "id": "NBS9GW8yoX2f"
      },
      "outputs": [],
      "source": [
        "# Use this and additional code blocks to define functions that determine the\n",
        "# best-fit parameters for the standard model. Remember to also visualize the\n",
        "# fit and compute appropriate quality statistics"
      ]
    },
    {
      "cell_type": "markdown",
      "metadata": {
        "id": "0ZPVFejVoX2f"
      },
      "source": [
        "## Part 5: Visualize Results and Compare Models\n",
        "\n",
        "Create figures to compare both models against the experimental data."
      ]
    },
    {
      "cell_type": "code",
      "execution_count": null,
      "metadata": {
        "id": "65CILdkOoX2f"
      },
      "outputs": [],
      "source": []
    },
    {
      "cell_type": "markdown",
      "metadata": {
        "id": "wlkhiNyRoX2i"
      },
      "source": [
        "## Part 6: Main Execution\n",
        "\n",
        "Create main code to execute all analysis steps in sequence."
      ]
    },
    {
      "cell_type": "code",
      "execution_count": 21,
      "metadata": {
        "id": "2WbnR77IoX2i"
      },
      "outputs": [],
      "source": []
    },
    {
      "cell_type": "markdown",
      "metadata": {
        "id": "9PRGPv_FoX2i"
      },
      "source": [
        "## Discussion\n",
        "\n",
        "1. Describe your process for selecting a curve-fitting method for each model. Did you try more than one? Why did you settle on your final choice?"
      ]
    },
    {
      "cell_type": "markdown",
      "metadata": {
        "id": "pp2QN05ioX2i"
      },
      "source": [
        "*[Your discussion here]*"
      ]
    },
    {
      "cell_type": "markdown",
      "metadata": {
        "id": "47V7W-GHoX2i"
      },
      "source": [
        "2. How did you choose the initial guesses (if using an optimization method)? Were you able to use the same initial guesses for both models?"
      ]
    },
    {
      "cell_type": "markdown",
      "metadata": {
        "id": "yMKIKyABoX2i"
      },
      "source": [
        "*[Your discussion here]*"
      ]
    },
    {
      "cell_type": "markdown",
      "metadata": {
        "id": "8oOCMHIyoX2i"
      },
      "source": [
        "3. Which model do you think more accurately predicts this data set? Justify your conclusion in terms of quantitative and qualitative analysis of the fit."
      ]
    },
    {
      "cell_type": "markdown",
      "metadata": {
        "id": "Xi7iQBFQoX2j"
      },
      "source": [
        "*[Your discussion here]*"
      ]
    },
    {
      "cell_type": "markdown",
      "metadata": {
        "id": "81vy8q1VoX2j"
      },
      "source": [
        "4. What did you find to be the most challenging aspect of this project? Why?"
      ]
    },
    {
      "cell_type": "markdown",
      "metadata": {
        "id": "YV45XAryoX2j"
      },
      "source": [
        "*[Your discussion here]*"
      ]
    },
    {
      "cell_type": "markdown",
      "metadata": {
        "id": "rCoqdg3soX2j"
      },
      "source": [
        "5. What did you find to be the most interesting aspect of this project? Why?"
      ]
    },
    {
      "cell_type": "markdown",
      "metadata": {
        "id": "wR5_u-6UoX2j"
      },
      "source": [
        "*[Your discussion here]*"
      ]
    },
    {
      "cell_type": "markdown",
      "metadata": {
        "id": "OgIgxZUmoX2k"
      },
      "source": [
        "## Submission Instructions\n",
        "\n",
        "Submit a Google Drive sharing link to your completed Colab notebook to the Project 2 Canvas assignment. Ensure that:\n",
        "\n",
        "1. All your code cells are properly executed with outputs visible\n",
        "2. Your results are clearly visualized in plots\n",
        "3. You've answered all the discussion questions in the markdown cells provided\n",
        "\n",
        "No separate PDF report or additional files are required. The notebook itself serves as your complete project submission.\n",
        "\n",
        "Be sure to review the grading rubric in Canvas to ensure you understand the project expectations."
      ]
    }
  ],
  "metadata": {
    "kernelspec": {
      "display_name": "Python 3",
      "language": "python",
      "name": "python3"
    },
    "language_info": {
      "codemirror_mode": {
        "name": "ipython",
        "version": 3
      },
      "file_extension": ".py",
      "mimetype": "text/x-python",
      "name": "python",
      "nbconvert_exporter": "python",
      "pygments_lexer": "ipython3",
      "version": "3.8.10"
    },
    "colab": {
      "provenance": []
    }
  },
  "nbformat": 4,
  "nbformat_minor": 0
}