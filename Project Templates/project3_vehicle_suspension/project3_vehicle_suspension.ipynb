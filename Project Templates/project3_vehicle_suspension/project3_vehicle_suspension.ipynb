{
  "cells": [
    {
      "cell_type": "markdown",
      "metadata": {
        "id": "view-in-github",
        "colab_type": "text"
      },
      "source": [
        "<a href=\"https://colab.research.google.com/github/WCC-Engineering/ENGR240/blob/main/Projects/project3_vehicle_suspension/project3_vehicle_suspension.ipynb\" target=\"_parent\"><img src=\"https://colab.research.google.com/assets/colab-badge.svg\" alt=\"Open In Colab\"/></a>"
      ]
    },
    {
      "cell_type": "markdown",
      "metadata": {
        "id": "header-section"
      },
      "source": [
        "# ENGR& 240: Engineering Computations\n",
        "## Project 3: Vehicle Suspension Analysis\n",
        "\n",
        "## Due Date: See Canvas\n",
        "\n",
        "### Objectives\n",
        "- Evaluate various methods to integrate a set of experimental data\n",
        "- Evaluate various methods to differentiate a set of experimental data\n",
        "- Develop effective figures for communicating results"
      ]
    },
    {
      "cell_type": "markdown",
      "metadata": {
        "id": "problem-statement"
      },
      "source": [
        "## Problem Statement\n",
        "\n",
        "The data file `project3_accel.dat` contains simulated acceleration data from a performance test on a vehicle suspension system. The data file includes time (in seconds) in the first column and vertical acceleration (in m/s²) of the vehicle center of mass in the second column. The data is estimated to have an uncertainty in the acceleration measurements of ± 0.5 m/s².\n",
        "\n",
        "For this project, you will work with this data to determine the velocity, the position, and the jerk (the time derivative of acceleration), of the vehicle center of mass.\n",
        "\n",
        "### Velocity and Position\n",
        "You will need to integrate the data once to find velocity and again to find position:\n",
        "\n",
        "$v(t) = v_0 + \\int_{0}^{t} a(t) dt$ and $s(t) = s_0 + \\int_{0}^{t} v(t) dt$\n",
        "\n",
        "Take the initial velocity as $v_0 = -1.6$ m/s and the initial position to be $0$ m for these integrations. Consider the following integration approaches as you determine the most accurate and efficient approach to this problem:\n",
        "\n",
        "- Integrating the data directly.\n",
        "- Interpolating the data onto a finer interval and integrating the result.\n",
        "- Assuming the system can be modelled as a damped oscillation and computing the coefficients for the least-squares curve fit of the mathematical model:\n",
        "  $a(t) = Ae^{Bt} \\cos(Ct + D)$\n",
        "  to the data and then integrating the result (numerically or analytically).\n",
        "\n",
        "### Jerk\n",
        "Determine and implement an accurate and efficient approach to differentiate this data to calculate the jerk:\n",
        "$j(t) = \\frac{da}{dt}$\n",
        "\n",
        "Consider the following approaches to differentiating this data set:\n",
        "- Applying appropriate finite difference formulas directly to the data.\n",
        "- Interpolating the data onto a finer interval and differentiating the result analytically or with finite difference formulas.\n",
        "- Assuming the system can be modelled as a damped oscillation and computing the coefficients for the least-squares curve fit of the mathematical model:\n",
        "  $a(t) = Ae^{Bt} \\cos(Ct + D)$\n",
        "  to the data and differentiating the result (numerically or analytically)."
      ]
    },
    {
      "cell_type": "markdown",
      "metadata": {
        "id": "libraries"
      },
      "source": [
        "## Setup and Libraries\n",
        "\n",
        "First, import the libraries you'll need for numerical analysis and plotting."
      ]
    },
    {
      "cell_type": "code",
      "execution_count": null,
      "metadata": {
        "id": "setup"
      },
      "outputs": [],
      "source": [
        "# Import libraries for numerical computation and plotting\n",
        "import numpy as np\n",
        "import matplotlib.pyplot as plt\n",
        "from scipy import integrate, interpolate, optimize\n",
        "import pandas as pd\n",
        "from google.colab import files\n",
        "!pip install requests\n",
        "import requests\n",
        "\n",
        "# For prettier plots\n",
        "plt.style.use('seaborn-v0_8-whitegrid')  # or another style of your choosing\n",
        "plt.rcParams['figure.figsize'] = (12, 8)\n",
        "plt.rcParams['font.size'] = 14"
      ]
    },
    {
      "cell_type": "markdown",
      "metadata": {
        "id": "data-loading"
      },
      "source": [
        "## Part 1: Getting the Data\n",
        "\n",
        "You'll need to access the project3_accel.dat file with the acceleration data.The code below will download this data so it is accessible from this notebook."
      ]
    },
    {
      "cell_type": "code",
      "execution_count": null,
      "metadata": {
        "id": "download-data"
      },
      "outputs": [],
      "source": [
        "# URL of the data file from GitHub\n",
        "url = \"https://raw.githubusercontent.com/WCC-Engineering/ENGR240-Demos-and-Worksheets/main/Project%20Templates/project3_vehicle_suspension/project3_accel.dat\"\n",
        "print(\"Data file downloaded from GitHub\")\n",
        "\n",
        "# Download the data\n",
        "response = requests.get(url)\n",
        "response.raise_for_status()  # Raise an exception if the request was unsuccessful\n",
        "\n",
        "# Save the data to a file\n",
        "with open(\"project3_accel.dat\", \"wb\") as file:\n",
        "    file.write(response.content)\n"
      ]
    },
    {
      "cell_type": "markdown",
      "metadata": {
        "id": "alternative-upload"
      },
      "source": [
        "Alternatively, if you have the data file locally, you can upload it:"
      ]
    },
    {
      "cell_type": "markdown",
      "metadata": {
        "id": "load-visualize"
      },
      "source": [
        "## Part 2: Load and Visualize the Raw Data\n",
        "\n",
        "Let's load the data from the provided file and create a plot to visualize the acceleration data."
      ]
    },
    {
      "cell_type": "code",
      "execution_count": null,
      "metadata": {
        "id": "load-data"
      },
      "outputs": [],
      "source": [
        "# Load the data file using numpy\n",
        "# The file contains time (s) in the first column and acceleration (m/s²) in the second column\n",
        "data = np.loadtxt('project3_accel.dat')\n",
        "time = data[:, 0]  # seconds\n",
        "acceleration = data[:, 1]  # m/s²\n",
        "\n",
        "# Display the first few rows of data to verify it loaded correctly\n",
        "print(\"First 5 rows of data:\")\n",
        "for i in range(min(5, len(data))):\n",
        "    print(f\"Time: {time[i]:.4f} s, Acceleration: {acceleration[i]:.4f} m/s²\")"
      ]
    },
    {
      "cell_type": "code",
      "source": [
        "# Generate a scatter plot to visualize the raw acceleration data\n",
        "# your code here"
      ],
      "metadata": {
        "id": "Z57BtSuAXTgy"
      },
      "execution_count": null,
      "outputs": []
    },
    {
      "cell_type": "markdown",
      "metadata": {
        "id": "integration-section"
      },
      "source": [
        "## Part 3: Velocity Calculation through Integration\n",
        "\n",
        "Define functions to implement different integration methods."
      ]
    },
    {
      "cell_type": "code",
      "source": [
        "# your code here"
      ],
      "metadata": {
        "id": "l0LEbNhfX1p3"
      },
      "execution_count": null,
      "outputs": []
    },
    {
      "cell_type": "markdown",
      "metadata": {
        "id": "compare-velocity"
      },
      "source": [
        "Compare the different velocity calculation methods."
      ]
    },
    {
      "cell_type": "code",
      "source": [
        "# your code here"
      ],
      "metadata": {
        "id": "FvrgyLDyYO3L"
      },
      "execution_count": null,
      "outputs": []
    },
    {
      "cell_type": "markdown",
      "metadata": {
        "id": "position-section"
      },
      "source": [
        "## Part 4: Position Calculation through Integration\n",
        "\n",
        "Use the best method from Part 3 to integrate again to calculate the position."
      ]
    },
    {
      "cell_type": "code",
      "execution_count": null,
      "metadata": {
        "id": "position-calculation"
      },
      "outputs": [],
      "source": [
        "# your code here"
      ]
    },
    {
      "cell_type": "markdown",
      "metadata": {
        "id": "differentiation-section"
      },
      "source": [
        "## Part 5: Jerk Calculation through Differentiation\n",
        "\n",
        "Define functions to implement different differentiation methods."
      ]
    },
    {
      "cell_type": "code",
      "execution_count": null,
      "metadata": {
        "id": "finite-difference"
      },
      "outputs": [],
      "source": [
        "# your code here"
      ]
    },
    {
      "cell_type": "markdown",
      "metadata": {
        "id": "compare-jerk"
      },
      "source": [
        "Compare the different jerk calculation methods:"
      ]
    },
    {
      "cell_type": "code",
      "execution_count": null,
      "metadata": {
        "id": "plot-jerk"
      },
      "outputs": [],
      "source": [
        "# your code here"
      ]
    },
    {
      "cell_type": "markdown",
      "metadata": {
        "id": "combined-plot"
      },
      "source": [
        "## Part 6: Combined Visualization\n",
        "\n",
        "Create a figure showing acceleration, velocity, position, and jerk together."
      ]
    },
    {
      "cell_type": "code",
      "execution_count": null,
      "metadata": {
        "id": "plot-all"
      },
      "outputs": [],
      "source": [
        "# your code here"
      ]
    },
    {
      "cell_type": "markdown",
      "metadata": {
        "id": "method-accuracy"
      },
      "source": [
        "## Part 7: Method Accuracy and Efficiency Analysis\n",
        "\n",
        "Add additional code to analyze the accuracy and efficiency of the different methods."
      ]
    },
    {
      "cell_type": "code",
      "execution_count": null,
      "metadata": {
        "id": "accuracy-analysis"
      },
      "outputs": [],
      "source": [
        "# Analyze and compare the accuracy and efficiency of different methods\n",
        "# Consider factors such as:\n",
        "# - Smoothness of results\n",
        "# - Sensitivity to data uncertainties\n",
        "# - Computational efficiency (timing the calculations)\n",
        "# - Error propagation\n"
      ]
    },
    {
      "cell_type": "markdown",
      "metadata": {
        "id": "discussion"
      },
      "source": [
        "## Discussion\n",
        "\n",
        "Answer the following questions about your approach and findings:\n",
        "\n",
        "1. Describe your process for selecting a numerical method for each calculation (velocity, position, and jerk). Did you try more than one? Why did you settle on your final choice?\n",
        "\n",
        "2. How confident are you that your calculation is accurate? Which of your three results (velocity, position, jerk) are you most confident in? Why? Can you prove that your results are accurate? Can you argue their accuracy using numerical methods theory developed in this course?\n",
        "\n",
        "3. What did you find to be the most challenging aspect of this project? Why?\n",
        "\n",
        "4. What did you find to be the most interesting aspect of this project? Why?\n",
        "\n",
        "*Replace this text with your discussion.*"
      ]
    },
    {
      "cell_type": "markdown",
      "metadata": {
        "id": "additional-analysis"
      },
      "source": [
        "## Additional Analysis (Optional)\n",
        "\n",
        "Feel free to include any additional analysis or visualizations that provide deeper insights into the problem."
      ]
    },
    {
      "cell_type": "code",
      "execution_count": null,
      "metadata": {
        "id": "extra-analysis"
      },
      "outputs": [],
      "source": [
        "# Code for any additional analysis you wish to include"
      ]
    },
    {
      "cell_type": "markdown",
      "metadata": {
        "id": "submission-info"
      },
      "source": [
        "## Submission Instructions\n",
        "\n",
        "Submit a Google Drive sharing link to your completed Colab notebook to the Project 3 Canvas assignment. Ensure that:\n",
        "\n",
        "1. All your code cells are properly executed with outputs visible\n",
        "2. Your results are clearly visualized in plots\n",
        "3. You've answered all the discussion questions in the markdown cells provided\n",
        "\n",
        "No separate PDF report or additional files are required. The notebook itself serves as your complete project submission.\n",
        "\n",
        "Be sure to review the grading rubric in Canvas to ensure you understand the project expectations."
      ]
    }
  ],
  "metadata": {
    "colab": {
      "name": "project3_vehicle_suspension.ipynb",
      "provenance": [],
      "include_colab_link": true
    },
    "kernelspec": {
      "display_name": "Python 3",
      "language": "python",
      "name": "python3"
    },
    "language_info": {
      "codemirror_mode": {
        "name": "ipython",
        "version": 3
      },
      "file_extension": ".py",
      "mimetype": "text/x-python",
      "name": "python",
      "nbconvert_exporter": "python",
      "pygments_lexer": "ipython3",
      "version": "3.8.10"
    }
  },
  "nbformat": 4,
  "nbformat_minor": 0
}