{
  "cells": [
    {
      "cell_type": "markdown",
      "metadata": {
        "id": "view-in-github",
        "colab_type": "text"
      },
      "source": [
        "<a href=\"https://colab.research.google.com/github/WCC-Engineering/ENGR240-Demos-and-Worksheets/blob/main/Project%20Templates/project1_nozzle_flow/project1_nozzle_flow.ipynb\" target=\"_parent\"><img src=\"https://colab.research.google.com/assets/colab-badge.svg\" alt=\"Open In Colab\"/></a>"
      ]
    },
    {
      "cell_type": "markdown",
      "metadata": {
        "id": "header-section"
      },
      "source": [
        "# ENGR& 240: Engineering Computations\n",
        "## Project 1: Converging-Diverging Nozzle Flow\n",
        "\n",
        "## Due Date: See Canvas\n",
        "\n",
        "### Objectives\n",
        "- Formulate and solve roots problems\n",
        "- Determine the appropriate algorithm and numerical parameters for accuracy and efficiency\n",
        "- Develop effective figures for communicating numerical results"
      ]
    },
    {
      "cell_type": "markdown",
      "metadata": {
        "id": "problem-statement"
      },
      "source": [
        "## Problem Statement\n",
        "\n",
        "Converging-diverging nozzles are required to accelerate a gas to velocities greater than the speed of sound. They are a standard component in aircraft and spacecraft propulsion systems. The figure below shows a schematic of a nozzle with a graph indicating the behavior of the velocity (blue curve), temperature (red curve), and pressure (green curve) of a gas as it moves through the nozzle.\n",
        "\n",
        "![Converging-Diverging Nozzle](https://github.com/WCC-Engineering/ENGR240_IMG/blob/main/Project-1-Nozzle.png?raw=true)\n",
        "\n",
        "The Mach number is the velocity of the gas divided by (i.e., normalized by) the local speed of sound in the gas. The Mach number is exactly equal to unity at the nozzle throat as indicated in the figure.\n",
        "\n",
        "For supersonic one-dimensional idealized gas flow (isentropic) in a converging-diverging nozzle, the relationship between the nozzle cross-sectional area, A, and the Mach number, M is given by:\n",
        "\n",
        "$$\\frac{A}{A^*} = \\frac{1}{M}\\left[\\left(\\frac{2}{k+1}\\right)\\left(1+\\frac{k-1}{2}M^2\\right)\\right]^{\\frac{k+1}{2(k-1)}}$$\n",
        "\n",
        "Where $A^*$ is the area at the throat that is used to normalize A into the dimensionless area $\\hat{A}$. The parameter k is the specific heat ratio for the gas. Two values of M exist for each value of the normalized area, $\\hat{A}$, one value less than 1 (subsonic flow) and one value greater than 1 (supersonic flow).\n",
        "\n",
        "In this project, you will solve for both M results (subsonic and supersonic) for values of $\\hat{A}$ ranging from 1.1 to 10.0 (note that $M = 1$ when $\\hat{A} = 1$) and for representative values of k including k = 1.285 (CO₂), k = 1.400 (Air), and k = 1.667 (noble gasses). You will generate one or more figures showing your results for how M varies with $\\hat{A}$ for each of the three gasses."
      ]
    },
    {
      "cell_type": "markdown",
      "metadata": {
        "id": "libraries"
      },
      "source": [
        "## Setup and Libraries\n",
        "\n",
        "First, import the libraries you'll need for numerical analysis and plotting."
      ]
    },
    {
      "cell_type": "code",
      "execution_count": null,
      "metadata": {
        "id": "setup"
      },
      "outputs": [],
      "source": [
        "# Import libraries for numerical computation and plotting\n",
        "import numpy as np\n",
        "import matplotlib.pyplot as plt\n",
        "from scipy import optimize\n",
        "import time  # Optional: for timing the execution of different methods\n",
        "\n",
        "# You may want to set up some plotting parameters for consistency\n",
        "# plt.style.use('seaborn-v0_8-whitegrid')  # Choose a style you prefer\n",
        "# plt.rcParams['figure.figsize'] = (10, 6)  # Set default figure size"
      ]
    },
    {
      "cell_type": "markdown",
      "metadata": {
        "id": "define-functions"
      },
      "source": [
        "## Define the Area Ratio Function\n",
        "\n",
        "Define a function that calculates the area ratio given a Mach number and specific heat ratio."
      ]
    },
    {
      "cell_type": "code",
      "execution_count": null,
      "metadata": {
        "id": "functions"
      },
      "outputs": [],
      "source": [
        "def area_ratio_function(M, k):\n",
        "    '''\n",
        "    Calculate the area ratio A/A* for a given Mach number and specific heat ratio.\n",
        "\n",
        "    Parameters:\n",
        "    M (float): Mach number\n",
        "    k (float): Specific heat ratio (gamma)\n",
        "\n",
        "    Returns:\n",
        "    float: Area ratio A/A*\n",
        "    '''\n",
        "    # Add your implementation here\n",
        "    pass\n",
        "\n",
        "# You may want to define additional functions for your root-finding approach"
      ]
    },
    {
      "cell_type": "markdown",
      "metadata": {
        "id": "root-finding-section"
      },
      "source": [
        "## Implement Root-Finding Methods\n",
        "\n",
        "Implement one or more numerical methods to solve for the Mach number given an area ratio. You can use built-in methods from SciPy or implement your own methods like bisection, Newton's method, or secant method."
      ]
    },
    {
      "cell_type": "code",
      "execution_count": null,
      "metadata": {
        "id": "root-methods"
      },
      "outputs": [],
      "source": [
        "# Implement your chosen root-finding method(s) here\n",
        "# Examples might include:\n",
        "# - Bisection method\n",
        "# - Newton's method\n",
        "# - Secant method\n",
        "# - SciPy's optimize.root_scalar with various methods\n",
        "\n",
        "# You might define multiple functions\n",
        "\n",
        "# For example, if using SciPy's brentq method (you can use this or implement your own):\n",
        "# def find_mach_number(area_ratio, k, subsonic=True):\n",
        "#     '''Find Mach number for a given area ratio and specific heat ratio'''\n",
        "#     # Define boundaries based on whether we're looking for subsonic or supersonic solution\n",
        "#     # Implement your solution\n",
        "#     pass"
      ]
    },
    {
      "cell_type": "markdown",
      "metadata": {
        "id": "main-calculation"
      },
      "source": [
        "## Main Calculation\n",
        "\n",
        "Now solve the nozzle problem for different area ratios and gas types. Create arrays to store your results."
      ]
    },
    {
      "cell_type": "code",
      "execution_count": null,
      "metadata": {
        "id": "solver"
      },
      "outputs": [],
      "source": [
        "# Define the gas properties (k values)\n",
        "\n",
        "# Define the range of area ratios to analyze\n",
        "\n",
        "# Initialize a structure to store your results\n",
        "# For each gas, you'll need arrays for area ratios, subsonic Mach numbers, and supersonic Mach numbers\n",
        "\n",
        "# Loop through each gas type and area ratio to calculate Mach numbers\n",
        "# Store the results in your data structure\n",
        "\n",
        "# Experiment with different root-finding methods and compare their efficiency and accuracy"
      ]
    },
    {
      "cell_type": "markdown",
      "metadata": {
        "id": "visualization"
      },
      "source": [
        "## Visualization\n",
        "\n",
        "Create effective plots to visualize your results. These should clearly show how Mach number varies with area ratio for different gases."
      ]
    },
    {
      "cell_type": "code",
      "execution_count": null,
      "metadata": {
        "id": "plotting"
      },
      "outputs": [],
      "source": [
        "# Create one or more plots to visualize your results\n",
        "\n",
        "# Suggestions:\n",
        "# - Plot subsonic and supersonic Mach numbers vs. area ratio for each gas\n",
        "# - Use different colors or line styles to distinguish between gases\n",
        "# - Add appropriate labels, legend, and title\n",
        "# - Consider adding reference lines (e.g., at M=1, A/A*=1)\n",
        "# - Ensure your plot effectively communicates the key results"
      ]
    },
    {
      "cell_type": "markdown",
      "metadata": {
        "id": "method-comparison"
      },
      "source": [
        "## Method Comparison (Optional)\n",
        "\n",
        "Compare different root-finding methods for accuracy and efficiency. This can help you justify your method selection."
      ]
    },
    {
      "cell_type": "code",
      "execution_count": null,
      "metadata": {
        "id": "compare-methods"
      },
      "outputs": [],
      "source": [
        "# Implement code to compare different root-finding methods\n",
        "# You might consider:\n",
        "# - Accuracy (compared to a reference solution)\n",
        "# - Number of iterations required\n",
        "# - Computation time\n",
        "# - Robustness (ability to converge for different initial guesses)\n",
        "\n",
        "# Present your comparison in a meaningful way (table, plot, etc.)"
      ]
    },
    {
      "cell_type": "markdown",
      "metadata": {
        "id": "discussion"
      },
      "source": [
        "## Discussion\n",
        "\n",
        "Answer the following questions about your approach and findings:\n",
        "\n",
        "1. Your process for choosing the root-finding method you used. Did you try more than one? Why did you settle on your final choice?\n",
        "\n",
        "2. How you chose the initial guesses. Were you able to use the same initial guesses for all cases?\n",
        "\n",
        "3. How you chose the stopping criterion you used for your final solution. Justify your final decision in terms of accuracy and computational efficiency.\n",
        "\n",
        "4. Did you have any convergence issues with any of the methods or solution parameters that you tried? If so, how did you resolve them?\n",
        "\n",
        "5. What did you find to be the most challenging aspect of this project? Why?\n",
        "\n",
        "6. What did you find to be the most interesting aspect of this project? Why?\n",
        "\n",
        "Replace this text with your discussion."
      ]
    },
    {
      "cell_type": "markdown",
      "metadata": {
        "id": "additional-analysis"
      },
      "source": [
        "## Additional Analysis (Optional)\n",
        "\n",
        "Feel free to include any additional analysis or visualizations that provide deeper insights into the problem."
      ]
    },
    {
      "cell_type": "code",
      "execution_count": null,
      "metadata": {
        "id": "extra-analysis"
      },
      "outputs": [],
      "source": [
        "# Code for any additional analysis you wish to include\n",
        "# Examples might include:\n",
        "# - 3D visualization of how Mach number varies with both area ratio and specific heat ratio\n",
        "# - Analysis of computational efficiency vs. accuracy tradeoffs\n",
        "# - Alternative visualization methods"
      ]
    },
    {
      "cell_type": "markdown",
      "metadata": {
        "id": "submission-info"
      },
      "source": [
        "## Submission Instructions\n",
        "\n",
        "Submit a Google Drive sharing link to your completed Colab notebook to the Project 1 Canvas assignment.\n",
        "\n",
        "Ensure that:\n",
        "\n",
        "1. All your code cells are properly executed with outputs visible\n",
        "2. Your results are clearly visualized in plots\n",
        "3. You've answered all the discussion questions\n",
        "\n",
        "No separate PDF report or additional files are required. The notebook itself serves as your complete project submission.\n",
        "\n",
        "Be sure to review the grading rubric in Canvas to ensure you understand the project expectations."
      ]
    }
  ],
  "metadata": {
    "colab": {
      "name": "project1_nozzle_flow.ipynb",
      "provenance": [],
      "include_colab_link": true
    },
    "kernelspec": {
      "display_name": "Python 3",
      "language": "python",
      "name": "python3"
    },
    "language_info": {
      "codemirror_mode": {
        "name": "ipython",
        "version": 3
      },
      "file_extension": ".py",
      "mimetype": "text/x-python",
      "name": "python",
      "nbconvert_exporter": "python",
      "pygments_lexer": "ipython3",
      "version": "3.8.10"
    }
  },
  "nbformat": 4,
  "nbformat_minor": 0
}