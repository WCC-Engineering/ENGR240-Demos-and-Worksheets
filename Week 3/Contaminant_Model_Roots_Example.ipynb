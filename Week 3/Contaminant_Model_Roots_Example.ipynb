{
 "cells": [
  {
   "cell_type": "markdown",
   "metadata": {
    "id": "colab_button"
   },
   "source": [
    "[![Open In Colab](https://colab.research.google.com/assets/colab-badge.svg)](https://colab.research.google.com/github/WCC-Engineering/ENGR240/blob/main/Class%20Demos%20and%20Activities/Week%203/Contaminant_Model_Roots_Example.ipynb)"
   ]
  },
  {
   "cell_type": "markdown",
   "metadata": {
    "id": "intro_header"
   },
   "source": [
    "# Finding Time to Reach Contaminant Standards using Root Finding\n",
    "## Bisection Method Application\n",
    "\n",
    "This notebook demonstrates how we can reformulate a problem as a roots problem and then use the bisection method to find the solution. We'll revisit the contaminant decay model from Week 1 but solve a slightly different problem.\n",
    "\n",
    "### Learning Objectives\n",
    "- Understand how to reformulate problems as root-finding problems\n",
    "- Apply the bisection method to environmental engineering scenarios\n",
    "- Conduct parameter sensitivity analysis using numerical methods\n",
    "- Visualize the relationship between model parameters and solutions\n",
    "\n",
    "### The Contaminant Decay Model\n",
    "\n",
    "We'll again use the two-component contaminant decay model:\n",
    "\n",
    "$$p(t) = A_0 \\cdot e^{-k_A \\cdot t} + B_0 \\cdot e^{-k_B \\cdot t}$$\n",
    "\n",
    "Where:\n",
    "- $p(t)$ = total contaminant concentration (ppm) at time $t$\n",
    "- $t$ = time (days)\n",
    "- $A_0$ = initial concentration of contaminant A (ppm)\n",
    "- $B_0$ = initial concentration of contaminant B (ppm)\n",
    "- $k_A$ = decay rate of contaminant A (day$^{-1}$)\n",
    "- $k_B$ = decay rate of contaminant B (day$^{-1}$)\n",
    "\n",
    "### The Problem\n",
    "\n",
    "In this notebook, we want to find the exact time $t$ when the contaminant concentration reaches 10 ppm for various values of $k_B$. This can be formulated as finding the roots of the equation:\n",
    "\n",
    "$$p(t) - 10 = 0$$\n",
    "\n",
    "By solving this equation for different values of $k_B$, we can understand how the remediation timeline depends on the decay rate of contaminant B."
   ]
  },
  {
   "cell_type": "markdown",
   "metadata": {
    "id": "setup_section"
   },
   "source": [
    "## Setup\n",
    "\n",
    "First, we'll import the necessary libraries for numerical computing and visualization."
   ]
  },
  {
   "cell_type": "code",
   "execution_count": null,
   "metadata": {
    "id": "imports"
   },
   "outputs": [],
   "source": [
    "import numpy as np\n",
    "import matplotlib.pyplot as plt\n",
    "\n",
    "# Set plot style for better visualization\n",
    "plt.style.use('seaborn-v0_8-whitegrid')\n",
    "plt.rcParams['figure.figsize'] = [10, 6]  # Set default figure size"
   ]
  },
  {
   "cell_type": "markdown",
   "metadata": {
    "id": "model_parameters"
   },
   "source": [
    "## Model Parameters\n",
    "\n",
    "Let's define our base model parameters. We'll keep the initial concentrations and the decay rate of contaminant A constant, while we'll vary the decay rate of contaminant B to analyze its effect on the time to reach the regulatory standard."
   ]
  },
  {
   "cell_type": "code",
   "execution_count": null,
   "metadata": {
    "id": "parameters"
   },
   "outputs": [],
   "source": [
    "# Model parameters\n",
    "A0 = 200      # Initial concentration of contaminant A (ppm)\n",
    "B0 = 100      # Initial concentration of contaminant B (ppm)\n",
    "kA = 1.0      # Decay rate of contaminant A (day^-1)\n",
    "\n",
    "# Regulatory standard concentration\n",
    "standard = 10  # ppm"
   ]
  },
  {
   "cell_type": "markdown",
   "metadata": {},
   "source": [
    "## Bisection Method Implementation\n",
    "\n",
    "First, let's implement the bisection method from Week 3. We'll modify it to accept parameters so we can pass in the current $k_B$ value for each calculation."
   ]
  },
  {
   "cell_type": "code",
   "execution_count": null,
   "metadata": {},
   "outputs": [],
   "source": [
    "def bisection(f, a, b, tol=1e-6, max_iter=100, *args):\n",
    "    \"\"\"\n",
    "    Find a root of function f(x) in the interval [a, b] using the bisection method.\n",
    "    \n",
    "    Parameters:\n",
    "    f : function\n",
    "        The function for which we want to find the root\n",
    "    a, b : float\n",
    "        The interval [a, b] where we search for the root\n",
    "    tol : float, optional\n",
    "        Tolerance for stopping criterion (default: 1e-6)\n",
    "    max_iter : int, optional\n",
    "        Maximum number of iterations (default: 100)\n",
    "    *args : additional parameters\n",
    "        Additional parameters to pass to the function f\n",
    "        \n",
    "    Returns:\n",
    "    float: The estimated root\n",
    "    int: Number of iterations\n",
    "    float: Final approximate relative error\n",
    "    \"\"\"\n",
    "    # Evaluate function at interval endpoints\n",
    "    fa = f(a, *args)\n",
    "    fb = f(b, *args)\n",
    "    \n",
    "    # Check if the function changes sign in the interval\n",
    "    if fa * fb > 0:\n",
    "        raise ValueError(f\"Function must have opposite signs at interval endpoints: f({a}) = {fa}, f({b}) = {fb}\")\n",
    "    \n",
    "    # Initialize iteration counter and error\n",
    "    iter_count = 0\n",
    "    ea = tol + 1  # ensures loop runs at least once\n",
    "    \n",
    "    # Bisection loop\n",
    "    while ea > tol and iter_count < max_iter:\n",
    "        # Find midpoint\n",
    "        c = (a + b) / 2\n",
    "        fc = f(c, *args)\n",
    "        \n",
    "        # Calculate approximate relative error\n",
    "        if c != 0:\n",
    "            ea = abs((b - a) / (2 * c))\n",
    "        \n",
    "        # Check if we found the root exactly\n",
    "        if fc == 0:\n",
    "            return c, iter_count, 0\n",
    "        \n",
    "        # Update interval\n",
    "        if fa * fc < 0:\n",
    "            b = c\n",
    "            fb = fc\n",
    "        else:\n",
    "            a = c\n",
    "            fa = fc\n",
    "        \n",
    "        iter_count += 1\n",
    "    \n",
    "    # Return final midpoint, iterations and error\n",
    "    return c, iter_count, ea"
   ]
  },
  {
   "cell_type": "markdown",
   "metadata": {},
   "source": [
    "## Define the Target Function\n",
    "\n",
    "Now, let's define the function whose root we want to find. For our problem, we want to find when $p(t) - 10 = 0$, which means when the total contaminant concentration equals the regulatory standard of 10 ppm."
   ]
  },
  {
   "cell_type": "code",
   "execution_count": null,
   "metadata": {},
   "outputs": [],
   "source": [
    "def contaminant_root_function(t, kB):\n",
    "    \"\"\"\n",
    "    Function that equals zero when contaminant concentration reaches\n",
    "    the regulatory standard (10 ppm).\n",
    "    \n",
    "    Parameters:\n",
    "    t : float\n",
    "        Time (days)\n",
    "    kB : float\n",
    "        Decay rate of contaminant B (day^-1)\n",
    "        \n",
    "    Returns:\n",
    "    float: Difference between p(t) and the standard\n",
    "    \"\"\"\n",
    "    # Calculate concentration at time t\n",
    "    concentration = A0 * np.exp(-kA * t) + B0 * np.exp(-kB * t)\n",
    "    \n",
    "    # Return the difference between the concentration and the standard\n",
    "    return concentration - standard"
   ]
  },
  {
   "cell_type": "markdown",
   "metadata": {},
   "source": [
    "## Sensitivity Analysis\n",
    "\n",
    "Now, let's perform a parameter sensitivity analysis by finding the time to reach the regulatory standard for different values of $k_B$."
   ]
  },
  {
   "cell_type": "code",
   "execution_count": null,
   "metadata": {},
   "outputs": [],
   "source": [
    "# Create a range of kB values from 0.5 to 4 with 15 points\n",
    "kB_values = np.linspace(0.5, 4, 15)\n",
    "\n",
    "# Lists to store results\n",
    "times = []\n",
    "iterations = []\n",
    "errors = []\n",
    "\n",
    "# For each kB value, find the time to reach the standard\n",
    "for kB in kB_values:\n",
    "    # Define search interval based on expected behavior\n",
    "    # For smaller kB, it will take longer to reach the standard\n",
    "    max_search_time = max(15, 10 / kB)  \n",
    "    \n",
    "    # Apply bisection method to find the root\n",
    "    try:\n",
    "        time, iter_count, error = bisection(contaminant_root_function, 0, max_search_time, 1e-6, 100, kB)\n",
    "        times.append(time)\n",
    "        iterations.append(iter_count)\n",
    "        errors.append(error)\n",
    "    except ValueError as e:\n",
    "        print(f\"Error for kB = {kB}: {e}\")\n",
    "        # If bisection fails, append None to keep arrays aligned\n",
    "        times.append(None)\n",
    "        iterations.append(None)\n",
    "        errors.append(None)"
   ]
  },
  {
   "cell_type": "markdown",
   "metadata": {},
   "source": [
    "## Visualize Results\n",
    "\n",
    "Now, let's create a plot that shows how the time to reach the regulatory standard varies with the decay rate of contaminant B."
   ]
  },
  {
   "cell_type": "code",
   "execution_count": null,
   "metadata": {},
   "outputs": [],
   "source": [
    "# Filter out any None values\n",
    "valid_indices = [i for i, t in enumerate(times) if t is not None]\n",
    "valid_kB = [kB_values[i] for i in valid_indices]\n",
    "valid_times = [times[i] for i in valid_indices]\n",
    "\n",
    "# Create the plot\n",
    "plt.figure(figsize=(12, 7))\n",
    "\n",
    "# Plot time to reach standard vs. kB\n",
    "plt.plot(valid_kB, valid_times, 'bo-', linewidth=2, markersize=8)\n",
    "\n",
    "# Add labels and legend\n",
    "plt.title('Time to Reach 10 ppm Regulatory Standard vs. $k_B$', fontsize=14)\n",
    "plt.xlabel('$k_B$ (decay rate of contaminant B, day$^{-1}$)', fontsize=12)\n",
    "plt.ylabel('Time (days)', fontsize=12)\n",
    "plt.grid(True, alpha=0.3)\n",
    "\n",
    "# Annotate the plot with model parameters\n",
    "plt.text(0.05, 0.95, f'$A_0$ = {A0} ppm\\n$B_0$ = {B0} ppm\\n$k_A$ = {kA} day$^{-1}$\\nStandard = {standard} ppm', \n",
    "         transform=plt.gca().transAxes, fontsize=12, verticalalignment='top',\n",
    "         bbox=dict(boxstyle='round', facecolor='white', alpha=0.8))\n",
    "\n",
    "plt.show()"
   ]
  },
  {
   "cell_type": "markdown",
   "metadata": {},
   "source": [
    "## Interpret the Results\n",
    "\n",
    "From the plot, we can observe the relationship between the decay rate of contaminant B ($k_B$) and the time it takes for the total concentration to reach the regulatory standard of 10 ppm.\n",
    "\n",
    "Key observations:\n",
    "\n",
    "1. As $k_B$ increases, the time to reach the standard decreases. This makes sense because a higher decay rate means faster breakdown of the contaminant.\n",
    "\n",
    "2. The relationship is non-linear - we see diminishing returns as $k_B$ increases. This is important for decision-making: increasing the decay rate (perhaps through active treatment) may be very beneficial up to a point, after which further increases yield minimal time savings.\n",
    "\n",
    "3. The curve approaches an asymptote, suggesting that even with very high values of $k_B$, there's a minimum time required to reach the standard. This is because contaminant A has a fixed decay rate in our model, and it eventually becomes the limiting factor.\n",
    "\n",
    "This type of analysis is valuable for environmental remediation planning, helping engineers decide whether active treatment to increase decay rates is worth the investment, or if natural attenuation (with lower decay rates) is sufficient given time constraints."
   ]
  },
  {
   "cell_type": "markdown",
   "metadata": {},
   "source": [
    "## Conclusion\n",
    "\n",
    "In this notebook, we demonstrated how to:\n",
    "\n",
    "1. Reformulate an environmental engineering problem as a root-finding problem\n",
    "2. Use the bisection method with parameterization to solve for the roots\n",
    "3. Perform a sensitivity analysis by varying a key parameter ($k_B$)\n",
    "4. Visualize and interpret the relationship between the parameter and the solution\n",
    "\n",
    "This approach can be applied to many other engineering problems where we need to find when a system reaches a specific state or threshold, and understand how parameters affect the timing."
   ]
  }
 ],
 "metadata": {
  "colab": {
   "provenance": []
  },
  "kernelspec": {
   "display_name": "Python 3",
   "language": "python",
   "name": "python3"
  },
  "language_info": {
   "codemirror_mode": {
    "name": "ipython",
    "version": 3
   },
   "file_extension": ".py",
   "mimetype": "text/x-python",
   "name": "python",
   "nbconvert_exporter": "python",
   "pygments_lexer": "ipython3",
   "version": "3.8.5"
  }
 },
 "nbformat": 4,
 "nbformat_minor": 4
}