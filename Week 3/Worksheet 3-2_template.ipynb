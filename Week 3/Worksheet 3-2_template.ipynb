{
 "cells": [
  {
   "cell_type": "markdown",
   "metadata": {},
   "source": [
    "# ENGR 240: Parameters in Roots Problems - Michaelis-Menten Kinetics\n",
    "\n",
    "[![Open In Colab](https://colab.research.google.com/assets/colab-badge.svg)](https://colab.research.google.com/github/WCC-Engineering/ENGR240/blob/main/Class%20Demos%20and%20Activities/Week%203/Worksheet%203-2_template.ipynb)\n",
    "\n",
    "## Introduction\n",
    "\n",
    "In many engineering applications, we encounter nonlinear equations that need to be solved for different parameter values. This worksheet focuses on how to handle changing parameters when using root-finding methods and explores the concept of \"residuals\" in numerical approximations.\n",
    "\n",
    "### Learning Objectives\n",
    "- Implement parameter-passing techniques in root-finding methods\n",
    "- Compare Newton-Raphson method and `scipy.fsolve` for parametric roots problems\n",
    "- Understand and calculate residuals in numerical approximations\n",
    "- Visualize substrate concentration profiles using the Michaelis-Menten model\n",
    "- Gain programming practice with functions, loops, and arrays\n",
    "\n",
    "### Mathematical Background\n",
    "\n",
    "The **Michaelis-Menten model** describes the kinetics of enzyme-mediated reactions. It is represented by the following equation:\n",
    "\n",
    "$$S = S_0 - v_m t + k_s \\ln\\left(\\frac{S_0}{S}\\right)$$\n",
    "\n",
    "where:\n",
    "- $S$ = substrate concentration (mol/L)\n",
    "- $S_0$ = initial substrate concentration (mol/L) at t = 0\n",
    "- $v_m$ = maximum uptake rate (mol/L/d)\n",
    "- $k_s$ = half saturation constant (mol/L)\n",
    "- $t$ = time (days)\n",
    "\n",
    "For this worksheet, we need to solve for $S$ given specific values of $S_0$, $v_m$, $k_s$, and $t$. Since $S$ appears on both sides of the equation, we can't solve for it directly. Instead, we need to rearrange the equation to find the roots:\n",
    "\n",
    "$$f(S) = S - S_0 + v_m t - k_s \\ln\\left(\\frac{S_0}{S}\\right) = 0$$"
   ]
  },
  {
   "cell_type": "markdown",
   "metadata": {},
   "source": [
    "## Setup and Imports\n",
    "\n",
    "First, let's import the necessary libraries:"
   ]
  },
  {
   "cell_type": "code",
   "execution_count": null,
   "metadata": {},
   "outputs": [],
   "source": [
    "import numpy as np\n",
    "import matplotlib.pyplot as plt\n",
    "from scipy import optimize\n",
    "import time  # for timing comparison"
   ]
  },
  {
   "cell_type": "markdown",
   "metadata": {},
   "source": [
    "## Newton-Raphson Method with Parameters\n",
    "\n",
    "The Newton-Raphson method is an iterative approach to finding roots. We've previously studied the basic implementation. The method uses the formula:\n",
    "\n",
    "$$x_{n+1} = x_n - \\frac{f(x_n)}{f'(x_n)}$$\n",
    "\n",
    "When working with parameters, we need to modify our implementation to accept additional parameter values.\n",
    "\n",
    "### Implementation with Parameter Passing\n",
    "\n",
    "Let's define our function and its derivative for the Michaelis-Menten model:"
   ]
  },
  {
   "cell_type": "code",
   "execution_count": null,
   "metadata": {},
   "outputs": [],
   "source": [
    "def mm_function(S, S0, vm, ks, t):\n",
    "    \"\"\"\n",
    "    Michaelis-Menten function whose root we seek.\n",
    "    \n",
    "    Parameters:\n",
    "    -----------\n",
    "    S : float\n",
    "        Substrate concentration (mol/L)\n",
    "    S0 : float\n",
    "        Initial substrate concentration (mol/L)\n",
    "    vm : float\n",
    "        Maximum uptake rate (mol/L/d)\n",
    "    ks : float\n",
    "        Half saturation constant (mol/L)\n",
    "    t : float\n",
    "        Time (days)\n",
    "        \n",
    "    Returns:\n",
    "    --------\n",
    "    float : Function value at S\n",
    "    \"\"\"\n",
    "    return S - S0 + vm * t - ks * np.log(S0 / S)"
   ]
  },
  {
   "cell_type": "markdown",
   "metadata": {},
   "source": [
    "### Task 1: Derive and Implement the Derivative Function\n",
    "\n",
    "Derive the derivative of the Michaelis-Menten function with respect to S:\n",
    "\n",
    "$$\\frac{d}{dS}\\left[S - S_0 + v_m t - k_s \\ln\\left(\\frac{S_0}{S}\\right)\\right]$$\n",
    "\n",
    "Implement your derived formula in the `mm_derivative` function below. Test your implementation by running the Newton-Raphson method."
   ]
  },
  {
   "cell_type": "code",
   "execution_count": null,
   "metadata": {},
   "outputs": [],
   "source": [
    "# NOTE: You will need to derive and implement the derivative function.\n",
    "# Remove the next line and add your implementation for mm_derivative\n",
    "\n",
    "\"\"\"\n",
    "STUDENT ACTIVITY:\n",
    "1. Derive the derivative of mm_function with respect to S\n",
    "2. Implement the derivative function below\n",
    "\"\"\"\n",
    "\n",
    "def mm_derivative(S, S0, vm, ks, t):\n",
    "    \"\"\"\n",
    "    Derivative of the Michaelis-Menten function with respect to S.\n",
    "    \n",
    "    Parameters:\n",
    "    -----------\n",
    "    (Same as mm_function)\n",
    "        \n",
    "    Returns:\n",
    "    --------\n",
    "    float : Derivative value at S\n",
    "    \"\"\"\n",
    "    # Replace this with your implementation\n",
    "    pass"
   ]
  },
  {
   "cell_type": "markdown",
   "metadata": {},
   "source": [
    "Now let's implement the Newton-Raphson method with parameter passing:"
   ]
  },
  {
   "cell_type": "code",
   "execution_count": null,
   "metadata": {},
   "outputs": [],
   "source": [
    "def newton_raphson(func, dfunc, x0, tol=1e-8, max_iter=100, **params):\n",
    "    \"\"\"\n",
    "    Newton-Raphson method to find a root of a function.\n",
    "    \n",
    "    Parameters:\n",
    "    -----------\n",
    "    func : function\n",
    "        Function to find root of\n",
    "    dfunc : function\n",
    "        Derivative of the function\n",
    "    x0 : float\n",
    "        Initial guess\n",
    "    tol : float\n",
    "        Error tolerance\n",
    "    max_iter : int\n",
    "        Maximum number of iterations\n",
    "    **params : dict\n",
    "        Additional parameters to pass to the function\n",
    "        \n",
    "    Returns:\n",
    "    --------\n",
    "    tuple : (root, iterations, error, residual)\n",
    "    \"\"\"\n",
    "    x = x0\n",
    "    error = float('inf')\n",
    "    iter_count = 0\n",
    "    \n",
    "    while error > tol and iter_count < max_iter:\n",
    "        f_x = func(x, **params)\n",
    "        df_x = dfunc(x, **params)\n",
    "        \n",
    "        if df_x == 0:\n",
    "            raise ValueError(\"Derivative is zero. Cannot continue.\")\n",
    "        \n",
    "        x_new = x - f_x / df_x\n",
    "        \n",
    "        # Calculate relative error\n",
    "        error = abs((x_new - x) / x_new) if x_new != 0 else abs(x_new - x)\n",
    "        \n",
    "        x = x_new\n",
    "        iter_count += 1\n",
    "    \n",
    "    # Calculate residual - the function value at our solution\n",
    "    residual = abs(func(x, **params))\n",
    "    \n",
    "    return x, iter_count, error, residual"
   ]
  },
  {
   "cell_type": "markdown",
   "metadata": {},
   "source": [
    "## Using scipy.fsolve with Parameters\n",
    "\n",
    "SciPy's `fsolve` function is a powerful tool for finding roots of nonlinear equations. It implements a modified version of the Powell hybrid method, combining the benefits of Newton-Raphson and the secant method. This makes it robust for a wide range of problems.\n",
    "\n",
    "### How fsolve Works\n",
    "\n",
    "The `fsolve` function is designed to solve systems of nonlinear equations. Its algorithm works as follows:\n",
    "\n",
    "1. It approximates the Jacobian matrix (which contains derivatives) using finite differences\n",
    "2. Uses this approximation to determine a search direction\n",
    "3. Takes steps in that direction, adapting the step size as needed\n",
    "4. Continues iterating until convergence or reaching the maximum iterations\n",
    "\n",
    "### Basic Syntax\n",
    "\n",
    "The basic syntax of `fsolve` is:\n",
    "\n",
    "```python\n",
    "result = optimize.fsolve(func, x0, args=())\n",
    "```\n",
    "\n",
    "Where:\n",
    "- `func` is the function to find the roots of\n",
    "- `x0` is the initial guess\n",
    "- `args` is a tuple of parameters to pass to the function\n",
    "\n",
    "A key challenge is that `fsolve` requires the function to take the variable followed by additional parameters. When working with parameters, we need a way to pass these parameters while still maintaining the function signature required by `fsolve`.\n",
    "\n",
    "There are several ways to handle this:\n",
    "\n",
    "1. Using lambda functions\n",
    "2. Using `functools.partial`\n",
    "3. Creating a wrapper function\n",
    "   \n",
    "Let's see how to implement the first approach:"
   ]
  },
  {
   "cell_type": "code",
   "execution_count": null,
   "metadata": {},
   "outputs": [],
   "source": [
    "def solve_with_fsolve(t, S0, vm, ks, x0):\n",
    "    \"\"\"\n",
    "    Solve the Michaelis-Menten equation using scipy.fsolve.\n",
    "    \n",
    "    Parameters:\n",
    "    -----------\n",
    "    t : float\n",
    "        Time (days)\n",
    "    S0, vm, ks : float\n",
    "        Model parameters\n",
    "    x0 : float\n",
    "        Initial guess\n",
    "        \n",
    "    Returns:\n",
    "    --------\n",
    "    tuple : (root, residual)\n",
    "    \"\"\"\n",
    "    # Lambda function with parameters\n",
    "    f = lambda S: mm_function(S, S0=S0, vm=vm, ks=ks, t=t)\n",
    "    \n",
    "    # Solve using fsolve\n",
    "    root = optimize.fsolve(f, x0)[0]\n",
    "    \n",
    "    # Calculate residual\n",
    "    residual = abs(f(root))\n",
    "    \n",
    "    return root, residual"
   ]
  },
  {
   "cell_type": "markdown",
   "metadata": {},
   "source": [
    "## Problem Setup\n",
    "\n",
    "Let's set up our problem with the following parameters:\n",
    "- Initial substrate concentration (S0) = 10 mol/L\n",
    "- Maximum uptake rate (vm) = 0.5 mol/L/d\n",
    "- Half saturation constant (ks) = 2 mol/L\n",
    "- Time range from 0 to 50 days in steps of 5 days"
   ]
  },
  {
   "cell_type": "code",
   "execution_count": null,
   "metadata": {},
   "outputs": [],
   "source": [
    "# Set parameters\n",
    "S0 = 10.0  # mol/L\n",
    "vm = 0.5   # mol/L/d\n",
    "ks = 2.0   # mol/L\n",
    "t_values = np.arange(0, 51, 5)  # days\n",
    "\n",
    "# Initial guess for S\n",
    "initial_guess = 0.0001\n",
    "\n",
    "# Define parameter dictionaries for both methods\n",
    "newton_params = {'S0': S0, 'vm': vm, 'ks': ks}\n",
    "fsolve_bracket = [0.0001, 10.01]  # Initial bracket for fsolve"
   ]
  },
  {
   "cell_type": "markdown",
   "metadata": {},
   "source": [
    "## Calculating S vs t and Residuals\n",
    "\n",
    "Now let's calculate S vs t and the associated residuals for both methods:"
   ]
  },
  {
   "cell_type": "code",
   "execution_count": null,
   "metadata": {},
   "outputs": [],
   "source": [
    "# Arrays to store results\n",
    "S_newton = np.zeros_like(t_values, dtype=float)\n",
    "residuals_newton = np.zeros_like(t_values, dtype=float)\n",
    "iterations_newton = np.zeros_like(t_values, dtype=int)\n",
    "\n",
    "S_fsolve = np.zeros_like(t_values, dtype=float)\n",
    "residuals_fsolve = np.zeros_like(t_values, dtype=float)\n",
    "\n",
    "# Time execution\n",
    "newton_time = 0\n",
    "fsolve_time = 0\n",
    "\n",
    "# Loop through each time value\n",
    "for i, t in enumerate(t_values):\n",
    "    # Newton-Raphson method\n",
    "    newton_start = time.time()\n",
    "    newton_params['t'] = t\n",
    "    S_newton[i], iter_count, error, residuals_newton[i] = newton_raphson(\n",
    "        mm_function, mm_derivative, initial_guess, **newton_params)\n",
    "    iterations_newton[i] = iter_count\n",
    "    newton_time += time.time() - newton_start\n",
    "    \n",
    "    # fsolve method\n",
    "    fsolve_start = time.time()\n",
    "    S_fsolve[i], residuals_fsolve[i] = solve_with_fsolve(t, S0, vm, ks, initial_guess)\n",
    "    fsolve_time += time.time() - fsolve_start\n",
    "\n",
    "# Print computation times\n",
    "print(f\"Newton-Raphson execution time: {newton_time:.6f} seconds\")\n",
    "print(f\"fsolve execution time: {fsolve_time:.6f} seconds\")"
   ]
  },
  {
   "cell_type": "markdown",
   "metadata": {},
   "source": [
    "## Visualizing the Results\n",
    "\n",
    "Let's create plots to visualize our results:"
   ]
  },
  {
   "cell_type": "code",
   "execution_count": null,
   "metadata": {},
   "outputs": [],
   "source": [
    "# Create figure with subplots\n",
    "fig, axes = plt.subplots(2, 1, figsize=(10, 12))\n",
    "\n",
    "# Plot S vs t for both methods\n",
    "axes[0].plot(t_values, S_newton, 'b-o', label='Newton-Raphson Method')\n",
    "axes[0].plot(t_values, S_fsolve, 'r--x', label='fsolve Method')\n",
    "axes[0].set_xlabel('Time (days)')\n",
    "axes[0].set_ylabel('Substrate Concentration (mol/L)')\n",
    "axes[0].set_title('Substrate Concentration vs. Time')\n",
    "axes[0].grid(True)\n",
    "axes[0].legend()\n",
    "\n",
    "# Plot residuals\n",
    "axes[1].semilogy(t_values, residuals_newton, 'b-o', label='Newton-Raphson Residuals')\n",
    "axes[1].semilogy(t_values, residuals_fsolve, 'r--x', label='fsolve Residuals')\n",
    "axes[1].set_xlabel('Time (days)')\n",
    "axes[1].set_ylabel('Residual (log scale)')\n",
    "axes[1].set_title('Residuals vs. Time')\n",
    "axes[1].grid(True)\n",
    "axes[1].legend()\n",
    "\n",
    "plt.tight_layout()\n",
    "plt.show()\n",
    "\n",
    "# Print the results in a table\n",
    "print(\"\\nResults Table:\")\n",
    "print(\"=\" * 75)\n",
    "print(f\"{'Time (days)':^12} | {'Newton-Raphson S':^15} | {'fsolve S':^15} | {'N-R Residual':^15} | {'fsolve Residual':^15}\")\n",
    "print(\"=\" * 75)\n",
    "for i, t in enumerate(t_values):\n",
    "    print(f\"{t:^12.1f} | {S_newton[i]:^15.6f} | {S_fsolve[i]:^15.6f} | {residuals_newton[i]:^15.2e} | {residuals_fsolve[i]:^15.2e}\")"
   ]
  },
  {
   "cell_type": "markdown",
   "metadata": {},
   "source": [
    "## Student Activities\n",
    "\n",
    "Now it's your turn to work on the following tasks:"
   ]
  },
  {
   "cell_type": "markdown",
   "metadata": {},
   "source": [
    "### Task 2: Implement a Different Method for Parameter Passing in fsolve\n",
    "\n",
    "Implement one of the alternative methods for passing parameters to `fsolve` (either using `functools.partial` or creating a wrapper function)."
   ]
  },
  {
   "cell_type": "code",
   "execution_count": null,
   "metadata": {},
   "outputs": [],
   "source": [
    "# Your implementation here"
   ]
  },
  {
   "cell_type": "markdown",
   "metadata": {},
   "source": [
    "### Task 3: Modify for Multiple Initial Guesses\n",
    "\n",
    "Write code to test how different initial guesses affect the convergence of both methods. Try several initial guesses and compare the results."
   ]
  },
  {
   "cell_type": "code",
   "execution_count": null,
   "metadata": {},
   "outputs": [],
   "source": [
    "# Your implementation here"
   ]
  },
  {
   "cell_type": "markdown",
   "metadata": {},
   "source": [
    "### Task 4: Calculate Error Metrics\n",
    "\n",
    "Calculate and plot the mean squared error between the solutions obtained by the Newton-Raphson method and `fsolve`. Is there a significant difference between the methods?"
   ]
  },
  {
   "cell_type": "code",
   "execution_count": null,
   "metadata": {},
   "outputs": [],
   "source": [
    "# Your implementation here"
   ]
  },
  {
   "cell_type": "markdown",
   "metadata": {},
   "source": [
    "### Task 5: Optimize Parameter Passing Strategy\n",
    "\n",
    "For larger problems with many parameter values, efficient parameter passing becomes important. Explore and implement a strategy that would handle a large number of parameter values efficiently."
   ]
  },
  {
   "cell_type": "code",
   "execution_count": null,
   "metadata": {},
   "outputs": [],
   "source": [
    "# Your implementation here"
   ]
  },
  {
   "cell_type": "markdown",
   "metadata": {},
   "source": [
    "## Conclusion\n",
    "\n",
    "In this worksheet, we've explored how to handle parameters in root-finding problems using the Newton-Raphson method and `scipy.fsolve`. We've also examined the concept of residuals in numerical approximations and compared the efficiency and accuracy of different approaches.\n",
    "\n",
    "Key takeaways:\n",
    "1. Parameter passing in numerical methods can be handled through function arguments or keyword arguments\n",
    "2. Lambda functions provide a clean way to parameterize functions for `scipy.fsolve`\n",
    "3. Residuals help us understand the accuracy of our numerical solutions\n",
    "4. For complex problems, specialized libraries like SciPy offer robust and efficient solutions\n",
    "\n",
    "As you continue with your engineering studies, you'll find that many real-world problems require solving parameterized equations repeatedly for different conditions - the techniques covered here provide a foundation for addressing these challenges."
   ]
  }
 ],
 "metadata": {
  "kernelspec": {
   "display_name": "Python 3 (ipykernel)",
   "language": "python",
   "name": "python3"
  },
  "language_info": {
   "codemirror_mode": {
    "name": "ipython",
    "version": 3
   },
   "file_extension": ".py",
   "mimetype": "text/x-python",
   "name": "python",
   "nbconvert_exporter": "python",
   "pygments_lexer": "ipython3",
   "version": "3.10.12"
  }
 },
 "nbformat": 4,
 "nbformat_minor": 2
}