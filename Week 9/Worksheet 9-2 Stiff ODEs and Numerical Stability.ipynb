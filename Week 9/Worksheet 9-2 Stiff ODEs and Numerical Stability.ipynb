{
  "cells": [
    {
      "cell_type": "markdown",
      "metadata": {
        "id": "view-in-github",
        "colab_type": "text"
      },
      "source": [
        "<a href=\"https://colab.research.google.com/github/WCC-Engineering/ENGR240/blob/main/Class%20Demos%20and%20Activities/Week%209/Worksheet 9-2 Stiff ODEs and Numerical Stability.ipynb\" target=\"_parent\"><img src=\"https://colab.research.google.com/assets/colab-badge.svg\" alt=\"Open In Colab\"/></a>"
      ]
    },
    {
      "cell_type": "markdown",
      "metadata": {
        "id": "FNJsM3CEB69J"
      },
      "source": [
        "# Worksheet 9.2: Stiff ODEs and Numerical Stability\n",
        "\n",
        "## ENGR& 240: Engineering Computations\n",
        "\n",
        "### Objectives\n",
        "- Understand what makes an ODE system \"stiff\"\n",
        "- Explore numerical instability with explicit methods on stiff systems\n",
        "- Compare explicit vs implicit methods for stiff systems\n",
        "- Investigate the effect of step size on stability and efficiency"
      ]
    },
    {
      "cell_type": "markdown",
      "metadata": {
        "id": "lUMHiOENB69O"
      },
      "source": [
        "## Introduction\n",
        "\n",
        "Some differential equation systems are called \"stiff\" because they contain processes that occur on very different time scales. This creates numerical challenges for explicit methods like Euler's method and Runge-Kutta methods.\n",
        "\n",
        "In this worksheet, we'll explore stiffness through a chemical reaction system that exhibits rapid equilibration alongside slower overall changes. You'll discover why explicit methods struggle and how implicit methods can solve these problems efficiently.\n",
        "\n",
        "### The Chemical Reaction System\n",
        "\n",
        "Consider a three-species chemical reaction system:\n",
        "\n",
        "$$\\frac{dA}{dt} = -k_1 A B + k_2 C$$\n",
        "$$\\frac{dB}{dt} = -k_1 A B + k_2 C - k_3 B C$$\n",
        "$$\\frac{dC}{dt} = k_1 A B - k_2 C - k_3 B C$$\n",
        "\n",
        "Where A, B, and C are species concentrations, and $k_1$, $k_2$, $k_3$ are reaction rate constants."
      ]
    },
    {
      "cell_type": "code",
      "execution_count": null,
      "metadata": {
        "id": "WE7vAIS_B69Q"
      },
      "outputs": [],
      "source": [
        "# Import required libraries\n",
        "import numpy as np\n",
        "import matplotlib.pyplot as plt\n",
        "from scipy.integrate import solve_ivp\n",
        "import time"
      ]
    },
    {
      "cell_type": "markdown",
      "metadata": {
        "id": "MHVDJPPPB69S"
      },
      "source": [
        "## Provided: RK4 System Solver\n",
        "\n",
        "Here's a complete implementation of the fourth-order Runge-Kutta method for systems of ODEs:"
      ]
    },
    {
      "cell_type": "code",
      "execution_count": null,
      "metadata": {
        "id": "OBkxX-GdB69T"
      },
      "outputs": [],
      "source": [
        "def odeRK4sys(dydt, tspan, y0, h, *args):\n",
        "    \"\"\"\n",
        "    Solve system of ODEs using fourth-order Runge-Kutta method.\n",
        "\n",
        "    Args:\n",
        "        dydt (callable): Function defining the ODE system\n",
        "        tspan (array-like): [t0, tf] initial and final values\n",
        "        y0 (array-like): Initial values for system\n",
        "        h (float): Step size\n",
        "        *args: Additional parameters used by dydt\n",
        "\n",
        "    Returns:\n",
        "        tuple: (t, y)\n",
        "            t: Array of time values\n",
        "            y: Array of solution values (each column is one variable)\n",
        "    \"\"\"\n",
        "    # Input validation\n",
        "    if not callable(dydt):\n",
        "        raise ValueError(\"dydt must be a callable function\")\n",
        "    if len(tspan) != 2:\n",
        "        raise ValueError(\"tspan must be [t0, tf]\")\n",
        "\n",
        "    t0, tf = tspan\n",
        "\n",
        "    # Create time array\n",
        "    t = np.arange(t0, tf + h/2, h)  # h/2 term handles floating-point issues\n",
        "    n = len(t)\n",
        "\n",
        "    # Ensure tf is included\n",
        "    if t[-1] < tf:\n",
        "        t = np.append(t, tf)\n",
        "        n += 1\n",
        "\n",
        "    # Initialize solution array\n",
        "    y0 = np.array(y0)\n",
        "    n_eqn = len(y0)\n",
        "    y = np.ones((n, n_eqn))\n",
        "    y[0] = y0\n",
        "\n",
        "    # Implement RK4 method\n",
        "    for i in range(n-1):\n",
        "        # Calculate step size for this iteration\n",
        "        h_step = t[i+1] - t[i]\n",
        "\n",
        "        # First step\n",
        "        k1 = dydt(t[i], y[i], *args)\n",
        "\n",
        "        # Second step\n",
        "        ymid2 = y[i] + k1 * h_step/2\n",
        "        k2 = dydt(t[i] + h_step/2, ymid2, *args)\n",
        "\n",
        "        # Third step\n",
        "        ymid3 = y[i] + k2 * h_step/2\n",
        "        k3 = dydt(t[i] + h_step/2, ymid3, *args)\n",
        "\n",
        "        # Fourth step\n",
        "        yend = y[i] + k3 * h_step\n",
        "        k4 = dydt(t[i] + h_step, yend, *args)\n",
        "\n",
        "        # Combine steps\n",
        "        phi = (k1 + 2*k2 + 2*k3 + k4) / 6\n",
        "        y[i+1] = y[i] + phi * h_step\n",
        "\n",
        "    return t, y"
      ]
    },
    {
      "cell_type": "markdown",
      "metadata": {
        "id": "z80KGwJ5B69U"
      },
      "source": [
        "## Task 1: Implementing the Chemical Reaction System\n",
        "\n",
        "Implement the chemical reaction system as a Python function. This function should return the derivatives for all three species."
      ]
    },
    {
      "cell_type": "code",
      "execution_count": null,
      "metadata": {
        "id": "JU5Sh5kGB69V"
      },
      "outputs": [],
      "source": [
        "def chemical_reaction(t, y, k1, k2, k3):\n",
        "    \"\"\"\n",
        "    Chemical reaction system with three species A, B, C.\n",
        "\n",
        "    Args:\n",
        "        t (float): Current time\n",
        "        y (array): Current concentrations [A, B, C]\n",
        "        k1, k2, k3 (float): Reaction rate constants\n",
        "\n",
        "    Returns:\n",
        "        array: Derivatives [dA/dt, dB/dt, dC/dt]\n",
        "    \"\"\"\n",
        "    A, B, C = y[0], y[1], y[2]\n",
        "\n",
        "    # TODO: Implement the reaction rate equations\n",
        "\n",
        "    return np.array([dA_dt, dB_dt, dC_dt])"
      ]
    },
    {
      "cell_type": "markdown",
      "metadata": {
        "id": "WHIKrG-NB69W"
      },
      "source": [
        "## Task 2: Discovering Stiffness - Effect of Step Size on RK4\n",
        "\n",
        "Let's explore what happens when we use RK4 with different step sizes on this system. We'll use parameters that make the system stiff.\n",
        "\n",
        "**Note**: Be prepared - some of these simulations might behave unexpectedly!"
      ]
    },
    {
      "cell_type": "code",
      "execution_count": null,
      "metadata": {
        "id": "ATx3Jn0xB69X"
      },
      "outputs": [],
      "source": [
        "# System parameters that create stiffness\n",
        "k1 = 0.25    # Moderate forward reaction\n",
        "k2 = 0.1     # Slow reverse reaction\n",
        "k3 = 125     # Very fast consumption reaction - this creates stiffness!\n",
        "\n",
        "# Initial conditions\n",
        "y0 = [1.0, 2.2, 0.0]  # [A, B, C]\n",
        "tspan = [0, 6]         # Time span\n",
        "\n",
        "# Different step sizes to test\n",
        "step_sizes = [0.015, 0.01, 0.005]\n",
        "step_labels = ['h = 0.015', 'h = 0.01', 'h = 0.005']\n",
        "\n",
        "# TODO: Use RK4 to solve the system with each step size\n",
        "results_rk4 = []\n",
        "\n",
        "for h in step_sizes:\n",
        "    print(f\"Solving with step size h = {h}...\")\n",
        "\n",
        "    # TODO: Call odeRK4sys with the chemical_reaction function\n",
        "    t, y = odeRK4sys(chemical_reaction, tspan, y0, h, k1, k2, k3)\n",
        "\n",
        "    results_rk4.append((t, y))\n",
        "\n",
        "    # Print some diagnostics\n",
        "    print(f\"  Final concentrations: A={y[-1,0]:.3f}, B={y[-1,1]:.3f}, C={y[-1,2]:.3f}\")\n",
        "    print(f\"  Max values: A={np.max(y[:,0]):.3f}, B={np.max(y[:,1]):.3f}, C={np.max(y[:,2]):.3f}\")\n",
        "    print(f\"  Min values: A={np.min(y[:,0]):.3f}, B={np.min(y[:,1]):.3f}, C={np.min(y[:,2]):.3f}\")\n",
        "    print()"
      ]
    },
    {
      "cell_type": "code",
      "execution_count": null,
      "metadata": {
        "id": "MduDiUVIB69Z"
      },
      "outputs": [],
      "source": [
        "# Create plots comparing the three step sizes\n",
        "fig, axes = plt.subplots(3, 1, figsize=(12, 10))\n",
        "\n",
        "for i, ((t, y), label) in enumerate(zip(results_rk4, step_labels)):\n",
        "    ax = axes[i]\n",
        "\n",
        "    # Plot A, B, and scaled C concentrations\n",
        "    ax.plot(t, y[:, 0], 'b-', label='A')\n",
        "\n",
        "    # TODO: Add two more statements analogous to the one above to add plots\n",
        "    # of B and scaled C concentration (plot 200*C for visibility)\n",
        "\n",
        "    # Your code here\n",
        "\n",
        "    ax.set_title(f'RK4 with {label}')\n",
        "    ax.set_xlabel('Time')\n",
        "    ax.set_ylabel('Concentration')\n",
        "    ax.legend()\n",
        "    ax.grid(True)\n",
        "\n",
        "plt.tight_layout()\n",
        "plt.show()"
      ]
    },
    {
      "cell_type": "markdown",
      "metadata": {
        "id": "kcXYLDT2B69a"
      },
      "source": [
        "### Discussion Questions for Task 2\n",
        "\n",
        "**Look at your plots and results, then answer:**\n",
        "\n",
        "1. **What do you observe about the behavior with different step sizes?**\n",
        "   - Are all solutions physically reasonable?\n",
        "   - Do you see any instabilities or unrealistic behavior?\n",
        "\n",
        "2. **Which concentrations become negative (if any)?**\n",
        "   - Is this physically meaningful for chemical concentrations?\n",
        "\n",
        "3. **What happens as you decrease the step size from 0.015 to 0.005?**\n",
        "   - Does the solution stabilize?"
      ]
    },
    {
      "cell_type": "markdown",
      "metadata": {
        "id": "CvFhxrG4B69b"
      },
      "source": [
        "## Task 3: Comparing with Built-in Solvers\n",
        "\n",
        "Now let's see how Python's built-in solvers handle this same problem. We'll use several different methods, including some specifically designed for stiff systems."
      ]
    },
    {
      "cell_type": "code",
      "execution_count": null,
      "metadata": {
        "id": "MtlXAUAaB69b"
      },
      "outputs": [],
      "source": [
        "# Built-in solver comparison\n",
        "methods = ['RK45', 'Radau', 'BDF']\n",
        "method_descriptions = {\n",
        "    'RK45': 'Explicit Runge-Kutta (similar to our RK4)',\n",
        "    'Radau': 'Implicit Runge-Kutta (good for stiff systems)',\n",
        "    'BDF': 'Backward Differentiation Formula (designed for stiff systems)'\n",
        "}\n",
        "\n",
        "# Solve using scipy's solve_ivp with different methods\n",
        "results_scipy = {}\n",
        "solve_times = {}\n",
        "\n",
        "for method in methods:\n",
        "    print(f\"Solving with {method} ({method_descriptions[method]})...\")\n",
        "\n",
        "    # Time the solution\n",
        "    start_time = time.time()\n",
        "\n",
        "    # TODO: Use solve_ivp to solve the system\n",
        "    sol = solve_ivp(chemical_reaction, tspan, y0,\n",
        "                    method=method,\n",
        "                    args=(k1, k2, k3),\n",
        "                    rtol=1e-8, atol=1e-8,\n",
        "                    dense_output=True)\n",
        "\n",
        "    end_time = time.time()\n",
        "    solve_times[method] = end_time - start_time\n",
        "\n",
        "    # Store results\n",
        "    results_scipy[method] = sol\n",
        "\n",
        "    # Print diagnostics\n",
        "    print(f\"  Success: {sol.success}\")\n",
        "    print(f\"  Function evaluations: {sol.nfev}\")\n",
        "    print(f\"  Solution time: {solve_times[method]:.4f} seconds\")\n",
        "    print(f\"  Final concentrations: A={sol.y[0,-1]:.6f}, B={sol.y[1,-1]:.6f}, C={sol.y[2,-1]:.6f}\")\n",
        "    print()"
      ]
    },
    {
      "cell_type": "code",
      "execution_count": null,
      "metadata": {
        "id": "1TiFuiwXB69c"
      },
      "outputs": [],
      "source": [
        "# Create comparison plots for the different methods\n",
        "fig, axes = plt.subplots(2, 2, figsize=(15, 10))\n",
        "axes = axes.flatten()\n",
        "\n",
        "# Plot results from each method\n",
        "for i, method in enumerate(methods):\n",
        "    ax = axes[i]\n",
        "    sol = results_scipy[method]\n",
        "\n",
        "    # Create a dense time grid for smooth plotting\n",
        "    t_dense = np.linspace(tspan[0], tspan[1], 1000)\n",
        "    y_dense = sol.sol(t_dense)\n",
        "\n",
        "    # Plot the concentrations\n",
        "    ax.plot(t_dense, y_dense[0], 'b-', label='A')\n",
        "    ax.plot(t_dense, y_dense[1], 'r-', label='B')\n",
        "    ax.plot(t_dense, 200 * y_dense[2], 'g-', label='200*C')\n",
        "\n",
        "    ax.set_title(f'{method}\\n({method_descriptions[method]})\\n'\n",
        "                f'Time: {solve_times[method]:.4f}s, Evals: {sol.nfev}')\n",
        "    ax.set_xlabel('Time')\n",
        "    ax.set_ylabel('Concentration')\n",
        "    ax.legend()\n",
        "    ax.grid(True)\n",
        "\n",
        "# Add a comparison of the best RK4 result\n",
        "ax = axes[3]\n",
        "t_rk4, y_rk4 = results_rk4[2]  # Use the smallest step size result\n",
        "ax.plot(t_rk4, y_rk4[:, 0], 'b-', label='A')\n",
        "ax.plot(t_rk4, y_rk4[:, 1], 'r-', label='B')\n",
        "ax.plot(t_rk4, 200 * y_rk4[:, 2], 'g-', label='200*C')\n",
        "ax.set_title(f'Our RK4 (h=0.005)\\nSteps: {len(t_rk4)}')\n",
        "ax.set_xlabel('Time')\n",
        "ax.set_ylabel('Concentration')\n",
        "ax.legend()\n",
        "ax.grid(True)\n",
        "\n",
        "plt.tight_layout()\n",
        "plt.show()"
      ]
    },
    {
      "cell_type": "markdown",
      "metadata": {
        "id": "x85wsP2RB69c"
      },
      "source": [
        "## Task 4: Efficiency Analysis\n",
        "\n",
        "Let's investigate how efficient each method is by comparing the number of function evaluations and solution time."
      ]
    },
    {
      "cell_type": "code",
      "execution_count": null,
      "metadata": {
        "id": "EbUA8qGeB69d"
      },
      "outputs": [],
      "source": [
        "# Create efficiency comparison\n",
        "print(\"=== EFFICIENCY COMPARISON ===\")\n",
        "print(f\"{'Method':<15} {'Time (s)':<12} {'Function Evals':<15} {'Steps':<10}\")\n",
        "print(\"-\" * 55)\n",
        "\n",
        "# Built-in methods\n",
        "for method in methods:\n",
        "    sol = results_scipy[method]\n",
        "    print(f\"{method:<15} {solve_times[method]:<12.4f} {sol.nfev:<15} {len(sol.t):<10}\")\n",
        "\n",
        "# Our RK4 method\n",
        "t_rk4, y_rk4 = results_rk4[2]  # Smallest step size\n",
        "# For RK4, function evaluations = 4 * number of steps\n",
        "rk4_evals = 4 * (len(t_rk4) - 1)\n",
        "print(f\"{'Our RK4':<15} {'N/A':<12} {rk4_evals:<15} {len(t_rk4):<10}\")\n"
      ]
    },
    {
      "cell_type": "code",
      "execution_count": null,
      "metadata": {
        "id": "HaOqZP3BB69e"
      },
      "outputs": [],
      "source": [
        "# Create bar charts comparing efficiency metrics\n",
        "fig, (ax1, ax2) = plt.subplots(1, 2, figsize=(15, 6))\n",
        "\n",
        "# Function evaluations comparison\n",
        "method_names = list(methods) + ['Our RK4']\n",
        "func_evals = [results_scipy[method].nfev for method in methods] + [rk4_evals]\n",
        "\n",
        "bars1 = ax1.bar(method_names, func_evals, color=['skyblue', 'lightcoral', 'lightgreen', 'orange'])\n",
        "ax1.set_ylabel('Function Evaluations')\n",
        "ax1.set_title('Computational Cost Comparison')\n",
        "ax1.set_yscale('log')  # Use log scale due to large differences\n",
        "\n",
        "# Add value labels on bars\n",
        "for bar, val in zip(bars1, func_evals):\n",
        "    ax1.text(bar.get_x() + bar.get_width()/2, bar.get_height(),\n",
        "             f'{val}', ha='center', va='bottom')\n",
        "\n",
        "# Solution time comparison (excluding RK4 since we didn't time it)\n",
        "times = [solve_times[method] for method in methods]\n",
        "bars2 = ax2.bar(methods, times, color=['skyblue', 'lightcoral', 'lightgreen'])\n",
        "ax2.set_ylabel('Solution Time (seconds)')\n",
        "ax2.set_title('Solution Time Comparison')\n",
        "\n",
        "# Add value labels on bars\n",
        "for bar, val in zip(bars2, times):\n",
        "    ax2.text(bar.get_x() + bar.get_width()/2, bar.get_height(),\n",
        "             f'{val:.4f}', ha='center', va='bottom')\n",
        "\n",
        "plt.tight_layout()\n",
        "plt.show()"
      ]
    },
    {
      "cell_type": "markdown",
      "source": [
        "### Discussion Questions for Tasks 3 and 4\n",
        "Review the results for tasks 3 and 4 and answer the following questions.\n",
        "\n",
        "1. Which methods required the fewest function evaluations?\n",
        "2. Which methods were fastest?\n",
        "3. How does our RK4 compare in terms of computational cost?"
      ],
      "metadata": {
        "id": "tc9fVWmOLXO6"
      }
    },
    {
      "cell_type": "markdown",
      "metadata": {
        "id": "nnd_uP1EB69e"
      },
      "source": [
        "## Understanding Stiffness: Theory Behind the Observations\n",
        "\n",
        "Now that you've discovered the challenges of stiff systems through hands-on exploration, let's understand the theory behind what you observed.\n",
        "\n",
        "### What Makes a System \"Stiff\"?\n",
        "\n",
        "A differential equation system is **stiff** when it contains processes operating on vastly different time scales. In our chemical reaction system:\n",
        "\n",
        "- **Fast process**: The reaction $B + C \\rightarrow$ products with rate constant $k_3 = 125$ (or 5000 in Task 5)\n",
        "- **Slow processes**: Formation and decomposition reactions with $k_1 = 0.25$ and $k_2 = 0.1$\n",
        "\n",
        "The ratio of fastest to slowest time scales is roughly $k_3/k_2 = 125/0.1 = 1250$ (or 50,000 in the extreme case).\n",
        "\n",
        "### The Mathematical Foundation: Jacobian Matrix and Eigenvalues\n",
        "\n",
        "The key to understanding stiffness lies in the **Jacobian matrix** of our ODE system. The Jacobian is NOT a property of the numerical method—it's a property of the differential equation system itself.\n",
        "\n",
        "For our chemical reaction system:\n",
        "$$\\frac{d\\mathbf{y}}{dt} = \\mathbf{f}(t, \\mathbf{y}) = \\begin{bmatrix} -k_1 A B + k_2 C \\\\ -k_1 A B + k_2 C - k_3 B C \\\\ k_1 A B - k_2 C - k_3 B C \\end{bmatrix}$$\n",
        "\n",
        "The Jacobian matrix is:\n",
        "$$\\mathbf{J} = \\frac{\\partial \\mathbf{f}}{\\partial \\mathbf{y}} = \\begin{bmatrix}\n",
        "-k_1 B & -k_1 A & k_2 \\\\\n",
        "-k_1 B & -k_1 A - k_3 C & k_2 - k_3 B \\\\\n",
        "k_1 B & k_1 A - k_3 C & -k_2 - k_3 B\n",
        "\\end{bmatrix}$$\n",
        "\n",
        "**For our specific system with typical concentrations** (A ≈ 1, B ≈ 2, C ≈ 0.01):\n",
        "$$\\mathbf{J} \\approx \\begin{bmatrix}\n",
        "-0.5 & -0.25 & 0.1 \\\\\n",
        "-0.5 & -0.25 - 1.25 & 0.1 - 250 \\\\\n",
        "0.5 & 0.25 - 1.25 & -0.1 - 250\n",
        "\\end{bmatrix} = \\begin{bmatrix}\n",
        "-0.5 & -0.25 & 0.1 \\\\\n",
        "-0.5 & -1.5 & -249.9 \\\\\n",
        "0.5 & -1.0 & -250.1\n",
        "\\end{bmatrix}$$\n",
        "\n",
        "The **eigenvalues** of this matrix are approximately: $\\lambda_1 \\approx -250$, $\\lambda_2 \\approx -1$, $\\lambda_3 \\approx -0.1$\n",
        "\n",
        "These eigenvalues represent the **characteristic time scales** of the system:\n",
        "- $\\lambda_1 \\approx -250$: Very fast process (time scale ≈ 1/250 = 0.004 time units)\n",
        "- $\\lambda_2 \\approx -1$: Moderate process (time scale ≈ 1 time unit)  \n",
        "- $\\lambda_3 \\approx -0.1$: Slow process (time scale ≈ 10 time units)\n",
        "\n",
        "The **stiffness ratio** is $|\\lambda_{max}|/|\\lambda_{min}| = 250/0.1 = 2500$.\n",
        "\n",
        "### Why Explicit Methods Struggle\n",
        "\n",
        "Every numerical method has a **stability region** in the complex plane. For the method to remain stable, all eigenvalues of the Jacobian must satisfy:\n",
        "\n",
        "$$h \\cdot \\lambda_i \\in \\text{stability region}$$\n",
        "\n",
        "**For RK4 and similar explicit methods:**\n",
        "- Stability region is roughly a circle with radius ≈ 2.8\n",
        "- This requires: $|h \\cdot \\lambda_{max}| < 2.8$\n",
        "- **Stability limit**: $h < \\frac{2.8}{|\\lambda_{max}|}$\n",
        "\n",
        "**For our system**: $h < \\frac{2.8}{250} \\approx 0.011$\n",
        "\n",
        "**For the extreme system (Task 5)**: $h < \\frac{2.8}{5000} \\approx 0.0006$\n",
        "\n",
        "This means:\n",
        "- Even though we only care about slow, long-term behavior (time scales of 1-10 units)\n",
        "- We're forced to take tiny steps (0.011 or smaller) because of the fast process\n",
        "- Result: Thousands of tiny steps to solve what should be a simple problem\n",
        "\n",
        "### Why Implicit Methods Excel\n",
        "\n",
        "Implicit methods like **Radau** and **BDF** have fundamentally different stability properties:\n",
        "\n",
        "**Stability regions:**\n",
        "- **RK4**: Small circular region (radius ≈ 2.8)\n",
        "- **Radau**: Large region including most of the left half-plane\n",
        "- **BDF**: Entire left half-plane for reasonable orders\n",
        "\n",
        "This means:\n",
        "- **Implicit methods can take large steps** even when $|\\lambda_{max}|$ is huge\n",
        "- They're **L-stable** (stable for arbitrarily stiff problems)\n",
        "- **Trade-off**: Each step requires solving nonlinear equations (more work per step)\n",
        "- **Net result**: Far fewer steps needed, so much more efficient overall\n",
        "\n",
        "### The Efficiency Mathematics\n",
        "\n",
        "From your observations, the efficiency advantage comes from:\n",
        "\n",
        "**Explicit methods (RK4, RK45):**\n",
        "- Required step size: $h \\approx \\frac{2.8}{|\\lambda_{max}|}$\n",
        "- Number of steps: $N \\approx \\frac{T_{final}}{h} = \\frac{T_{final} \\cdot |\\lambda_{max}|}{2.8}$\n",
        "- Function evaluations: $4N$ (for RK4) or similar\n",
        "\n",
        "**Implicit methods (Radau, BDF):**\n",
        "- Can use step sizes based on **accuracy requirements**, not stability\n",
        "- Typically $h \\approx 0.1$ to $1.0$ (much larger!)\n",
        "- Far fewer steps needed\n",
        "- Each step costs more, but total cost is much less\n",
        "\n",
        "### Real-World Impact\n",
        "\n",
        "This explains why:\n",
        "1. **Stiff ODE solvers were invented** - explicit methods simply can't handle many real problems\n",
        "2. **Method selection matters enormously** - wrong choice can make problems unsolvable\n",
        "3. **Implicit methods dominate** in applications like:\n",
        "   - Chemical kinetics (like our example)\n",
        "   - Circuit simulation\n",
        "   - Atmospheric modeling\n",
        "   - Any system with multiple time scales\n",
        "\n",
        "The factor of 100-1000x efficiency difference you observed isn't unusual—it's typical for stiff systems!"
      ]
    },
    {
      "cell_type": "markdown",
      "metadata": {
        "id": "Vx8s_irEB69f"
      },
      "source": [
        "## Task 5: Extreme Stiffness Demonstration\n",
        "\n",
        "Let's push the stiffness to an extreme level to see even more dramatic differences between explicit and implicit methods. We'll increase k3 to make the system extremely stiff."
      ]
    },
    {
      "cell_type": "markdown",
      "source": [
        "### Your Choice: Select a Fourth Solver for Extreme Stiffness Testing\n",
        "\n",
        "Before proceeding to Task 5, choose one additional solver from the options below to test on the extremely stiff system. Each solver has different characteristics that will demonstrate important concepts about numerical methods.\n",
        "\n",
        "#### Solver Options:\n",
        "\n",
        "**1. LSODA - Automatic Stiff/Non-stiff Detection**\n",
        "- Automatically detects whether the problem is stiff or non-stiff\n",
        "- Switches between explicit and implicit methods as needed\n",
        "- Widely used in scientific computing for \"general purpose\" problems\n",
        "- [Documentation](https://docs.scipy.org/doc/scipy/reference/generated/scipy.integrate.solve_ivp.html) (method='LSODA')\n",
        "\n",
        "**2. DOP853 - High-Order Explicit Method**  \n",
        "- 8th-order explicit Runge-Kutta method with very high precision\n",
        "- Excellent for smooth, non-stiff problems requiring high accuracy\n",
        "- Will demonstrate what happens when high-order explicit methods meet stiff systems\n",
        "- [Documentation](https://docs.scipy.org/doc/scipy/reference/generated/scipy.integrate.solve_ivp.html) (method='DOP853')\n",
        "\n",
        "#### Your Task:\n",
        "1. **Choose one method** from the options above based on what interests you most\n",
        "2. **Research briefly** using the documentation links to understand your chosen method\n",
        "3. **Modify the Task 5 code** by adding your chosen method to the `methods_extreme` list\n",
        "4. **Compare your results** with classmates who chose different methods\n",
        "\n",
        "#### Questions to Consider:\n",
        "- Why might your chosen method perform well or poorly on extremely stiff systems?\n",
        "- What trade-offs does your method make (accuracy vs. speed, simplicity vs. robustness)?\n",
        "- When would you recommend using your chosen method in real applications?\n",
        "\n",
        "**Modification Instructions for Task 5:**\n",
        "- Change `methods_extreme = ['RK45', 'Radau', 'BDF']`\n",
        "- To: `methods_extreme = ['RK45', 'Radau', 'BDF', 'YOUR_CHOSEN_METHOD']`\n",
        "- The plotting and analysis code will automatically include your fourth method"
      ],
      "metadata": {
        "id": "19mRNgtBNuP6"
      }
    },
    {
      "cell_type": "code",
      "execution_count": null,
      "metadata": {
        "id": "RuB8hlgpB69f"
      },
      "outputs": [],
      "source": [
        "# Even more extreme stiffness parameters\n",
        "k1_extreme = 0.25\n",
        "k2_extreme = 0.1\n",
        "k3_extreme = 5000  # Much larger! Creates extreme stiffness\n",
        "\n",
        "print(f\"New stiffness ratio: k3/k2 = {k3_extreme/k2_extreme}\")\n",
        "print(\"This system has processes occurring on time scales differing by 50,000x!\\n\")\n",
        "\n",
        "# Same initial conditions\n",
        "y0_extreme = [1.0, 2.2, 0.0]\n",
        "tspan_extreme = [0, 2]  # Shorter time span to avoid extremely long computation\n",
        "\n",
        "# Compare the three methods again\n",
        "methods_extreme = ['RK45', 'Radau', 'BDF']\n",
        "results_extreme = {}\n",
        "times_extreme = {}\n",
        "\n",
        "for method in methods_extreme:\n",
        "    print(f\"Solving extremely stiff system with {method}...\")\n",
        "\n",
        "    # Time the solution\n",
        "    start_time = time.time()\n",
        "\n",
        "    try:\n",
        "        # TODO: Solve the extremely stiff system\n",
        "        sol = solve_ivp(chemical_reaction, tspan_extreme, y0_extreme,\n",
        "                        method=method,\n",
        "                        args=(k1_extreme, k2_extreme, k3_extreme),\n",
        "                        rtol=1e-6, atol=1e-9)  # Slightly relaxed tolerance for speed\n",
        "\n",
        "        end_time = time.time()\n",
        "        times_extreme[method] = end_time - start_time\n",
        "        results_extreme[method] = sol\n",
        "\n",
        "        print(f\"  Success: {sol.success}\")\n",
        "        print(f\"  Function evaluations: {sol.nfev}\")\n",
        "        print(f\"  Solution time: {times_extreme[method]:.4f} seconds\")\n",
        "        print(f\"  Number of time steps: {len(sol.t)}\")\n",
        "\n",
        "        if sol.success:\n",
        "            print(f\"  Final concentrations: A={sol.y[0,-1]:.6f}, B={sol.y[1,-1]:.6f}, C={sol.y[2,-1]:.6f}\")\n",
        "        print()\n",
        "\n",
        "    except Exception as e:\n",
        "        print(f\"  ERROR: {str(e)}\")\n",
        "        times_extreme[method] = float('inf')\n",
        "        print()"
      ]
    },
    {
      "cell_type": "markdown",
      "metadata": {
        "id": "LOpkJyFrB69g"
      },
      "source": [
        "### Plotting Extreme Stiffness Results"
      ]
    },
    {
      "cell_type": "code",
      "execution_count": null,
      "metadata": {
        "id": "pQRdsErNB69g"
      },
      "outputs": [],
      "source": [
        "# Plot results from the extremely stiff system\n",
        "fig, axes = plt.subplots(1, 3, figsize=(18, 6))\n",
        "\n",
        "for i, method in enumerate(methods_extreme):\n",
        "    ax = axes[i]\n",
        "\n",
        "    if method in results_extreme and results_extreme[method].success:\n",
        "        sol = results_extreme[method]\n",
        "\n",
        "        # Use the actual solution points instead of dense output\n",
        "        t_plot = sol.t\n",
        "        y_plot = sol.y\n",
        "\n",
        "        # Plot the concentrations\n",
        "        ax.plot(t_plot, y_plot[0], 'b-', label='A', linewidth=2)\n",
        "        ax.plot(t_plot, y_plot[1], 'r-', label='B', linewidth=2)\n",
        "        ax.plot(t_plot, 10000 * y_plot[2], 'g-', label='10000*C', linewidth=2)\n",
        "\n",
        "        ax.set_title(f'{method} - Extremely Stiff System\\n'\n",
        "                    f'Time: {times_extreme[method]:.4f}s\\n'\n",
        "                    f'Function Evals: {sol.nfev}')\n",
        "    else:\n",
        "        ax.text(0.5, 0.5, f'{method}\\nFailed or\\nToo Slow',\n",
        "               ha='center', va='center', transform=ax.transAxes, fontsize=16)\n",
        "        ax.set_title(f'{method} - Extremely Stiff System')\n",
        "\n",
        "    ax.set_xlabel('Time')\n",
        "    ax.set_ylabel('Concentration')\n",
        "    ax.legend()\n",
        "    ax.grid(True)\n",
        "\n",
        "plt.tight_layout()\n",
        "plt.show()"
      ]
    },
    {
      "cell_type": "markdown",
      "metadata": {
        "id": "9LxS-Ua0B69h"
      },
      "source": [
        "### Extreme Stiffness Efficiency Comparison"
      ]
    },
    {
      "cell_type": "code",
      "execution_count": null,
      "metadata": {
        "id": "koheiMUUB69h"
      },
      "outputs": [],
      "source": [
        "# Create dramatic efficiency comparison\n",
        "print(\"=== EXTREME STIFFNESS EFFICIENCY COMPARISON ===\")\n",
        "print(f\"{'Method':<15} {'Time (s)':<12} {'Function Evals':<15} {'Success':<10}\")\n",
        "print(\"-\" * 55)\n",
        "\n",
        "for method in methods_extreme:\n",
        "    if method in results_extreme and results_extreme[method].success:\n",
        "        sol = results_extreme[method]\n",
        "        print(f\"{method:<15} {times_extreme[method]:<12.4f} {sol.nfev:<15} {'Yes':<10}\")\n",
        "    else:\n",
        "        print(f\"{method:<15} {times_extreme.get(method, 'N/A'):<12} {'N/A':<15} {'No':<10}\")\n",
        "\n",
        "# Calculate and display efficiency ratios if multiple methods succeeded\n",
        "successful_methods = [m for m in methods_extreme if m in results_extreme and results_extreme[m].success]\n",
        "if len(successful_methods) > 1:\n",
        "    print(\"\\n=== EFFICIENCY RATIOS ===\")\n",
        "    rk45_evals = results_extreme['RK45'].nfev if 'RK45' in results_extreme and results_extreme['RK45'].success else None\n",
        "\n",
        "    for method in successful_methods:\n",
        "        if method != 'RK45' and rk45_evals:\n",
        "            ratio = rk45_evals / results_extreme[method].nfev\n",
        "            print(f\"{method} is {ratio:.1f}x more efficient than RK45 (in function evaluations)\")"
      ]
    },
    {
      "cell_type": "markdown",
      "metadata": {
        "id": "0BnfRq-wB69i"
      },
      "source": [
        "## Summary Questions\n",
        "\n",
        "1. **What is stiffness in differential equations?**\n",
        "   - How did you recognize it in this worksheet?\n",
        "\n",
        "2. **Why do explicit methods like RK4 struggle with stiff systems?**\n",
        "   - What happens when you try to use larger step sizes?\n",
        "\n",
        "3. **What are the key advantages of implicit methods for stiff systems?**\n",
        "   - How much more efficient were they in your results?\n",
        "\n",
        "4. **When would you choose an implicit method over an explicit method?**\n",
        "   - What are the trade-offs to consider?"
      ]
    }
  ],
  "metadata": {
    "kernelspec": {
      "display_name": "Python 3",
      "language": "python",
      "name": "python3"
    },
    "language_info": {
      "codemirror_mode": {
        "name": "ipython",
        "version": 3
      },
      "file_extension": ".py",
      "mimetype": "text/x-python",
      "name": "python",
      "nbconvert_exporter": "python",
      "pygments_lexer": "ipython3",
      "version": "3.9.12"
    },
    "colab": {
      "provenance": [],
      "toc_visible": true,
      "include_colab_link": true
    }
  },
  "nbformat": 4,
  "nbformat_minor": 0
}
