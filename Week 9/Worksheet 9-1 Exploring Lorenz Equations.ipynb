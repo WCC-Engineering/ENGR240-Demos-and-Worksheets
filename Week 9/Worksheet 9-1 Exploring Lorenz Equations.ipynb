{
  "cells": [
    {
      "cell_type": "markdown",
      "metadata": {
        "id": "LorenzEquationsIntro"
      },
      "source": [
        "# ENGR 240: Exploring the Lorenz Equations\n",
        "\n",
        "[![Open In Colab](https://colab.research.google.com/assets/colab-badge.svg)](https://colab.research.google.com/github/WCC-Engineering/ENGR240/blob/main/Class%20Demos%20and%20Activities/Week%209/Worksheet%209-1%20Exploring%20Lorenz%20Equations.ipynb)\n",
        "\n",
        "## Introduction\n",
        "\n",
        "The Lorenz equations are a famous system of ODEs that exhibit chaotic behavior - small changes in initial conditions lead to dramatically different outcomes (the \"butterfly effect\"). Originally derived as a simplified model of atmospheric convection, these equations have become one of the most studied examples in chaos theory.\n",
        "\n",
        "### The Lorenz System\n",
        "$$\\frac{dx}{dt} = \\sigma(y - x)$$\n",
        "$$\\frac{dy}{dt} = rx - y - xz$$\n",
        "$$\\frac{dz}{dt} = xy - bz$$\n",
        "\n",
        "**What do the variables represent?**\n",
        "\n",
        "In the original atmospheric convection model:\n",
        "- **x**: Rate of convective overturning (proportional to the intensity of fluid circulation)\n",
        "- **y**: Horizontal temperature variation (temperature difference between rising and descending fluid)\n",
        "- **z**: Vertical temperature variation (deviation from a linear temperature profile)\n",
        "\n",
        "**Parameters:**\n",
        "- **σ (sigma)**: Prandtl number - ratio of momentum diffusivity to thermal diffusivity\n",
        "- **r**: Rayleigh number - measures the strength of convection driving forces\n",
        "- **b**: Geometric factor related to the aspect ratio of convection cells\n",
        "\n",
        "While derived from fluid dynamics, the Lorenz equations now serve as a canonical example of chaotic behavior in many fields including engineering, physics, biology, and economics.\n",
        "\n",
        "**Learning Objectives:**\n",
        "- Solve systems of ODEs using `scipy.integrate.solve_ivp`\n",
        "- Explore how parameter changes affect system behavior\n",
        "- Demonstrate sensitivity to initial conditions (chaos theory)\n",
        "- Create 3D phase portraits"
      ]
    },
    {
      "cell_type": "code",
      "execution_count": null,
      "metadata": {
        "id": "imports"
      },
      "outputs": [],
      "source": [
        "import numpy as np\n",
        "import matplotlib.pyplot as plt\n",
        "from mpl_toolkits.mplot3d import Axes3D\n",
        "from scipy.integrate import solve_ivp\n",
        "\n",
        "plt.style.use('seaborn-v0_8-whitegrid')\n",
        "plt.rcParams['figure.figsize'] = [12, 8]\n",
        "print(\"Libraries imported successfully!\")"
      ]
    },
    {
      "cell_type": "markdown",
      "metadata": {
        "id": "Task1"
      },
      "source": [
        "## Task 1: Implement the Lorenz System"
      ]
    },
    {
      "cell_type": "code",
      "execution_count": null,
      "metadata": {
        "id": "lorenz_function"
      },
      "outputs": [],
      "source": [
        "def lorenz_system(t, state, sigma, r, b):\n",
        "    \"\"\"\n",
        "    The Lorenz equations.\n",
        "    state = [x, y, z], returns [dx/dt, dy/dt, dz/dt]\n",
        "    \"\"\"\n",
        "    x, y, z = state\n",
        "    \n",
        "    dxdt = sigma * (y - x)\n",
        "    dydt = r * x - y - x * z\n",
        "    dzdt = x * y - b * z\n",
        "    \n",
        "    return [dxdt, dydt, dzdt]\n",
        "\n",
        "# Test the function\n",
        "test_derivs = lorenz_system(0, [1, 1, 1], 10, 28, 8/3)\n",
        "print(f\"Test derivatives: {test_derivs}\")"
      ]
    },
    {
      "cell_type": "markdown",
      "metadata": {
        "id": "Task2"
      },
      "source": [
        "## Task 2: Explore Different Parameter Regimes\n",
        "\n",
        "Let's see how behavior changes with the parameter $r$ (Rayleigh number):\n",
        "- **r = 1**: Stable fixed point (no convection, heat conducted)\n",
        "- **r = 15**: Steady convection (periodic oscillation)  \n",
        "- **r = 23**: Complex periodic behavior (multiple frequencies)\n",
        "- **r = 28**: Chaotic convection (strange attractor)"
      ]
    },
    {
      "cell_type": "code",
      "execution_count": null,
      "metadata": {
        "id": "parameter_exploration"
      },
      "outputs": [],
      "source": [
        "# Parameters\n",
        "sigma, b = 10.0, 8.0/3.0\n",
        "r_values = [1, 15, 23, 28]\n",
        "initial_state = [2.0, 2.0, 2.0]\n",
        "t_span = (0, 30)\n",
        "t_eval = np.linspace(0, 30, 3000)\n",
        "\n",
        "# Solve for each r value\n",
        "solutions = {}\n",
        "for r in r_values:\n",
        "    print(f\"Solving for r = {r}...\")\n",
        "    sol = solve_ivp(lorenz_system, t_span, initial_state,\n",
        "                   args=(sigma, r, b), t_eval=t_eval, method='RK45')\n",
        "    solutions[r] = {'t': sol.t, 'x': sol.y[0], 'y': sol.y[1], 'z': sol.y[2]}\n",
        "\n",
        "print(\"All solutions computed!\")"
      ]
    },
    {
      "cell_type": "code",
      "execution_count": null,
      "metadata": {
        "id": "plot_solutions"
      },
      "outputs": [],
      "source": [
        "# Plot time series and 3D phase portraits\n",
        "fig = plt.figure(figsize=(16, 12))\n",
        "\n",
        "for i, r in enumerate(r_values):\n",
        "    sol = solutions[r]\n",
        "    \n",
        "    # Time series (top row)\n",
        "    plt.subplot(2, 4, i+1)\n",
        "    plt.plot(sol['t'], sol['x'], 'b-', linewidth=0.8)\n",
        "    plt.title(f'r = {r}: x(t)')\n",
        "    plt.xlabel('Time')\n",
        "    plt.ylabel('x (convection rate)')\n",
        "    plt.grid(True, alpha=0.3)\n",
        "    \n",
        "    # 3D phase portrait (bottom row)\n",
        "    ax = fig.add_subplot(2, 4, i+5, projection='3d')\n",
        "    ax.plot(sol['x'], sol['y'], sol['z'], 'r-', linewidth=0.5, alpha=0.8)\n",
        "    ax.set_title(f'r = {r}: Phase Portrait')\n",
        "    ax.set_xlabel('x (convection)')\n",
        "    ax.set_ylabel('y (horizontal temp)')\n",
        "    ax.set_zlabel('z (vertical temp)')\n",
        "\n",
        "plt.tight_layout()\n",
        "plt.show()"
      ]
    },
    {
      "cell_type": "markdown",
      "metadata": {
        "id": "Task3"
      },
      "source": [
        "## Task 3: Demonstrate the Butterfly Effect\n",
        "\n",
        "Small changes in initial conditions → dramatically different outcomes! This demonstrates why long-term weather prediction is fundamentally limited."
      ]
    },
    {
      "cell_type": "code",
      "execution_count": null,
      "metadata": {
        "id": "butterfly_effect"
      },
      "outputs": [],
      "source": [
        "# Three very similar initial conditions (chaotic case r = 28)\n",
        "initial_conditions = [\n",
        "    [2.000, 2.0, 2.0],  # Original\n",
        "    [1.999, 2.0, 2.0],  # Tiny decrease\n",
        "    [2.001, 2.0, 2.0]   # Tiny increase  \n",
        "]\n",
        "\n",
        "labels = ['x₀ = 2.000', 'x₀ = 1.999', 'x₀ = 2.001']\n",
        "colors = ['blue', 'red', 'green']\n",
        "\n",
        "# Solve for each initial condition\n",
        "chaos_solutions = []\n",
        "for i, ic in enumerate(initial_conditions):\n",
        "    sol = solve_ivp(lorenz_system, t_span, ic, \n",
        "                   args=(sigma, 28, b), t_eval=t_eval, method='RK45', rtol=1e-10)\n",
        "    chaos_solutions.append({\n",
        "        't': sol.t, 'x': sol.y[0], 'y': sol.y[1], 'z': sol.y[2],\n",
        "        'label': labels[i], 'color': colors[i]\n",
        "    })\n",
        "\n",
        "print(\"Chaos analysis complete!\")"
      ]
    },
    {
      "cell_type": "code",
      "execution_count": null,
      "metadata": {
        "id": "plot_chaos"
      },
      "outputs": [],
      "source": [
        "# Compare the diverging solutions\n",
        "fig, (ax1, ax2) = plt.subplots(2, 1, figsize=(14, 10))\n",
        "\n",
        "# Plot x(t) for all three initial conditions\n",
        "for sol in chaos_solutions:\n",
        "    ax1.plot(sol['t'], sol['x'], color=sol['color'], \n",
        "             label=sol['label'], linewidth=1.5)\n",
        "\n",
        "ax1.set_xlabel('Time')\n",
        "ax1.set_ylabel('x (convection rate)')\n",
        "ax1.set_title('Butterfly Effect: Convection Rate x(t) for r = 28')\n",
        "ax1.legend()\n",
        "ax1.grid(True, alpha=0.3)\n",
        "\n",
        "# Show exponential divergence\n",
        "ref_x = chaos_solutions[0]['x']\n",
        "for i in range(1, len(chaos_solutions)):\n",
        "    diff = np.abs(chaos_solutions[i]['x'] - ref_x)\n",
        "    ax2.semilogy(chaos_solutions[i]['t'], diff, \n",
        "                 color=chaos_solutions[i]['color'],\n",
        "                 label=f\"|x - x_ref| for {chaos_solutions[i]['label']}\",\n",
        "                 linewidth=1.5)\n",
        "\n",
        "ax2.set_xlabel('Time')\n",
        "ax2.set_ylabel('|Δx| (log scale)')\n",
        "ax2.set_title('Exponential Divergence (Chaos!)')\n",
        "ax2.legend()\n",
        "ax2.grid(True, alpha=0.3)\n",
        "\n",
        "plt.tight_layout()\n",
        "plt.show()\n",
        "\n",
        "# Print final differences\n",
        "for i in range(1, len(chaos_solutions)):\n",
        "    final_diff = abs(chaos_solutions[i]['x'][-1] - ref_x[-1])\n",
        "    print(f\"Final difference for {chaos_solutions[i]['label']}: {final_diff:.3f}\")\n",
        "    \n",
        "print(\"\\nThis demonstrates why weather prediction beyond ~2 weeks is fundamentally impossible!\")"
      ]
    },
    {
      "cell_type": "markdown",
      "metadata": {
        "id": "Task4"
      },
      "source": [
        "## Task 4: Student Exploration\n",
        "\n",
        "**Your turn!** Complete the code below to explore intermediate r values and see the transition to chaos."
      ]
    },
    {
      "cell_type": "code",
      "execution_count": null,
      "metadata": {
        "id": "student_exploration"
      },
      "outputs": [],
      "source": [
        "# TODO: Explore intermediate r values between 23 and 28\n",
        "explore_r_values = [24, 25, 26, 27]  # Try these values\n",
        "\n",
        "# TODO: Create a figure with subplots for each r value\n",
        "plt.figure(figsize=(16, 8))\n",
        "\n",
        "for i, r in enumerate(explore_r_values):\n",
        "    # TODO: Solve the Lorenz system for this r value\n",
        "    # Hint: Use solve_ivp with the same parameters as before\n",
        "    \n",
        "    # sol = solve_ivp(...)\n",
        "    \n",
        "    # TODO: Plot x(t) in subplot\n",
        "    plt.subplot(2, 2, i+1)\n",
        "    # plt.plot(...)\n",
        "    plt.title(f'r = {r}')\n",
        "    plt.xlabel('Time')\n",
        "    plt.ylabel('x (convection rate)')\n",
        "    plt.grid(True)\n",
        "\n",
        "plt.tight_layout()\n",
        "plt.show()\n",
        "\n",
        "print(\"Complete the TODO sections above to see the transition to chaos!\")"
      ]
    },
    {
      "cell_type": "markdown",
      "metadata": {
        "id": "Task5"
      },
      "source": [
        "## Task 5: Create Your Own Chaos\n",
        "\n",
        "Experiment with different parameters and initial conditions!"
      ]
    },
    {
      "cell_type": "code",
      "execution_count": null,
      "metadata": {
        "id": "custom_exploration"
      },
      "outputs": [],
      "source": [
        "# TODO: Try different sigma values (try 5, 15, 20)\n",
        "custom_sigma = 10  # Change this!\n",
        "custom_r = 28\n",
        "custom_b = 8/3\n",
        "\n",
        "# TODO: Try different initial conditions\n",
        "custom_initial = [1.0, 0.0, 0.0]  # Change this!\n",
        "\n",
        "# TODO: Solve and plot your custom system\n",
        "sol_custom = solve_ivp(lorenz_system, (0, 50), custom_initial,\n",
        "                      args=(custom_sigma, custom_r, custom_b), \n",
        "                      t_eval=np.linspace(0, 50, 5000), method='RK45')\n",
        "\n",
        "# Create 3D plot\n",
        "fig = plt.figure(figsize=(12, 5))\n",
        "\n",
        "# Time series\n",
        "plt.subplot(1, 2, 1)\n",
        "plt.plot(sol_custom.t, sol_custom.y[0], 'b-', linewidth=0.8)\n",
        "plt.title(f'Custom System: σ={custom_sigma}, r={custom_r}')\n",
        "plt.xlabel('Time')\n",
        "plt.ylabel('x (convection rate)')\n",
        "plt.grid(True)\n",
        "\n",
        "# 3D phase portrait\n",
        "ax = fig.add_subplot(1, 2, 2, projection='3d')\n",
        "ax.plot(sol_custom.y[0], sol_custom.y[1], sol_custom.y[2], 'r-', linewidth=0.5)\n",
        "ax.set_title('3D Phase Portrait')\n",
        "ax.set_xlabel('x (convection)')\n",
        "ax.set_ylabel('y (horizontal temp)')\n",
        "ax.set_zlabel('z (vertical temp)')\n",
        "\n",
        "plt.tight_layout()\n",
        "plt.show()"
      ]
    },
    {
      "cell_type": "markdown",
      "metadata": {
        "id": "Discussion"
      },
      "source": [
        "## Discussion Questions\n",
        "\n",
        "1. **How does the convection behavior change as r increases from 1 to 28?**\n",
        "\n",
        "2. **What does the butterfly effect tell us about weather prediction?**\n",
        "\n",
        "3. **Why is the r = 28 case called a \"strange attractor\"?**\n",
        "\n",
        "4. **What numerical challenges might arise when solving chaotic systems?**\n",
        "\n",
        "## Key Takeaways\n",
        "\n",
        "- **Chaos**: Deterministic systems can exhibit unpredictable behavior\n",
        "- **Sensitivity**: Tiny changes → huge differences (butterfly effect)\n",
        "- **Attractors**: Long-term behavior confined to specific regions\n",
        "- **Numerical methods**: `solve_ivp` handles complex ODE systems effectively\n",
        "- **Applications**: Weather, populations, economics, engineering systems\n",
        "\n",
        "The Lorenz equations demonstrate that even simple mathematical models can exhibit incredibly complex behavior - a cornerstone of chaos theory that has profound implications for understanding natural systems!"
      ]
    }
  ],
  "metadata": {
    "kernelspec": {
      "display_name": "Python 3",
      "language": "python",
      "name": "python3"
    },
    "language_info": {
      "codemirror_mode": {
        "name": "ipython",
        "version": 3
      },
      "file_extension": ".py",
      "mimetype": "text/x-python",
      "name": "python",
      "nbconvert_exporter": "python",
      "pygments_lexer": "ipython3",
      "version": "3.10.12"
    },
    "colab": {
      "provenance": []
    }
  },
  "nbformat": 4,
  "nbformat_minor": 0
}