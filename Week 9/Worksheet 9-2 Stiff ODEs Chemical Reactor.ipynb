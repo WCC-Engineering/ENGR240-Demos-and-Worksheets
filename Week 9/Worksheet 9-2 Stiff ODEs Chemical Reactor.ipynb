        "# Case 2: Stiff system (very different reaction rates) - EXTREMELY STIFF\n",
        "k1_stiff = 500000.0  # Half million reaction rate - EXTREME\n",
        "k2_stiff = 1.0       # Slow reaction rate\n",
        "print(f\"Stiff case: k1/k2 ratio = {k1_stiff/k2_stiff}\")"