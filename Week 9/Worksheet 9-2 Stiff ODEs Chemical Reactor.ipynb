    print(\"No methods succeeded! Try reducing the stiffness ratio.\")"
      ]
    },
    {
      "cell_type": "markdown",
      "metadata": {
        "id": "Task4"
      },
      "source": [
        "## Task 4: TODO - Explore Step Size Effects\n",
        "\n",
        "**Your turn!** Test how different maximum step sizes affect RK45 stability on stiff systems."
      ]
    },
    {
      "cell_type": "code",
      "execution_count": null,
      "metadata": {
        "id": "step_size_exploration"
      },
      "outputs": [],
      "source": [
        "# TODO: Test RK45 with different maximum step sizes\n",
        "step_sizes = [0.1, 0.01, 0.001, 0.0001]\n",
        "\n",
        "print(\"Testing RK45 with different maximum step sizes on stiff system...\\n\")\n",
        "\n",
        "plt.figure(figsize=(16, 8))\n",
        "\n",
        "for i, max_step in enumerate(step_sizes):\n",
        "    print(f\"Trying max_step = {max_step}...\")\n",
        "    \n",
        "    # TODO: Complete this - use solve_ivp with max_step parameter\n",
        "    # sol = solve_ivp(chemical_reactor, t_span, y0,\n",
        "    #                args=(k1_stiff, k2_stiff),\n",
        "    #                method='RK45', max_step=???, rtol=1e-6)\n",
        "    \n",
        "    # TODO: Plot results in subplot (2,2,i+1)\n",
        "    # TODO: Add success/failure indicators\n",
        "    \n",
        "    pass  # Remove this when you add your code\n",
        "\n",
        "plt.tight_layout()\n",
        "plt.show()\n",
        "\n",
        "print(\"\\nQuestion: What happens to computational cost as step size decreases?\")"
      ]
    },
    {
      "cell_type": "markdown",
      "metadata": {
        "id": "Task5"
      },
      "source": [
        "## Task 5: TODO - Create Your Own Stiff System\n",
        "\n",
        "**Challenge:** Modify the reaction rates to create different levels of stiffness."
      ]
    },
    {
      "cell_type": "code",
      "execution_count": null,
      "metadata": {
        "id": "custom_stiffness"
      },
      "outputs": [],
      "source": [
        "# TODO: Experiment with different stiffness ratios\n",
        "ratios_to_test = [10, 100, 1000, 10000]\n",
        "\n",
        "# TODO: For each ratio, test both RK45 and BDF\n",
        "# TODO: Record which ratios cause RK45 to fail\n",
        "# TODO: Plot the \"breaking point\" where explicit methods fail\n",
        "\n",
        "print(\"TODO: Find the stiffness ratio where RK45 starts to fail!\")\n",
        "\n",
        "# Hint: Use a loop to test each ratio\n",
        "# Hint: Store success/failure results in a list or dictionary\n",
        "# Hint: Create a summary plot showing the transition"
      ]
    },
    {
      "cell_type": "markdown",
      "metadata": {
        "id": "Discussion"
      },
      "source": [
        "## Discussion Questions\n",
        "\n",
        "1. **What makes an ODE system \"stiff\"?**\n",
        "\n",
        "2. **Why do explicit methods fail on stiff systems?**\n",
        "\n",
        "3. **When should you use implicit methods in engineering applications?**\n",
        "\n",
        "4. **How can you detect stiffness in practice?**\n",
        "\n",
        "## Key Takeaways\n",
        "\n",
        "### Solver Selection Guidelines:\n",
        "- **Non-stiff systems**: Use RK45 or RK23 (explicit methods)\n",
        "- **Stiff systems**: Use BDF or Radau (implicit methods) \n",
        "- **Unknown stiffness**: Use LSODA (adaptive switching)\n",
        "- **Rule of thumb**: If explicit methods are very slow, try implicit methods\n",
        "\n",
        "### Engineering Applications:\n",
        "- **Chemical reactors**: Fast pre-equilibrium + slow main reaction\n",
        "- **Combustion**: Fast ignition + slow heat transfer\n",
        "- **Electronics**: Fast switching + slow RC charging\n",
        "- **Biology**: Fast enzyme kinetics + slow population dynamics\n",
        "\n",
        "Understanding stiffness is crucial for efficient simulation of real engineering systems!"
      ]
    }
  ],
  "metadata": {
    "kernelspec": {
      "display_name": "Python 3",
      "language": "python",
      "name": "python3"
    },
    "language_info": {
      "codemirror_mode": {
        "name": "ipython",
        "version": 3
      },
      "file_extension": ".py",
      "mimetype": "text/x-python",
      "name": "python",
      "nbconvert_exporter": "python",
      "pygments_lexer": "ipython3",
      "version": "3.10.12"
    },
    "colab": {
      "provenance": []
    }
  },
  "nbformat": 4,
  "nbformat_minor": 0
}