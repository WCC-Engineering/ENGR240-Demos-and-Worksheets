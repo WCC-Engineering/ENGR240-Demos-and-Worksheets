{
  "cells": [
    {
      "cell_type": "markdown",
      "metadata": {
        "id": "StiffODEsIntro"
      },
      "source": [
        "# ENGR 240: Stiff ODEs and Numerical Instability\n",
        "\n",
        "[![Open In Colab](https://colab.research.google.com/assets/colab-badge.svg)](https://colab.research.google.com/github/WCC-Engineering/ENGR240/blob/main/Class%20Demos%20and%20Activities/Week%209/Worksheet%209-2%20Stiff%20ODEs%20Chemical%20Reactor.ipynb)\n",
        "\n",
        "## Introduction\n",
        "\n",
        "**Stiff ODEs** are a special class of differential equations where the solution contains both fast-decaying and slow-varying components. These systems pose significant challenges for numerical methods because explicit methods (like Euler or RK45) require extremely small step sizes to maintain stability, making them computationally expensive or even impossible to solve.\n",
        "\n",
        "### Chemical Reactor Example: Fast Reactions with Different Timescales\n",
        "\n",
        "Consider a chemical reactor with two competing reactions:\n",
        "- **Fast reaction**: $A \\rightarrow B$ (very rapid equilibrium)\n",
        "- **Slow reaction**: $B \\rightarrow C$ (slow conversion to final product)\n",
        "\n",
        "The system of ODEs describing the concentrations is:\n",
        "\n",
        "$$\\frac{d[A]}{dt} = -k_1[A]$$\n",
        "$$\\frac{d[B]}{dt} = k_1[A] - k_2[B]$$\n",
        "$$\\frac{d[C]}{dt} = k_2[B]$$\n",
        "\n",
        "**Stiffness arises when**: $k_1 \\gg k_2$ (fast reaction much faster than slow reaction)\n",
        "\n",
        "**Engineering Relevance:**\n",
        "- **Chemical reactors**: Fast pre-equilibrium followed by slow rate-determining step\n",
        "- **Combustion modeling**: Fast fuel oxidation with slow heat transfer\n",
        "- **Circuit analysis**: Fast capacitor charging with slow RC time constants\n",
        "- **Population dynamics**: Fast birth/death with slow environmental changes\n",
        "\n",
        "**Learning Objectives:**\n",
        "- Understand what makes an ODE system \"stiff\"\n",
        "- Compare explicit vs implicit numerical methods on stiff systems\n",
        "- Demonstrate numerical instability with inappropriate methods\n",
        "- Learn when to use different scipy.integrate.solve_ivp methods\n",
        "- Visualize the timescale separation that causes stiffness"
      ]
    },
    {
      "cell_type": "code",
      "execution_count": null,
      "metadata": {
        "id": "imports"
      },
      "outputs": [],
      "source": [
        "import numpy as np\n",
        "import matplotlib.pyplot as plt\n",
        "from scipy.integrate import solve_ivp\n",
        "import time\n",
        "import warnings\n",
        "warnings.filterwarnings('ignore')\n",
        "\n",
        "plt.style.use('seaborn-v0_8-whitegrid')\n",
        "plt.rcParams['figure.figsize'] = [12, 8]\n",
        "print(\"Libraries imported successfully!\")"
      ]
    },
    {
      "cell_type": "markdown",
      "metadata": {
        "id": "Task1"
      },
      "source": [
        "## Task 1: Implement the Chemical Reactor System"
      ]
    },
    {
      "cell_type": "code",
      "execution_count": null,
      "metadata": {
        "id": "reactor_function"
      },
      "outputs": [],
      "source": [
        "def chemical_reactor(t, concentrations, k1, k2):\n",
        "    \"\"\"\n",
        "    Chemical reactor with two sequential reactions: A -> B -> C\n",
        "    \n",
        "    Parameters:\n",
        "    t: time\n",
        "    concentrations: [A, B, C] concentration vector\n",
        "    k1: rate constant for A -> B (fast reaction)\n",
        "    k2: rate constant for B -> C (slow reaction)\n",
        "    \n",
        "    Returns:\n",
        "    derivatives: [dA/dt, dB/dt, dC/dt]\n",
        "    \"\"\"\n",
        "    A, B, C = concentrations\n",
        "    \n",
        "    dA_dt = -k1 * A\n",
        "    dB_dt = k1 * A - k2 * B\n",
        "    dC_dt = k2 * B\n",
        "    \n",
        "    return [dA_dt, dB_dt, dC_dt]\n",
        "\n",
        "# Test the function\n",
        "test_derivs = chemical_reactor(0, [1.0, 0.0, 0.0], 100, 1)\n",
        "print(f\"Test derivatives at t=0: {test_derivs}\")\n",
        "print(f\"Mass balance check (should be ~0): {sum(test_derivs)}\")"
      ]
    },
    {
      "cell_type": "markdown",
      "metadata": {
        "id": "Task2"
      },
      "source": [
        "## Task 2: Compare Non-Stiff vs Stiff Systems\n",
        "\n",
        "Let's first solve a **non-stiff** system where reaction rates are similar, then a **stiff** system where they differ by orders of magnitude."
      ]
    },
    {
      "cell_type": "code",
      "execution_count": null,
      "metadata": {
        "id": "compare_systems"
      },
      "outputs": [],
      "source": [
        "# Initial conditions: Start with pure A\n",
        "y0 = [1.0, 0.0, 0.0]  # [A, B, C]\n",
        "t_span = (0, 5)  # 5 seconds\n",
        "t_eval = np.linspace(0, 5, 1000)\n",
        "\n",
        "# Case 1: Non-stiff system (similar reaction rates)\n",
        "k1_normal = 2.0   # Fast reaction rate\n",
        "k2_normal = 1.0   # Slow reaction rate\n",
        "print(f\"Non-stiff case: k1/k2 ratio = {k1_normal/k2_normal}\")\n",
        "\n",
        "# Case 2: Stiff system (very different reaction rates) - EXTREMELY STIFF\n",
        "k1_stiff = 500000.0  # Half million reaction rate - EXTREME\n",
        "k2_stiff = 1.0       # Slow reaction rate\n",
        "print(f\"Stiff case: k1/k2 ratio = {k1_stiff/k2_stiff}\")\n",
        "\n",
        "# Solve both systems using RK45 (explicit method)\n",
        "print(\"\\nSolving non-stiff system with RK45...\")\n",
        "sol_normal = solve_ivp(chemical_reactor, t_span, y0, \n",
        "                      args=(k1_normal, k2_normal), \n",
        "                      t_eval=t_eval, method='RK45', rtol=1e-6)\n",
        "\n",
        "print(\"Solving stiff system with RK45...\")\n",
        "sol_stiff_rk45 = solve_ivp(chemical_reactor, t_span, y0, \n",
        "                          args=(k1_stiff, k2_stiff), \n",
        "                          t_eval=t_eval, method='RK45', rtol=1e-6)\n",
        "\n",
        "print(f\"Non-stiff solution: {sol_normal.nfev} function evaluations\")\n",
        "print(f\"Stiff solution (RK45): {sol_stiff_rk45.nfev} function evaluations\")\n",
        "print(f\"Success: Normal={sol_normal.success}, Stiff={sol_stiff_rk45.success}\")"
      ]
    },
    {
      "cell_type": "code",
      "execution_count": null,
      "metadata": {
        "id": "plot_comparison"
      },
      "outputs": [],
      "source": [
        "# Plot the comparison\n",
        "fig, ((ax1, ax2), (ax3, ax4)) = plt.subplots(2, 2, figsize=(15, 10))\n",
        "\n",
        "# Non-stiff system\n",
        "ax1.plot(sol_normal.t, sol_normal.y[0], 'b-', label='[A]', linewidth=2)\n",
        "ax1.plot(sol_normal.t, sol_normal.y[1], 'r-', label='[B]', linewidth=2)\n",
        "ax1.plot(sol_normal.t, sol_normal.y[2], 'g-', label='[C]', linewidth=2)\n",
        "ax1.set_title(f'Non-Stiff System (k₁={k1_normal}, k₂={k2_normal})')\n",
        "ax1.set_xlabel('Time (s)')\n",
        "ax1.set_ylabel('Concentration (mol/L)')\n",
        "ax1.legend()\n",
        "ax1.grid(True, alpha=0.3)\n",
        "\n",
        "# Non-stiff system - zoomed view of early times\n",
        "mask_early = sol_normal.t <= 2.0\n",
        "ax2.plot(sol_normal.t[mask_early], sol_normal.y[0][mask_early], 'b-', label='[A]', linewidth=2)\n",
        "ax2.plot(sol_normal.t[mask_early], sol_normal.y[1][mask_early], 'r-', label='[B]', linewidth=2)\n",
        "ax2.plot(sol_normal.t[mask_early], sol_normal.y[2][mask_early], 'g-', label='[C]', linewidth=2)\n",
        "ax2.set_title('Non-Stiff: Early Time Detail')\n",
        "ax2.set_xlabel('Time (s)')\n",
        "ax2.set_ylabel('Concentration (mol/L)')\n",
        "ax2.legend()\n",
        "ax2.grid(True, alpha=0.3)\n",
        "\n",
        "# Stiff system\n",
        "if sol_stiff_rk45.success:\n",
        "    ax3.plot(sol_stiff_rk45.t, sol_stiff_rk45.y[0], 'b-', label='[A]', linewidth=2)\n",
        "    ax3.plot(sol_stiff_rk45.t, sol_stiff_rk45.y[1], 'r-', label='[B]', linewidth=2) \n",
        "    ax3.plot(sol_stiff_rk45.t, sol_stiff_rk45.y[2], 'g-', label='[C]', linewidth=2)\n",
        "    ax3.set_title(f'Stiff System - RK45 (k₁={k1_stiff}, k₂={k2_stiff})')\n",
        "else:\n",
        "    ax3.text(0.5, 0.5, 'RK45 FAILED\\nfor Stiff System', \n",
        "             ha='center', va='center', transform=ax3.transAxes, \n",
        "             fontsize=16, color='red', weight='bold')\n",
        "    ax3.set_title('Stiff System - RK45 FAILURE')\n",
        "\n",
        "ax3.set_xlabel('Time (s)')\n",
        "ax3.set_ylabel('Concentration (mol/L)')\n",
        "ax3.legend()\n",
        "ax3.grid(True, alpha=0.3)\n",
        "\n",
        "# Stiff system - early time detail (if solution exists)\n",
        "if sol_stiff_rk45.success and len(sol_stiff_rk45.t) > 10:\n",
        "    # Show first 0.01 seconds to see the fast transient\n",
        "    mask_very_early = sol_stiff_rk45.t <= 0.01\n",
        "    if np.any(mask_very_early):\n",
        "        ax4.plot(sol_stiff_rk45.t[mask_very_early], sol_stiff_rk45.y[0][mask_very_early], 'b-', label='[A]', linewidth=2)\n",
        "        ax4.plot(sol_stiff_rk45.t[mask_very_early], sol_stiff_rk45.y[1][mask_very_early], 'r-', label='[B]', linewidth=2)\n",
        "        ax4.plot(sol_stiff_rk45.t[mask_very_early], sol_stiff_rk45.y[2][mask_very_early], 'g-', label='[C]', linewidth=2)\n",
        "        ax4.set_title('Stiff: Fast Transient (first 0.01s)')\n",
        "    else:\n",
        "        ax4.text(0.5, 0.5, 'No early time\\ndata available', \n",
        "                 ha='center', va='center', transform=ax4.transAxes)\n",
        "        ax4.set_title('Stiff: Early Time (No Data)')\n",
        "else:\n",
        "    ax4.text(0.5, 0.5, 'Solution Failed\\nor Insufficient Data', \n",
        "             ha='center', va='center', transform=ax4.transAxes, \n",
        "             fontsize=14, color='red')\n",
        "    ax4.set_title('Stiff: Early Time Detail - Failed')\n",
        "\n",
        "ax4.set_xlabel('Time (s)')\n",
        "ax4.set_ylabel('Concentration (mol/L)')\n",
        "ax4.legend()\n",
        "ax4.grid(True, alpha=0.3)\n",
        "\n",
        "plt.tight_layout()\n",
        "plt.show()\n",
        "\n",
        "print(\"\\nKey Observations:\")\n",
        "print(f\"1. Non-stiff system: Smooth, gradual transitions\")\n",
        "print(f\"2. Stiff system: Very rapid initial change in [A] and [B], then slow evolution\")\n",
        "if not sol_stiff_rk45.success:\n",
        "    print(f\"3. RK45 struggles with stiff systems - may fail or require tiny steps!\")"
      ]
    },
    {
      "cell_type": "markdown",
      "metadata": {
        "id": "Task3"
      },
      "source": [
        "## Task 3: Demonstrate Solver Failure and Success\n",
        "\n",
        "Now let's compare different numerical methods on the stiff system to see which ones succeed and which fail."
      ]
    },
    {
      "cell_type": "code",
      "execution_count": null,
      "metadata": {
        "id": "solver_comparison"
      },
      "outputs": [],
      "source": [
        "# Test different numerical methods on the stiff system\n",
        "methods = {\n",
        "    'RK45': 'Explicit Runge-Kutta (4th/5th order)',\n",
        "    'RK23': 'Explicit Runge-Kutta (2nd/3rd order)', \n",
        "    'DOP853': 'Explicit Runge-Kutta (8th order)',\n",
        "    'Radau': 'Implicit Runge-Kutta (5th order) - STIFF SOLVER',\n",
        "    'BDF': 'Backward Differentiation Formula - STIFF SOLVER',\n",
        "    'LSODA': 'Adams-Bashforth-Moulton/BDF with stiffness detection'\n",
        "}\n",
        "\n",
        "solutions = {}\n",
        "performance = {}\n",
        "\n",
        "print(\"Testing different numerical methods on stiff system...\\n\")\n",
        "\n",
        "for method_name, description in methods.items():\n",
        "    print(f\"Trying {method_name}: {description}\")\n",
        "    \n",
        "    try:\n",
        "        # Time the solution\n",
        "        start_time = time.time()\n",
        "        sol = solve_ivp(chemical_reactor, t_span, y0,\n",
        "                       args=(k1_stiff, k2_stiff),\n",
        "                       t_eval=t_eval, method=method_name, \n",
        "                       rtol=1e-6, atol=1e-9)\n",
        "        end_time = time.time()\n",
        "        solve_time = end_time - start_time\n",
        "        \n",
        "        solutions[method_name] = sol\n",
        "        performance[method_name] = {\n",
        "            'success': sol.success,\n",
        "            'nfev': sol.nfev,\n",
        "            'njev': getattr(sol, 'njev', 0),  # Jacobian evaluations\n",
        "            'nlu': getattr(sol, 'nlu', 0),    # LU decompositions\n",
        "            'time': solve_time,\n",
        "            'message': sol.message\n",
        "        }\n",
        "        \n",
        "        if sol.success:\n",
        "            print(f\"  ✅ SUCCESS: {sol.nfev} function evaluations in {solve_time:.3f}s\")\n",
        "        else:\n",
        "            print(f\"  ❌ FAILED: {sol.message}\")\n",
        "            \n",
        "    except Exception as e:\n",
        "        print(f\"  ❌ ERROR: {str(e)}\")\n",
        "        performance[method_name] = {'success': False, 'error': str(e), 'time': 0}\n",
        "    \n",
        "    print()\n",
        "\n",
        "# Create performance summary table with timing\n",
        "print(\"\\n\" + \"=\"*90)\n",
        "print(\"PERFORMANCE SUMMARY WITH TIMING\")\n",
        "print(\"=\"*90)\n",
        "print(f\"{'Method':<10} {'Success':<8} {'Time(s)':<8} {'Func Evals':<12} {'Jacobian':<10} {'LU Decomp':<10} {'Status'}\")\n",
        "print(\"-\"*90)\n",
        "\n",
        "for method_name in methods.keys():\n",
        "    perf = performance[method_name]\n",
        "    if 'error' in perf:\n",
        "        print(f\"{method_name:<10} {'ERROR':<8} {'-':<8} {'-':<12} {'-':<10} {'-':<10} {perf['error'][:25]}\")\n",
        "    else:\n",
        "        status = \"✅\" if perf['success'] else \"❌\"\n",
        "        time_str = f\"{perf['time']:.3f}\" if perf['success'] else \"-\"\n",
        "        print(f\"{method_name:<10} {status:<8} {time_str:<8} {perf['nfev']:<12} {perf['njev']:<10} {perf['nlu']:<10} {perf['message'][:25]}\")"
      ]
    },
    {
      "cell_type": "code",
      "execution_count": null,
      "metadata": {
        "id": "plot_successful_methods"
      },
      "outputs": [],
      "source": [
        "# Plot results from successful methods\n",
        "successful_methods = [name for name, perf in performance.items() \n",
        "                     if perf.get('success', False)]\n",
        "\n",
        "if successful_methods:\n",
        "    n_success = len(successful_methods)\n",
        "    fig, axes = plt.subplots(2, (n_success + 1) // 2, figsize=(15, 10))\n",
        "    if n_success == 1:\n",
        "        axes = [axes]\n",
        "    elif axes.ndim == 1:\n",
        "        axes = axes.reshape(1, -1)\n",
        "    \n",
        "    axes_flat = axes.flatten()\n",
        "    \n",
        "    for i, method in enumerate(successful_methods):\n",
        "        sol = solutions[method]\n",
        "        ax = axes_flat[i]\n",
        "        \n",
        "        ax.plot(sol.t, sol.y[0], 'b-', label='[A]', linewidth=2)\n",
        "        ax.plot(sol.t, sol.y[1], 'r-', label='[B]', linewidth=2)\n",
        "        ax.plot(sol.t, sol.y[2], 'g-', label='[C]', linewidth=2)\n",
        "        \n",
        "        time_str = f\"{performance[method]['time']:.3f}s\"\n",
        "        ax.set_title(f'{method}\\n{performance[method][\"nfev\"]} evals, {time_str}')\n",
        "        ax.set_xlabel('Time (s)')\n",
        "        ax.set_ylabel('Concentration (mol/L)')\n",
        "        ax.legend()\n",
        "        ax.grid(True, alpha=0.3)\n",
        "    \n",
        "    # Hide unused subplots\n",
        "    for j in range(len(successful_methods), len(axes_flat)):\n",
        "        axes_flat[j].set_visible(False)\n",
        "    \n",
        "    plt.tight_layout()\n",
        "    plt.show()\n",
        "    \n",
        "    print(\"\\nKey Insights:\")\n",
        "    print(\"• Explicit methods may require massive computational resources on stiff systems\")\n",
        "    print(\"• Implicit methods (Radau, BDF) are designed for stiff systems\")\n",
        "    print(\"• LSODA automatically detects stiffness and switches methods\")\n",
        "    print(\"• Notice the dramatic difference in function evaluations and timing!\")\n",
        "else:\n",
        "    print(\"No methods succeeded! This demonstrates the extreme challenge of stiff systems.\")"
      ]
    },
    {
      "cell_type": "markdown",
      "metadata": {
        "id": "Task4"
      },
      "source": [
        "## Task 4: TODO - Explore Step Size Effects\n",
        "\n",
        "**Your turn!** Test how different maximum step sizes affect RK45 stability on stiff systems."
      ]
    },
    {
      "cell_type": "code",
      "execution_count": null,
      "metadata": {
        "id": "step_size_exploration"
      },
      "outputs": [],
      "source": [
        "# TODO: Test RK45 with different maximum step sizes\n",
        "step_sizes = [0.1, 0.01, 0.001, 0.0001]\n",
        "\n",
        "print(\"Testing RK45 with different maximum step sizes on stiff system...\\n\")\n",
        "\n",
        "plt.figure(figsize=(16, 8))\n",
        "\n",
        "for i, max_step in enumerate(step_sizes):\n",
        "    print(f\"Trying max_step = {max_step}...\")\n",
        "    \n",
        "    # TODO: Complete this - use solve_ivp with max_step parameter\n",
        "    # sol = solve_ivp(chemical_reactor, t_span, y0,\n",
        "    #                args=(k1_stiff, k2_stiff),\n",
        "    #                method='RK45', max_step=???, rtol=1e-6)\n",
        "    \n",
        "    # TODO: Plot results in subplot (2,2,i+1)\n",
        "    # TODO: Add success/failure indicators\n",
        "    \n",
        "    pass  # Remove this when you add your code\n",
        "\n",
        "plt.tight_layout()\n",
        "plt.show()\n",
        "\n",
        "print(\"\\nQuestion: What happens to computational cost as step size decreases?\")"
      ]
    },
    {
      "cell_type": "markdown",
      "metadata": {
        "id": "Task5"
      },
      "source": [
        "## Task 5: TODO - Create Your Own Stiff System\n",
        "\n",
        "**Challenge:** Modify the reaction rates to create different levels of stiffness."
      ]
    },
    {
      "cell_type": "code",
      "execution_count": null,
      "metadata": {
        "id": "custom_stiffness"
      },
      "outputs": [],
      "source": [
        "# TODO: Experiment with different stiffness ratios\n",
        "ratios_to_test = [10, 100, 1000, 10000, 100000]\n",
        "\n",
        "# TODO: For each ratio, test both RK45 and BDF\n",
        "# TODO: Record which ratios cause RK45 to fail or become extremely slow\n",
        "# TODO: Plot the computational cost vs stiffness ratio\n",
        "\n",
        "print(\"TODO: Find the stiffness ratio where RK45 becomes impractical!\")\n",
        "\n",
        "# Hint: Use a loop to test each ratio\n",
        "# Hint: Store success/failure results and timing in a list or dictionary\n",
        "# Hint: Create a log plot showing computational cost vs stiffness ratio"
      ]
    },
    {
      "cell_type": "markdown",
      "metadata": {
        "id": "Discussion"
      },
      "source": [
        "## Discussion Questions\n",
        "\n",
        "1. **What makes an ODE system \"stiff\"?**\n",
        "\n",
        "2. **Why do explicit methods fail on stiff systems?**\n",
        "\n",
        "3. **When should you use implicit methods in engineering applications?**\n",
        "\n",
        "4. **How can you detect stiffness in practice?**\n",
        "\n",
        "## Key Takeaways\n",
        "\n",
        "### Solver Selection Guidelines:\n",
        "- **Non-stiff systems**: Use RK45 or RK23 (explicit methods)\n",
        "- **Stiff systems**: Use BDF or Radau (implicit methods) \n",
        "- **Unknown stiffness**: Use LSODA (adaptive switching)\n",
        "- **Rule of thumb**: If explicit methods are very slow, try implicit methods\n",
        "\n",
        "### Engineering Applications:\n",
        "- **Chemical reactors**: Fast pre-equilibrium + slow main reaction\n",
        "- **Combustion**: Fast ignition + slow heat transfer\n",
        "- **Electronics**: Fast switching + slow RC charging\n",
        "- **Biology**: Fast enzyme kinetics + slow population dynamics\n",
        "\n",
        "Understanding stiffness is crucial for efficient simulation of real engineering systems!"
      ]
    }
  ],
  "metadata": {
    "kernelspec": {
      "display_name": "Python 3",
      "language": "python",
      "name": "python3"
    },
    "language_info": {
      "codemirror_mode": {
        "name": "ipython",
        "version": 3
      },
      "file_extension": ".py",
      "mimetype": "text/x-python",
      "name": "python",
      "nbconvert_exporter": "python",
      "pygments_lexer": "ipython3",
      "version": "3.10.12"
    },
    "colab": {
      "provenance": []
    }
  },
  "nbformat": 4,
  "nbformat_minor": 0
}