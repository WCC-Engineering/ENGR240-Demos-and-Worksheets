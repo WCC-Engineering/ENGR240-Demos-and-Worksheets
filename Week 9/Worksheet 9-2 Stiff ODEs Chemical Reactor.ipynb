        "version": 3
      },
      "file_extension": ".py",
      "mimetype": "text/x-python",
      "name": "python",
      "nbconvert_exporter": "python",
      "pygments_lexer": "ipython3",
      "version": "3.10.12"
    },
    "colab": {
      "provenance": []
    }
  },
  "nbformat": 4,
  "nbformat_minor": 0
}